{
 "cells": [
  {
   "cell_type": "code",
   "execution_count": 2,
   "id": "5976021f",
   "metadata": {},
   "outputs": [
    {
     "data": {
      "text/plain": [
       "{1: 2, 2: 2, 4: 2, 7: 1, 6: 1}"
      ]
     },
     "execution_count": 2,
     "metadata": {},
     "output_type": "execute_result"
    }
   ],
   "source": [
    "from collections import Counter\n",
    "li = [1, 2, 4, 4, 7, 1, 6, 2]\n",
    "\n",
    "dict(Counter(li))"
   ]
  },
  {
   "cell_type": "code",
   "execution_count": null,
   "id": "f598134e",
   "metadata": {},
   "outputs": [],
   "source": []
  },
  {
   "cell_type": "code",
   "execution_count": 4,
   "id": "894e0ea9",
   "metadata": {},
   "outputs": [],
   "source": [
    "li = [100, 120, 110, 90, 100, 101]"
   ]
  },
  {
   "cell_type": "code",
   "execution_count": 9,
   "id": "59bdea6f",
   "metadata": {},
   "outputs": [
    {
     "data": {
      "text/plain": [
       "400"
      ]
     },
     "execution_count": 9,
     "metadata": {},
     "output_type": "execute_result"
    }
   ],
   "source": [
    "op=[100, 120, 110,90,200]\n",
    "\n",
    "\n",
    "price = 0\n",
    "while(op):\n",
    "    max_cost = max(op) #O(n)\n",
    "    price = price + max_cost\n",
    "    op.remove(max_cost)\n",
    "    if(op):\n",
    "        max_dis = max(op)\n",
    "        op.remove(max_dis)\n",
    "price"
   ]
  },
  {
   "cell_type": "code",
   "execution_count": 15,
   "id": "a918e376",
   "metadata": {},
   "outputs": [
    {
     "data": {
      "text/plain": [
       "400"
      ]
     },
     "execution_count": 15,
     "metadata": {},
     "output_type": "execute_result"
    }
   ],
   "source": [
    "op=[100, 120, 110,90,200]\n",
    "op_sorted =sorted(op)\n",
    "op_sorted\n",
    "\n",
    "sum([op_sorted[i] for i in range(0,len(op_sorted)) if i%2==0])"
   ]
  },
  {
   "cell_type": "code",
   "execution_count": 16,
   "id": "98b91eb9",
   "metadata": {},
   "outputs": [
    {
     "data": {
      "text/plain": [
       "400"
      ]
     },
     "execution_count": 16,
     "metadata": {},
     "output_type": "execute_result"
    }
   ],
   "source": [
    "sum(op_sorted[0:len(op_sorted):2])"
   ]
  }
 ],
 "metadata": {
  "kernelspec": {
   "display_name": "Python 3",
   "language": "python",
   "name": "python3"
  },
  "language_info": {
   "codemirror_mode": {
    "name": "ipython",
    "version": 3
   },
   "file_extension": ".py",
   "mimetype": "text/x-python",
   "name": "python",
   "nbconvert_exporter": "python",
   "pygments_lexer": "ipython3",
   "version": "3.8.1"
  }
 },
 "nbformat": 4,
 "nbformat_minor": 5
}
