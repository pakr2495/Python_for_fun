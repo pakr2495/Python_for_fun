{
 "cells": [
  {
   "cell_type": "code",
   "execution_count": 2,
   "id": "ed8e1070",
   "metadata": {},
   "outputs": [],
   "source": [
    "import sqlalchemy"
   ]
  },
  {
   "cell_type": "code",
   "execution_count": 3,
   "id": "0d3b2fad",
   "metadata": {},
   "outputs": [
    {
     "data": {
      "text/plain": [
       "'1.4.16'"
      ]
     },
     "execution_count": 3,
     "metadata": {},
     "output_type": "execute_result"
    }
   ],
   "source": [
    "sqlalchemy.__version__ # check for drivers installed or not"
   ]
  },
  {
   "cell_type": "code",
   "execution_count": 4,
   "id": "c6c1a809",
   "metadata": {},
   "outputs": [],
   "source": [
    "from sqlalchemy import create_engine, MetaData, Table, Column, Integer, String\n",
    "engine = create_engine('sqlite:///college.db',echo=True) # creating engine , echo = true for logging , returns engine object\n",
    "#dir(engine)\n",
    "#engine.driver"
   ]
  },
  {
   "cell_type": "code",
   "execution_count": 5,
   "id": "3733b1c0",
   "metadata": {},
   "outputs": [
    {
     "name": "stdout",
     "output_type": "stream",
     "text": [
      "2021-06-05 12:01:07,828 INFO sqlalchemy.engine.Engine BEGIN (implicit)\n",
      "2021-06-05 12:01:07,833 INFO sqlalchemy.engine.Engine PRAGMA main.table_info(\"studs\")\n",
      "2021-06-05 12:01:07,834 INFO sqlalchemy.engine.Engine [raw sql] ()\n",
      "2021-06-05 12:01:07,836 INFO sqlalchemy.engine.Engine COMMIT\n"
     ]
    }
   ],
   "source": [
    "\n",
    "meta = MetaData() # needed for creating tables in SQl . It holds a collection of Table objects as well as an optional binding to an Engine or Connection.\n",
    "studs = Table(\n",
    "   'studs',\n",
    "    meta,\n",
    "    Column('id',Integer,primary_key=True),\n",
    "    Column('name',String),\n",
    "    Column('lastname',String),\n",
    "    ) #table creation\n",
    "meta.create_all(engine) #creates all the tables in meta object in particular DB"
   ]
  },
  {
   "cell_type": "code",
   "execution_count": 6,
   "id": "e51d4fd9",
   "metadata": {},
   "outputs": [
    {
     "name": "stdout",
     "output_type": "stream",
     "text": [
      "2021-06-05 12:01:09,146 INFO sqlalchemy.engine.Engine INSERT INTO studs (name, lastname) VALUES (?, ?)\n",
      "2021-06-05 12:01:09,146 INFO sqlalchemy.engine.Engine [generated in 0.00076s] ('Ravi', 'Kapoor')\n",
      "2021-06-05 12:01:09,148 INFO sqlalchemy.engine.Engine COMMIT\n",
      "2021-06-05 12:01:09,202 INFO sqlalchemy.engine.Engine INSERT INTO studs (name, lastname) VALUES (?, ?)\n",
      "2021-06-05 12:01:09,202 INFO sqlalchemy.engine.Engine [cached since 0.05599s ago] ('Pavan', 'Krishna')\n",
      "2021-06-05 12:01:09,204 INFO sqlalchemy.engine.Engine COMMIT\n"
     ]
    },
    {
     "data": {
      "text/plain": [
       "<sqlalchemy.engine.cursor.LegacyCursorResult at 0x6bfde50>"
      ]
     },
     "execution_count": 6,
     "metadata": {},
     "output_type": "execute_result"
    }
   ],
   "source": [
    "\n",
    "ins = studs.insert().values(name = 'Ravi', lastname = 'Kapoor')\n",
    "ins1 = studs.insert().values(name = 'Pavan', lastname = 'Krishna')#insert operation\n",
    "conn = engine.connect() # Before performing operation first need to connect to DB\n",
    "conn.execute(ins)\n",
    "conn.execute(ins1) # execute insert command"
   ]
  },
  {
   "cell_type": "code",
   "execution_count": 7,
   "id": "cc98122a",
   "metadata": {},
   "outputs": [
    {
     "name": "stdout",
     "output_type": "stream",
     "text": [
      "2021-06-05 12:01:10,464 INFO sqlalchemy.engine.Engine SELECT studs.id, studs.name, studs.lastname \n",
      "FROM studs\n",
      "2021-06-05 12:01:10,466 INFO sqlalchemy.engine.Engine [generated in 0.00140s] ()\n",
      "(2, 'Pavan', 'Krishna')\n",
      "(3, 'Ravi', 'Kapoor')\n",
      "(4, 'Pavan', 'Krishna')\n",
      "(5, 'Ravi', 'Kapoor')\n",
      "(6, 'Pavan', 'Krishna')\n"
     ]
    }
   ],
   "source": [
    "sel = studs.select()# select operation\n",
    "res = conn.execute(sel) # returns cursor object\n",
    "studs_res = res.fetchone()\n",
    "studs_res = res.fetchall() # fetching the data\n",
    "\n",
    "for res in studs_res:\n",
    "    print(res)"
   ]
  },
  {
   "cell_type": "code",
   "execution_count": 8,
   "id": "b323fe7e",
   "metadata": {},
   "outputs": [
    {
     "name": "stdout",
     "output_type": "stream",
     "text": [
      "2021-06-02 10:20:28,673 INFO sqlalchemy.engine.Engine SELECT studs.id, studs.name, studs.lastname \n",
      "FROM studs \n",
      "WHERE studs.lastname = ?\n",
      "2021-06-02 10:20:28,674 INFO sqlalchemy.engine.Engine [generated in 0.00108s] ('Krishna',)\n",
      "(2, 'Pavan', 'Krishna')\n",
      "(4, 'Pavan', 'Krishna')\n"
     ]
    }
   ],
   "source": [
    "sel = studs.select().where(studs.c.lastname=='Krishna')# select operation with where caluse\n",
    "res = conn.execute(sel) # returns cursor object\n",
    "studs_res = res.fetchall() # fetching the data\n",
    "\n",
    "for res in studs_res:\n",
    "    print(res)"
   ]
  },
  {
   "cell_type": "code",
   "execution_count": 8,
   "id": "d86c17e6",
   "metadata": {},
   "outputs": [
    {
     "name": "stdout",
     "output_type": "stream",
     "text": [
      "2021-06-05 12:01:12,232 INFO sqlalchemy.engine.Engine SELECT * FROM studs\n",
      "2021-06-05 12:01:12,233 INFO sqlalchemy.engine.Engine [generated in 0.00103s] ()\n",
      "(1, 'Ravi', 'Kapoor')\n",
      "(2, 'Pavan', 'Krishna')\n",
      "(3, 'Ravi', 'Kapoor')\n",
      "(4, 'Pavan', 'Krishna')\n",
      "(5, 'Ravi', 'Kapoor')\n",
      "(6, 'Pavan', 'Krishna')\n"
     ]
    }
   ],
   "source": [
    "from sqlalchemy import text #another way of using select statement\n",
    "t = text(\"SELECT * FROM studs\")\n",
    "result = conn.execute(t)\n",
    "for res in result:\n",
    "    print(res)"
   ]
  },
  {
   "cell_type": "code",
   "execution_count": 17,
   "id": "4304231e",
   "metadata": {},
   "outputs": [
    {
     "name": "stdout",
     "output_type": "stream",
     "text": [
      "2021-06-02 10:34:30,800 INFO sqlalchemy.engine.Engine Select name,lastname from studs where lastname==?\n",
      "2021-06-02 10:34:30,801 INFO sqlalchemy.engine.Engine [generated in 0.00122s] ('Krishna',)\n",
      "('Pavan', 'Krishna')\n",
      "('Pavan', 'Krishna')\n"
     ]
    }
   ],
   "source": [
    "t = text(\"Select name,lastname from studs where lastname==:name\")#passing values using parameters\n",
    "result=conn.execute(t,name=\"Krishna\").fetchall()\n",
    "for res in result:\n",
    "    print(res)"
   ]
  },
  {
   "cell_type": "code",
   "execution_count": 9,
   "id": "4712a9e1",
   "metadata": {},
   "outputs": [
    {
     "name": "stdout",
     "output_type": "stream",
     "text": [
      "2021-06-05 12:01:14,585 INFO sqlalchemy.engine.Engine SELECT name,lastname from studs \n",
      "WHERE lastname=='Krishna'\n",
      "2021-06-05 12:01:14,587 INFO sqlalchemy.engine.Engine [generated in 0.00113s] ()\n",
      "('Pavan', 'Krishna')\n",
      "('Pavan', 'Krishna')\n",
      "('Pavan', 'Krishna')\n"
     ]
    }
   ],
   "source": [
    "from sqlalchemy.sql import select\n",
    "\n",
    "s = select(text(\"name,lastname from studs\")).where(text(\"lastname=='Krishna'\")) #using text object in select and where caluse\n",
    "#s = select([text(\"name,lastname from studs\")]).where(studs.c.lastname=='Krishna')\n",
    "result = conn.execute(s)\n",
    "for res in result:\n",
    "    print(res)"
   ]
  },
  {
   "cell_type": "code",
   "execution_count": 10,
   "id": "0658854b",
   "metadata": {},
   "outputs": [
    {
     "name": "stdout",
     "output_type": "stream",
     "text": [
      "2021-06-05 12:01:15,475 INFO sqlalchemy.engine.Engine SELECT name,lastname from studs \n",
      "WHERE lastname=='Krishna' AND name=='Pavan'\n",
      "2021-06-05 12:01:15,475 INFO sqlalchemy.engine.Engine [generated in 0.00096s] ()\n",
      "('Pavan', 'Krishna')\n",
      "('Pavan', 'Krishna')\n",
      "('Pavan', 'Krishna')\n"
     ]
    }
   ],
   "source": [
    "from sqlalchemy import and_\n",
    "s = select(text(\"name,lastname from studs\")).where(\n",
    "    and_(text(\"lastname=='Krishna'\"),\n",
    "       text(\"name=='Pavan'\")))#using and_() method for adding multiple conditions in Where caluse\n",
    "result = conn.execute(s)\n",
    "for res in result:\n",
    "    print(res)"
   ]
  },
  {
   "cell_type": "code",
   "execution_count": 11,
   "id": "09fb1114",
   "metadata": {},
   "outputs": [
    {
     "name": "stdout",
     "output_type": "stream",
     "text": [
      "2021-06-05 12:01:16,685 INFO sqlalchemy.engine.Engine SELECT st.id, st.name, st.lastname \n",
      "FROM studs AS st \n",
      "WHERE st.id > ?\n",
      "2021-06-05 12:01:16,686 INFO sqlalchemy.engine.Engine [generated in 0.00107s] (1,)\n"
     ]
    },
    {
     "data": {
      "text/plain": [
       "[(2, 'Pavan', 'Krishna'),\n",
       " (3, 'Ravi', 'Kapoor'),\n",
       " (4, 'Pavan', 'Krishna'),\n",
       " (5, 'Ravi', 'Kapoor'),\n",
       " (6, 'Pavan', 'Krishna')]"
      ]
     },
     "execution_count": 11,
     "metadata": {},
     "output_type": "execute_result"
    }
   ],
   "source": [
    "from sqlalchemy.sql import select\n",
    "ali = studs.alias('st') # using alias\n",
    "s = select(ali).where(ali.c.id>1)\n",
    "conn.execute(s).fetchall()"
   ]
  },
  {
   "cell_type": "code",
   "execution_count": 12,
   "id": "29dfd821",
   "metadata": {},
   "outputs": [
    {
     "name": "stdout",
     "output_type": "stream",
     "text": [
      "2021-06-05 12:01:20,625 INFO sqlalchemy.engine.Engine UPDATE studs SET name=? WHERE studs.lastname = ?\n",
      "2021-06-05 12:01:20,626 INFO sqlalchemy.engine.Engine [generated in 0.00093s] ('pavan k', 'Krishna')\n",
      "2021-06-05 12:01:20,628 INFO sqlalchemy.engine.Engine COMMIT\n",
      "2021-06-05 12:01:20,662 INFO sqlalchemy.engine.Engine SELECT studs.id, studs.name, studs.lastname \n",
      "FROM studs\n",
      "2021-06-05 12:01:20,662 INFO sqlalchemy.engine.Engine [cached since 10.2s ago] ()\n",
      "(1, 'Ravi', 'Kapoor')\n",
      "(2, 'pavan k', 'Krishna')\n",
      "(3, 'Ravi', 'Kapoor')\n",
      "(4, 'pavan k', 'Krishna')\n",
      "(5, 'Ravi', 'Kapoor')\n",
      "(6, 'pavan k', 'Krishna')\n"
     ]
    }
   ],
   "source": [
    "#update operation\n",
    "s = studs.update().where(studs.c.lastname =='Krishna').values(name = 'pavan k')\n",
    "c = conn.execute(s)\n",
    "s = studs.select()\n",
    "res = conn.execute(s).fetchall()\n",
    "for r in res:\n",
    "    print(r)"
   ]
  },
  {
   "cell_type": "code",
   "execution_count": 13,
   "id": "a5c8cc8b",
   "metadata": {},
   "outputs": [
    {
     "name": "stdout",
     "output_type": "stream",
     "text": [
      "2021-06-05 12:07:56,114 INFO sqlalchemy.engine.Engine DELETE FROM studs WHERE studs.lastname = ?\n",
      "2021-06-05 12:07:56,115 INFO sqlalchemy.engine.Engine [generated in 0.00104s] ('Krishna',)\n",
      "2021-06-05 12:07:56,117 INFO sqlalchemy.engine.Engine COMMIT\n",
      "2021-06-05 12:07:56,133 INFO sqlalchemy.engine.Engine SELECT studs.id, studs.name, studs.lastname \n",
      "FROM studs\n",
      "2021-06-05 12:07:56,134 INFO sqlalchemy.engine.Engine [cached since 405.7s ago] ()\n",
      "(1, 'Ravi', 'Kapoor')\n",
      "(3, 'Ravi', 'Kapoor')\n",
      "(5, 'Ravi', 'Kapoor')\n"
     ]
    }
   ],
   "source": [
    "#delete operation\n",
    "s = studs.delete().where(studs.c.lastname=='Krishna')\n",
    "c = conn.execute(s)\n",
    "s = studs.select()\n",
    "res = conn.execute(s).fetchall()\n",
    "for r in res:\n",
    "    print(r)"
   ]
  },
  {
   "cell_type": "code",
   "execution_count": 21,
   "id": "eebe8f6c",
   "metadata": {},
   "outputs": [
    {
     "name": "stdout",
     "output_type": "stream",
     "text": [
      "2021-06-05 12:24:57,507 INFO sqlalchemy.engine.Engine BEGIN (implicit)\n",
      "2021-06-05 12:24:57,508 INFO sqlalchemy.engine.Engine PRAGMA main.table_info(\"CollegeStudents\")\n",
      "2021-06-05 12:24:57,509 INFO sqlalchemy.engine.Engine [raw sql] ()\n",
      "2021-06-05 12:24:57,510 INFO sqlalchemy.engine.Engine PRAGMA temp.table_info(\"CollegeStudents\")\n",
      "2021-06-05 12:24:57,511 INFO sqlalchemy.engine.Engine [raw sql] ()\n",
      "2021-06-05 12:24:57,512 INFO sqlalchemy.engine.Engine PRAGMA main.table_info(\"address\")\n",
      "2021-06-05 12:24:57,512 INFO sqlalchemy.engine.Engine [raw sql] ()\n",
      "2021-06-05 12:24:57,513 INFO sqlalchemy.engine.Engine PRAGMA temp.table_info(\"address\")\n",
      "2021-06-05 12:24:57,514 INFO sqlalchemy.engine.Engine [raw sql] ()\n",
      "2021-06-05 12:24:57,515 INFO sqlalchemy.engine.Engine \n",
      "CREATE TABLE \"CollegeStudents\" (\n",
      "\tid INTEGER NOT NULL, \n",
      "\tname VARCHAR, \n",
      "\tlastname VARCHAR, \n",
      "\tPRIMARY KEY (id)\n",
      ")\n",
      "\n",
      "\n",
      "2021-06-05 12:24:57,515 INFO sqlalchemy.engine.Engine [no key 0.00048s] ()\n",
      "2021-06-05 12:24:57,538 INFO sqlalchemy.engine.Engine \n",
      "CREATE TABLE address (\n",
      "\tid INTEGER NOT NULL, \n",
      "\tst_id INTEGER, \n",
      "\tpostal_add VARCHAR, \n",
      "\temail_add VARCHAR, \n",
      "\tPRIMARY KEY (id), \n",
      "\tFOREIGN KEY(st_id) REFERENCES \"CollegeStudents\" (id)\n",
      ")\n",
      "\n",
      "\n",
      "2021-06-05 12:24:57,539 INFO sqlalchemy.engine.Engine [no key 0.00114s] ()\n",
      "2021-06-05 12:24:57,553 INFO sqlalchemy.engine.Engine COMMIT\n"
     ]
    }
   ],
   "source": [
    "#Relationship Between Tables\n",
    "from sqlalchemy import ForeignKey,MetaData\n",
    "\n",
    "meta = MetaData()\n",
    "students = Table(\n",
    "   'CollegeStudents', meta, \n",
    "   Column('id', Integer, primary_key = True), \n",
    "   Column('name', String), \n",
    "   Column('lastname', String), \n",
    ")\n",
    "address = Table(\n",
    "    'address',meta,\n",
    "    Column('id',Integer,primary_key=True),\n",
    "    Column('st_id',Integer,ForeignKey('CollegeStudents.id')),\n",
    "    Column('postal_add', String), \n",
    "    Column('email_add', String)\n",
    ")\n",
    "\n",
    "meta.create_all(engine)"
   ]
  },
  {
   "cell_type": "code",
   "execution_count": 23,
   "id": "d6ad16f4",
   "metadata": {},
   "outputs": [
    {
     "name": "stdout",
     "output_type": "stream",
     "text": [
      "2021-06-05 12:34:01,855 INFO sqlalchemy.engine.Engine INSERT INTO \"CollegeStudents\" (name, lastname) VALUES (?, ?)\n",
      "2021-06-05 12:34:01,855 INFO sqlalchemy.engine.Engine [cached since 14.67s ago] (('pk', 'kp'), ('pk1', 'kp1'), ('pavan', 'kp'), ('pk', 'krishna'))\n",
      "2021-06-05 12:34:01,858 INFO sqlalchemy.engine.Engine COMMIT\n"
     ]
    }
   ],
   "source": [
    "conn = engine.connect()\n",
    "res=conn.execute(students.insert(),[{'name':'pk','lastname':'kp'},{'name':'pk1','lastname':'kp1'},{'name':'pavan','lastname':'kp'},{'name':'pk','lastname':'krishna'}])"
   ]
  },
  {
   "cell_type": "code",
   "execution_count": 26,
   "id": "13f711de",
   "metadata": {},
   "outputs": [
    {
     "name": "stdout",
     "output_type": "stream",
     "text": [
      "2021-06-05 12:37:59,591 INFO sqlalchemy.engine.Engine SELECT \"CollegeStudents\".id, \"CollegeStudents\".name, \"CollegeStudents\".lastname \n",
      "FROM \"CollegeStudents\"\n",
      "2021-06-05 12:37:59,592 INFO sqlalchemy.engine.Engine [cached since 85.91s ago] ()\n",
      "(1, 'pk', 'kp')\n",
      "(2, 'pk1', 'kp1')\n",
      "(3, 'pavan', 'kp')\n",
      "(4, 'pk', 'krishna')\n",
      "(5, 'pk', 'kp')\n",
      "(6, 'pk1', 'kp1')\n",
      "(7, 'pavan', 'kp')\n",
      "(8, 'pk', 'krishna')\n"
     ]
    }
   ],
   "source": [
    "re = conn.execute(students.select()).fetchall()\n",
    "for i in re:\n",
    "    print(i)"
   ]
  },
  {
   "cell_type": "code",
   "execution_count": 27,
   "id": "b1592481",
   "metadata": {},
   "outputs": [
    {
     "name": "stdout",
     "output_type": "stream",
     "text": [
      "2021-06-05 12:38:44,274 INFO sqlalchemy.engine.Engine INSERT INTO address (st_id, postal_add, email_add) VALUES (?, ?, ?)\n",
      "2021-06-05 12:38:44,275 INFO sqlalchemy.engine.Engine [generated in 0.00102s] ((1, 'Shivajinagar Pune', 'ravi@gmail.com'), (1, 'ChurchGate Mumbai', 'kapoor@gmail.com'), (3, 'Jubilee Hills Hyderabad', 'komal@gmail.com'), (5, 'MG Road Bangaluru', 'as@yahoo.com'))\n",
      "2021-06-05 12:38:44,277 INFO sqlalchemy.engine.Engine COMMIT\n"
     ]
    },
    {
     "data": {
      "text/plain": [
       "<sqlalchemy.engine.cursor.LegacyCursorResult at 0x78bee08>"
      ]
     },
     "execution_count": 27,
     "metadata": {},
     "output_type": "execute_result"
    }
   ],
   "source": [
    "conn.execute(address.insert(), [\n",
    "   {'st_id':1, 'postal_add':'Shivajinagar Pune', 'email_add':'ravi@gmail.com'},\n",
    "   {'st_id':1, 'postal_add':'ChurchGate Mumbai', 'email_add':'kapoor@gmail.com'},\n",
    "   {'st_id':3, 'postal_add':'Jubilee Hills Hyderabad', 'email_add':'komal@gmail.com'},\n",
    "   {'st_id':5, 'postal_add':'MG Road Bangaluru', 'email_add':'as@yahoo.com'},])\n",
    "   "
   ]
  },
  {
   "cell_type": "code",
   "execution_count": null,
   "id": "b537b33e",
   "metadata": {},
   "outputs": [],
   "source": [
    "s = students.select().where(students.c.id==address.c.st_id)\n",
    "res = conn.execute(s).fetchall()\n",
    "for i in res:\n",
    "    print(i)"
   ]
  },
  {
   "cell_type": "code",
   "execution_count": null,
   "id": "2ac01487",
   "metadata": {},
   "outputs": [],
   "source": []
  },
  {
   "cell_type": "code",
   "execution_count": null,
   "id": "52a6e579",
   "metadata": {},
   "outputs": [],
   "source": []
  },
  {
   "cell_type": "code",
   "execution_count": null,
   "id": "786a2dc5",
   "metadata": {},
   "outputs": [],
   "source": []
  },
  {
   "cell_type": "code",
   "execution_count": null,
   "id": "faf5d5ab",
   "metadata": {},
   "outputs": [],
   "source": []
  },
  {
   "cell_type": "code",
   "execution_count": null,
   "id": "b3c8df34",
   "metadata": {},
   "outputs": [],
   "source": []
  },
  {
   "cell_type": "code",
   "execution_count": null,
   "id": "acb17382",
   "metadata": {},
   "outputs": [],
   "source": []
  },
  {
   "cell_type": "code",
   "execution_count": null,
   "id": "2feb9e76",
   "metadata": {},
   "outputs": [],
   "source": []
  },
  {
   "cell_type": "code",
   "execution_count": null,
   "id": "40248747",
   "metadata": {},
   "outputs": [],
   "source": []
  },
  {
   "cell_type": "code",
   "execution_count": null,
   "id": "87f68dac",
   "metadata": {},
   "outputs": [],
   "source": []
  },
  {
   "cell_type": "code",
   "execution_count": null,
   "id": "f48cd35b",
   "metadata": {},
   "outputs": [],
   "source": []
  },
  {
   "cell_type": "code",
   "execution_count": null,
   "id": "b159c579",
   "metadata": {},
   "outputs": [],
   "source": []
  },
  {
   "cell_type": "code",
   "execution_count": null,
   "id": "5eca6db5",
   "metadata": {},
   "outputs": [],
   "source": []
  },
  {
   "cell_type": "code",
   "execution_count": null,
   "id": "6b35069f",
   "metadata": {},
   "outputs": [],
   "source": []
  },
  {
   "cell_type": "code",
   "execution_count": null,
   "id": "301e29f4",
   "metadata": {},
   "outputs": [],
   "source": []
  },
  {
   "cell_type": "code",
   "execution_count": null,
   "id": "6816e3e0",
   "metadata": {},
   "outputs": [],
   "source": []
  },
  {
   "cell_type": "code",
   "execution_count": null,
   "id": "18add12d",
   "metadata": {},
   "outputs": [],
   "source": []
  },
  {
   "cell_type": "code",
   "execution_count": null,
   "id": "c3424fae",
   "metadata": {},
   "outputs": [],
   "source": []
  },
  {
   "cell_type": "code",
   "execution_count": null,
   "id": "b5ecbb31",
   "metadata": {},
   "outputs": [],
   "source": []
  },
  {
   "cell_type": "code",
   "execution_count": null,
   "id": "d05c83f3",
   "metadata": {},
   "outputs": [],
   "source": []
  },
  {
   "cell_type": "code",
   "execution_count": null,
   "id": "50748324",
   "metadata": {},
   "outputs": [],
   "source": []
  },
  {
   "cell_type": "code",
   "execution_count": null,
   "id": "b1267dc0",
   "metadata": {},
   "outputs": [],
   "source": []
  },
  {
   "cell_type": "code",
   "execution_count": null,
   "id": "96643f98",
   "metadata": {},
   "outputs": [],
   "source": []
  },
  {
   "cell_type": "code",
   "execution_count": null,
   "id": "4fb3c8f3",
   "metadata": {},
   "outputs": [],
   "source": []
  },
  {
   "cell_type": "code",
   "execution_count": null,
   "id": "8cb15ae2",
   "metadata": {},
   "outputs": [],
   "source": []
  },
  {
   "cell_type": "code",
   "execution_count": null,
   "id": "bf78b473",
   "metadata": {},
   "outputs": [],
   "source": []
  },
  {
   "cell_type": "code",
   "execution_count": null,
   "id": "4c1f0a6d",
   "metadata": {},
   "outputs": [],
   "source": []
  },
  {
   "cell_type": "code",
   "execution_count": null,
   "id": "38c73653",
   "metadata": {},
   "outputs": [],
   "source": []
  },
  {
   "cell_type": "code",
   "execution_count": null,
   "id": "4c13ccd1",
   "metadata": {},
   "outputs": [],
   "source": []
  },
  {
   "cell_type": "code",
   "execution_count": null,
   "id": "d990ad2c",
   "metadata": {},
   "outputs": [],
   "source": []
  },
  {
   "cell_type": "code",
   "execution_count": null,
   "id": "0ec111a8",
   "metadata": {},
   "outputs": [],
   "source": []
  },
  {
   "cell_type": "code",
   "execution_count": null,
   "id": "131fcd50",
   "metadata": {},
   "outputs": [],
   "source": []
  },
  {
   "cell_type": "code",
   "execution_count": null,
   "id": "8f6faf86",
   "metadata": {},
   "outputs": [],
   "source": []
  },
  {
   "cell_type": "code",
   "execution_count": null,
   "id": "8b807257",
   "metadata": {},
   "outputs": [],
   "source": []
  },
  {
   "cell_type": "code",
   "execution_count": null,
   "id": "be52c1dc",
   "metadata": {},
   "outputs": [],
   "source": []
  },
  {
   "cell_type": "code",
   "execution_count": null,
   "id": "3dbb8035",
   "metadata": {},
   "outputs": [],
   "source": []
  },
  {
   "cell_type": "code",
   "execution_count": null,
   "id": "2039488f",
   "metadata": {},
   "outputs": [],
   "source": []
  },
  {
   "cell_type": "code",
   "execution_count": null,
   "id": "9ae573ab",
   "metadata": {},
   "outputs": [],
   "source": []
  },
  {
   "cell_type": "code",
   "execution_count": null,
   "id": "0426e7ce",
   "metadata": {},
   "outputs": [],
   "source": []
  },
  {
   "cell_type": "code",
   "execution_count": null,
   "id": "7ab7c4b0",
   "metadata": {},
   "outputs": [],
   "source": []
  },
  {
   "cell_type": "code",
   "execution_count": null,
   "id": "35a74ff6",
   "metadata": {},
   "outputs": [],
   "source": []
  },
  {
   "cell_type": "code",
   "execution_count": null,
   "id": "60723b4a",
   "metadata": {},
   "outputs": [],
   "source": []
  },
  {
   "cell_type": "code",
   "execution_count": null,
   "id": "4ff84c2e",
   "metadata": {},
   "outputs": [],
   "source": []
  },
  {
   "cell_type": "code",
   "execution_count": null,
   "id": "72477ab5",
   "metadata": {},
   "outputs": [],
   "source": []
  },
  {
   "cell_type": "code",
   "execution_count": null,
   "id": "7c2ae0a6",
   "metadata": {},
   "outputs": [],
   "source": []
  },
  {
   "cell_type": "code",
   "execution_count": null,
   "id": "8b490901",
   "metadata": {},
   "outputs": [],
   "source": []
  },
  {
   "cell_type": "code",
   "execution_count": null,
   "id": "cd5c3e39",
   "metadata": {},
   "outputs": [],
   "source": []
  }
 ],
 "metadata": {
  "kernelspec": {
   "display_name": "Python 3",
   "language": "python",
   "name": "python3"
  },
  "language_info": {
   "codemirror_mode": {
    "name": "ipython",
    "version": 3
   },
   "file_extension": ".py",
   "mimetype": "text/x-python",
   "name": "python",
   "nbconvert_exporter": "python",
   "pygments_lexer": "ipython3",
   "version": "3.8.1"
  }
 },
 "nbformat": 4,
 "nbformat_minor": 5
}
