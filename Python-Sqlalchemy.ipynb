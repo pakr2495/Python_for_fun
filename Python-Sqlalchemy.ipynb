{
 "cells": [
  {
   "cell_type": "code",
   "execution_count": 2,
   "id": "ed8e1070",
   "metadata": {},
   "outputs": [],
   "source": [
    "import sqlalchemy"
   ]
  },
  {
   "cell_type": "code",
   "execution_count": 3,
   "id": "0d3b2fad",
   "metadata": {},
   "outputs": [
    {
     "data": {
      "text/plain": [
       "'1.4.16'"
      ]
     },
     "execution_count": 3,
     "metadata": {},
     "output_type": "execute_result"
    }
   ],
   "source": [
    "sqlalchemy.__version__ # check for drivers installed or not"
   ]
  },
  {
   "cell_type": "code",
   "execution_count": 4,
   "id": "c6c1a809",
   "metadata": {},
   "outputs": [],
   "source": [
    "from sqlalchemy import create_engine, MetaData, Table, Column, Integer, String\n",
    "engine = create_engine('sqlite:///college.db',echo=True) # creating engine , echo = true for logging , returns engine object\n",
    "#dir(engine)\n",
    "#engine.driver"
   ]
  },
  {
   "cell_type": "code",
   "execution_count": 5,
   "id": "3733b1c0",
   "metadata": {},
   "outputs": [
    {
     "name": "stdout",
     "output_type": "stream",
     "text": [
      "2021-06-05 12:01:07,828 INFO sqlalchemy.engine.Engine BEGIN (implicit)\n",
      "2021-06-05 12:01:07,833 INFO sqlalchemy.engine.Engine PRAGMA main.table_info(\"studs\")\n",
      "2021-06-05 12:01:07,834 INFO sqlalchemy.engine.Engine [raw sql] ()\n",
      "2021-06-05 12:01:07,836 INFO sqlalchemy.engine.Engine COMMIT\n"
     ]
    }
   ],
   "source": [
    "\n",
    "meta = MetaData() # needed for creating tables in SQl . It holds a collection of Table objects as well as an optional binding to an Engine or Connection.\n",
    "studs = Table(\n",
    "   'studs',\n",
    "    meta,\n",
    "    Column('id',Integer,primary_key=True),\n",
    "    Column('name',String),\n",
    "    Column('lastname',String),\n",
    "    ) #table creation\n",
    "meta.create_all(engine) #creates all the tables in meta object in particular DB"
   ]
  },
  {
   "cell_type": "code",
   "execution_count": 6,
   "id": "e51d4fd9",
   "metadata": {},
   "outputs": [
    {
     "name": "stdout",
     "output_type": "stream",
     "text": [
      "2021-06-05 12:01:09,146 INFO sqlalchemy.engine.Engine INSERT INTO studs (name, lastname) VALUES (?, ?)\n",
      "2021-06-05 12:01:09,146 INFO sqlalchemy.engine.Engine [generated in 0.00076s] ('Ravi', 'Kapoor')\n",
      "2021-06-05 12:01:09,148 INFO sqlalchemy.engine.Engine COMMIT\n",
      "2021-06-05 12:01:09,202 INFO sqlalchemy.engine.Engine INSERT INTO studs (name, lastname) VALUES (?, ?)\n",
      "2021-06-05 12:01:09,202 INFO sqlalchemy.engine.Engine [cached since 0.05599s ago] ('Pavan', 'Krishna')\n",
      "2021-06-05 12:01:09,204 INFO sqlalchemy.engine.Engine COMMIT\n"
     ]
    },
    {
     "data": {
      "text/plain": [
       "<sqlalchemy.engine.cursor.LegacyCursorResult at 0x6bfde50>"
      ]
     },
     "execution_count": 6,
     "metadata": {},
     "output_type": "execute_result"
    }
   ],
   "source": [
    "\n",
    "ins = studs.insert().values(name = 'Ravi', lastname = 'Kapoor')\n",
    "ins1 = studs.insert().values(name = 'Pavan', lastname = 'Krishna')#insert operation\n",
    "conn = engine.connect() # Before performing operation first need to connect to DB\n",
    "conn.execute(ins)\n",
    "conn.execute(ins1) # execute insert command"
   ]
  },
  {
   "cell_type": "code",
   "execution_count": 7,
   "id": "cc98122a",
   "metadata": {},
   "outputs": [
    {
     "name": "stdout",
     "output_type": "stream",
     "text": [
      "2021-06-05 12:01:10,464 INFO sqlalchemy.engine.Engine SELECT studs.id, studs.name, studs.lastname \n",
      "FROM studs\n",
      "2021-06-05 12:01:10,466 INFO sqlalchemy.engine.Engine [generated in 0.00140s] ()\n",
      "(2, 'Pavan', 'Krishna')\n",
      "(3, 'Ravi', 'Kapoor')\n",
      "(4, 'Pavan', 'Krishna')\n",
      "(5, 'Ravi', 'Kapoor')\n",
      "(6, 'Pavan', 'Krishna')\n"
     ]
    }
   ],
   "source": [
    "sel = studs.select()# select operation\n",
    "res = conn.execute(sel) # returns cursor object\n",
    "studs_res = res.fetchone()\n",
    "studs_res = res.fetchall() # fetching the data\n",
    "\n",
    "for res in studs_res:\n",
    "    print(res)"
   ]
  },
  {
   "cell_type": "code",
   "execution_count": 8,
   "id": "b323fe7e",
   "metadata": {},
   "outputs": [
    {
     "name": "stdout",
     "output_type": "stream",
     "text": [
      "2021-06-02 10:20:28,673 INFO sqlalchemy.engine.Engine SELECT studs.id, studs.name, studs.lastname \n",
      "FROM studs \n",
      "WHERE studs.lastname = ?\n",
      "2021-06-02 10:20:28,674 INFO sqlalchemy.engine.Engine [generated in 0.00108s] ('Krishna',)\n",
      "(2, 'Pavan', 'Krishna')\n",
      "(4, 'Pavan', 'Krishna')\n"
     ]
    }
   ],
   "source": [
    "sel = studs.select().where(studs.c.lastname=='Krishna')# select operation with where caluse\n",
    "res = conn.execute(sel) # returns cursor object\n",
    "studs_res = res.fetchall() # fetching the data\n",
    "\n",
    "for res in studs_res:\n",
    "    print(res)"
   ]
  },
  {
   "cell_type": "code",
   "execution_count": 8,
   "id": "d86c17e6",
   "metadata": {},
   "outputs": [
    {
     "name": "stdout",
     "output_type": "stream",
     "text": [
      "2021-06-05 12:01:12,232 INFO sqlalchemy.engine.Engine SELECT * FROM studs\n",
      "2021-06-05 12:01:12,233 INFO sqlalchemy.engine.Engine [generated in 0.00103s] ()\n",
      "(1, 'Ravi', 'Kapoor')\n",
      "(2, 'Pavan', 'Krishna')\n",
      "(3, 'Ravi', 'Kapoor')\n",
      "(4, 'Pavan', 'Krishna')\n",
      "(5, 'Ravi', 'Kapoor')\n",
      "(6, 'Pavan', 'Krishna')\n"
     ]
    }
   ],
   "source": [
    "from sqlalchemy import text #another way of using select statement\n",
    "t = text(\"SELECT * FROM studs\")\n",
    "result = conn.execute(t)\n",
    "for res in result:\n",
    "    print(res)"
   ]
  },
  {
   "cell_type": "code",
   "execution_count": 17,
   "id": "4304231e",
   "metadata": {},
   "outputs": [
    {
     "name": "stdout",
     "output_type": "stream",
     "text": [
      "2021-06-02 10:34:30,800 INFO sqlalchemy.engine.Engine Select name,lastname from studs where lastname==?\n",
      "2021-06-02 10:34:30,801 INFO sqlalchemy.engine.Engine [generated in 0.00122s] ('Krishna',)\n",
      "('Pavan', 'Krishna')\n",
      "('Pavan', 'Krishna')\n"
     ]
    }
   ],
   "source": [
    "t = text(\"Select name,lastname from studs where lastname==:name\")#passing values using parameters\n",
    "result=conn.execute(t,name=\"Krishna\").fetchall()\n",
    "for res in result:\n",
    "    print(res)"
   ]
  },
  {
   "cell_type": "code",
   "execution_count": 9,
   "id": "4712a9e1",
   "metadata": {},
   "outputs": [
    {
     "name": "stdout",
     "output_type": "stream",
     "text": [
      "2021-06-05 12:01:14,585 INFO sqlalchemy.engine.Engine SELECT name,lastname from studs \n",
      "WHERE lastname=='Krishna'\n",
      "2021-06-05 12:01:14,587 INFO sqlalchemy.engine.Engine [generated in 0.00113s] ()\n",
      "('Pavan', 'Krishna')\n",
      "('Pavan', 'Krishna')\n",
      "('Pavan', 'Krishna')\n"
     ]
    }
   ],
   "source": [
    "from sqlalchemy.sql import select\n",
    "\n",
    "s = select(text(\"name,lastname from studs\")).where(text(\"lastname=='Krishna'\")) #using text object in select and where caluse\n",
    "#s = select([text(\"name,lastname from studs\")]).where(studs.c.lastname=='Krishna')\n",
    "result = conn.execute(s)\n",
    "for res in result:\n",
    "    print(res)"
   ]
  },
  {
   "cell_type": "code",
   "execution_count": 10,
   "id": "0658854b",
   "metadata": {},
   "outputs": [
    {
     "name": "stdout",
     "output_type": "stream",
     "text": [
      "2021-06-05 12:01:15,475 INFO sqlalchemy.engine.Engine SELECT name,lastname from studs \n",
      "WHERE lastname=='Krishna' AND name=='Pavan'\n",
      "2021-06-05 12:01:15,475 INFO sqlalchemy.engine.Engine [generated in 0.00096s] ()\n",
      "('Pavan', 'Krishna')\n",
      "('Pavan', 'Krishna')\n",
      "('Pavan', 'Krishna')\n"
     ]
    }
   ],
   "source": [
    "from sqlalchemy import and_\n",
    "s = select(text(\"name,lastname from studs\")).where(\n",
    "    and_(text(\"lastname=='Krishna'\"),\n",
    "       text(\"name=='Pavan'\")))#using and_() method for adding multiple conditions in Where caluse\n",
    "result = conn.execute(s)\n",
    "for res in result:\n",
    "    print(res)"
   ]
  },
  {
   "cell_type": "code",
   "execution_count": 11,
   "id": "09fb1114",
   "metadata": {},
   "outputs": [
    {
     "name": "stdout",
     "output_type": "stream",
     "text": [
      "2021-06-05 12:01:16,685 INFO sqlalchemy.engine.Engine SELECT st.id, st.name, st.lastname \n",
      "FROM studs AS st \n",
      "WHERE st.id > ?\n",
      "2021-06-05 12:01:16,686 INFO sqlalchemy.engine.Engine [generated in 0.00107s] (1,)\n"
     ]
    },
    {
     "data": {
      "text/plain": [
       "[(2, 'Pavan', 'Krishna'),\n",
       " (3, 'Ravi', 'Kapoor'),\n",
       " (4, 'Pavan', 'Krishna'),\n",
       " (5, 'Ravi', 'Kapoor'),\n",
       " (6, 'Pavan', 'Krishna')]"
      ]
     },
     "execution_count": 11,
     "metadata": {},
     "output_type": "execute_result"
    }
   ],
   "source": [
    "from sqlalchemy.sql import select\n",
    "ali = studs.alias('st') # using alias\n",
    "s = select(ali).where(ali.c.id>1)\n",
    "conn.execute(s).fetchall()"
   ]
  },
  {
   "cell_type": "code",
   "execution_count": 12,
   "id": "29dfd821",
   "metadata": {},
   "outputs": [
    {
     "name": "stdout",
     "output_type": "stream",
     "text": [
      "2021-06-05 12:01:20,625 INFO sqlalchemy.engine.Engine UPDATE studs SET name=? WHERE studs.lastname = ?\n",
      "2021-06-05 12:01:20,626 INFO sqlalchemy.engine.Engine [generated in 0.00093s] ('pavan k', 'Krishna')\n",
      "2021-06-05 12:01:20,628 INFO sqlalchemy.engine.Engine COMMIT\n",
      "2021-06-05 12:01:20,662 INFO sqlalchemy.engine.Engine SELECT studs.id, studs.name, studs.lastname \n",
      "FROM studs\n",
      "2021-06-05 12:01:20,662 INFO sqlalchemy.engine.Engine [cached since 10.2s ago] ()\n",
      "(1, 'Ravi', 'Kapoor')\n",
      "(2, 'pavan k', 'Krishna')\n",
      "(3, 'Ravi', 'Kapoor')\n",
      "(4, 'pavan k', 'Krishna')\n",
      "(5, 'Ravi', 'Kapoor')\n",
      "(6, 'pavan k', 'Krishna')\n"
     ]
    }
   ],
   "source": [
    "#update operation\n",
    "s = studs.update().where(studs.c.lastname =='Krishna').values(name = 'pavan k')\n",
    "c = conn.execute(s)\n",
    "s = studs.select()\n",
    "res = conn.execute(s).fetchall()\n",
    "for r in res:\n",
    "    print(r)"
   ]
  },
  {
   "cell_type": "code",
   "execution_count": 13,
   "id": "a5c8cc8b",
   "metadata": {},
   "outputs": [
    {
     "name": "stdout",
     "output_type": "stream",
     "text": [
      "2021-06-05 12:07:56,114 INFO sqlalchemy.engine.Engine DELETE FROM studs WHERE studs.lastname = ?\n",
      "2021-06-05 12:07:56,115 INFO sqlalchemy.engine.Engine [generated in 0.00104s] ('Krishna',)\n",
      "2021-06-05 12:07:56,117 INFO sqlalchemy.engine.Engine COMMIT\n",
      "2021-06-05 12:07:56,133 INFO sqlalchemy.engine.Engine SELECT studs.id, studs.name, studs.lastname \n",
      "FROM studs\n",
      "2021-06-05 12:07:56,134 INFO sqlalchemy.engine.Engine [cached since 405.7s ago] ()\n",
      "(1, 'Ravi', 'Kapoor')\n",
      "(3, 'Ravi', 'Kapoor')\n",
      "(5, 'Ravi', 'Kapoor')\n"
     ]
    }
   ],
   "source": [
    "#delete operation\n",
    "s = studs.delete().where(studs.c.lastname=='Krishna')\n",
    "c = conn.execute(s)\n",
    "s = studs.select()\n",
    "res = conn.execute(s).fetchall()\n",
    "for r in res:\n",
    "    print(r)"
   ]
  },
  {
   "cell_type": "code",
   "execution_count": 21,
   "id": "eebe8f6c",
   "metadata": {},
   "outputs": [
    {
     "name": "stdout",
     "output_type": "stream",
     "text": [
      "2021-06-05 12:24:57,507 INFO sqlalchemy.engine.Engine BEGIN (implicit)\n",
      "2021-06-05 12:24:57,508 INFO sqlalchemy.engine.Engine PRAGMA main.table_info(\"CollegeStudents\")\n",
      "2021-06-05 12:24:57,509 INFO sqlalchemy.engine.Engine [raw sql] ()\n",
      "2021-06-05 12:24:57,510 INFO sqlalchemy.engine.Engine PRAGMA temp.table_info(\"CollegeStudents\")\n",
      "2021-06-05 12:24:57,511 INFO sqlalchemy.engine.Engine [raw sql] ()\n",
      "2021-06-05 12:24:57,512 INFO sqlalchemy.engine.Engine PRAGMA main.table_info(\"address\")\n",
      "2021-06-05 12:24:57,512 INFO sqlalchemy.engine.Engine [raw sql] ()\n",
      "2021-06-05 12:24:57,513 INFO sqlalchemy.engine.Engine PRAGMA temp.table_info(\"address\")\n",
      "2021-06-05 12:24:57,514 INFO sqlalchemy.engine.Engine [raw sql] ()\n",
      "2021-06-05 12:24:57,515 INFO sqlalchemy.engine.Engine \n",
      "CREATE TABLE \"CollegeStudents\" (\n",
      "\tid INTEGER NOT NULL, \n",
      "\tname VARCHAR, \n",
      "\tlastname VARCHAR, \n",
      "\tPRIMARY KEY (id)\n",
      ")\n",
      "\n",
      "\n",
      "2021-06-05 12:24:57,515 INFO sqlalchemy.engine.Engine [no key 0.00048s] ()\n",
      "2021-06-05 12:24:57,538 INFO sqlalchemy.engine.Engine \n",
      "CREATE TABLE address (\n",
      "\tid INTEGER NOT NULL, \n",
      "\tst_id INTEGER, \n",
      "\tpostal_add VARCHAR, \n",
      "\temail_add VARCHAR, \n",
      "\tPRIMARY KEY (id), \n",
      "\tFOREIGN KEY(st_id) REFERENCES \"CollegeStudents\" (id)\n",
      ")\n",
      "\n",
      "\n",
      "2021-06-05 12:24:57,539 INFO sqlalchemy.engine.Engine [no key 0.00114s] ()\n",
      "2021-06-05 12:24:57,553 INFO sqlalchemy.engine.Engine COMMIT\n"
     ]
    }
   ],
   "source": [
    "#Relationship Between Tables\n",
    "from sqlalchemy import ForeignKey,MetaData\n",
    "\n",
    "meta = MetaData()\n",
    "students = Table(\n",
    "   'CollegeStudents', meta, \n",
    "   Column('id', Integer, primary_key = True), \n",
    "   Column('name', String), \n",
    "   Column('lastname', String), \n",
    ")\n",
    "address = Table(\n",
    "    'address',meta,\n",
    "    Column('id',Integer,primary_key=True),\n",
    "    Column('st_id',Integer,ForeignKey('CollegeStudents.id')),\n",
    "    Column('postal_add', String), \n",
    "    Column('email_add', String)\n",
    ")\n",
    "\n",
    "meta.create_all(engine)"
   ]
  },
  {
   "cell_type": "code",
   "execution_count": 23,
   "id": "d6ad16f4",
   "metadata": {},
   "outputs": [
    {
     "name": "stdout",
     "output_type": "stream",
     "text": [
      "2021-06-05 12:34:01,855 INFO sqlalchemy.engine.Engine INSERT INTO \"CollegeStudents\" (name, lastname) VALUES (?, ?)\n",
      "2021-06-05 12:34:01,855 INFO sqlalchemy.engine.Engine [cached since 14.67s ago] (('pk', 'kp'), ('pk1', 'kp1'), ('pavan', 'kp'), ('pk', 'krishna'))\n",
      "2021-06-05 12:34:01,858 INFO sqlalchemy.engine.Engine COMMIT\n"
     ]
    }
   ],
   "source": [
    "conn = engine.connect()\n",
    "res=conn.execute(students.insert(),[{'name':'pk','lastname':'kp'},{'name':'pk1','lastname':'kp1'},{'name':'pavan','lastname':'kp'},{'name':'pk','lastname':'krishna'}])"
   ]
  },
  {
   "cell_type": "code",
   "execution_count": 26,
   "id": "13f711de",
   "metadata": {},
   "outputs": [
    {
     "name": "stdout",
     "output_type": "stream",
     "text": [
      "2021-06-05 12:37:59,591 INFO sqlalchemy.engine.Engine SELECT \"CollegeStudents\".id, \"CollegeStudents\".name, \"CollegeStudents\".lastname \n",
      "FROM \"CollegeStudents\"\n",
      "2021-06-05 12:37:59,592 INFO sqlalchemy.engine.Engine [cached since 85.91s ago] ()\n",
      "(1, 'pk', 'kp')\n",
      "(2, 'pk1', 'kp1')\n",
      "(3, 'pavan', 'kp')\n",
      "(4, 'pk', 'krishna')\n",
      "(5, 'pk', 'kp')\n",
      "(6, 'pk1', 'kp1')\n",
      "(7, 'pavan', 'kp')\n",
      "(8, 'pk', 'krishna')\n"
     ]
    }
   ],
   "source": [
    "re = conn.execute(students.select()).fetchall()\n",
    "for i in re:\n",
    "    print(i)"
   ]
  },
  {
   "cell_type": "code",
   "execution_count": 27,
   "id": "b1592481",
   "metadata": {},
   "outputs": [
    {
     "name": "stdout",
     "output_type": "stream",
     "text": [
      "2021-06-05 12:38:44,274 INFO sqlalchemy.engine.Engine INSERT INTO address (st_id, postal_add, email_add) VALUES (?, ?, ?)\n",
      "2021-06-05 12:38:44,275 INFO sqlalchemy.engine.Engine [generated in 0.00102s] ((1, 'Shivajinagar Pune', 'ravi@gmail.com'), (1, 'ChurchGate Mumbai', 'kapoor@gmail.com'), (3, 'Jubilee Hills Hyderabad', 'komal@gmail.com'), (5, 'MG Road Bangaluru', 'as@yahoo.com'))\n",
      "2021-06-05 12:38:44,277 INFO sqlalchemy.engine.Engine COMMIT\n"
     ]
    },
    {
     "data": {
      "text/plain": [
       "<sqlalchemy.engine.cursor.LegacyCursorResult at 0x78bee08>"
      ]
     },
     "execution_count": 27,
     "metadata": {},
     "output_type": "execute_result"
    }
   ],
   "source": [
    "conn.execute(address.insert(), [\n",
    "   {'st_id':1, 'postal_add':'Shivajinagar Pune', 'email_add':'ravi@gmail.com'},\n",
    "   {'st_id':1, 'postal_add':'ChurchGate Mumbai', 'email_add':'kapoor@gmail.com'},\n",
    "   {'st_id':3, 'postal_add':'Jubilee Hills Hyderabad', 'email_add':'komal@gmail.com'},\n",
    "   {'st_id':5, 'postal_add':'MG Road Bangaluru', 'email_add':'as@yahoo.com'},])\n",
    "   "
   ]
  },
  {
   "cell_type": "code",
   "execution_count": 37,
   "id": "b537b33e",
   "metadata": {},
   "outputs": [
    {
     "name": "stdout",
     "output_type": "stream",
     "text": [
      "2021-06-05 12:54:15,371 INFO sqlalchemy.engine.Engine SELECT \"CollegeStudents\".id, \"CollegeStudents\".name, \"CollegeStudents\".lastname \n",
      "FROM \"CollegeStudents\", address \n",
      "WHERE students.name,students.lastname from students AND \"CollegeStudents\".id = address.st_id\n",
      "2021-06-05 12:54:15,372 INFO sqlalchemy.engine.Engine [generated in 0.00079s] ()\n",
      "2021-06-05 12:54:15,372 INFO sqlalchemy.engine.Engine ROLLBACK\n"
     ]
    },
    {
     "ename": "OperationalError",
     "evalue": "(sqlite3.OperationalError) near \",\": syntax error\n[SQL: SELECT \"CollegeStudents\".id, \"CollegeStudents\".name, \"CollegeStudents\".lastname \nFROM \"CollegeStudents\", address \nWHERE students.name,students.lastname from students AND \"CollegeStudents\".id = address.st_id]\n(Background on this error at: http://sqlalche.me/e/14/e3q8)",
     "output_type": "error",
     "traceback": [
      "\u001b[1;31m---------------------------------------------------------------------------\u001b[0m",
      "\u001b[1;31mOperationalError\u001b[0m                          Traceback (most recent call last)",
      "\u001b[1;32mc:\\users\\pavan\\appdata\\local\\programs\\python\\python38-32\\lib\\site-packages\\sqlalchemy\\engine\\base.py\u001b[0m in \u001b[0;36m_execute_context\u001b[1;34m(self, dialect, constructor, statement, parameters, execution_options, *args, **kw)\u001b[0m\n\u001b[0;32m   1769\u001b[0m                 \u001b[1;32mif\u001b[0m \u001b[1;32mnot\u001b[0m \u001b[0mevt_handled\u001b[0m\u001b[1;33m:\u001b[0m\u001b[1;33m\u001b[0m\u001b[1;33m\u001b[0m\u001b[0m\n\u001b[1;32m-> 1770\u001b[1;33m                     self.dialect.do_execute(\n\u001b[0m\u001b[0;32m   1771\u001b[0m                         \u001b[0mcursor\u001b[0m\u001b[1;33m,\u001b[0m \u001b[0mstatement\u001b[0m\u001b[1;33m,\u001b[0m \u001b[0mparameters\u001b[0m\u001b[1;33m,\u001b[0m \u001b[0mcontext\u001b[0m\u001b[1;33m\u001b[0m\u001b[1;33m\u001b[0m\u001b[0m\n",
      "\u001b[1;32mc:\\users\\pavan\\appdata\\local\\programs\\python\\python38-32\\lib\\site-packages\\sqlalchemy\\engine\\default.py\u001b[0m in \u001b[0;36mdo_execute\u001b[1;34m(self, cursor, statement, parameters, context)\u001b[0m\n\u001b[0;32m    716\u001b[0m     \u001b[1;32mdef\u001b[0m \u001b[0mdo_execute\u001b[0m\u001b[1;33m(\u001b[0m\u001b[0mself\u001b[0m\u001b[1;33m,\u001b[0m \u001b[0mcursor\u001b[0m\u001b[1;33m,\u001b[0m \u001b[0mstatement\u001b[0m\u001b[1;33m,\u001b[0m \u001b[0mparameters\u001b[0m\u001b[1;33m,\u001b[0m \u001b[0mcontext\u001b[0m\u001b[1;33m=\u001b[0m\u001b[1;32mNone\u001b[0m\u001b[1;33m)\u001b[0m\u001b[1;33m:\u001b[0m\u001b[1;33m\u001b[0m\u001b[1;33m\u001b[0m\u001b[0m\n\u001b[1;32m--> 717\u001b[1;33m         \u001b[0mcursor\u001b[0m\u001b[1;33m.\u001b[0m\u001b[0mexecute\u001b[0m\u001b[1;33m(\u001b[0m\u001b[0mstatement\u001b[0m\u001b[1;33m,\u001b[0m \u001b[0mparameters\u001b[0m\u001b[1;33m)\u001b[0m\u001b[1;33m\u001b[0m\u001b[1;33m\u001b[0m\u001b[0m\n\u001b[0m\u001b[0;32m    718\u001b[0m \u001b[1;33m\u001b[0m\u001b[0m\n",
      "\u001b[1;31mOperationalError\u001b[0m: near \",\": syntax error",
      "\nThe above exception was the direct cause of the following exception:\n",
      "\u001b[1;31mOperationalError\u001b[0m                          Traceback (most recent call last)",
      "\u001b[1;32m<ipython-input-37-856d3fee9619>\u001b[0m in \u001b[0;36m<module>\u001b[1;34m\u001b[0m\n\u001b[0;32m      1\u001b[0m \u001b[0ms\u001b[0m \u001b[1;33m=\u001b[0m \u001b[0mstudents\u001b[0m\u001b[1;33m.\u001b[0m\u001b[0mselect\u001b[0m\u001b[1;33m(\u001b[0m\u001b[0mtext\u001b[0m\u001b[1;33m(\u001b[0m\u001b[1;34m'students.name,students.lastname from students'\u001b[0m\u001b[1;33m)\u001b[0m\u001b[1;33m)\u001b[0m\u001b[1;33m.\u001b[0m\u001b[0mwhere\u001b[0m\u001b[1;33m(\u001b[0m\u001b[0mstudents\u001b[0m\u001b[1;33m.\u001b[0m\u001b[0mc\u001b[0m\u001b[1;33m.\u001b[0m\u001b[0mid\u001b[0m\u001b[1;33m==\u001b[0m\u001b[0maddress\u001b[0m\u001b[1;33m.\u001b[0m\u001b[0mc\u001b[0m\u001b[1;33m.\u001b[0m\u001b[0mst_id\u001b[0m\u001b[1;33m)\u001b[0m\u001b[1;33m\u001b[0m\u001b[1;33m\u001b[0m\u001b[0m\n\u001b[1;32m----> 2\u001b[1;33m \u001b[0mres\u001b[0m \u001b[1;33m=\u001b[0m \u001b[0mconn\u001b[0m\u001b[1;33m.\u001b[0m\u001b[0mexecute\u001b[0m\u001b[1;33m(\u001b[0m\u001b[0ms\u001b[0m\u001b[1;33m)\u001b[0m\u001b[1;33m.\u001b[0m\u001b[0mfetchall\u001b[0m\u001b[1;33m(\u001b[0m\u001b[1;33m)\u001b[0m\u001b[1;33m\u001b[0m\u001b[1;33m\u001b[0m\u001b[0m\n\u001b[0m\u001b[0;32m      3\u001b[0m \u001b[1;32mfor\u001b[0m \u001b[0mi\u001b[0m \u001b[1;32min\u001b[0m \u001b[0mres\u001b[0m\u001b[1;33m:\u001b[0m\u001b[1;33m\u001b[0m\u001b[1;33m\u001b[0m\u001b[0m\n\u001b[0;32m      4\u001b[0m     \u001b[0mprint\u001b[0m\u001b[1;33m(\u001b[0m\u001b[0mi\u001b[0m\u001b[1;33m)\u001b[0m\u001b[1;33m\u001b[0m\u001b[1;33m\u001b[0m\u001b[0m\n",
      "\u001b[1;32mc:\\users\\pavan\\appdata\\local\\programs\\python\\python38-32\\lib\\site-packages\\sqlalchemy\\engine\\base.py\u001b[0m in \u001b[0;36mexecute\u001b[1;34m(self, statement, *multiparams, **params)\u001b[0m\n\u001b[0;32m   1260\u001b[0m             )\n\u001b[0;32m   1261\u001b[0m         \u001b[1;32melse\u001b[0m\u001b[1;33m:\u001b[0m\u001b[1;33m\u001b[0m\u001b[1;33m\u001b[0m\u001b[0m\n\u001b[1;32m-> 1262\u001b[1;33m             \u001b[1;32mreturn\u001b[0m \u001b[0mmeth\u001b[0m\u001b[1;33m(\u001b[0m\u001b[0mself\u001b[0m\u001b[1;33m,\u001b[0m \u001b[0mmultiparams\u001b[0m\u001b[1;33m,\u001b[0m \u001b[0mparams\u001b[0m\u001b[1;33m,\u001b[0m \u001b[0m_EMPTY_EXECUTION_OPTS\u001b[0m\u001b[1;33m)\u001b[0m\u001b[1;33m\u001b[0m\u001b[1;33m\u001b[0m\u001b[0m\n\u001b[0m\u001b[0;32m   1263\u001b[0m \u001b[1;33m\u001b[0m\u001b[0m\n\u001b[0;32m   1264\u001b[0m     \u001b[1;32mdef\u001b[0m \u001b[0m_execute_function\u001b[0m\u001b[1;33m(\u001b[0m\u001b[0mself\u001b[0m\u001b[1;33m,\u001b[0m \u001b[0mfunc\u001b[0m\u001b[1;33m,\u001b[0m \u001b[0mmultiparams\u001b[0m\u001b[1;33m,\u001b[0m \u001b[0mparams\u001b[0m\u001b[1;33m,\u001b[0m \u001b[0mexecution_options\u001b[0m\u001b[1;33m)\u001b[0m\u001b[1;33m:\u001b[0m\u001b[1;33m\u001b[0m\u001b[1;33m\u001b[0m\u001b[0m\n",
      "\u001b[1;32mc:\\users\\pavan\\appdata\\local\\programs\\python\\python38-32\\lib\\site-packages\\sqlalchemy\\sql\\elements.py\u001b[0m in \u001b[0;36m_execute_on_connection\u001b[1;34m(self, connection, multiparams, params, execution_options, _force)\u001b[0m\n\u001b[0;32m    322\u001b[0m     ):\n\u001b[0;32m    323\u001b[0m         \u001b[1;32mif\u001b[0m \u001b[0m_force\u001b[0m \u001b[1;32mor\u001b[0m \u001b[0mself\u001b[0m\u001b[1;33m.\u001b[0m\u001b[0msupports_execution\u001b[0m\u001b[1;33m:\u001b[0m\u001b[1;33m\u001b[0m\u001b[1;33m\u001b[0m\u001b[0m\n\u001b[1;32m--> 324\u001b[1;33m             return connection._execute_clauseelement(\n\u001b[0m\u001b[0;32m    325\u001b[0m                 \u001b[0mself\u001b[0m\u001b[1;33m,\u001b[0m \u001b[0mmultiparams\u001b[0m\u001b[1;33m,\u001b[0m \u001b[0mparams\u001b[0m\u001b[1;33m,\u001b[0m \u001b[0mexecution_options\u001b[0m\u001b[1;33m\u001b[0m\u001b[1;33m\u001b[0m\u001b[0m\n\u001b[0;32m    326\u001b[0m             )\n",
      "\u001b[1;32mc:\\users\\pavan\\appdata\\local\\programs\\python\\python38-32\\lib\\site-packages\\sqlalchemy\\engine\\base.py\u001b[0m in \u001b[0;36m_execute_clauseelement\u001b[1;34m(self, elem, multiparams, params, execution_options)\u001b[0m\n\u001b[0;32m   1449\u001b[0m             \u001b[0mlinting\u001b[0m\u001b[1;33m=\u001b[0m\u001b[0mself\u001b[0m\u001b[1;33m.\u001b[0m\u001b[0mdialect\u001b[0m\u001b[1;33m.\u001b[0m\u001b[0mcompiler_linting\u001b[0m \u001b[1;33m|\u001b[0m \u001b[0mcompiler\u001b[0m\u001b[1;33m.\u001b[0m\u001b[0mWARN_LINTING\u001b[0m\u001b[1;33m,\u001b[0m\u001b[1;33m\u001b[0m\u001b[1;33m\u001b[0m\u001b[0m\n\u001b[0;32m   1450\u001b[0m         )\n\u001b[1;32m-> 1451\u001b[1;33m         ret = self._execute_context(\n\u001b[0m\u001b[0;32m   1452\u001b[0m             \u001b[0mdialect\u001b[0m\u001b[1;33m,\u001b[0m\u001b[1;33m\u001b[0m\u001b[1;33m\u001b[0m\u001b[0m\n\u001b[0;32m   1453\u001b[0m             \u001b[0mdialect\u001b[0m\u001b[1;33m.\u001b[0m\u001b[0mexecution_ctx_cls\u001b[0m\u001b[1;33m.\u001b[0m\u001b[0m_init_compiled\u001b[0m\u001b[1;33m,\u001b[0m\u001b[1;33m\u001b[0m\u001b[1;33m\u001b[0m\u001b[0m\n",
      "\u001b[1;32mc:\\users\\pavan\\appdata\\local\\programs\\python\\python38-32\\lib\\site-packages\\sqlalchemy\\engine\\base.py\u001b[0m in \u001b[0;36m_execute_context\u001b[1;34m(self, dialect, constructor, statement, parameters, execution_options, *args, **kw)\u001b[0m\n\u001b[0;32m   1811\u001b[0m \u001b[1;33m\u001b[0m\u001b[0m\n\u001b[0;32m   1812\u001b[0m         \u001b[1;32mexcept\u001b[0m \u001b[0mBaseException\u001b[0m \u001b[1;32mas\u001b[0m \u001b[0me\u001b[0m\u001b[1;33m:\u001b[0m\u001b[1;33m\u001b[0m\u001b[1;33m\u001b[0m\u001b[0m\n\u001b[1;32m-> 1813\u001b[1;33m             self._handle_dbapi_exception(\n\u001b[0m\u001b[0;32m   1814\u001b[0m                 \u001b[0me\u001b[0m\u001b[1;33m,\u001b[0m \u001b[0mstatement\u001b[0m\u001b[1;33m,\u001b[0m \u001b[0mparameters\u001b[0m\u001b[1;33m,\u001b[0m \u001b[0mcursor\u001b[0m\u001b[1;33m,\u001b[0m \u001b[0mcontext\u001b[0m\u001b[1;33m\u001b[0m\u001b[1;33m\u001b[0m\u001b[0m\n\u001b[0;32m   1815\u001b[0m             )\n",
      "\u001b[1;32mc:\\users\\pavan\\appdata\\local\\programs\\python\\python38-32\\lib\\site-packages\\sqlalchemy\\engine\\base.py\u001b[0m in \u001b[0;36m_handle_dbapi_exception\u001b[1;34m(self, e, statement, parameters, cursor, context)\u001b[0m\n\u001b[0;32m   1992\u001b[0m                 \u001b[0mutil\u001b[0m\u001b[1;33m.\u001b[0m\u001b[0mraise_\u001b[0m\u001b[1;33m(\u001b[0m\u001b[0mnewraise\u001b[0m\u001b[1;33m,\u001b[0m \u001b[0mwith_traceback\u001b[0m\u001b[1;33m=\u001b[0m\u001b[0mexc_info\u001b[0m\u001b[1;33m[\u001b[0m\u001b[1;36m2\u001b[0m\u001b[1;33m]\u001b[0m\u001b[1;33m,\u001b[0m \u001b[0mfrom_\u001b[0m\u001b[1;33m=\u001b[0m\u001b[0me\u001b[0m\u001b[1;33m)\u001b[0m\u001b[1;33m\u001b[0m\u001b[1;33m\u001b[0m\u001b[0m\n\u001b[0;32m   1993\u001b[0m             \u001b[1;32melif\u001b[0m \u001b[0mshould_wrap\u001b[0m\u001b[1;33m:\u001b[0m\u001b[1;33m\u001b[0m\u001b[1;33m\u001b[0m\u001b[0m\n\u001b[1;32m-> 1994\u001b[1;33m                 util.raise_(\n\u001b[0m\u001b[0;32m   1995\u001b[0m                     \u001b[0msqlalchemy_exception\u001b[0m\u001b[1;33m,\u001b[0m \u001b[0mwith_traceback\u001b[0m\u001b[1;33m=\u001b[0m\u001b[0mexc_info\u001b[0m\u001b[1;33m[\u001b[0m\u001b[1;36m2\u001b[0m\u001b[1;33m]\u001b[0m\u001b[1;33m,\u001b[0m \u001b[0mfrom_\u001b[0m\u001b[1;33m=\u001b[0m\u001b[0me\u001b[0m\u001b[1;33m\u001b[0m\u001b[1;33m\u001b[0m\u001b[0m\n\u001b[0;32m   1996\u001b[0m                 )\n",
      "\u001b[1;32mc:\\users\\pavan\\appdata\\local\\programs\\python\\python38-32\\lib\\site-packages\\sqlalchemy\\util\\compat.py\u001b[0m in \u001b[0;36mraise_\u001b[1;34m(***failed resolving arguments***)\u001b[0m\n\u001b[0;32m    205\u001b[0m \u001b[1;33m\u001b[0m\u001b[0m\n\u001b[0;32m    206\u001b[0m         \u001b[1;32mtry\u001b[0m\u001b[1;33m:\u001b[0m\u001b[1;33m\u001b[0m\u001b[1;33m\u001b[0m\u001b[0m\n\u001b[1;32m--> 207\u001b[1;33m             \u001b[1;32mraise\u001b[0m \u001b[0mexception\u001b[0m\u001b[1;33m\u001b[0m\u001b[1;33m\u001b[0m\u001b[0m\n\u001b[0m\u001b[0;32m    208\u001b[0m         \u001b[1;32mfinally\u001b[0m\u001b[1;33m:\u001b[0m\u001b[1;33m\u001b[0m\u001b[1;33m\u001b[0m\u001b[0m\n\u001b[0;32m    209\u001b[0m             \u001b[1;31m# credit to\u001b[0m\u001b[1;33m\u001b[0m\u001b[1;33m\u001b[0m\u001b[1;33m\u001b[0m\u001b[0m\n",
      "\u001b[1;32mc:\\users\\pavan\\appdata\\local\\programs\\python\\python38-32\\lib\\site-packages\\sqlalchemy\\engine\\base.py\u001b[0m in \u001b[0;36m_execute_context\u001b[1;34m(self, dialect, constructor, statement, parameters, execution_options, *args, **kw)\u001b[0m\n\u001b[0;32m   1768\u001b[0m                             \u001b[1;32mbreak\u001b[0m\u001b[1;33m\u001b[0m\u001b[1;33m\u001b[0m\u001b[0m\n\u001b[0;32m   1769\u001b[0m                 \u001b[1;32mif\u001b[0m \u001b[1;32mnot\u001b[0m \u001b[0mevt_handled\u001b[0m\u001b[1;33m:\u001b[0m\u001b[1;33m\u001b[0m\u001b[1;33m\u001b[0m\u001b[0m\n\u001b[1;32m-> 1770\u001b[1;33m                     self.dialect.do_execute(\n\u001b[0m\u001b[0;32m   1771\u001b[0m                         \u001b[0mcursor\u001b[0m\u001b[1;33m,\u001b[0m \u001b[0mstatement\u001b[0m\u001b[1;33m,\u001b[0m \u001b[0mparameters\u001b[0m\u001b[1;33m,\u001b[0m \u001b[0mcontext\u001b[0m\u001b[1;33m\u001b[0m\u001b[1;33m\u001b[0m\u001b[0m\n\u001b[0;32m   1772\u001b[0m                     )\n",
      "\u001b[1;32mc:\\users\\pavan\\appdata\\local\\programs\\python\\python38-32\\lib\\site-packages\\sqlalchemy\\engine\\default.py\u001b[0m in \u001b[0;36mdo_execute\u001b[1;34m(self, cursor, statement, parameters, context)\u001b[0m\n\u001b[0;32m    715\u001b[0m \u001b[1;33m\u001b[0m\u001b[0m\n\u001b[0;32m    716\u001b[0m     \u001b[1;32mdef\u001b[0m \u001b[0mdo_execute\u001b[0m\u001b[1;33m(\u001b[0m\u001b[0mself\u001b[0m\u001b[1;33m,\u001b[0m \u001b[0mcursor\u001b[0m\u001b[1;33m,\u001b[0m \u001b[0mstatement\u001b[0m\u001b[1;33m,\u001b[0m \u001b[0mparameters\u001b[0m\u001b[1;33m,\u001b[0m \u001b[0mcontext\u001b[0m\u001b[1;33m=\u001b[0m\u001b[1;32mNone\u001b[0m\u001b[1;33m)\u001b[0m\u001b[1;33m:\u001b[0m\u001b[1;33m\u001b[0m\u001b[1;33m\u001b[0m\u001b[0m\n\u001b[1;32m--> 717\u001b[1;33m         \u001b[0mcursor\u001b[0m\u001b[1;33m.\u001b[0m\u001b[0mexecute\u001b[0m\u001b[1;33m(\u001b[0m\u001b[0mstatement\u001b[0m\u001b[1;33m,\u001b[0m \u001b[0mparameters\u001b[0m\u001b[1;33m)\u001b[0m\u001b[1;33m\u001b[0m\u001b[1;33m\u001b[0m\u001b[0m\n\u001b[0m\u001b[0;32m    718\u001b[0m \u001b[1;33m\u001b[0m\u001b[0m\n\u001b[0;32m    719\u001b[0m     \u001b[1;32mdef\u001b[0m \u001b[0mdo_execute_no_params\u001b[0m\u001b[1;33m(\u001b[0m\u001b[0mself\u001b[0m\u001b[1;33m,\u001b[0m \u001b[0mcursor\u001b[0m\u001b[1;33m,\u001b[0m \u001b[0mstatement\u001b[0m\u001b[1;33m,\u001b[0m \u001b[0mcontext\u001b[0m\u001b[1;33m=\u001b[0m\u001b[1;32mNone\u001b[0m\u001b[1;33m)\u001b[0m\u001b[1;33m:\u001b[0m\u001b[1;33m\u001b[0m\u001b[1;33m\u001b[0m\u001b[0m\n",
      "\u001b[1;31mOperationalError\u001b[0m: (sqlite3.OperationalError) near \",\": syntax error\n[SQL: SELECT \"CollegeStudents\".id, \"CollegeStudents\".name, \"CollegeStudents\".lastname \nFROM \"CollegeStudents\", address \nWHERE students.name,students.lastname from students AND \"CollegeStudents\".id = address.st_id]\n(Background on this error at: http://sqlalche.me/e/14/e3q8)"
     ]
    }
   ],
   "source": [
    "s = students.select().where(students.c.id==address.c.st_id)\n",
    "res = conn.execute(s).fetchall()\n",
    "for i in res:\n",
    "    print(i)"
   ]
  },
  {
   "cell_type": "code",
   "execution_count": null,
   "id": "2ac01487",
   "metadata": {},
   "outputs": [],
   "source": []
  },
  {
   "cell_type": "code",
   "execution_count": null,
   "id": "52a6e579",
   "metadata": {},
   "outputs": [],
   "source": []
  },
  {
   "cell_type": "code",
   "execution_count": null,
   "id": "786a2dc5",
   "metadata": {},
   "outputs": [],
   "source": []
  },
  {
   "cell_type": "code",
   "execution_count": null,
   "id": "faf5d5ab",
   "metadata": {},
   "outputs": [],
   "source": [
    ","
   ]
  },
  {
   "cell_type": "code",
   "execution_count": null,
   "id": "b3c8df34",
   "metadata": {},
   "outputs": [],
   "source": []
  },
  {
   "cell_type": "code",
   "execution_count": null,
   "id": "acb17382",
   "metadata": {},
   "outputs": [],
   "source": []
  },
  {
   "cell_type": "code",
   "execution_count": null,
   "id": "2feb9e76",
   "metadata": {},
   "outputs": [],
   "source": []
  },
  {
   "cell_type": "code",
   "execution_count": null,
   "id": "40248747",
   "metadata": {},
   "outputs": [],
   "source": []
  },
  {
   "cell_type": "code",
   "execution_count": null,
   "id": "87f68dac",
   "metadata": {},
   "outputs": [],
   "source": []
  },
  {
   "cell_type": "code",
   "execution_count": null,
   "id": "f48cd35b",
   "metadata": {},
   "outputs": [],
   "source": []
  },
  {
   "cell_type": "code",
   "execution_count": null,
   "id": "b159c579",
   "metadata": {},
   "outputs": [],
   "source": []
  },
  {
   "cell_type": "code",
   "execution_count": null,
   "id": "5eca6db5",
   "metadata": {},
   "outputs": [],
   "source": []
  },
  {
   "cell_type": "code",
   "execution_count": null,
   "id": "6b35069f",
   "metadata": {},
   "outputs": [],
   "source": []
  },
  {
   "cell_type": "code",
   "execution_count": null,
   "id": "301e29f4",
   "metadata": {},
   "outputs": [],
   "source": []
  },
  {
   "cell_type": "code",
   "execution_count": null,
   "id": "6816e3e0",
   "metadata": {},
   "outputs": [],
   "source": []
  },
  {
   "cell_type": "code",
   "execution_count": null,
   "id": "18add12d",
   "metadata": {},
   "outputs": [],
   "source": []
  },
  {
   "cell_type": "code",
   "execution_count": null,
   "id": "c3424fae",
   "metadata": {},
   "outputs": [],
   "source": []
  },
  {
   "cell_type": "code",
   "execution_count": null,
   "id": "b5ecbb31",
   "metadata": {},
   "outputs": [],
   "source": []
  },
  {
   "cell_type": "code",
   "execution_count": null,
   "id": "d05c83f3",
   "metadata": {},
   "outputs": [],
   "source": []
  },
  {
   "cell_type": "code",
   "execution_count": null,
   "id": "50748324",
   "metadata": {},
   "outputs": [],
   "source": []
  },
  {
   "cell_type": "code",
   "execution_count": null,
   "id": "b1267dc0",
   "metadata": {},
   "outputs": [],
   "source": []
  },
  {
   "cell_type": "code",
   "execution_count": null,
   "id": "96643f98",
   "metadata": {},
   "outputs": [],
   "source": []
  },
  {
   "cell_type": "code",
   "execution_count": null,
   "id": "4fb3c8f3",
   "metadata": {},
   "outputs": [],
   "source": []
  },
  {
   "cell_type": "code",
   "execution_count": null,
   "id": "8cb15ae2",
   "metadata": {},
   "outputs": [],
   "source": []
  },
  {
   "cell_type": "code",
   "execution_count": null,
   "id": "bf78b473",
   "metadata": {},
   "outputs": [],
   "source": []
  },
  {
   "cell_type": "code",
   "execution_count": null,
   "id": "4c1f0a6d",
   "metadata": {},
   "outputs": [],
   "source": []
  },
  {
   "cell_type": "code",
   "execution_count": null,
   "id": "38c73653",
   "metadata": {},
   "outputs": [],
   "source": []
  },
  {
   "cell_type": "code",
   "execution_count": null,
   "id": "4c13ccd1",
   "metadata": {},
   "outputs": [],
   "source": []
  },
  {
   "cell_type": "code",
   "execution_count": null,
   "id": "d990ad2c",
   "metadata": {},
   "outputs": [],
   "source": []
  },
  {
   "cell_type": "code",
   "execution_count": null,
   "id": "0ec111a8",
   "metadata": {},
   "outputs": [],
   "source": []
  },
  {
   "cell_type": "code",
   "execution_count": null,
   "id": "131fcd50",
   "metadata": {},
   "outputs": [],
   "source": []
  },
  {
   "cell_type": "code",
   "execution_count": null,
   "id": "8f6faf86",
   "metadata": {},
   "outputs": [],
   "source": []
  },
  {
   "cell_type": "code",
   "execution_count": null,
   "id": "8b807257",
   "metadata": {},
   "outputs": [],
   "source": []
  },
  {
   "cell_type": "code",
   "execution_count": null,
   "id": "be52c1dc",
   "metadata": {},
   "outputs": [],
   "source": []
  },
  {
   "cell_type": "code",
   "execution_count": null,
   "id": "3dbb8035",
   "metadata": {},
   "outputs": [],
   "source": []
  },
  {
   "cell_type": "code",
   "execution_count": null,
   "id": "2039488f",
   "metadata": {},
   "outputs": [],
   "source": []
  },
  {
   "cell_type": "code",
   "execution_count": null,
   "id": "9ae573ab",
   "metadata": {},
   "outputs": [],
   "source": []
  },
  {
   "cell_type": "code",
   "execution_count": null,
   "id": "0426e7ce",
   "metadata": {},
   "outputs": [],
   "source": []
  },
  {
   "cell_type": "code",
   "execution_count": null,
   "id": "7ab7c4b0",
   "metadata": {},
   "outputs": [],
   "source": []
  },
  {
   "cell_type": "code",
   "execution_count": null,
   "id": "35a74ff6",
   "metadata": {},
   "outputs": [],
   "source": []
  },
  {
   "cell_type": "code",
   "execution_count": null,
   "id": "60723b4a",
   "metadata": {},
   "outputs": [],
   "source": []
  },
  {
   "cell_type": "code",
   "execution_count": null,
   "id": "4ff84c2e",
   "metadata": {},
   "outputs": [],
   "source": []
  },
  {
   "cell_type": "code",
   "execution_count": null,
   "id": "72477ab5",
   "metadata": {},
   "outputs": [],
   "source": []
  },
  {
   "cell_type": "code",
   "execution_count": null,
   "id": "7c2ae0a6",
   "metadata": {},
   "outputs": [],
   "source": []
  },
  {
   "cell_type": "code",
   "execution_count": null,
   "id": "8b490901",
   "metadata": {},
   "outputs": [],
   "source": []
  },
  {
   "cell_type": "code",
   "execution_count": null,
   "id": "cd5c3e39",
   "metadata": {},
   "outputs": [],
   "source": []
  }
 ],
 "metadata": {
  "kernelspec": {
   "display_name": "Python 3",
   "language": "python",
   "name": "python3"
  },
  "language_info": {
   "codemirror_mode": {
    "name": "ipython",
    "version": 3
   },
   "file_extension": ".py",
   "mimetype": "text/x-python",
   "name": "python",
   "nbconvert_exporter": "python",
   "pygments_lexer": "ipython3",
   "version": "3.8.1"
  }
 },
 "nbformat": 4,
 "nbformat_minor": 5
}
