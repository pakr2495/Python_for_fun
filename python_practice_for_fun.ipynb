{
 "cells": [
  {
   "cell_type": "code",
   "execution_count": 44,
   "id": "af937f34",
   "metadata": {},
   "outputs": [
    {
     "data": {
      "text/plain": [
       "4.0"
      ]
     },
     "execution_count": 44,
     "metadata": {},
     "output_type": "execute_result"
    }
   ],
   "source": [
    "16**0.5 #square root with out using math module"
   ]
  },
  {
   "cell_type": "code",
   "execution_count": 11,
   "id": "c6783487",
   "metadata": {},
   "outputs": [
    {
     "name": "stdout",
     "output_type": "stream",
     "text": [
      "[]\n",
      "[1]\n"
     ]
    },
    {
     "data": {
      "text/plain": [
       "[1, 2]"
      ]
     },
     "execution_count": 11,
     "metadata": {},
     "output_type": "execute_result"
    }
   ],
   "source": [
    "#mutable list behaviour for default value in function parameter\n",
    "def test(num,li=[]):\n",
    "    print(li)\n",
    "    li.append(num)\n",
    "    return li\n",
    "\n",
    "test(1)\n",
    "test(2)"
   ]
  },
  {
   "cell_type": "code",
   "execution_count": 13,
   "id": "be086a30",
   "metadata": {},
   "outputs": [
    {
     "name": "stdout",
     "output_type": "stream",
     "text": [
      "before operation\n",
      "after operation\n",
      "5\n"
     ]
    }
   ],
   "source": [
    "#Decorator\n",
    "def dec(f):\n",
    "    def innerfunc(a,b):\n",
    "        print(\"before operation\")\n",
    "        ans=f(a,b)\n",
    "        print (\"after operation\")\n",
    "        return ans\n",
    "    return innerfunc\n",
    "\n",
    "@dec\n",
    "def add(a,b):\n",
    "    return a+b\n",
    "\n",
    "print(add(2,3))"
   ]
  },
  {
   "cell_type": "code",
   "execution_count": 14,
   "id": "3358726a",
   "metadata": {},
   "outputs": [
    {
     "name": "stdout",
     "output_type": "stream",
     "text": [
      "0 111\n",
      "1 121\n",
      "2 131\n",
      "3 141\n",
      "4 151\n",
      "5 161\n",
      "6 171\n",
      "7 181\n",
      "8 191\n",
      "9 101\n"
     ]
    }
   ],
   "source": [
    "#enumerate example\n",
    "\n",
    "li = [111,121,131,141,151,161,171,181,191,101]\n",
    "for index,values in enumerate(li):\n",
    "    print(index,values)"
   ]
  },
  {
   "cell_type": "code",
   "execution_count": 17,
   "id": "44fbd252",
   "metadata": {},
   "outputs": [
    {
     "name": "stdout",
     "output_type": "stream",
     "text": [
      "frozenset({161, 131, 101, 'c', 171, 'b', 141, 111, 181, 'a', 151, 121, 191})\n",
      "frozenset()\n",
      "True\n"
     ]
    }
   ],
   "source": [
    "#frozen set - immutable set\n",
    "li = [111,121,131,141,151,161,171,181,191,101]\n",
    "dic = {'a': 1 , 'b': 2 , 'c': 3}\n",
    "li_forzen = frozenset(li)\n",
    "dic_forzen = frozenset(dic)\n",
    "print(li_forzen.union(dic_forzen))\n",
    "print(li_forzen.intersection(dic_forzen))\n",
    "print(li_forzen.isdisjoint(dic_forzen))"
   ]
  },
  {
   "cell_type": "code",
   "execution_count": 22,
   "id": "fcf3768c",
   "metadata": {
    "scrolled": true
   },
   "outputs": [
    {
     "name": "stdout",
     "output_type": "stream",
     "text": [
      "121\n",
      "131\n",
      "141\n",
      "151\n",
      "161\n",
      "171\n",
      "181\n",
      "191\n",
      "101\n",
      "[121, 131, 141, 151, 161, 171, 181, 191, 101]\n"
     ]
    }
   ],
   "source": [
    "#iter object ,yield, generator object\n",
    "li = [111,121,131,141,151,161,171,181,191,101]\n",
    "\n",
    "li_iter = iter(li)\n",
    "next(li_iter)\n",
    "for i in li_iter :\n",
    "    print(i)\n",
    "\n",
    "def genfunc():\n",
    "    for i in li :\n",
    "        yield i\n",
    "gen_object = genfunc()\n",
    "next(gen_object)\n",
    "print(list(gen_object))"
   ]
  },
  {
   "cell_type": "code",
   "execution_count": 3,
   "id": "ae53deb1",
   "metadata": {},
   "outputs": [
    {
     "name": "stdout",
     "output_type": "stream",
     "text": [
      "5\n",
      "5\n",
      "5\n",
      "5\n",
      "5\n",
      "5\n",
      "5\n",
      "5\n",
      "5\n",
      "5\n",
      "6\n",
      "6\n",
      "6\n",
      "6\n",
      "6\n",
      "6\n",
      "6\n",
      "6\n",
      "6\n",
      "6\n",
      "Background Processmain therad completed\n",
      "Background Process\n",
      "Background Process\n",
      "Background Process\n",
      "Background Process\n",
      "Background Process\n",
      "Background Process\n",
      "Background Process\n",
      "Background Process\n",
      "Background Process\n",
      "\n"
     ]
    }
   ],
   "source": [
    "#threading - daemon thread and non daemon thread\n",
    "#daemon thread - background process , will terminate when main thread is terminated\n",
    "from threading import Thread\n",
    "import threading\n",
    "th = threading.Lock() \n",
    "\n",
    "\n",
    "def add (num1,num2):\n",
    "    th.acquire() #locking the resource\n",
    "    for _ in range(10):\n",
    "        print(num1+num2)\n",
    "    th.release()\n",
    "\n",
    "def mul(num2,num3):\n",
    "    th.acquire()\n",
    "    for _ in range(10):\n",
    "        print(num2*num3)\n",
    "    th.release()\n",
    "\n",
    "def ex_demon():\n",
    "    th.acquire()\n",
    "    for i in range(10):\n",
    "        print(\"Background Process\")\n",
    "    th.release()\n",
    "\n",
    "t1 = Thread(target=add, args=(2,3))\n",
    "t2 = Thread(target=mul, args=(2,3))\n",
    "t3 = Thread(target=ex_demon)\n",
    "t1.setName = 'first thread'\n",
    "t3.setDaemon(True)\n",
    "t1.start()\n",
    "t2.start()\n",
    "t3.start()\n",
    "\n",
    "t1.join()\n",
    "t2.join()\n",
    "#th.acquire()\n",
    "print('main therad completed')\n",
    "#th.release()"
   ]
  },
  {
   "cell_type": "code",
   "execution_count": 10,
   "id": "5d95c390",
   "metadata": {},
   "outputs": [
    {
     "name": "stdout",
     "output_type": "stream",
     "text": [
      "pr1 8064\n",
      "pr2 9804\n",
      "main process id29532\n",
      "done\n",
      "__main__\n"
     ]
    }
   ],
   "source": [
    "#multiprocessing\n",
    "import multiprocessing\n",
    "import os\n",
    "\n",
    "def p1():\n",
    "    print('p1 id',os.getpid())\n",
    "\n",
    "def p2():\n",
    "    print('p2 id',os.getpid())\n",
    "\n",
    "if __name__ == \"__main__\":\n",
    "\n",
    "    pr1 = multiprocessing.Process(target=p1)\n",
    "    pr2 = multiprocessing.Process(target=p2)\n",
    "\n",
    "    pr1.start()\n",
    "    pr2.start()\n",
    "\n",
    "    print('pr1',pr1.pid)\n",
    "    print('pr2',pr2.pid)\n",
    "\n",
    "    pr1.join()\n",
    "    pr2.join()\n",
    "\n",
    "    print('main process id'+ str(os.getpid()))\n",
    "    print('done')"
   ]
  },
  {
   "cell_type": "code",
   "execution_count": 47,
   "id": "6356b722",
   "metadata": {},
   "outputs": [
    {
     "name": "stdout",
     "output_type": "stream",
     "text": [
      "25\n"
     ]
    }
   ],
   "source": [
    "#global keyword\n",
    "\n",
    "num = 5\n",
    "def test():\n",
    "    global num\n",
    "    num = num * 5\n",
    "    print(num)\n",
    "test()"
   ]
  },
  {
   "cell_type": "code",
   "execution_count": 54,
   "id": "cb21e2fd",
   "metadata": {
    "scrolled": true
   },
   "outputs": [
    {
     "name": "stdout",
     "output_type": "stream",
     "text": [
      "0\n",
      "1\n",
      "2\n",
      "3\n",
      "4\n",
      "5\n",
      "6\n",
      "7\n",
      "8\n",
      "9\n",
      "done printing\n"
     ]
    }
   ],
   "source": [
    "# else block in for loop\n",
    "for i in range(10):\n",
    "    print(i)\n",
    "else:\n",
    "    print('done printing')"
   ]
  },
  {
   "cell_type": "code",
   "execution_count": 50,
   "id": "0b6a1243",
   "metadata": {},
   "outputs": [
    {
     "data": {
      "text/plain": [
       "6"
      ]
     },
     "execution_count": 50,
     "metadata": {},
     "output_type": "execute_result"
    }
   ],
   "source": [
    "# special meaning of _ \n",
    "a = 2\n",
    "b = 4\n",
    "a+b"
   ]
  },
  {
   "cell_type": "code",
   "execution_count": 51,
   "id": "87780dc1",
   "metadata": {},
   "outputs": [
    {
     "name": "stdout",
     "output_type": "stream",
     "text": [
      "6\n"
     ]
    }
   ],
   "source": [
    "print(_) # previous value from command"
   ]
  },
  {
   "cell_type": "code",
   "execution_count": 53,
   "id": "9af733a7",
   "metadata": {},
   "outputs": [
    {
     "name": "stdout",
     "output_type": "stream",
     "text": [
      "2\n",
      "4\n",
      "6\n",
      "8\n"
     ]
    }
   ],
   "source": [
    "# _ in for loop\n",
    "for _ in range(2,10,2):\n",
    "    print(_)"
   ]
  },
  {
   "cell_type": "code",
   "execution_count": 61,
   "id": "d7a66325",
   "metadata": {},
   "outputs": [
    {
     "name": "stdout",
     "output_type": "stream",
     "text": [
      "try block\n",
      "except block\n",
      "finally block\n"
     ]
    }
   ],
   "source": [
    "#try,except,else,finally - finally block should be at last , else block will execute if there is no exeception\n",
    "try:\n",
    "    print('try block')\n",
    "    #printsdasd\n",
    "except:\n",
    "    print('except block')\n",
    "else:\n",
    "    print('else block')\n",
    "finally:\n",
    "    print('finally block')\n",
    "\n",
    "    "
   ]
  },
  {
   "cell_type": "code",
   "execution_count": 62,
   "id": "49ed246b",
   "metadata": {},
   "outputs": [
    {
     "name": "stdout",
     "output_type": "stream",
     "text": [
      "True\n"
     ]
    }
   ],
   "source": [
    "#palindrome check\n",
    "inp_str = 'malayalam'\n",
    "\n",
    "print(inp_str == inp_str[::-1])"
   ]
  },
  {
   "cell_type": "code",
   "execution_count": 67,
   "id": "d0eea2b0",
   "metadata": {},
   "outputs": [
    {
     "name": "stdout",
     "output_type": "stream",
     "text": [
      "31\n",
      "42\n"
     ]
    },
    {
     "data": {
      "text/plain": [
       "3"
      ]
     },
     "execution_count": 67,
     "metadata": {},
     "output_type": "execute_result"
    }
   ],
   "source": [
    "# eval if string contains int , eval function will conisder as int and evaluvate\n",
    "a = eval(input(a))\n",
    "b = eval(input(b))\n",
    "a+b"
   ]
  },
  {
   "cell_type": "code",
   "execution_count": 71,
   "id": "dc60842d",
   "metadata": {},
   "outputs": [
    {
     "data": {
      "text/plain": [
       "60"
      ]
     },
     "execution_count": 71,
     "metadata": {},
     "output_type": "execute_result"
    }
   ],
   "source": [
    "# lambda expression\n",
    "a = lambda a,b,c : a*b*c\n",
    "a(1,2,3)\n",
    "\n",
    "def test(a,b):\n",
    "    c =a*b\n",
    "    return lambda :c*10\n",
    "test(2,3)()"
   ]
  },
  {
   "cell_type": "code",
   "execution_count": 76,
   "id": "2a186c3c",
   "metadata": {},
   "outputs": [
    {
     "name": "stdout",
     "output_type": "stream",
     "text": [
      "[4, 8, 12, 16, 20, 24, 32, 36]\n",
      "{'a': 4, 'b': 8, 'c': 12}\n"
     ]
    },
    {
     "data": {
      "text/plain": [
       "(2, 4, 6, 8)"
      ]
     },
     "execution_count": 76,
     "metadata": {},
     "output_type": "execute_result"
    }
   ],
   "source": [
    "#list comprehension ,dict comprehension,tuple comprehension\n",
    "li = [2,4,6,8,10,12,16,18]\n",
    "li_comp = [i*2 for i in li if i%2 == 0]\n",
    "li_comp\n",
    "dict_ex = {'a':2 , 'b': 4 , 'c': 6}\n",
    "dict_comp = {key:(value*2) for key,value in dict_ex.items()}\n",
    "print(li_comp)\n",
    "print(dict_comp)\n",
    "tup = (1,2,3,4,5,6,7,8)\n",
    "tup_comp = tuple((i for i in tup if i %2 == 0))\n",
    "tup_comp"
   ]
  },
  {
   "cell_type": "code",
   "execution_count": 77,
   "id": "e52bfa3e",
   "metadata": {},
   "outputs": [
    {
     "data": {
      "text/plain": [
       "tuple"
      ]
     },
     "execution_count": 77,
     "metadata": {},
     "output_type": "execute_result"
    }
   ],
   "source": [
    "a = 2,4,6,8, #tuple\n",
    "type(a)"
   ]
  },
  {
   "cell_type": "code",
   "execution_count": 78,
   "id": "6fae6aaf",
   "metadata": {},
   "outputs": [
    {
     "data": {
      "text/plain": [
       "[(1, 4), (2, 5), (3, 6), (4, 7)]"
      ]
     },
     "execution_count": 78,
     "metadata": {},
     "output_type": "execute_result"
    }
   ],
   "source": [
    "#zip function\n",
    "li1 = [1,2,3,4]\n",
    "li2 = [4,5,6,7]\n",
    "list(zip(li1,li2))"
   ]
  },
  {
   "cell_type": "code",
   "execution_count": 83,
   "id": "0db32390",
   "metadata": {},
   "outputs": [
    {
     "data": {
      "text/plain": [
       "[8, 16, 24, 28, 32]"
      ]
     },
     "execution_count": 83,
     "metadata": {},
     "output_type": "execute_result"
    }
   ],
   "source": [
    "#map\n",
    "li = [2,4,6,7,8]\n",
    "a = map(lambda i : i*4 ,li)\n",
    "list(a)"
   ]
  },
  {
   "cell_type": "code",
   "execution_count": 85,
   "id": "26482a9d",
   "metadata": {},
   "outputs": [
    {
     "data": {
      "text/plain": [
       "[2, 4, 6, 8, 10, 2, 4, 6, 8]"
      ]
     },
     "execution_count": 85,
     "metadata": {},
     "output_type": "execute_result"
    }
   ],
   "source": [
    "#filter(func,iterator) the function is executed on each element of the list\n",
    "# when function is defined\n",
    "#(element for element in iterable if function(element))\n",
    "\n",
    "# when function is None\n",
    "#(element for element in iterable if element)\n",
    "\n",
    "li = [1,2,3,4,5,6,7,8,9,10,2,3,4,5,6,7,8,9]\n",
    "\n",
    "def check_for_even(num):\n",
    "    if num%2 == 0:\n",
    "        return True\n",
    "    else:\n",
    "        return False\n",
    "final_li = filter(check_for_even,li)\n",
    "list(final_li)\n",
    "     "
   ]
  },
  {
   "cell_type": "code",
   "execution_count": 2,
   "id": "317e70d5",
   "metadata": {
    "scrolled": true
   },
   "outputs": [
    {
     "name": "stdout",
     "output_type": "stream",
     "text": [
      "nt\n",
      "os.stat_result(st_mode=16895, st_ino=19984723346456669, st_dev=1954377445, st_nlink=1, st_uid=0, st_gid=0, st_size=4096, st_atime=1621749078, st_mtime=1621707974, st_ctime=1620812369)\n"
     ]
    },
    {
     "data": {
      "text/plain": [
       "1"
      ]
     },
     "execution_count": 2,
     "metadata": {},
     "output_type": "execute_result"
    }
   ],
   "source": [
    "# Os module\n",
    "import os\n",
    "\n",
    "print(os.name) # name of os\n",
    "\n",
    "#print(os.environ) # reading the environment variable,returns dict\n",
    "\n",
    "#os.mkdir('test') # create directory\n",
    "\n",
    "#os.mkdir(r'./test/test') # create directory\n",
    "\n",
    "#print(os.getcwd())# current working directory\n",
    "\n",
    "#print(os.path.exists('test')) # check for path\n",
    "\n",
    "#print(os.path.abspath('test')) # abosolute url\n",
    "\n",
    "#print(list(os.walk('test')))  \n",
    "\n",
    "#print(os.path.isfile('test')) # check whether file or not\n",
    "\n",
    "#print(os.path.isdir('test')) #  check whether directory or not\n",
    "\n",
    "#os.rmdir('test') # remove directory\n",
    "\n",
    "os.chdir(\"d:\\\\\")  # change dir\n",
    "\n",
    "print(os.stat('test')) # gives information about folder or file , returns tuple\n",
    "\n",
    "fd = os.popen('test.txt','w') # same like open , opens the file with specified mode\n",
    "\n",
    "fd.write('testing')\n",
    "\n",
    "fd.close()\n",
    "\n",
    "#traverse all the files and folders in side the specified directory\n",
    "#for (root,dirs,files) in os.walk('Test', topdown=True):\n",
    "        #print (root)\n",
    "        #print (dirs)\n",
    "        #print (files)\n",
    "        #print ('--------------------------------')\n"
   ]
  },
  {
   "cell_type": "code",
   "execution_count": 55,
   "id": "3b1897cd",
   "metadata": {},
   "outputs": [],
   "source": [
    "# class oops concept\n",
    "class car:\n",
    "    defualt_name = 'Benz' # class parameter\n",
    "    def __init__(self,carname,carcolour):\n",
    "        self.car_name = carname\n",
    "        self.car_colour = carcolour\n",
    "        \n",
    "    def __str__(self): #usage of __str__ method\n",
    "        return 'Name of the car: {} \\n Car colour is {}'.format(self.car_name,self.car_colour)\n",
    "    \n",
    "        def __repr__(self): #usage of __repr__ method\n",
    "        return 'Name of the car: {} \\n Car colour is {}'.format(self.car_name,self.car_colour)\n",
    "    \n",
    "    \n",
    "\n",
    "    def display(self):\n",
    "        print(self.car_name,self.car_colour)\n",
    "    \n",
    "    @classmethod\n",
    "    def classmethod_ex(cls):\n",
    "        cls.car_name = 'BMW'\n",
    "        print('I am class method')\n",
    "        \n",
    "    @staticmethod\n",
    "    def staticmethod():\n",
    "        print('I am static method')\n",
    "        \n",
    "    def __add__(obj1,obj2): # operator overloading\n",
    "        return 'I have 2 cars . Name of the car are {} and {}'.format(obj1.car_name,obj2.car_name)"
   ]
  },
  {
   "cell_type": "code",
   "execution_count": null,
   "id": "5295ec65",
   "metadata": {},
   "outputs": [],
   "source": [
    "class engine(car):\n",
    "    def __init__(self,engine,carname,carcolour):\n",
    "        self.engine = engine\n",
    "        super().__init__(carname,carcolour) # super keyword usage\n",
    "    def display(self): #method overriding\n",
    "        print(self.car_name,self.car_colour,self.engine)"
   ]
  },
  {
   "cell_type": "code",
   "execution_count": 58,
   "id": "bb4d4ef1",
   "metadata": {},
   "outputs": [
    {
     "name": "stdout",
     "output_type": "stream",
     "text": [
      "Audi Red\n",
      "Red Audi Engine Audi\n",
      "Audi Red\n",
      "Bmw Red\n",
      "Red Audi Engine Audi\n"
     ]
    }
   ],
   "source": [
    "car_obj1 = car('Audi','Red')\n",
    "car_obj2 = car('Bmw','Red')\n",
    "eng_obj1 = engine('Audi','Red','Audi Engine') \n",
    "car_obj1.display()\n",
    "eng_obj1.display() #method overriding\n",
    "car_obj1 + car_obj2 #operator overloading\n",
    "car_obj1.staticmethod() #staticmethod\n",
    "car.classmethod_ex() #classmethod\n",
    "li_obj = [car_obj1,car_obj2,eng_obj1]\n",
    "\n",
    "for i in li_obj:\n",
    "    i.display() #polymorphism"
   ]
  },
  {
   "cell_type": "code",
   "execution_count": 68,
   "id": "0f06eff2",
   "metadata": {},
   "outputs": [
    {
     "name": "stdout",
     "output_type": "stream",
     "text": [
      "child class\n"
     ]
    }
   ],
   "source": [
    "#Abstract Class - It is a class which contains one or mobe abstract method . Abstract method contains only function defination . Implementation has to be done in child class.\n",
    "\n",
    "#Can't instantiate abstract class test with abstract methods display\n",
    "\n",
    "from abc import ABC,abstractmethod\n",
    "\n",
    "class test(ABC):\n",
    "    @abstractmethod\n",
    "    def display(self):\n",
    "        pass\n",
    "class test1(test):\n",
    "    def display(self):\n",
    "        print('child class')\n",
    "           \n",
    "\n",
    "obj = test1()\n",
    "\n",
    "obj.display()"
   ]
  },
  {
   "cell_type": "code",
   "execution_count": 66,
   "id": "ec6f3b26",
   "metadata": {},
   "outputs": [
    {
     "data": {
      "text/plain": [
       "'Instance is called via special method'"
      ]
     },
     "execution_count": 66,
     "metadata": {},
     "output_type": "execute_result"
    }
   ],
   "source": [
    "# special method __call__\n",
    "\n",
    "class test:\n",
    "    def __call__(self):\n",
    "        return 'Instance is called via special method'\n",
    "    \n",
    "t = test()\n",
    "t()"
   ]
  },
  {
   "cell_type": "code",
   "execution_count": 77,
   "id": "b472bee5",
   "metadata": {},
   "outputs": [
    {
     "name": "stdout",
     "output_type": "stream",
     "text": [
      "10\n",
      "20\n"
     ]
    }
   ],
   "source": [
    "# protected and private varaible . '_variableName'-protected member , '__variableName' - private member\n",
    "\n",
    "class test:\n",
    "    _a = 10\n",
    "    __b = 20\n",
    "    def display(self):\n",
    "        print(self._a)\n",
    "        print(self.__b)\n",
    "        \n",
    "class test1(test):\n",
    "    def display(self):\n",
    "        print(self._a)\n",
    "        print(self.__b)\n",
    "    \n",
    "t = test()\n",
    "t1 = test1()\n",
    "t.display()\n",
    "#t1.display()\n",
    "#print(t1.__b)\n"
   ]
  },
  {
   "cell_type": "code",
   "execution_count": 124,
   "id": "4d75158c",
   "metadata": {},
   "outputs": [
    {
     "data": {
      "text/plain": [
       "['sd', 'fs', 'fs', 'df', 'sd', '@#', '$']"
      ]
     },
     "execution_count": 124,
     "metadata": {},
     "output_type": "execute_result"
    }
   ],
   "source": [
    "# re - findall , search , match ,sub,split,compile\n",
    "# matchobject - group(),span(),start(),end(),string\n",
    "#https://www.programiz.com/python-programming/regex\n",
    "\n",
    "\n",
    "import re\n",
    "\n",
    "#print(re.findall('[hello]{1,2}o','helloworld helloon sdasdas hellobye lo'))\n",
    "#print(re.match('[hello]{1,2}o','hoelloworld helloon sdasdas hellobye lo'))\n",
    "#match_obj = re.search('[hello]{1,2}o','helloworld helloon sdasdas hellobye lo')\n",
    "#print(match_obj.string)\n",
    "#print(match_obj.group())\n",
    "#print(match_obj.span())\n",
    "#print(match_obj.start())\n",
    "#print(match_obj.end())\n",
    "#res = re.sub('[hello]{1,2}o','pk','helloworld helloon sdasdas hellobye lo')\n",
    "#print(res)\n",
    "#res = re.split('\\s','helloworld helloon sdasdas hellobye lo')\n",
    "#res\n",
    "\n",
    "#------------------------------------------------------------------------\n",
    "#(){}.[]+|\\?^$*\n",
    "#\\s - Spaces\n",
    "#\\d - Digit\n",
    "#\\D - Non digit\n",
    "#\\S - Non Space\n",
    "#\\A - Beginning of the string\n",
    "#\\b - Beginning or end of a word \n",
    "#\\B - Not at the beginning or end of a word \n",
    "#\\w - alpha numeric character with _\n",
    "#\\W - Non alpha numeric(speical character)\n",
    "#\\Z - word at the end ex python\\Z matches specified character at the end\n",
    "re.findall('(9){1,2}','9999')\n",
    "re.findall('[he]{1,2}','eehesasadheheczxcxzhe')\n",
    "re.findall(r'\\n','sfsdfsd\\nfdsfdsf\\n')\n",
    "re.findall('^[a-zA-Z0-9_\\-]+@[a-z_\\-]{3,10}\\.[a-z]{1,3}$','pavan-krishna1995@_gmail.in')\n",
    "re.findall('\\d{1,2}','9999')\n",
    "re.findall('\\D{1,2}','99993sdfsfsdfsd@#$')\n",
    "\n",
    "\n"
   ]
  },
  {
   "cell_type": "code",
   "execution_count": 129,
   "id": "4505b090",
   "metadata": {},
   "outputs": [
    {
     "name": "stdout",
     "output_type": "stream",
     "text": [
      "{'Date': 'Sun, 23 May 2021 15:20:23 GMT', 'Expires': '-1', 'Cache-Control': 'private, max-age=0', 'Content-Type': 'text/html; charset=ISO-8859-1', 'P3P': 'CP=\"This is not a P3P policy! See g.co/p3phelp for more info.\"', 'Content-Encoding': 'gzip', 'Server': 'gws', 'X-XSS-Protection': '0', 'X-Frame-Options': 'SAMEORIGIN', 'Set-Cookie': '1P_JAR=2021-05-23-15; expires=Tue, 22-Jun-2021 15:20:23 GMT; path=/; domain=.google.com; Secure, NID=216=WwuzcdRhBDLbMqIAwaJFq8ZAzT2RASTqm5jlvQZZKatJJPBnQIV9fRdpkiKOSNiezQQjiRAkoDolqxYYR3OpWge_0a-no4Pq0fbZ90WLRokXugbZI-Q9_augvRFqpBfbgQTIcK_6vdd-8dS2VTL6Ws9FzHiwD-qapWYr2HE6eXc; expires=Mon, 22-Nov-2021 15:20:23 GMT; path=/; domain=.google.com; HttpOnly', 'Alt-Svc': 'h3-29=\":443\"; ma=2592000,h3-T051=\":443\"; ma=2592000,h3-Q050=\":443\"; ma=2592000,h3-Q046=\":443\"; ma=2592000,h3-Q043=\":443\"; ma=2592000,quic=\":443\"; ma=2592000; v=\"46,43\"', 'Transfer-Encoding': 'chunked'}\n"
     ]
    }
   ],
   "source": [
    "#making get and post call\n",
    "\n",
    "import requests\n",
    "from requests.auth import HTTPBasicAuth\n",
    "import json\n",
    "\n",
    "data = {\n",
    "    'a':123\n",
    "}\n",
    "data_json = json.dumps(data)\n",
    "headers ={\n",
    "    'Content-Type':'application/json'\n",
    "}\n",
    "#res = requests.post('https://google.com',headers=headers,data=data,auth=HTTPBasicAuth('user','pwd'))\n",
    "res = requests.get('https://google.com') #withoutauth\n",
    "#res = requests.get('https://google.com',auth=HTTPBasicAuth('user','pwd'))#with auth\n",
    "#print(res.cookies)\n",
    "#print(res.text)\n",
    "print(res.headers)\n"
   ]
  },
  {
   "cell_type": "code",
   "execution_count": null,
   "id": "11973b96",
   "metadata": {},
   "outputs": [],
   "source": [
    "########SQL ALCHEMY############"
   ]
  },
  {
   "cell_type": "code",
   "execution_count": 1,
   "id": "0bd4d75f",
   "metadata": {},
   "outputs": [],
   "source": [
    "import sqlalchemy"
   ]
  },
  {
   "cell_type": "code",
   "execution_count": 12,
   "id": "15f2176b",
   "metadata": {},
   "outputs": [
    {
     "data": {
      "text/plain": [
       "'1.4.16'"
      ]
     },
     "execution_count": 12,
     "metadata": {},
     "output_type": "execute_result"
    }
   ],
   "source": [
    "sqlalchemy.__version__ # check for drivers installed or not"
   ]
  },
  {
   "cell_type": "code",
   "execution_count": 1,
   "id": "a3c5dc2f",
   "metadata": {},
   "outputs": [],
   "source": [
    "from sqlalchemy import create_engine, MetaData, Table, Column, Integer, String\n",
    "engine = create_engine('sqlite:///college.db',echo=True) # creating engine , echo = true for logging , returns engine object\n",
    "#dir(engine)\n",
    "#engine.driver"
   ]
  },
  {
   "cell_type": "code",
   "execution_count": 2,
   "id": "17ebd21f",
   "metadata": {},
   "outputs": [
    {
     "name": "stdout",
     "output_type": "stream",
     "text": [
      "2021-06-02 00:00:50,543 INFO sqlalchemy.engine.Engine BEGIN (implicit)\n",
      "2021-06-02 00:00:50,548 INFO sqlalchemy.engine.Engine PRAGMA main.table_info(\"studs\")\n",
      "2021-06-02 00:00:50,549 INFO sqlalchemy.engine.Engine [raw sql] ()\n",
      "2021-06-02 00:00:50,549 INFO sqlalchemy.engine.Engine PRAGMA temp.table_info(\"studs\")\n",
      "2021-06-02 00:00:50,550 INFO sqlalchemy.engine.Engine [raw sql] ()\n",
      "2021-06-02 00:00:50,551 INFO sqlalchemy.engine.Engine \n",
      "CREATE TABLE studs (\n",
      "\tid INTEGER NOT NULL, \n",
      "\tname VARCHAR, \n",
      "\tlastname VARCHAR, \n",
      "\tPRIMARY KEY (id)\n",
      ")\n",
      "\n",
      "\n",
      "2021-06-02 00:00:50,551 INFO sqlalchemy.engine.Engine [no key 0.00039s] ()\n",
      "2021-06-02 00:00:50,577 INFO sqlalchemy.engine.Engine COMMIT\n"
     ]
    }
   ],
   "source": [
    "\n",
    "meta = MetaData() # needed for creating tables in SQl . It holds a collection of Table objects as well as an optional binding to an Engine or Connection.\n",
    "studs = Table(\n",
    "   'studs',\n",
    "    meta,\n",
    "    Column('id',Integer,primary_key=True),\n",
    "    Column('name',String),\n",
    "    Column('lastname',String),\n",
    "    ) #table creation\n",
    "meta.create_all(engine) #creates all the tables in meta object in particular DB"
   ]
  },
  {
   "cell_type": "code",
   "execution_count": 3,
   "id": "946bddd7",
   "metadata": {},
   "outputs": [
    {
     "name": "stdout",
     "output_type": "stream",
     "text": [
      "2021-06-02 00:00:57,542 INFO sqlalchemy.engine.Engine INSERT INTO studs (name, lastname) VALUES (?, ?)\n",
      "2021-06-02 00:00:57,544 INFO sqlalchemy.engine.Engine [generated in 0.00173s] ('Ravi', 'Kapoor')\n",
      "2021-06-02 00:00:57,547 INFO sqlalchemy.engine.Engine COMMIT\n",
      "2021-06-02 00:00:57,568 INFO sqlalchemy.engine.Engine INSERT INTO studs (name, lastname) VALUES (?, ?)\n",
      "2021-06-02 00:00:57,569 INFO sqlalchemy.engine.Engine [cached since 0.02686s ago] ('Pavan', 'Krishna')\n",
      "2021-06-02 00:00:57,571 INFO sqlalchemy.engine.Engine COMMIT\n"
     ]
    },
    {
     "data": {
      "text/plain": [
       "<sqlalchemy.engine.cursor.LegacyCursorResult at 0x687de08>"
      ]
     },
     "execution_count": 3,
     "metadata": {},
     "output_type": "execute_result"
    }
   ],
   "source": [
    "\n",
    "ins = studs.insert().values(name = 'Ravi', lastname = 'Kapoor')\n",
    "ins1 = studs.insert().values(name = 'Pavan', lastname = 'Krishna')#insert operation\n",
    "conn = engine.connect() # Before performing operation first need to connect to DB\n",
    "conn.execute(ins)\n",
    "conn.execute(ins1) # execute insert command"
   ]
  },
  {
   "cell_type": "code",
   "execution_count": 5,
   "id": "20b92210",
   "metadata": {},
   "outputs": [
    {
     "name": "stdout",
     "output_type": "stream",
     "text": [
      "2021-06-02 00:01:23,628 INFO sqlalchemy.engine.Engine SELECT studs.id, studs.name, studs.lastname \n",
      "FROM studs\n",
      "2021-06-02 00:01:23,629 INFO sqlalchemy.engine.Engine [cached since 20.59s ago] ()\n",
      "(1, 'Ravi', 'Kapoor')\n",
      "(2, 'Pavan', 'Krishna')\n"
     ]
    }
   ],
   "source": [
    "sel = studs.select()# select operation\n",
    "res = conn.execute(sel) # returns cursor object\n",
    "studs_res = res.fetchone()\n",
    "studs_res = res.fetchall() # fetching the data\n",
    "\n",
    "for res in studs_res:\n",
    "    print(res)"
   ]
  },
  {
   "cell_type": "code",
   "execution_count": 10,
   "id": "86920c3b",
   "metadata": {},
   "outputs": [
    {
     "name": "stdout",
     "output_type": "stream",
     "text": [
      "2021-06-02 00:11:51,037 INFO sqlalchemy.engine.Engine SELECT studs.id, studs.name, studs.lastname \n",
      "FROM studs \n",
      "WHERE studs.lastname = ?\n",
      "2021-06-02 00:11:51,038 INFO sqlalchemy.engine.Engine [generated in 0.00123s] ('Krishna',)\n",
      "(2, 'Pavan', 'Krishna')\n"
     ]
    }
   ],
   "source": [
    "sel = studs.select().where(studs.c.lastname=='Krishna')# select operation with where caluse\n",
    "res = conn.execute(sel) # returns cursor object\n",
    "studs_res = res.fetchall() # fetching the data\n",
    "\n",
    "for res in studs_res:\n",
    "    print(res)"
   ]
  },
  {
   "cell_type": "code",
   "execution_count": 13,
   "id": "b6a39558",
   "metadata": {},
   "outputs": [
    {
     "name": "stdout",
     "output_type": "stream",
     "text": [
      "2021-06-02 00:16:56,208 INFO sqlalchemy.engine.Engine SELECT * FROM studs\n",
      "2021-06-02 00:16:56,209 INFO sqlalchemy.engine.Engine [cached since 17.62s ago] ()\n",
      "(1, 'Ravi', 'Kapoor')\n",
      "(2, 'Pavan', 'Krishna')\n"
     ]
    }
   ],
   "source": [
    "from sqlalchemy import text #another way of using select statement\n",
    "t = text(\"SELECT * FROM studs\")\n",
    "result = conn.execute(t)\n",
    "for res in result:\n",
    "    print(res)"
   ]
  },
  {
   "cell_type": "code",
   "execution_count": 49,
   "id": "19d1ea3a",
   "metadata": {},
   "outputs": [],
   "source": [
    "#Data class - \n",
    "#Data classes are available for Python 3.7 or above. You can use data classes as a data container but not only. \n",
    "#Data classes also write boiler-plate code for you and simplify the process of creating classes\n",
    "from dataclasses import dataclass,field,asdict,astuple\n",
    "\n",
    "@dataclass(frozen=False,repr=True,order=True,unsafe_hash=True)\n",
    "class person:\n",
    "    greatervalue:int = field(init=False) #provding restrictions for a particular attribute\n",
    "    name:str\n",
    "    age:int\n",
    "    job:str\n",
    "    exp:int\n",
    "    def __post_init__(self):#will be executed exactly after constructer\n",
    "        self.greatervalue = self.age * self.exp"
   ]
  },
  {
   "cell_type": "code",
   "execution_count": 53,
   "id": "d16b8ed8",
   "metadata": {},
   "outputs": [
    {
     "name": "stdout",
     "output_type": "stream",
     "text": [
      "False\n",
      "True\n",
      "{'greatervalue': 100, 'name': 'pavan', 'age': 20, 'job': 'Developer', 'exp': 5}\n",
      "(100, 'pavan', 20, 'Developer', 5)\n",
      "person(greatervalue=100, name='pavan', age=20, job='Developer', exp=5)\n"
     ]
    }
   ],
   "source": [
    "p = person('pavan',20,'Developer',5)\n",
    "p1 = person('pavan',20,'Developer',4)\n",
    "print(p1==p)\n",
    "#print(p)\n",
    "#hash(p)\n",
    "#p.age=20 # error when frozen = true\n",
    "p2 = person('pavan',20,'Developer',50)\n",
    "p3 = person('pavan',30,'Developer',15)\n",
    "print(p2>p)\n",
    "p2.age=40\n",
    "hash(p2)\n",
    "print(asdict(p)) #get dict for respective object\n",
    "print(astuple(p)) #get value as tuple for the object\n",
    "print(p)"
   ]
  },
  {
   "cell_type": "code",
   "execution_count": 54,
   "id": "bce3d93f",
   "metadata": {},
   "outputs": [
    {
     "data": {
      "text/plain": [
       "1"
      ]
     },
     "execution_count": 54,
     "metadata": {},
     "output_type": "execute_result"
    }
   ],
   "source": [
    "#tuple unpacking\n",
    "a = 1,2,3\n",
    "(a1,a2,a3) = 1,2,3\n",
    "a1"
   ]
  },
  {
   "cell_type": "code",
   "execution_count": 57,
   "id": "b29d913c",
   "metadata": {},
   "outputs": [
    {
     "data": {
      "text/plain": [
       "1"
      ]
     },
     "execution_count": 57,
     "metadata": {},
     "output_type": "execute_result"
    }
   ],
   "source": [
    "#list unpacking\n",
    "a=[1,2,3]\n",
    "a1,a2,a3 = a\n",
    "a1"
   ]
  },
  {
   "cell_type": "code",
   "execution_count": 61,
   "id": "f8698080",
   "metadata": {},
   "outputs": [
    {
     "name": "stdout",
     "output_type": "stream",
     "text": [
      "my name is pavan\n",
      "my name is pavan "
     ]
    }
   ],
   "source": [
    "#sep,end,flush\n",
    "\n",
    "print('my','name','is','pavan',sep=' ')\n",
    "print('my',end=\" \",flush=True)\n",
    "print('name',end=\" \",flush=True)\n",
    "print('is',end=\" \",flush=True)\n",
    "print('pavan',end=\" \",flush=True)"
   ]
  },
  {
   "cell_type": "code",
   "execution_count": 65,
   "id": "f584508b",
   "metadata": {},
   "outputs": [
    {
     "name": "stdout",
     "output_type": "stream",
     "text": [
      "None\n"
     ]
    }
   ],
   "source": [
    "# In dict to avoid key error use get method , if key not present it will return null ,also can specify default value\n",
    "d = {'a' : 2 , 'b' : 3 }\n",
    "d.get('c')\n",
    "print(d.get('c'))"
   ]
  },
  {
   "cell_type": "code",
   "execution_count": 66,
   "id": "ca172ffe",
   "metadata": {},
   "outputs": [
    {
     "data": {
      "text/plain": [
       "['c:\\\\users\\\\pavan\\\\appdata\\\\local\\\\programs\\\\python\\\\python38-32',\n",
       " 'c:\\\\users\\\\pavan\\\\appdata\\\\local\\\\programs\\\\python\\\\python38-32\\\\lib\\\\site-packages']"
      ]
     },
     "execution_count": 66,
     "metadata": {},
     "output_type": "execute_result"
    }
   ],
   "source": [
    "#location where all modules are installed\n",
    "import site\n",
    "site.getsitepackages()"
   ]
  },
  {
   "cell_type": "code",
   "execution_count": 1,
   "id": "e84e1482",
   "metadata": {},
   "outputs": [
    {
     "data": {
      "text/plain": [
       "Counter({1: 2,\n",
       "         2: 2,\n",
       "         3: 3,\n",
       "         5: 1,\n",
       "         6: 2,\n",
       "         7: 2,\n",
       "         8: 2,\n",
       "         90: 1,\n",
       "         45: 1,\n",
       "         9: 2,\n",
       "         0: 2,\n",
       "         12: 1,\n",
       "         456: 1,\n",
       "         78: 1})"
      ]
     },
     "execution_count": 1,
     "metadata": {},
     "output_type": "execute_result"
    }
   ],
   "source": [
    "#collection objects\n",
    "\n",
    "from collections import Counter\n",
    "\n",
    "count_dict = Counter([1,2,3,5,6,7,8,90,1,2,3,45,6,7,8,9,0,12,3,456,78,9,0])\n",
    "count_dict # key value pairs with key= each value from iterable and value = count of each value in iterable"
   ]
  },
  {
   "cell_type": "code",
   "execution_count": 12,
   "id": "8bae5ba3",
   "metadata": {},
   "outputs": [
    {
     "data": {
      "text/plain": [
       "OrderedDict([('name', 'Pavan'), ('value', 'sdfsdfsd'), ('addr', 'test1')])"
      ]
     },
     "execution_count": 12,
     "metadata": {},
     "output_type": "execute_result"
    }
   ],
   "source": [
    "from collections import OrderedDict\n",
    "\n",
    "od = OrderedDict() # it remembers the order in which the keys were inserted\n",
    "\n",
    "od['name'] = 'Pavan'\n",
    "od['value'] = 'test'\n",
    "od['addr'] = 'test1'\n",
    "od['value'] = \"sdfsdfsd\"\n",
    "od"
   ]
  },
  {
   "cell_type": "code",
   "execution_count": 21,
   "id": "6a059af2",
   "metadata": {},
   "outputs": [
    {
     "data": {
      "text/plain": [
       "defaultdict(int, {4: 1, 34: 0})"
      ]
     },
     "execution_count": 21,
     "metadata": {},
     "output_type": "execute_result"
    }
   ],
   "source": [
    "from collections import defaultdict\n",
    "\n",
    "df = defaultdict(int) # if key is not present instead of throwing key error \n",
    "\n",
    "df[4] =1\n",
    "df[34]\n",
    "df"
   ]
  },
  {
   "cell_type": "code",
   "execution_count": 33,
   "id": "c2759ba0",
   "metadata": {},
   "outputs": [
    {
     "data": {
      "text/plain": [
       "{'c': 3, 'd': 4, 'a': 1, 'b': 2, 'aa': 2}"
      ]
     },
     "execution_count": 33,
     "metadata": {},
     "output_type": "execute_result"
    }
   ],
   "source": [
    "from collections import ChainMap\n",
    "\n",
    "d = {'a':1,'b':2}\n",
    "c = {'c':3,'d':4}\n",
    "\n",
    "ch = ChainMap(d,c) #used to combine multiple dict into one dict\n",
    "ch1 = ch.new_child({'aa':2})\n",
    "dict(ch1)"
   ]
  },
  {
   "cell_type": "code",
   "execution_count": 41,
   "id": "1d02a8ee",
   "metadata": {},
   "outputs": [
    {
     "data": {
      "text/plain": [
       "Student(name='pavan', age=20, city='Kasragod')"
      ]
     },
     "execution_count": 41,
     "metadata": {},
     "output_type": "execute_result"
    }
   ],
   "source": [
    "from collections import namedtuple\n",
    "\n",
    "stud = namedtuple('Student',['name','age','city'])\n",
    "\n",
    "s1 = stud('pk',20,'Bangalore')\n",
    "\n",
    "li = ['pavan',20,'Kasragod']\n",
    "\n",
    "s2 = stud._make(li)\n",
    "s3 = stud._asdict({'name':'pk','age':20,'city':'Bangalore'}) \n",
    "s1.name\n",
    "s1.age\n",
    "s1.city\n",
    "s1[1]\n",
    "s2"
   ]
  },
  {
   "cell_type": "code",
   "execution_count": 43,
   "id": "3d29a2be",
   "metadata": {},
   "outputs": [
    {
     "name": "stdout",
     "output_type": "stream",
     "text": [
      "deque([20, 1, 2, 3, 4, 5, 10])\n"
     ]
    },
    {
     "data": {
      "text/plain": [
       "deque([2, 3, 4, 5])"
      ]
     },
     "execution_count": 43,
     "metadata": {},
     "output_type": "execute_result"
    }
   ],
   "source": [
    "# deque is the optimized list for quicker append and pop operations from both sides of the container. \n",
    "#It provides O(1) time complexity for append and pop operations as compared to list with O(n) time complexity.\n",
    "from collections import deque\n",
    "\n",
    "d = deque([1,2,3,4,5]) # we can append and pop from both sides\n",
    "\n",
    "d.append(10)\n",
    "d.appendleft(20)\n",
    "print(d)\n",
    "d.pop()\n",
    "d.popleft()\n",
    "d.popleft()\n",
    "d"
   ]
  },
  {
   "cell_type": "code",
   "execution_count": 49,
   "id": "bb4550db",
   "metadata": {},
   "outputs": [
    {
     "data": {
      "text/plain": [
       "'aaaaa'"
      ]
     },
     "execution_count": 49,
     "metadata": {},
     "output_type": "execute_result"
    }
   ],
   "source": [
    "#customising the dict,list,string methods according needs\n",
    "from collections import UserDict,UserList,UserString\n",
    "\n",
    "class customdict(UserDict):\n",
    "    def get(self,s=None,t=None):\n",
    "        if s and t:\n",
    "            return s*t\n",
    "        else:\n",
    "            return none\n",
    "d = customdict({'a':3})\n",
    "d.get('a',5)"
   ]
  },
  {
   "cell_type": "code",
   "execution_count": null,
   "id": "30bcbb11",
   "metadata": {},
   "outputs": [],
   "source": []
  },
  {
   "cell_type": "code",
   "execution_count": null,
   "id": "6f6b6fd0",
   "metadata": {},
   "outputs": [],
   "source": []
  },
  {
   "cell_type": "code",
   "execution_count": null,
   "id": "97fbfcf9",
   "metadata": {},
   "outputs": [],
   "source": []
  },
  {
   "cell_type": "code",
   "execution_count": null,
   "id": "af84fb8d",
   "metadata": {},
   "outputs": [],
   "source": []
  },
  {
   "cell_type": "code",
   "execution_count": null,
   "id": "0e2741e7",
   "metadata": {},
   "outputs": [],
   "source": []
  },
  {
   "cell_type": "code",
   "execution_count": null,
   "id": "b5cc7838",
   "metadata": {},
   "outputs": [],
   "source": []
  },
  {
   "cell_type": "code",
   "execution_count": null,
   "id": "195152f2",
   "metadata": {},
   "outputs": [],
   "source": []
  },
  {
   "cell_type": "code",
   "execution_count": null,
   "id": "fd04bdcd",
   "metadata": {},
   "outputs": [],
   "source": []
  },
  {
   "cell_type": "code",
   "execution_count": null,
   "id": "f01f0c1d",
   "metadata": {},
   "outputs": [],
   "source": []
  },
  {
   "cell_type": "code",
   "execution_count": null,
   "id": "6771893b",
   "metadata": {},
   "outputs": [],
   "source": []
  },
  {
   "cell_type": "code",
   "execution_count": null,
   "id": "68a69960",
   "metadata": {},
   "outputs": [],
   "source": []
  },
  {
   "cell_type": "code",
   "execution_count": null,
   "id": "e4a3065c",
   "metadata": {},
   "outputs": [],
   "source": []
  },
  {
   "cell_type": "code",
   "execution_count": null,
   "id": "5a2109d2",
   "metadata": {},
   "outputs": [],
   "source": []
  },
  {
   "cell_type": "code",
   "execution_count": null,
   "id": "af2599eb",
   "metadata": {},
   "outputs": [],
   "source": []
  },
  {
   "cell_type": "code",
   "execution_count": null,
   "id": "dcff49ec",
   "metadata": {},
   "outputs": [],
   "source": []
  },
  {
   "cell_type": "code",
   "execution_count": null,
   "id": "5aacf2b9",
   "metadata": {},
   "outputs": [],
   "source": []
  },
  {
   "cell_type": "code",
   "execution_count": null,
   "id": "ff5bf00d",
   "metadata": {},
   "outputs": [],
   "source": []
  },
  {
   "cell_type": "code",
   "execution_count": null,
   "id": "3d57640c",
   "metadata": {},
   "outputs": [],
   "source": []
  },
  {
   "cell_type": "code",
   "execution_count": null,
   "id": "e1cd3696",
   "metadata": {},
   "outputs": [],
   "source": []
  },
  {
   "cell_type": "code",
   "execution_count": null,
   "id": "dd00f30e",
   "metadata": {},
   "outputs": [],
   "source": []
  },
  {
   "cell_type": "code",
   "execution_count": null,
   "id": "798a4434",
   "metadata": {},
   "outputs": [],
   "source": []
  },
  {
   "cell_type": "code",
   "execution_count": null,
   "id": "61c66cee",
   "metadata": {},
   "outputs": [],
   "source": []
  },
  {
   "cell_type": "code",
   "execution_count": null,
   "id": "c4a611df",
   "metadata": {},
   "outputs": [],
   "source": []
  },
  {
   "cell_type": "code",
   "execution_count": null,
   "id": "b4a3aac3",
   "metadata": {},
   "outputs": [],
   "source": []
  },
  {
   "cell_type": "code",
   "execution_count": null,
   "id": "2be494cd",
   "metadata": {},
   "outputs": [],
   "source": []
  },
  {
   "cell_type": "code",
   "execution_count": null,
   "id": "989381bd",
   "metadata": {},
   "outputs": [],
   "source": []
  },
  {
   "cell_type": "code",
   "execution_count": null,
   "id": "1c2e2389",
   "metadata": {},
   "outputs": [],
   "source": []
  },
  {
   "cell_type": "code",
   "execution_count": null,
   "id": "5146f404",
   "metadata": {},
   "outputs": [],
   "source": []
  },
  {
   "cell_type": "code",
   "execution_count": null,
   "id": "afd3457e",
   "metadata": {},
   "outputs": [],
   "source": []
  },
  {
   "cell_type": "code",
   "execution_count": null,
   "id": "24a7e573",
   "metadata": {},
   "outputs": [],
   "source": []
  },
  {
   "cell_type": "code",
   "execution_count": null,
   "id": "cd993f56",
   "metadata": {},
   "outputs": [],
   "source": []
  },
  {
   "cell_type": "code",
   "execution_count": null,
   "id": "d6b71d43",
   "metadata": {},
   "outputs": [],
   "source": []
  },
  {
   "cell_type": "code",
   "execution_count": null,
   "id": "6e94a779",
   "metadata": {},
   "outputs": [],
   "source": []
  },
  {
   "cell_type": "code",
   "execution_count": null,
   "id": "e1eb94ea",
   "metadata": {},
   "outputs": [],
   "source": []
  },
  {
   "cell_type": "code",
   "execution_count": null,
   "id": "3b97045e",
   "metadata": {},
   "outputs": [],
   "source": []
  },
  {
   "cell_type": "code",
   "execution_count": null,
   "id": "add452db",
   "metadata": {},
   "outputs": [],
   "source": []
  },
  {
   "cell_type": "code",
   "execution_count": null,
   "id": "f5f7afdc",
   "metadata": {},
   "outputs": [],
   "source": []
  },
  {
   "cell_type": "code",
   "execution_count": null,
   "id": "16173f41",
   "metadata": {},
   "outputs": [],
   "source": []
  },
  {
   "cell_type": "code",
   "execution_count": null,
   "id": "7fe4a4aa",
   "metadata": {},
   "outputs": [],
   "source": []
  },
  {
   "cell_type": "code",
   "execution_count": null,
   "id": "908e360e",
   "metadata": {},
   "outputs": [],
   "source": []
  },
  {
   "cell_type": "code",
   "execution_count": null,
   "id": "6ffd165e",
   "metadata": {},
   "outputs": [],
   "source": []
  },
  {
   "cell_type": "code",
   "execution_count": null,
   "id": "6cd471da",
   "metadata": {},
   "outputs": [],
   "source": []
  },
  {
   "cell_type": "code",
   "execution_count": null,
   "id": "7a525bfa",
   "metadata": {},
   "outputs": [],
   "source": []
  },
  {
   "cell_type": "code",
   "execution_count": null,
   "id": "f472125e",
   "metadata": {},
   "outputs": [],
   "source": []
  },
  {
   "cell_type": "code",
   "execution_count": null,
   "id": "e525ab10",
   "metadata": {},
   "outputs": [],
   "source": []
  },
  {
   "cell_type": "code",
   "execution_count": null,
   "id": "3e266fca",
   "metadata": {},
   "outputs": [],
   "source": []
  },
  {
   "cell_type": "code",
   "execution_count": null,
   "id": "bd463df7",
   "metadata": {},
   "outputs": [],
   "source": []
  },
  {
   "cell_type": "code",
   "execution_count": null,
   "id": "cbda6db8",
   "metadata": {},
   "outputs": [],
   "source": []
  },
  {
   "cell_type": "code",
   "execution_count": null,
   "id": "f11ed936",
   "metadata": {},
   "outputs": [],
   "source": []
  },
  {
   "cell_type": "code",
   "execution_count": null,
   "id": "48a11718",
   "metadata": {},
   "outputs": [],
   "source": []
  },
  {
   "cell_type": "code",
   "execution_count": null,
   "id": "28286920",
   "metadata": {},
   "outputs": [],
   "source": []
  },
  {
   "cell_type": "code",
   "execution_count": null,
   "id": "d27d2ff8",
   "metadata": {},
   "outputs": [],
   "source": []
  },
  {
   "cell_type": "code",
   "execution_count": null,
   "id": "d7f2b98a",
   "metadata": {},
   "outputs": [],
   "source": []
  },
  {
   "cell_type": "code",
   "execution_count": null,
   "id": "c9cdca4a",
   "metadata": {},
   "outputs": [],
   "source": []
  },
  {
   "cell_type": "code",
   "execution_count": null,
   "id": "5c86e6c5",
   "metadata": {},
   "outputs": [],
   "source": []
  },
  {
   "cell_type": "code",
   "execution_count": null,
   "id": "b8993da3",
   "metadata": {},
   "outputs": [],
   "source": []
  },
  {
   "cell_type": "code",
   "execution_count": null,
   "id": "d6da93e2",
   "metadata": {},
   "outputs": [],
   "source": []
  },
  {
   "cell_type": "code",
   "execution_count": null,
   "id": "fd2c96ee",
   "metadata": {},
   "outputs": [],
   "source": []
  },
  {
   "cell_type": "code",
   "execution_count": null,
   "id": "323f5c90",
   "metadata": {},
   "outputs": [],
   "source": []
  },
  {
   "cell_type": "code",
   "execution_count": null,
   "id": "b857425a",
   "metadata": {},
   "outputs": [],
   "source": []
  },
  {
   "cell_type": "code",
   "execution_count": null,
   "id": "563a6f24",
   "metadata": {},
   "outputs": [],
   "source": []
  },
  {
   "cell_type": "code",
   "execution_count": null,
   "id": "cd49c81b",
   "metadata": {},
   "outputs": [],
   "source": []
  },
  {
   "cell_type": "code",
   "execution_count": null,
   "id": "327a4678",
   "metadata": {},
   "outputs": [],
   "source": []
  },
  {
   "cell_type": "code",
   "execution_count": null,
   "id": "3848828b",
   "metadata": {},
   "outputs": [],
   "source": []
  },
  {
   "cell_type": "code",
   "execution_count": null,
   "id": "c0681c9f",
   "metadata": {},
   "outputs": [],
   "source": []
  },
  {
   "cell_type": "code",
   "execution_count": null,
   "id": "2d9d4da3",
   "metadata": {},
   "outputs": [],
   "source": []
  },
  {
   "cell_type": "code",
   "execution_count": null,
   "id": "251e6654",
   "metadata": {},
   "outputs": [],
   "source": []
  },
  {
   "cell_type": "code",
   "execution_count": null,
   "id": "dae9e2b8",
   "metadata": {},
   "outputs": [],
   "source": []
  },
  {
   "cell_type": "code",
   "execution_count": null,
   "id": "ef6358d5",
   "metadata": {},
   "outputs": [],
   "source": []
  },
  {
   "cell_type": "code",
   "execution_count": null,
   "id": "78fab853",
   "metadata": {},
   "outputs": [],
   "source": []
  },
  {
   "cell_type": "code",
   "execution_count": null,
   "id": "d4c78961",
   "metadata": {},
   "outputs": [],
   "source": []
  },
  {
   "cell_type": "code",
   "execution_count": null,
   "id": "9d42c870",
   "metadata": {},
   "outputs": [],
   "source": []
  },
  {
   "cell_type": "code",
   "execution_count": null,
   "id": "31259406",
   "metadata": {},
   "outputs": [],
   "source": []
  },
  {
   "cell_type": "code",
   "execution_count": null,
   "id": "ebaf2adc",
   "metadata": {},
   "outputs": [],
   "source": []
  },
  {
   "cell_type": "code",
   "execution_count": null,
   "id": "692fb3dd",
   "metadata": {},
   "outputs": [],
   "source": []
  },
  {
   "cell_type": "code",
   "execution_count": null,
   "id": "4b104a0a",
   "metadata": {},
   "outputs": [],
   "source": []
  },
  {
   "cell_type": "code",
   "execution_count": null,
   "id": "ee80e770",
   "metadata": {},
   "outputs": [],
   "source": []
  },
  {
   "cell_type": "code",
   "execution_count": null,
   "id": "69e643f4",
   "metadata": {},
   "outputs": [],
   "source": []
  },
  {
   "cell_type": "code",
   "execution_count": null,
   "id": "156feea4",
   "metadata": {},
   "outputs": [],
   "source": []
  },
  {
   "cell_type": "code",
   "execution_count": null,
   "id": "d29e4899",
   "metadata": {},
   "outputs": [],
   "source": []
  },
  {
   "cell_type": "code",
   "execution_count": null,
   "id": "1e5f0334",
   "metadata": {},
   "outputs": [],
   "source": []
  },
  {
   "cell_type": "code",
   "execution_count": null,
   "id": "153a28c8",
   "metadata": {},
   "outputs": [],
   "source": []
  },
  {
   "cell_type": "code",
   "execution_count": null,
   "id": "59557e5d",
   "metadata": {},
   "outputs": [],
   "source": []
  },
  {
   "cell_type": "code",
   "execution_count": null,
   "id": "786816cf",
   "metadata": {},
   "outputs": [],
   "source": []
  },
  {
   "cell_type": "code",
   "execution_count": null,
   "id": "917806a6",
   "metadata": {},
   "outputs": [],
   "source": []
  },
  {
   "cell_type": "code",
   "execution_count": null,
   "id": "e7117c15",
   "metadata": {},
   "outputs": [],
   "source": []
  },
  {
   "cell_type": "code",
   "execution_count": null,
   "id": "547cea3b",
   "metadata": {},
   "outputs": [],
   "source": []
  },
  {
   "cell_type": "code",
   "execution_count": null,
   "id": "704840c2",
   "metadata": {},
   "outputs": [],
   "source": []
  },
  {
   "cell_type": "code",
   "execution_count": null,
   "id": "18d28f8f",
   "metadata": {},
   "outputs": [],
   "source": []
  },
  {
   "cell_type": "code",
   "execution_count": null,
   "id": "9d4a0e47",
   "metadata": {},
   "outputs": [],
   "source": []
  },
  {
   "cell_type": "code",
   "execution_count": null,
   "id": "c044be6b",
   "metadata": {},
   "outputs": [],
   "source": []
  },
  {
   "cell_type": "code",
   "execution_count": null,
   "id": "e0d873bb",
   "metadata": {},
   "outputs": [],
   "source": []
  },
  {
   "cell_type": "code",
   "execution_count": null,
   "id": "858b46a6",
   "metadata": {},
   "outputs": [],
   "source": []
  },
  {
   "cell_type": "code",
   "execution_count": null,
   "id": "c3e4ac29",
   "metadata": {},
   "outputs": [],
   "source": []
  },
  {
   "cell_type": "code",
   "execution_count": null,
   "id": "171fb795",
   "metadata": {},
   "outputs": [],
   "source": []
  },
  {
   "cell_type": "code",
   "execution_count": null,
   "id": "950cddcd",
   "metadata": {},
   "outputs": [],
   "source": []
  },
  {
   "cell_type": "code",
   "execution_count": null,
   "id": "3fa11d3c",
   "metadata": {},
   "outputs": [],
   "source": []
  },
  {
   "cell_type": "code",
   "execution_count": null,
   "id": "94d2b481",
   "metadata": {},
   "outputs": [],
   "source": []
  },
  {
   "cell_type": "code",
   "execution_count": 56,
   "id": "e101d741",
   "metadata": {},
   "outputs": [],
   "source": []
  },
  {
   "cell_type": "code",
   "execution_count": null,
   "id": "b104ce71",
   "metadata": {},
   "outputs": [],
   "source": []
  },
  {
   "cell_type": "code",
   "execution_count": null,
   "id": "1b081369",
   "metadata": {},
   "outputs": [],
   "source": []
  },
  {
   "cell_type": "code",
   "execution_count": null,
   "id": "478b64fc",
   "metadata": {},
   "outputs": [],
   "source": []
  },
  {
   "cell_type": "code",
   "execution_count": null,
   "id": "b2cda5de",
   "metadata": {},
   "outputs": [],
   "source": []
  },
  {
   "cell_type": "code",
   "execution_count": null,
   "id": "bc6f181b",
   "metadata": {},
   "outputs": [],
   "source": []
  },
  {
   "cell_type": "code",
   "execution_count": null,
   "id": "efc3494c",
   "metadata": {},
   "outputs": [],
   "source": []
  },
  {
   "cell_type": "code",
   "execution_count": null,
   "id": "d33fbade",
   "metadata": {},
   "outputs": [],
   "source": []
  },
  {
   "cell_type": "code",
   "execution_count": null,
   "id": "124c2d9f",
   "metadata": {},
   "outputs": [],
   "source": []
  },
  {
   "cell_type": "code",
   "execution_count": null,
   "id": "f44c3bd5",
   "metadata": {},
   "outputs": [],
   "source": []
  },
  {
   "cell_type": "code",
   "execution_count": null,
   "id": "558939c1",
   "metadata": {},
   "outputs": [],
   "source": []
  },
  {
   "cell_type": "code",
   "execution_count": null,
   "id": "65394ac1",
   "metadata": {},
   "outputs": [],
   "source": []
  },
  {
   "cell_type": "code",
   "execution_count": null,
   "id": "28188902",
   "metadata": {},
   "outputs": [],
   "source": []
  },
  {
   "cell_type": "code",
   "execution_count": null,
   "id": "e53ef207",
   "metadata": {},
   "outputs": [],
   "source": []
  },
  {
   "cell_type": "code",
   "execution_count": null,
   "id": "9bef859c",
   "metadata": {},
   "outputs": [],
   "source": []
  },
  {
   "cell_type": "code",
   "execution_count": null,
   "id": "e7b279ad",
   "metadata": {},
   "outputs": [],
   "source": []
  },
  {
   "cell_type": "code",
   "execution_count": null,
   "id": "aa0a529e",
   "metadata": {},
   "outputs": [],
   "source": []
  },
  {
   "cell_type": "code",
   "execution_count": null,
   "id": "c2c9383e",
   "metadata": {},
   "outputs": [],
   "source": []
  },
  {
   "cell_type": "code",
   "execution_count": null,
   "id": "3afbaee7",
   "metadata": {},
   "outputs": [],
   "source": []
  },
  {
   "cell_type": "code",
   "execution_count": null,
   "id": "e8b661dc",
   "metadata": {},
   "outputs": [],
   "source": []
  },
  {
   "cell_type": "code",
   "execution_count": null,
   "id": "e8c22bf7",
   "metadata": {},
   "outputs": [],
   "source": []
  },
  {
   "cell_type": "code",
   "execution_count": null,
   "id": "7c281f33",
   "metadata": {},
   "outputs": [],
   "source": []
  },
  {
   "cell_type": "code",
   "execution_count": null,
   "id": "c4812ec4",
   "metadata": {},
   "outputs": [],
   "source": []
  },
  {
   "cell_type": "code",
   "execution_count": null,
   "id": "bcb60aa2",
   "metadata": {},
   "outputs": [],
   "source": []
  },
  {
   "cell_type": "code",
   "execution_count": null,
   "id": "8e8cb004",
   "metadata": {},
   "outputs": [],
   "source": []
  },
  {
   "cell_type": "code",
   "execution_count": null,
   "id": "c67a5a13",
   "metadata": {},
   "outputs": [],
   "source": []
  },
  {
   "cell_type": "code",
   "execution_count": null,
   "id": "bc968096",
   "metadata": {},
   "outputs": [],
   "source": []
  },
  {
   "cell_type": "code",
   "execution_count": null,
   "id": "74f6a1a6",
   "metadata": {},
   "outputs": [],
   "source": []
  },
  {
   "cell_type": "code",
   "execution_count": null,
   "id": "f2f686b6",
   "metadata": {},
   "outputs": [],
   "source": []
  },
  {
   "cell_type": "code",
   "execution_count": null,
   "id": "cffbc69b",
   "metadata": {},
   "outputs": [],
   "source": []
  },
  {
   "cell_type": "code",
   "execution_count": null,
   "id": "643c86b8",
   "metadata": {},
   "outputs": [],
   "source": []
  },
  {
   "cell_type": "code",
   "execution_count": null,
   "id": "ca6c327e",
   "metadata": {},
   "outputs": [],
   "source": []
  },
  {
   "cell_type": "code",
   "execution_count": null,
   "id": "27875f24",
   "metadata": {},
   "outputs": [],
   "source": []
  },
  {
   "cell_type": "code",
   "execution_count": null,
   "id": "48928e6e",
   "metadata": {},
   "outputs": [],
   "source": []
  },
  {
   "cell_type": "code",
   "execution_count": null,
   "id": "4dd4ec85",
   "metadata": {},
   "outputs": [],
   "source": []
  },
  {
   "cell_type": "code",
   "execution_count": null,
   "id": "869aa805",
   "metadata": {},
   "outputs": [],
   "source": []
  },
  {
   "cell_type": "code",
   "execution_count": null,
   "id": "8e47d8db",
   "metadata": {},
   "outputs": [],
   "source": []
  },
  {
   "cell_type": "code",
   "execution_count": null,
   "id": "08804707",
   "metadata": {},
   "outputs": [],
   "source": []
  },
  {
   "cell_type": "code",
   "execution_count": null,
   "id": "f994a07d",
   "metadata": {},
   "outputs": [],
   "source": []
  },
  {
   "cell_type": "code",
   "execution_count": null,
   "id": "2f0a889a",
   "metadata": {},
   "outputs": [],
   "source": []
  },
  {
   "cell_type": "code",
   "execution_count": null,
   "id": "0550d5d1",
   "metadata": {},
   "outputs": [],
   "source": []
  },
  {
   "cell_type": "code",
   "execution_count": null,
   "id": "e77cb4d1",
   "metadata": {},
   "outputs": [],
   "source": []
  },
  {
   "cell_type": "code",
   "execution_count": null,
   "id": "82150e5b",
   "metadata": {},
   "outputs": [],
   "source": []
  },
  {
   "cell_type": "code",
   "execution_count": null,
   "id": "b2099be8",
   "metadata": {},
   "outputs": [],
   "source": []
  },
  {
   "cell_type": "code",
   "execution_count": null,
   "id": "547695c9",
   "metadata": {},
   "outputs": [],
   "source": []
  },
  {
   "cell_type": "code",
   "execution_count": null,
   "id": "df89d52c",
   "metadata": {},
   "outputs": [],
   "source": []
  },
  {
   "cell_type": "code",
   "execution_count": null,
   "id": "2ad5a9d6",
   "metadata": {},
   "outputs": [],
   "source": []
  },
  {
   "cell_type": "code",
   "execution_count": null,
   "id": "3aee617f",
   "metadata": {},
   "outputs": [],
   "source": []
  },
  {
   "cell_type": "code",
   "execution_count": null,
   "id": "fb9a2872",
   "metadata": {},
   "outputs": [],
   "source": []
  },
  {
   "cell_type": "code",
   "execution_count": null,
   "id": "eb9c134c",
   "metadata": {},
   "outputs": [],
   "source": []
  },
  {
   "cell_type": "code",
   "execution_count": null,
   "id": "2a382bd6",
   "metadata": {},
   "outputs": [],
   "source": []
  },
  {
   "cell_type": "code",
   "execution_count": null,
   "id": "1d1c8110",
   "metadata": {},
   "outputs": [],
   "source": []
  },
  {
   "cell_type": "code",
   "execution_count": null,
   "id": "cb21330c",
   "metadata": {},
   "outputs": [],
   "source": []
  },
  {
   "cell_type": "code",
   "execution_count": null,
   "id": "144f24af",
   "metadata": {},
   "outputs": [],
   "source": []
  },
  {
   "cell_type": "code",
   "execution_count": null,
   "id": "626da8ca",
   "metadata": {},
   "outputs": [],
   "source": []
  },
  {
   "cell_type": "code",
   "execution_count": null,
   "id": "b3bcb337",
   "metadata": {},
   "outputs": [],
   "source": []
  },
  {
   "cell_type": "code",
   "execution_count": null,
   "id": "cafcf6bb",
   "metadata": {},
   "outputs": [],
   "source": []
  },
  {
   "cell_type": "code",
   "execution_count": null,
   "id": "4374c4be",
   "metadata": {},
   "outputs": [],
   "source": []
  },
  {
   "cell_type": "code",
   "execution_count": null,
   "id": "d518d840",
   "metadata": {},
   "outputs": [],
   "source": []
  },
  {
   "cell_type": "code",
   "execution_count": null,
   "id": "492173e2",
   "metadata": {},
   "outputs": [],
   "source": []
  },
  {
   "cell_type": "code",
   "execution_count": null,
   "id": "69ca94fa",
   "metadata": {},
   "outputs": [],
   "source": []
  },
  {
   "cell_type": "code",
   "execution_count": null,
   "id": "d42d0026",
   "metadata": {},
   "outputs": [],
   "source": []
  },
  {
   "cell_type": "code",
   "execution_count": null,
   "id": "03fb8beb",
   "metadata": {},
   "outputs": [],
   "source": []
  },
  {
   "cell_type": "code",
   "execution_count": null,
   "id": "144f434f",
   "metadata": {},
   "outputs": [],
   "source": []
  },
  {
   "cell_type": "code",
   "execution_count": null,
   "id": "7f9518be",
   "metadata": {},
   "outputs": [],
   "source": []
  },
  {
   "cell_type": "code",
   "execution_count": null,
   "id": "7bc68b43",
   "metadata": {},
   "outputs": [],
   "source": []
  },
  {
   "cell_type": "code",
   "execution_count": null,
   "id": "a99c4652",
   "metadata": {},
   "outputs": [],
   "source": []
  },
  {
   "cell_type": "code",
   "execution_count": null,
   "id": "587a2270",
   "metadata": {},
   "outputs": [],
   "source": []
  },
  {
   "cell_type": "code",
   "execution_count": null,
   "id": "34795f72",
   "metadata": {},
   "outputs": [],
   "source": []
  },
  {
   "cell_type": "code",
   "execution_count": null,
   "id": "10f57d11",
   "metadata": {},
   "outputs": [],
   "source": []
  },
  {
   "cell_type": "code",
   "execution_count": null,
   "id": "72111b80",
   "metadata": {},
   "outputs": [],
   "source": []
  },
  {
   "cell_type": "code",
   "execution_count": null,
   "id": "9966c8d4",
   "metadata": {},
   "outputs": [],
   "source": []
  },
  {
   "cell_type": "code",
   "execution_count": null,
   "id": "9209b694",
   "metadata": {},
   "outputs": [],
   "source": []
  },
  {
   "cell_type": "code",
   "execution_count": null,
   "id": "874330e7",
   "metadata": {},
   "outputs": [],
   "source": []
  },
  {
   "cell_type": "code",
   "execution_count": null,
   "id": "1459fe36",
   "metadata": {},
   "outputs": [],
   "source": []
  },
  {
   "cell_type": "code",
   "execution_count": null,
   "id": "d3091823",
   "metadata": {},
   "outputs": [],
   "source": []
  },
  {
   "cell_type": "code",
   "execution_count": null,
   "id": "febafa1a",
   "metadata": {},
   "outputs": [],
   "source": []
  },
  {
   "cell_type": "code",
   "execution_count": null,
   "id": "f2087aa4",
   "metadata": {},
   "outputs": [],
   "source": []
  },
  {
   "cell_type": "code",
   "execution_count": null,
   "id": "b264edba",
   "metadata": {},
   "outputs": [],
   "source": []
  },
  {
   "cell_type": "code",
   "execution_count": null,
   "id": "d66c78f3",
   "metadata": {},
   "outputs": [],
   "source": []
  },
  {
   "cell_type": "code",
   "execution_count": null,
   "id": "3b51265e",
   "metadata": {},
   "outputs": [],
   "source": []
  },
  {
   "cell_type": "code",
   "execution_count": null,
   "id": "cca2cb0f",
   "metadata": {},
   "outputs": [],
   "source": []
  },
  {
   "cell_type": "code",
   "execution_count": null,
   "id": "6153db63",
   "metadata": {},
   "outputs": [],
   "source": []
  },
  {
   "cell_type": "code",
   "execution_count": null,
   "id": "1e261f8c",
   "metadata": {},
   "outputs": [],
   "source": []
  },
  {
   "cell_type": "code",
   "execution_count": null,
   "id": "af828ece",
   "metadata": {},
   "outputs": [],
   "source": []
  },
  {
   "cell_type": "code",
   "execution_count": null,
   "id": "def31a13",
   "metadata": {},
   "outputs": [],
   "source": []
  },
  {
   "cell_type": "code",
   "execution_count": null,
   "id": "d2e398b0",
   "metadata": {},
   "outputs": [],
   "source": []
  },
  {
   "cell_type": "code",
   "execution_count": null,
   "id": "6c1c39d8",
   "metadata": {},
   "outputs": [],
   "source": []
  },
  {
   "cell_type": "code",
   "execution_count": null,
   "id": "683faf3a",
   "metadata": {},
   "outputs": [],
   "source": []
  },
  {
   "cell_type": "code",
   "execution_count": null,
   "id": "4de6f673",
   "metadata": {},
   "outputs": [],
   "source": []
  },
  {
   "cell_type": "code",
   "execution_count": null,
   "id": "fbeb7b99",
   "metadata": {},
   "outputs": [],
   "source": []
  },
  {
   "cell_type": "code",
   "execution_count": null,
   "id": "e08d3c4c",
   "metadata": {},
   "outputs": [],
   "source": []
  },
  {
   "cell_type": "code",
   "execution_count": null,
   "id": "c89b58b3",
   "metadata": {},
   "outputs": [],
   "source": []
  },
  {
   "cell_type": "code",
   "execution_count": null,
   "id": "e68f6716",
   "metadata": {},
   "outputs": [],
   "source": []
  },
  {
   "cell_type": "code",
   "execution_count": null,
   "id": "db77f45c",
   "metadata": {},
   "outputs": [],
   "source": []
  },
  {
   "cell_type": "code",
   "execution_count": null,
   "id": "955d52db",
   "metadata": {},
   "outputs": [],
   "source": []
  },
  {
   "cell_type": "code",
   "execution_count": null,
   "id": "103f5901",
   "metadata": {},
   "outputs": [],
   "source": []
  },
  {
   "cell_type": "code",
   "execution_count": null,
   "id": "a7b3c24a",
   "metadata": {},
   "outputs": [],
   "source": []
  },
  {
   "cell_type": "code",
   "execution_count": null,
   "id": "da17597c",
   "metadata": {},
   "outputs": [],
   "source": []
  },
  {
   "cell_type": "code",
   "execution_count": null,
   "id": "e6df37c5",
   "metadata": {},
   "outputs": [],
   "source": []
  },
  {
   "cell_type": "code",
   "execution_count": null,
   "id": "dcfc3b6b",
   "metadata": {},
   "outputs": [],
   "source": []
  },
  {
   "cell_type": "code",
   "execution_count": null,
   "id": "018f574f",
   "metadata": {},
   "outputs": [],
   "source": []
  },
  {
   "cell_type": "code",
   "execution_count": null,
   "id": "c89cedb0",
   "metadata": {},
   "outputs": [],
   "source": []
  },
  {
   "cell_type": "code",
   "execution_count": null,
   "id": "03a91eec",
   "metadata": {},
   "outputs": [],
   "source": []
  },
  {
   "cell_type": "code",
   "execution_count": null,
   "id": "529845d0",
   "metadata": {},
   "outputs": [],
   "source": []
  },
  {
   "cell_type": "code",
   "execution_count": null,
   "id": "aad3295d",
   "metadata": {},
   "outputs": [],
   "source": []
  },
  {
   "cell_type": "code",
   "execution_count": null,
   "id": "c759daca",
   "metadata": {},
   "outputs": [],
   "source": []
  },
  {
   "cell_type": "code",
   "execution_count": null,
   "id": "66a0cb8f",
   "metadata": {},
   "outputs": [],
   "source": []
  },
  {
   "cell_type": "code",
   "execution_count": null,
   "id": "5a400e44",
   "metadata": {},
   "outputs": [],
   "source": []
  },
  {
   "cell_type": "code",
   "execution_count": null,
   "id": "03aa1f68",
   "metadata": {},
   "outputs": [],
   "source": []
  },
  {
   "cell_type": "code",
   "execution_count": null,
   "id": "45241141",
   "metadata": {},
   "outputs": [],
   "source": []
  },
  {
   "cell_type": "code",
   "execution_count": null,
   "id": "49305980",
   "metadata": {},
   "outputs": [],
   "source": []
  },
  {
   "cell_type": "code",
   "execution_count": null,
   "id": "bc72315d",
   "metadata": {},
   "outputs": [],
   "source": []
  },
  {
   "cell_type": "code",
   "execution_count": null,
   "id": "7119ef0e",
   "metadata": {},
   "outputs": [],
   "source": []
  },
  {
   "cell_type": "code",
   "execution_count": null,
   "id": "af1adc12",
   "metadata": {},
   "outputs": [],
   "source": []
  },
  {
   "cell_type": "code",
   "execution_count": null,
   "id": "1e5d58f6",
   "metadata": {},
   "outputs": [],
   "source": []
  },
  {
   "cell_type": "code",
   "execution_count": null,
   "id": "f323ca44",
   "metadata": {},
   "outputs": [],
   "source": []
  },
  {
   "cell_type": "code",
   "execution_count": null,
   "id": "b450c384",
   "metadata": {},
   "outputs": [],
   "source": []
  },
  {
   "cell_type": "code",
   "execution_count": null,
   "id": "27c77109",
   "metadata": {},
   "outputs": [],
   "source": []
  },
  {
   "cell_type": "code",
   "execution_count": null,
   "id": "0371c54d",
   "metadata": {},
   "outputs": [],
   "source": []
  },
  {
   "cell_type": "code",
   "execution_count": null,
   "id": "62310992",
   "metadata": {},
   "outputs": [],
   "source": []
  },
  {
   "cell_type": "code",
   "execution_count": null,
   "id": "5fd60da9",
   "metadata": {},
   "outputs": [],
   "source": []
  },
  {
   "cell_type": "code",
   "execution_count": null,
   "id": "a1767ac6",
   "metadata": {},
   "outputs": [],
   "source": []
  },
  {
   "cell_type": "code",
   "execution_count": null,
   "id": "fb48e792",
   "metadata": {},
   "outputs": [],
   "source": []
  }
 ],
 "metadata": {
  "kernelspec": {
   "display_name": "Python 3",
   "language": "python",
   "name": "python3"
  },
  "language_info": {
   "codemirror_mode": {
    "name": "ipython",
    "version": 3
   },
   "file_extension": ".py",
   "mimetype": "text/x-python",
   "name": "python",
   "nbconvert_exporter": "python",
   "pygments_lexer": "ipython3",
   "version": "3.8.1"
  }
 },
 "nbformat": 4,
 "nbformat_minor": 5
}
