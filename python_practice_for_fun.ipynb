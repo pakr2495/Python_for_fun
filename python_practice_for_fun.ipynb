{
 "cells": [
  {
   "cell_type": "code",
   "execution_count": 44,
   "id": "af937f34",
   "metadata": {},
   "outputs": [
    {
     "data": {
      "text/plain": [
       "4.0"
      ]
     },
     "execution_count": 44,
     "metadata": {},
     "output_type": "execute_result"
    }
   ],
   "source": [
    "16**0.5 #square root with out using math module"
   ]
  },
  {
   "cell_type": "code",
   "execution_count": 11,
   "id": "c6783487",
   "metadata": {},
   "outputs": [
    {
     "name": "stdout",
     "output_type": "stream",
     "text": [
      "[]\n",
      "[1]\n"
     ]
    },
    {
     "data": {
      "text/plain": [
       "[1, 2]"
      ]
     },
     "execution_count": 11,
     "metadata": {},
     "output_type": "execute_result"
    }
   ],
   "source": [
    "#mutable list behaviour for default value in function parameter\n",
    "def test(num,li=[]):\n",
    "    print(li)\n",
    "    li.append(num)\n",
    "    return li\n",
    "\n",
    "test(1)\n",
    "test(2)"
   ]
  },
  {
   "cell_type": "code",
   "execution_count": 13,
   "id": "be086a30",
   "metadata": {},
   "outputs": [
    {
     "name": "stdout",
     "output_type": "stream",
     "text": [
      "before operation\n",
      "after operation\n",
      "5\n"
     ]
    }
   ],
   "source": [
    "#Decorator\n",
    "def dec(f):\n",
    "    def innerfunc(a,b):\n",
    "        print(\"before operation\")\n",
    "        ans=f(a,b)\n",
    "        print (\"after operation\")\n",
    "        return ans\n",
    "    return innerfunc\n",
    "\n",
    "@dec\n",
    "def add(a,b):\n",
    "    return a+b\n",
    "\n",
    "print(add(2,3))"
   ]
  },
  {
   "cell_type": "code",
   "execution_count": 14,
   "id": "3358726a",
   "metadata": {},
   "outputs": [
    {
     "name": "stdout",
     "output_type": "stream",
     "text": [
      "0 111\n",
      "1 121\n",
      "2 131\n",
      "3 141\n",
      "4 151\n",
      "5 161\n",
      "6 171\n",
      "7 181\n",
      "8 191\n",
      "9 101\n"
     ]
    }
   ],
   "source": [
    "#enumerate example\n",
    "\n",
    "li = [111,121,131,141,151,161,171,181,191,101]\n",
    "for index,values in enumerate(li):\n",
    "    print(index,values)"
   ]
  },
  {
   "cell_type": "code",
   "execution_count": 17,
   "id": "44fbd252",
   "metadata": {},
   "outputs": [
    {
     "name": "stdout",
     "output_type": "stream",
     "text": [
      "frozenset({161, 131, 101, 'c', 171, 'b', 141, 111, 181, 'a', 151, 121, 191})\n",
      "frozenset()\n",
      "True\n"
     ]
    }
   ],
   "source": [
    "#frozen set - immutable set\n",
    "li = [111,121,131,141,151,161,171,181,191,101]\n",
    "dic = {'a': 1 , 'b': 2 , 'c': 3}\n",
    "li_forzen = frozenset(li)\n",
    "dic_forzen = frozenset(dic)\n",
    "print(li_forzen.union(dic_forzen))\n",
    "print(li_forzen.intersection(dic_forzen))\n",
    "print(li_forzen.isdisjoint(dic_forzen))"
   ]
  },
  {
   "cell_type": "code",
   "execution_count": 22,
   "id": "fcf3768c",
   "metadata": {
    "scrolled": true
   },
   "outputs": [
    {
     "name": "stdout",
     "output_type": "stream",
     "text": [
      "121\n",
      "131\n",
      "141\n",
      "151\n",
      "161\n",
      "171\n",
      "181\n",
      "191\n",
      "101\n",
      "[121, 131, 141, 151, 161, 171, 181, 191, 101]\n"
     ]
    }
   ],
   "source": [
    "#iter object ,yield, generator object\n",
    "li = [111,121,131,141,151,161,171,181,191,101]\n",
    "\n",
    "li_iter = iter(li)\n",
    "next(li_iter)\n",
    "for i in li_iter :\n",
    "    print(i)\n",
    "\n",
    "def genfunc():\n",
    "    for i in li :\n",
    "        yield i\n",
    "gen_object = genfunc()\n",
    "next(gen_object)\n",
    "print(list(gen_object))"
   ]
  },
  {
   "cell_type": "code",
   "execution_count": 45,
   "id": "ae53deb1",
   "metadata": {},
   "outputs": [
    {
     "name": "stdout",
     "output_type": "stream",
     "text": [
      "5\n",
      "6\n",
      "Background Process\n",
      "Background Process\n",
      "Background Process\n",
      "Background Process\n",
      "Background Process\n",
      "main therad completedBackground Process\n",
      "Background Process\n",
      "Background Process\n",
      "Background Process\n",
      "\n",
      "Background Process\n"
     ]
    }
   ],
   "source": [
    "#threading - daemon thread and non daemon thread\n",
    "#daemon thread - background process , will terminate when main thread is terminated\n",
    "from threading import Thread\n",
    "\n",
    "def add (num1,num2):\n",
    "    print(num1+num2) \n",
    "\n",
    "def mul(num2,num3):\n",
    "    print(num2*num3) \n",
    "\n",
    "def ex_demon():\n",
    "    for i in range(10):\n",
    "        print(\"Background Process\")\n",
    "\n",
    "t1 = Thread(target=add, args=(2,3))\n",
    "t2 = Thread(target=mul, args=(2,3))\n",
    "t3 = Thread(target=ex_demon)\n",
    "t1.setName = 'first thread'\n",
    "t3.setDaemon(True)\n",
    "t1.start()\n",
    "t2.start()\n",
    "t3.start()\n",
    "\n",
    "t1.join()\n",
    "t2.join()\n",
    "print('main therad completed')"
   ]
  },
  {
   "cell_type": "code",
   "execution_count": 47,
   "id": "6356b722",
   "metadata": {},
   "outputs": [
    {
     "name": "stdout",
     "output_type": "stream",
     "text": [
      "25\n"
     ]
    }
   ],
   "source": [
    "#global keyword\n",
    "\n",
    "num = 5\n",
    "def test():\n",
    "    global num\n",
    "    num = num * 5\n",
    "    print(num)\n",
    "test()"
   ]
  },
  {
   "cell_type": "code",
   "execution_count": 54,
   "id": "cb21e2fd",
   "metadata": {
    "scrolled": true
   },
   "outputs": [
    {
     "name": "stdout",
     "output_type": "stream",
     "text": [
      "0\n",
      "1\n",
      "2\n",
      "3\n",
      "4\n",
      "5\n",
      "6\n",
      "7\n",
      "8\n",
      "9\n",
      "done printing\n"
     ]
    }
   ],
   "source": [
    "# else block in for loop\n",
    "for i in range(10):\n",
    "    print(i)\n",
    "else:\n",
    "    print('done printing')"
   ]
  },
  {
   "cell_type": "code",
   "execution_count": 50,
   "id": "0b6a1243",
   "metadata": {},
   "outputs": [
    {
     "data": {
      "text/plain": [
       "6"
      ]
     },
     "execution_count": 50,
     "metadata": {},
     "output_type": "execute_result"
    }
   ],
   "source": [
    "# special meaning of _ \n",
    "a = 2\n",
    "b = 4\n",
    "a+b"
   ]
  },
  {
   "cell_type": "code",
   "execution_count": 51,
   "id": "87780dc1",
   "metadata": {},
   "outputs": [
    {
     "name": "stdout",
     "output_type": "stream",
     "text": [
      "6\n"
     ]
    }
   ],
   "source": [
    "print(_) # previous value from command"
   ]
  },
  {
   "cell_type": "code",
   "execution_count": 53,
   "id": "9af733a7",
   "metadata": {},
   "outputs": [
    {
     "name": "stdout",
     "output_type": "stream",
     "text": [
      "2\n",
      "4\n",
      "6\n",
      "8\n"
     ]
    }
   ],
   "source": [
    "# _ in for loop\n",
    "for _ in range(2,10,2):\n",
    "    print(_)"
   ]
  },
  {
   "cell_type": "code",
   "execution_count": 61,
   "id": "d7a66325",
   "metadata": {},
   "outputs": [
    {
     "name": "stdout",
     "output_type": "stream",
     "text": [
      "try block\n",
      "except block\n",
      "finally block\n"
     ]
    }
   ],
   "source": [
    "#try,except,else,finally - finally block should be at last , else block will execute if there is no exeception\n",
    "try:\n",
    "    print('try block')\n",
    "    #printsdasd\n",
    "except:\n",
    "    print('except block')\n",
    "else:\n",
    "    print('else block')\n",
    "finally:\n",
    "    print('finally block')\n",
    "\n",
    "    "
   ]
  },
  {
   "cell_type": "code",
   "execution_count": 62,
   "id": "49ed246b",
   "metadata": {},
   "outputs": [
    {
     "name": "stdout",
     "output_type": "stream",
     "text": [
      "True\n"
     ]
    }
   ],
   "source": [
    "#palindrome check\n",
    "inp_str = 'malayalam'\n",
    "\n",
    "print(inp_str == inp_str[::-1])"
   ]
  },
  {
   "cell_type": "code",
   "execution_count": 67,
   "id": "d0eea2b0",
   "metadata": {},
   "outputs": [
    {
     "name": "stdout",
     "output_type": "stream",
     "text": [
      "31\n",
      "42\n"
     ]
    },
    {
     "data": {
      "text/plain": [
       "3"
      ]
     },
     "execution_count": 67,
     "metadata": {},
     "output_type": "execute_result"
    }
   ],
   "source": [
    "# eval if string contains int , eval function will conisder as int and evaluvate\n",
    "a = eval(input(a))\n",
    "b = eval(input(b))\n",
    "a+b"
   ]
  },
  {
   "cell_type": "code",
   "execution_count": 71,
   "id": "dc60842d",
   "metadata": {},
   "outputs": [
    {
     "data": {
      "text/plain": [
       "60"
      ]
     },
     "execution_count": 71,
     "metadata": {},
     "output_type": "execute_result"
    }
   ],
   "source": [
    "# lambda expression\n",
    "a = lambda a,b,c : a*b*c\n",
    "a(1,2,3)\n",
    "\n",
    "def test(a,b):\n",
    "    c =a*b\n",
    "    return lambda :c*10\n",
    "test(2,3)()"
   ]
  },
  {
   "cell_type": "code",
   "execution_count": 76,
   "id": "2a186c3c",
   "metadata": {},
   "outputs": [
    {
     "name": "stdout",
     "output_type": "stream",
     "text": [
      "[4, 8, 12, 16, 20, 24, 32, 36]\n",
      "{'a': 4, 'b': 8, 'c': 12}\n"
     ]
    },
    {
     "data": {
      "text/plain": [
       "(2, 4, 6, 8)"
      ]
     },
     "execution_count": 76,
     "metadata": {},
     "output_type": "execute_result"
    }
   ],
   "source": [
    "#list comprehension ,dict comprehension,tuple comprehension\n",
    "li = [2,4,6,8,10,12,16,18]\n",
    "li_comp = [i*2 for i in li if i%2 == 0]\n",
    "li_comp\n",
    "dict_ex = {'a':2 , 'b': 4 , 'c': 6}\n",
    "dict_comp = {key:(value*2) for key,value in dict_ex.items()}\n",
    "print(li_comp)\n",
    "print(dict_comp)\n",
    "tup = (1,2,3,4,5,6,7,8)\n",
    "tup_comp = tuple((i for i in tup if i %2 == 0))\n",
    "tup_comp"
   ]
  },
  {
   "cell_type": "code",
   "execution_count": 77,
   "id": "e52bfa3e",
   "metadata": {},
   "outputs": [
    {
     "data": {
      "text/plain": [
       "tuple"
      ]
     },
     "execution_count": 77,
     "metadata": {},
     "output_type": "execute_result"
    }
   ],
   "source": [
    "a = 2,4,6,8, #tuple\n",
    "type(a)"
   ]
  },
  {
   "cell_type": "code",
   "execution_count": 78,
   "id": "6fae6aaf",
   "metadata": {},
   "outputs": [
    {
     "data": {
      "text/plain": [
       "[(1, 4), (2, 5), (3, 6), (4, 7)]"
      ]
     },
     "execution_count": 78,
     "metadata": {},
     "output_type": "execute_result"
    }
   ],
   "source": [
    "#zip function\n",
    "li1 = [1,2,3,4]\n",
    "li2 = [4,5,6,7]\n",
    "list(zip(li1,li2))"
   ]
  },
  {
   "cell_type": "code",
   "execution_count": 83,
   "id": "0db32390",
   "metadata": {},
   "outputs": [
    {
     "data": {
      "text/plain": [
       "[8, 16, 24, 28, 32]"
      ]
     },
     "execution_count": 83,
     "metadata": {},
     "output_type": "execute_result"
    }
   ],
   "source": [
    "#map\n",
    "li = [2,4,6,7,8]\n",
    "a = map(lambda i : i*4 ,li)\n",
    "list(a)"
   ]
  },
  {
   "cell_type": "code",
   "execution_count": 85,
   "id": "26482a9d",
   "metadata": {},
   "outputs": [
    {
     "data": {
      "text/plain": [
       "[2, 4, 6, 8, 10, 2, 4, 6, 8]"
      ]
     },
     "execution_count": 85,
     "metadata": {},
     "output_type": "execute_result"
    }
   ],
   "source": [
    "#filter(func,iterator) the function is executed on each element of the list\n",
    "# when function is defined\n",
    "#(element for element in iterable if function(element))\n",
    "\n",
    "# when function is None\n",
    "#(element for element in iterable if element)\n",
    "\n",
    "li = [1,2,3,4,5,6,7,8,9,10,2,3,4,5,6,7,8,9]\n",
    "\n",
    "def check_for_even(num):\n",
    "    if num%2 == 0:\n",
    "        return True\n",
    "    else:\n",
    "        return False\n",
    "final_li = filter(check_for_even,li)\n",
    "list(final_li)\n",
    "     "
   ]
  },
  {
   "cell_type": "code",
   "execution_count": 115,
   "id": "317e70d5",
   "metadata": {
    "scrolled": true
   },
   "outputs": [
    {
     "name": "stdout",
     "output_type": "stream",
     "text": [
      "nt\n",
      "d:\\\n",
      "True\n",
      "d:\\test\n",
      "[('test', ['.ipynb_checkpoints', 'test-108-q-fa490f9b479a4b3481ac6a00ace3b2ff-62947-flask-1.1-p-3.7-in-docker-2'], ['python_practice_for_fun.ipynb']), ('test\\\\.ipynb_checkpoints', [], ['python_practice_for_fun-checkpoint.ipynb']), ('test\\\\test-108-q-fa490f9b479a4b3481ac6a00ace3b2ff-62947-flask-1.1-p-3.7-in-docker-2', ['.git', '__pycache__'], ['.gitignore', 'db.py', 'Dockerfile', 'README.md', 'requirements.txt', 'restapi.py']), ('test\\\\test-108-q-fa490f9b479a4b3481ac6a00ace3b2ff-62947-flask-1.1-p-3.7-in-docker-2\\\\.git', ['hooks', 'info', 'logs', 'objects', 'refs'], ['COMMIT_EDITMSG', 'config', 'description', 'HEAD', 'index', 'packed-refs']), ('test\\\\test-108-q-fa490f9b479a4b3481ac6a00ace3b2ff-62947-flask-1.1-p-3.7-in-docker-2\\\\.git\\\\hooks', [], ['applypatch-msg.sample', 'commit-msg.sample', 'fsmonitor-watchman.sample', 'post-update.sample', 'pre-applypatch.sample', 'pre-commit.sample', 'pre-merge-commit.sample', 'pre-push.sample', 'pre-rebase.sample', 'pre-receive.sample', 'prepare-commit-msg.sample', 'push-to-checkout.sample', 'update.sample']), ('test\\\\test-108-q-fa490f9b479a4b3481ac6a00ace3b2ff-62947-flask-1.1-p-3.7-in-docker-2\\\\.git\\\\info', [], ['exclude']), ('test\\\\test-108-q-fa490f9b479a4b3481ac6a00ace3b2ff-62947-flask-1.1-p-3.7-in-docker-2\\\\.git\\\\logs', ['refs'], ['HEAD']), ('test\\\\test-108-q-fa490f9b479a4b3481ac6a00ace3b2ff-62947-flask-1.1-p-3.7-in-docker-2\\\\.git\\\\logs\\\\refs', ['heads', 'remotes'], []), ('test\\\\test-108-q-fa490f9b479a4b3481ac6a00ace3b2ff-62947-flask-1.1-p-3.7-in-docker-2\\\\.git\\\\logs\\\\refs\\\\heads', [], ['master', 'pavan_test']), ('test\\\\test-108-q-fa490f9b479a4b3481ac6a00ace3b2ff-62947-flask-1.1-p-3.7-in-docker-2\\\\.git\\\\logs\\\\refs\\\\remotes', ['origin'], []), ('test\\\\test-108-q-fa490f9b479a4b3481ac6a00ace3b2ff-62947-flask-1.1-p-3.7-in-docker-2\\\\.git\\\\logs\\\\refs\\\\remotes\\\\origin', [], ['HEAD', 'master', 'pavan_test']), ('test\\\\test-108-q-fa490f9b479a4b3481ac6a00ace3b2ff-62947-flask-1.1-p-3.7-in-docker-2\\\\.git\\\\objects', ['0a', '46', '51', 'ef', 'fb', 'info', 'pack'], []), ('test\\\\test-108-q-fa490f9b479a4b3481ac6a00ace3b2ff-62947-flask-1.1-p-3.7-in-docker-2\\\\.git\\\\objects\\\\0a', [], ['6d6ec20c2c9401f73b0de6de80af4b15e85c80']), ('test\\\\test-108-q-fa490f9b479a4b3481ac6a00ace3b2ff-62947-flask-1.1-p-3.7-in-docker-2\\\\.git\\\\objects\\\\46', [], ['e034f30999390d81c26508b38f88d63ea31ce1']), ('test\\\\test-108-q-fa490f9b479a4b3481ac6a00ace3b2ff-62947-flask-1.1-p-3.7-in-docker-2\\\\.git\\\\objects\\\\51', [], ['23867c51fb11b6b7d6b95a05911c750f181f1d']), ('test\\\\test-108-q-fa490f9b479a4b3481ac6a00ace3b2ff-62947-flask-1.1-p-3.7-in-docker-2\\\\.git\\\\objects\\\\ef', [], ['87f8b292657e4110ca2ee5ff76e12a988e6606']), ('test\\\\test-108-q-fa490f9b479a4b3481ac6a00ace3b2ff-62947-flask-1.1-p-3.7-in-docker-2\\\\.git\\\\objects\\\\fb', [], ['58a0d3c0e222e0c8ad7a58636be3e5bb4e323d']), ('test\\\\test-108-q-fa490f9b479a4b3481ac6a00ace3b2ff-62947-flask-1.1-p-3.7-in-docker-2\\\\.git\\\\objects\\\\info', [], []), ('test\\\\test-108-q-fa490f9b479a4b3481ac6a00ace3b2ff-62947-flask-1.1-p-3.7-in-docker-2\\\\.git\\\\objects\\\\pack', [], ['pack-68587a0f24e7d3840fb6f2c1688b43c70f72adfc.idx', 'pack-68587a0f24e7d3840fb6f2c1688b43c70f72adfc.pack']), ('test\\\\test-108-q-fa490f9b479a4b3481ac6a00ace3b2ff-62947-flask-1.1-p-3.7-in-docker-2\\\\.git\\\\refs', ['heads', 'remotes', 'tags'], []), ('test\\\\test-108-q-fa490f9b479a4b3481ac6a00ace3b2ff-62947-flask-1.1-p-3.7-in-docker-2\\\\.git\\\\refs\\\\heads', [], ['master', 'pavan_test']), ('test\\\\test-108-q-fa490f9b479a4b3481ac6a00ace3b2ff-62947-flask-1.1-p-3.7-in-docker-2\\\\.git\\\\refs\\\\remotes', ['origin'], []), ('test\\\\test-108-q-fa490f9b479a4b3481ac6a00ace3b2ff-62947-flask-1.1-p-3.7-in-docker-2\\\\.git\\\\refs\\\\remotes\\\\origin', [], ['HEAD', 'master', 'pavan_test']), ('test\\\\test-108-q-fa490f9b479a4b3481ac6a00ace3b2ff-62947-flask-1.1-p-3.7-in-docker-2\\\\.git\\\\refs\\\\tags', [], []), ('test\\\\test-108-q-fa490f9b479a4b3481ac6a00ace3b2ff-62947-flask-1.1-p-3.7-in-docker-2\\\\__pycache__', [], ['db.cpython-38.pyc'])]\n",
      "False\n",
      "True\n",
      "os.stat_result(st_mode=16895, st_ino=19984723346456669, st_dev=1954377445, st_nlink=1, st_uid=0, st_gid=0, st_size=4096, st_atime=1621707882, st_mtime=1621707854, st_ctime=1620812369)\n",
      "Test\n",
      "['.ipynb_checkpoints', 'test-108-q-fa490f9b479a4b3481ac6a00ace3b2ff-62947-flask-1.1-p-3.7-in-docker-2']\n",
      "['python_practice_for_fun.ipynb']\n",
      "--------------------------------\n",
      "Test\\.ipynb_checkpoints\n",
      "[]\n",
      "['python_practice_for_fun-checkpoint.ipynb']\n",
      "--------------------------------\n",
      "Test\\test-108-q-fa490f9b479a4b3481ac6a00ace3b2ff-62947-flask-1.1-p-3.7-in-docker-2\n",
      "['.git', '__pycache__']\n",
      "['.gitignore', 'db.py', 'Dockerfile', 'README.md', 'requirements.txt', 'restapi.py']\n",
      "--------------------------------\n",
      "Test\\test-108-q-fa490f9b479a4b3481ac6a00ace3b2ff-62947-flask-1.1-p-3.7-in-docker-2\\.git\n",
      "['hooks', 'info', 'logs', 'objects', 'refs']\n",
      "['COMMIT_EDITMSG', 'config', 'description', 'HEAD', 'index', 'packed-refs']\n",
      "--------------------------------\n",
      "Test\\test-108-q-fa490f9b479a4b3481ac6a00ace3b2ff-62947-flask-1.1-p-3.7-in-docker-2\\.git\\hooks\n",
      "[]\n",
      "['applypatch-msg.sample', 'commit-msg.sample', 'fsmonitor-watchman.sample', 'post-update.sample', 'pre-applypatch.sample', 'pre-commit.sample', 'pre-merge-commit.sample', 'pre-push.sample', 'pre-rebase.sample', 'pre-receive.sample', 'prepare-commit-msg.sample', 'push-to-checkout.sample', 'update.sample']\n",
      "--------------------------------\n",
      "Test\\test-108-q-fa490f9b479a4b3481ac6a00ace3b2ff-62947-flask-1.1-p-3.7-in-docker-2\\.git\\info\n",
      "[]\n",
      "['exclude']\n",
      "--------------------------------\n",
      "Test\\test-108-q-fa490f9b479a4b3481ac6a00ace3b2ff-62947-flask-1.1-p-3.7-in-docker-2\\.git\\logs\n",
      "['refs']\n",
      "['HEAD']\n",
      "--------------------------------\n",
      "Test\\test-108-q-fa490f9b479a4b3481ac6a00ace3b2ff-62947-flask-1.1-p-3.7-in-docker-2\\.git\\logs\\refs\n",
      "['heads', 'remotes']\n",
      "[]\n",
      "--------------------------------\n",
      "Test\\test-108-q-fa490f9b479a4b3481ac6a00ace3b2ff-62947-flask-1.1-p-3.7-in-docker-2\\.git\\logs\\refs\\heads\n",
      "[]\n",
      "['master', 'pavan_test']\n",
      "--------------------------------\n",
      "Test\\test-108-q-fa490f9b479a4b3481ac6a00ace3b2ff-62947-flask-1.1-p-3.7-in-docker-2\\.git\\logs\\refs\\remotes\n",
      "['origin']\n",
      "[]\n",
      "--------------------------------\n",
      "Test\\test-108-q-fa490f9b479a4b3481ac6a00ace3b2ff-62947-flask-1.1-p-3.7-in-docker-2\\.git\\logs\\refs\\remotes\\origin\n",
      "[]\n",
      "['HEAD', 'master', 'pavan_test']\n",
      "--------------------------------\n",
      "Test\\test-108-q-fa490f9b479a4b3481ac6a00ace3b2ff-62947-flask-1.1-p-3.7-in-docker-2\\.git\\objects\n",
      "['0a', '46', '51', 'ef', 'fb', 'info', 'pack']\n",
      "[]\n",
      "--------------------------------\n",
      "Test\\test-108-q-fa490f9b479a4b3481ac6a00ace3b2ff-62947-flask-1.1-p-3.7-in-docker-2\\.git\\objects\\0a\n",
      "[]\n",
      "['6d6ec20c2c9401f73b0de6de80af4b15e85c80']\n",
      "--------------------------------\n",
      "Test\\test-108-q-fa490f9b479a4b3481ac6a00ace3b2ff-62947-flask-1.1-p-3.7-in-docker-2\\.git\\objects\\46\n",
      "[]\n",
      "['e034f30999390d81c26508b38f88d63ea31ce1']\n",
      "--------------------------------\n",
      "Test\\test-108-q-fa490f9b479a4b3481ac6a00ace3b2ff-62947-flask-1.1-p-3.7-in-docker-2\\.git\\objects\\51\n",
      "[]\n",
      "['23867c51fb11b6b7d6b95a05911c750f181f1d']\n",
      "--------------------------------\n",
      "Test\\test-108-q-fa490f9b479a4b3481ac6a00ace3b2ff-62947-flask-1.1-p-3.7-in-docker-2\\.git\\objects\\ef\n",
      "[]\n",
      "['87f8b292657e4110ca2ee5ff76e12a988e6606']\n",
      "--------------------------------\n",
      "Test\\test-108-q-fa490f9b479a4b3481ac6a00ace3b2ff-62947-flask-1.1-p-3.7-in-docker-2\\.git\\objects\\fb\n",
      "[]\n",
      "['58a0d3c0e222e0c8ad7a58636be3e5bb4e323d']\n",
      "--------------------------------\n",
      "Test\\test-108-q-fa490f9b479a4b3481ac6a00ace3b2ff-62947-flask-1.1-p-3.7-in-docker-2\\.git\\objects\\info\n",
      "[]\n",
      "[]\n",
      "--------------------------------\n",
      "Test\\test-108-q-fa490f9b479a4b3481ac6a00ace3b2ff-62947-flask-1.1-p-3.7-in-docker-2\\.git\\objects\\pack\n",
      "[]\n",
      "['pack-68587a0f24e7d3840fb6f2c1688b43c70f72adfc.idx', 'pack-68587a0f24e7d3840fb6f2c1688b43c70f72adfc.pack']\n",
      "--------------------------------\n",
      "Test\\test-108-q-fa490f9b479a4b3481ac6a00ace3b2ff-62947-flask-1.1-p-3.7-in-docker-2\\.git\\refs\n",
      "['heads', 'remotes', 'tags']\n",
      "[]\n",
      "--------------------------------\n",
      "Test\\test-108-q-fa490f9b479a4b3481ac6a00ace3b2ff-62947-flask-1.1-p-3.7-in-docker-2\\.git\\refs\\heads\n",
      "[]\n",
      "['master', 'pavan_test']\n",
      "--------------------------------\n",
      "Test\\test-108-q-fa490f9b479a4b3481ac6a00ace3b2ff-62947-flask-1.1-p-3.7-in-docker-2\\.git\\refs\\remotes\n",
      "['origin']\n",
      "[]\n",
      "--------------------------------\n",
      "Test\\test-108-q-fa490f9b479a4b3481ac6a00ace3b2ff-62947-flask-1.1-p-3.7-in-docker-2\\.git\\refs\\remotes\\origin\n",
      "[]\n",
      "['HEAD', 'master', 'pavan_test']\n",
      "--------------------------------\n",
      "Test\\test-108-q-fa490f9b479a4b3481ac6a00ace3b2ff-62947-flask-1.1-p-3.7-in-docker-2\\.git\\refs\\tags\n",
      "[]\n",
      "[]\n",
      "--------------------------------\n",
      "Test\\test-108-q-fa490f9b479a4b3481ac6a00ace3b2ff-62947-flask-1.1-p-3.7-in-docker-2\\__pycache__\n",
      "[]\n",
      "['db.cpython-38.pyc']\n",
      "--------------------------------\n"
     ]
    }
   ],
   "source": [
    "# Os module\n",
    "import os\n",
    "\n",
    "print(os.name) # name of os\n",
    "\n",
    "#print(os.environ) # reading the environment variable,returns dict\n",
    "\n",
    "#os.mkdir('test') # create directory\n",
    "\n",
    "#os.mkdir(r'./test/test') # create directory\n",
    "\n",
    "print(os.getcwd())# current working directory\n",
    "\n",
    "print(os.path.exists('test')) # check for path\n",
    "\n",
    "print(os.path.abspath('test')) # abosolute url\n",
    "\n",
    "print(list(os.walk('test')))  \n",
    "\n",
    "print(os.path.isfile('test')) # check whether file or not\n",
    "\n",
    "print(os.path.isdir('test')) #  check whether directory or not\n",
    "\n",
    "#os.rmdir('test') # remove directory\n",
    "\n",
    "os.chdir(\"d:\\\\\")  # change dir\n",
    "\n",
    "print(os.stat('test')) # gives information about folder or file , returns tuple\n",
    "\n",
    "fd = os.popen('test.txt','w') # same like open , opens the file with specified mode\n",
    "\n",
    "fd.write('testing')\n",
    "\n",
    "fd.close()\n",
    "\n",
    "#traverse all the files and folders in side the specified directory\n",
    "for (root,dirs,files) in os.walk('Test', topdown=True):\n",
    "        print (root)\n",
    "        print (dirs)\n",
    "        print (files)\n",
    "        print ('--------------------------------')\n"
   ]
  },
  {
   "cell_type": "code",
   "execution_count": null,
   "id": "8e47d8db",
   "metadata": {},
   "outputs": [],
   "source": []
  },
  {
   "cell_type": "code",
   "execution_count": null,
   "id": "08804707",
   "metadata": {},
   "outputs": [],
   "source": []
  },
  {
   "cell_type": "code",
   "execution_count": null,
   "id": "f994a07d",
   "metadata": {},
   "outputs": [],
   "source": []
  },
  {
   "cell_type": "code",
   "execution_count": null,
   "id": "2f0a889a",
   "metadata": {},
   "outputs": [],
   "source": []
  },
  {
   "cell_type": "code",
   "execution_count": null,
   "id": "0550d5d1",
   "metadata": {},
   "outputs": [],
   "source": []
  },
  {
   "cell_type": "code",
   "execution_count": null,
   "id": "e77cb4d1",
   "metadata": {},
   "outputs": [],
   "source": []
  },
  {
   "cell_type": "code",
   "execution_count": null,
   "id": "82150e5b",
   "metadata": {},
   "outputs": [],
   "source": []
  },
  {
   "cell_type": "code",
   "execution_count": null,
   "id": "b2099be8",
   "metadata": {},
   "outputs": [],
   "source": []
  },
  {
   "cell_type": "code",
   "execution_count": null,
   "id": "547695c9",
   "metadata": {},
   "outputs": [],
   "source": []
  },
  {
   "cell_type": "code",
   "execution_count": null,
   "id": "df89d52c",
   "metadata": {},
   "outputs": [],
   "source": []
  },
  {
   "cell_type": "code",
   "execution_count": null,
   "id": "2ad5a9d6",
   "metadata": {},
   "outputs": [],
   "source": []
  },
  {
   "cell_type": "code",
   "execution_count": null,
   "id": "3aee617f",
   "metadata": {},
   "outputs": [],
   "source": []
  },
  {
   "cell_type": "code",
   "execution_count": null,
   "id": "fb9a2872",
   "metadata": {},
   "outputs": [],
   "source": []
  },
  {
   "cell_type": "code",
   "execution_count": null,
   "id": "eb9c134c",
   "metadata": {},
   "outputs": [],
   "source": []
  },
  {
   "cell_type": "code",
   "execution_count": null,
   "id": "2a382bd6",
   "metadata": {},
   "outputs": [],
   "source": []
  },
  {
   "cell_type": "code",
   "execution_count": null,
   "id": "1d1c8110",
   "metadata": {},
   "outputs": [],
   "source": []
  },
  {
   "cell_type": "code",
   "execution_count": null,
   "id": "cb21330c",
   "metadata": {},
   "outputs": [],
   "source": []
  },
  {
   "cell_type": "code",
   "execution_count": null,
   "id": "144f24af",
   "metadata": {},
   "outputs": [],
   "source": []
  },
  {
   "cell_type": "code",
   "execution_count": null,
   "id": "626da8ca",
   "metadata": {},
   "outputs": [],
   "source": []
  },
  {
   "cell_type": "code",
   "execution_count": null,
   "id": "b3bcb337",
   "metadata": {},
   "outputs": [],
   "source": []
  },
  {
   "cell_type": "code",
   "execution_count": null,
   "id": "cafcf6bb",
   "metadata": {},
   "outputs": [],
   "source": []
  },
  {
   "cell_type": "code",
   "execution_count": null,
   "id": "4374c4be",
   "metadata": {},
   "outputs": [],
   "source": []
  },
  {
   "cell_type": "code",
   "execution_count": null,
   "id": "d518d840",
   "metadata": {},
   "outputs": [],
   "source": []
  },
  {
   "cell_type": "code",
   "execution_count": null,
   "id": "492173e2",
   "metadata": {},
   "outputs": [],
   "source": []
  },
  {
   "cell_type": "code",
   "execution_count": null,
   "id": "69ca94fa",
   "metadata": {},
   "outputs": [],
   "source": []
  },
  {
   "cell_type": "code",
   "execution_count": null,
   "id": "d42d0026",
   "metadata": {},
   "outputs": [],
   "source": []
  },
  {
   "cell_type": "code",
   "execution_count": null,
   "id": "03fb8beb",
   "metadata": {},
   "outputs": [],
   "source": []
  },
  {
   "cell_type": "code",
   "execution_count": null,
   "id": "144f434f",
   "metadata": {},
   "outputs": [],
   "source": []
  },
  {
   "cell_type": "code",
   "execution_count": null,
   "id": "7f9518be",
   "metadata": {},
   "outputs": [],
   "source": []
  },
  {
   "cell_type": "code",
   "execution_count": null,
   "id": "7bc68b43",
   "metadata": {},
   "outputs": [],
   "source": []
  },
  {
   "cell_type": "code",
   "execution_count": null,
   "id": "a99c4652",
   "metadata": {},
   "outputs": [],
   "source": []
  },
  {
   "cell_type": "code",
   "execution_count": null,
   "id": "587a2270",
   "metadata": {},
   "outputs": [],
   "source": []
  },
  {
   "cell_type": "code",
   "execution_count": null,
   "id": "34795f72",
   "metadata": {},
   "outputs": [],
   "source": []
  },
  {
   "cell_type": "code",
   "execution_count": null,
   "id": "10f57d11",
   "metadata": {},
   "outputs": [],
   "source": []
  },
  {
   "cell_type": "code",
   "execution_count": null,
   "id": "72111b80",
   "metadata": {},
   "outputs": [],
   "source": []
  },
  {
   "cell_type": "code",
   "execution_count": null,
   "id": "9966c8d4",
   "metadata": {},
   "outputs": [],
   "source": []
  },
  {
   "cell_type": "code",
   "execution_count": null,
   "id": "9209b694",
   "metadata": {},
   "outputs": [],
   "source": []
  },
  {
   "cell_type": "code",
   "execution_count": null,
   "id": "874330e7",
   "metadata": {},
   "outputs": [],
   "source": []
  },
  {
   "cell_type": "code",
   "execution_count": null,
   "id": "1459fe36",
   "metadata": {},
   "outputs": [],
   "source": []
  },
  {
   "cell_type": "code",
   "execution_count": null,
   "id": "d3091823",
   "metadata": {},
   "outputs": [],
   "source": []
  },
  {
   "cell_type": "code",
   "execution_count": null,
   "id": "febafa1a",
   "metadata": {},
   "outputs": [],
   "source": []
  },
  {
   "cell_type": "code",
   "execution_count": null,
   "id": "f2087aa4",
   "metadata": {},
   "outputs": [],
   "source": []
  },
  {
   "cell_type": "code",
   "execution_count": null,
   "id": "b264edba",
   "metadata": {},
   "outputs": [],
   "source": []
  },
  {
   "cell_type": "code",
   "execution_count": null,
   "id": "d66c78f3",
   "metadata": {},
   "outputs": [],
   "source": []
  },
  {
   "cell_type": "code",
   "execution_count": null,
   "id": "3b51265e",
   "metadata": {},
   "outputs": [],
   "source": []
  },
  {
   "cell_type": "code",
   "execution_count": null,
   "id": "cca2cb0f",
   "metadata": {},
   "outputs": [],
   "source": []
  },
  {
   "cell_type": "code",
   "execution_count": null,
   "id": "6153db63",
   "metadata": {},
   "outputs": [],
   "source": []
  },
  {
   "cell_type": "code",
   "execution_count": null,
   "id": "1e261f8c",
   "metadata": {},
   "outputs": [],
   "source": []
  },
  {
   "cell_type": "code",
   "execution_count": null,
   "id": "af828ece",
   "metadata": {},
   "outputs": [],
   "source": []
  },
  {
   "cell_type": "code",
   "execution_count": null,
   "id": "def31a13",
   "metadata": {},
   "outputs": [],
   "source": []
  },
  {
   "cell_type": "code",
   "execution_count": null,
   "id": "d2e398b0",
   "metadata": {},
   "outputs": [],
   "source": []
  },
  {
   "cell_type": "code",
   "execution_count": null,
   "id": "6c1c39d8",
   "metadata": {},
   "outputs": [],
   "source": []
  },
  {
   "cell_type": "code",
   "execution_count": null,
   "id": "683faf3a",
   "metadata": {},
   "outputs": [],
   "source": []
  },
  {
   "cell_type": "code",
   "execution_count": null,
   "id": "4de6f673",
   "metadata": {},
   "outputs": [],
   "source": []
  },
  {
   "cell_type": "code",
   "execution_count": null,
   "id": "fbeb7b99",
   "metadata": {},
   "outputs": [],
   "source": []
  },
  {
   "cell_type": "code",
   "execution_count": null,
   "id": "e08d3c4c",
   "metadata": {},
   "outputs": [],
   "source": []
  },
  {
   "cell_type": "code",
   "execution_count": null,
   "id": "c89b58b3",
   "metadata": {},
   "outputs": [],
   "source": []
  },
  {
   "cell_type": "code",
   "execution_count": null,
   "id": "e68f6716",
   "metadata": {},
   "outputs": [],
   "source": []
  },
  {
   "cell_type": "code",
   "execution_count": null,
   "id": "db77f45c",
   "metadata": {},
   "outputs": [],
   "source": []
  },
  {
   "cell_type": "code",
   "execution_count": null,
   "id": "955d52db",
   "metadata": {},
   "outputs": [],
   "source": []
  },
  {
   "cell_type": "code",
   "execution_count": null,
   "id": "103f5901",
   "metadata": {},
   "outputs": [],
   "source": []
  },
  {
   "cell_type": "code",
   "execution_count": null,
   "id": "a7b3c24a",
   "metadata": {},
   "outputs": [],
   "source": []
  },
  {
   "cell_type": "code",
   "execution_count": null,
   "id": "da17597c",
   "metadata": {},
   "outputs": [],
   "source": []
  },
  {
   "cell_type": "code",
   "execution_count": null,
   "id": "e6df37c5",
   "metadata": {},
   "outputs": [],
   "source": []
  },
  {
   "cell_type": "code",
   "execution_count": null,
   "id": "dcfc3b6b",
   "metadata": {},
   "outputs": [],
   "source": []
  },
  {
   "cell_type": "code",
   "execution_count": null,
   "id": "018f574f",
   "metadata": {},
   "outputs": [],
   "source": []
  },
  {
   "cell_type": "code",
   "execution_count": null,
   "id": "c89cedb0",
   "metadata": {},
   "outputs": [],
   "source": []
  },
  {
   "cell_type": "code",
   "execution_count": null,
   "id": "03a91eec",
   "metadata": {},
   "outputs": [],
   "source": []
  },
  {
   "cell_type": "code",
   "execution_count": null,
   "id": "529845d0",
   "metadata": {},
   "outputs": [],
   "source": []
  },
  {
   "cell_type": "code",
   "execution_count": null,
   "id": "aad3295d",
   "metadata": {},
   "outputs": [],
   "source": []
  },
  {
   "cell_type": "code",
   "execution_count": null,
   "id": "c759daca",
   "metadata": {},
   "outputs": [],
   "source": []
  },
  {
   "cell_type": "code",
   "execution_count": null,
   "id": "66a0cb8f",
   "metadata": {},
   "outputs": [],
   "source": []
  },
  {
   "cell_type": "code",
   "execution_count": null,
   "id": "5a400e44",
   "metadata": {},
   "outputs": [],
   "source": []
  },
  {
   "cell_type": "code",
   "execution_count": null,
   "id": "03aa1f68",
   "metadata": {},
   "outputs": [],
   "source": []
  },
  {
   "cell_type": "code",
   "execution_count": null,
   "id": "45241141",
   "metadata": {},
   "outputs": [],
   "source": []
  },
  {
   "cell_type": "code",
   "execution_count": null,
   "id": "49305980",
   "metadata": {},
   "outputs": [],
   "source": []
  },
  {
   "cell_type": "code",
   "execution_count": null,
   "id": "bc72315d",
   "metadata": {},
   "outputs": [],
   "source": []
  },
  {
   "cell_type": "code",
   "execution_count": null,
   "id": "7119ef0e",
   "metadata": {},
   "outputs": [],
   "source": []
  },
  {
   "cell_type": "code",
   "execution_count": null,
   "id": "af1adc12",
   "metadata": {},
   "outputs": [],
   "source": []
  },
  {
   "cell_type": "code",
   "execution_count": null,
   "id": "1e5d58f6",
   "metadata": {},
   "outputs": [],
   "source": []
  },
  {
   "cell_type": "code",
   "execution_count": null,
   "id": "f323ca44",
   "metadata": {},
   "outputs": [],
   "source": []
  },
  {
   "cell_type": "code",
   "execution_count": null,
   "id": "b450c384",
   "metadata": {},
   "outputs": [],
   "source": []
  },
  {
   "cell_type": "code",
   "execution_count": null,
   "id": "27c77109",
   "metadata": {},
   "outputs": [],
   "source": []
  },
  {
   "cell_type": "code",
   "execution_count": null,
   "id": "0371c54d",
   "metadata": {},
   "outputs": [],
   "source": []
  },
  {
   "cell_type": "code",
   "execution_count": null,
   "id": "62310992",
   "metadata": {},
   "outputs": [],
   "source": []
  },
  {
   "cell_type": "code",
   "execution_count": null,
   "id": "5fd60da9",
   "metadata": {},
   "outputs": [],
   "source": []
  },
  {
   "cell_type": "code",
   "execution_count": null,
   "id": "a1767ac6",
   "metadata": {},
   "outputs": [],
   "source": []
  },
  {
   "cell_type": "code",
   "execution_count": null,
   "id": "fb48e792",
   "metadata": {},
   "outputs": [],
   "source": []
  }
 ],
 "metadata": {
  "kernelspec": {
   "display_name": "Python 3",
   "language": "python",
   "name": "python3"
  },
  "language_info": {
   "codemirror_mode": {
    "name": "ipython",
    "version": 3
   },
   "file_extension": ".py",
   "mimetype": "text/x-python",
   "name": "python",
   "nbconvert_exporter": "python",
   "pygments_lexer": "ipython3",
   "version": "3.8.1"
  }
 },
 "nbformat": 4,
 "nbformat_minor": 5
}
