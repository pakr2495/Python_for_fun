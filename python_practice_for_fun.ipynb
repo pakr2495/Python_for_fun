{
 "cells": [
  {
   "cell_type": "code",
   "execution_count": 44,
   "id": "af937f34",
   "metadata": {},
   "outputs": [
    {
     "data": {
      "text/plain": [
       "4.0"
      ]
     },
     "execution_count": 44,
     "metadata": {},
     "output_type": "execute_result"
    }
   ],
   "source": [
    "16**0.5 #square root with out using math module"
   ]
  },
  {
   "cell_type": "code",
   "execution_count": 11,
   "id": "c6783487",
   "metadata": {},
   "outputs": [
    {
     "name": "stdout",
     "output_type": "stream",
     "text": [
      "[]\n",
      "[1]\n"
     ]
    },
    {
     "data": {
      "text/plain": [
       "[1, 2]"
      ]
     },
     "execution_count": 11,
     "metadata": {},
     "output_type": "execute_result"
    }
   ],
   "source": [
    "#mutable list behaviour for default value in function parameter\n",
    "def test(num,li=[]):\n",
    "    print(li)\n",
    "    li.append(num)\n",
    "    return li\n",
    "\n",
    "test(1)\n",
    "test(2)"
   ]
  },
  {
   "cell_type": "code",
   "execution_count": 6,
   "id": "be086a30",
   "metadata": {},
   "outputs": [
    {
     "name": "stdout",
     "output_type": "stream",
     "text": [
      "before operation\n",
      "5\n",
      "after operation\n"
     ]
    }
   ],
   "source": [
    "#Decorator\n",
    "def dec(f):\n",
    "    def innerfunc(a,b):\n",
    "        print(\"before operation\")\n",
    "        ans=f(a,b)\n",
    "        print (\"after operation\")\n",
    "        return ans\n",
    "    return innerfunc\n",
    "\n",
    "@dec\n",
    "def add(a,b):\n",
    "    print(a+b)\n",
    "\n",
    "add(2,3)"
   ]
  },
  {
   "cell_type": "code",
   "execution_count": 14,
   "id": "3358726a",
   "metadata": {},
   "outputs": [
    {
     "name": "stdout",
     "output_type": "stream",
     "text": [
      "0 111\n",
      "1 121\n",
      "2 131\n",
      "3 141\n",
      "4 151\n",
      "5 161\n",
      "6 171\n",
      "7 181\n",
      "8 191\n",
      "9 101\n"
     ]
    }
   ],
   "source": [
    "#enumerate example\n",
    "\n",
    "li = [111,121,131,141,151,161,171,181,191,101]\n",
    "for index,values in enumerate(li):\n",
    "    print(index,values)"
   ]
  },
  {
   "cell_type": "code",
   "execution_count": 17,
   "id": "44fbd252",
   "metadata": {},
   "outputs": [
    {
     "name": "stdout",
     "output_type": "stream",
     "text": [
      "frozenset({161, 131, 101, 'c', 171, 'b', 141, 111, 181, 'a', 151, 121, 191})\n",
      "frozenset()\n",
      "True\n"
     ]
    }
   ],
   "source": [
    "#frozen set - immutable set\n",
    "li = [111,121,131,141,151,161,171,181,191,101]\n",
    "dic = {'a': 1 , 'b': 2 , 'c': 3}\n",
    "li_forzen = frozenset(li)\n",
    "dic_forzen = frozenset(dic)\n",
    "print(li_forzen.union(dic_forzen))\n",
    "print(li_forzen.intersection(dic_forzen))\n",
    "print(li_forzen.isdisjoint(dic_forzen))"
   ]
  },
  {
   "cell_type": "code",
   "execution_count": 22,
   "id": "fcf3768c",
   "metadata": {
    "scrolled": true
   },
   "outputs": [
    {
     "name": "stdout",
     "output_type": "stream",
     "text": [
      "121\n",
      "131\n",
      "141\n",
      "151\n",
      "161\n",
      "171\n",
      "181\n",
      "191\n",
      "101\n",
      "[121, 131, 141, 151, 161, 171, 181, 191, 101]\n"
     ]
    }
   ],
   "source": [
    "#iter object ,yield, generator object\n",
    "li = [111,121,131,141,151,161,171,181,191,101]\n",
    "\n",
    "li_iter = iter(li)\n",
    "next(li_iter)\n",
    "for i in li_iter :\n",
    "    print(i)\n",
    "\n",
    "def genfunc():\n",
    "    for i in li :\n",
    "        yield i\n",
    "gen_object = genfunc()\n",
    "next(gen_object)\n",
    "print(list(gen_object))"
   ]
  },
  {
   "cell_type": "code",
   "execution_count": 3,
   "id": "ae53deb1",
   "metadata": {},
   "outputs": [
    {
     "name": "stdout",
     "output_type": "stream",
     "text": [
      "5\n",
      "5\n",
      "5\n",
      "5\n",
      "5\n",
      "5\n",
      "5\n",
      "5\n",
      "5\n",
      "5\n",
      "6\n",
      "6\n",
      "6\n",
      "6\n",
      "6\n",
      "6\n",
      "6\n",
      "6\n",
      "6\n",
      "6\n",
      "Background Processmain therad completed\n",
      "Background Process\n",
      "Background Process\n",
      "Background Process\n",
      "Background Process\n",
      "Background Process\n",
      "Background Process\n",
      "Background Process\n",
      "Background Process\n",
      "Background Process\n",
      "\n"
     ]
    }
   ],
   "source": [
    "#threading - daemon thread and non daemon thread\n",
    "#daemon thread - background process , will terminate when main thread is terminated\n",
    "from threading import Thread\n",
    "import threading\n",
    "th = threading.Lock() \n",
    "\n",
    "\n",
    "def add (num1,num2):\n",
    "    th.acquire() #locking the resource\n",
    "    for _ in range(10):\n",
    "        print(num1+num2)\n",
    "    th.release()\n",
    "\n",
    "def mul(num2,num3):\n",
    "    th.acquire()\n",
    "    for _ in range(10):\n",
    "        print(num2*num3)\n",
    "    th.release()\n",
    "\n",
    "def ex_demon():\n",
    "    th.acquire()\n",
    "    for i in range(10):\n",
    "        print(\"Background Process\")\n",
    "    th.release()\n",
    "\n",
    "t1 = Thread(target=add, args=(2,3))\n",
    "t2 = Thread(target=mul, args=(2,3))\n",
    "t3 = Thread(target=ex_demon)\n",
    "t1.setName = 'first thread'\n",
    "t3.setDaemon(True)\n",
    "t1.start()\n",
    "t2.start()\n",
    "t3.start()\n",
    "\n",
    "t1.join()\n",
    "t2.join()\n",
    "#th.acquire()\n",
    "print('main therad completed')\n",
    "#th.release()"
   ]
  },
  {
   "cell_type": "code",
   "execution_count": 10,
   "id": "5d95c390",
   "metadata": {},
   "outputs": [
    {
     "name": "stdout",
     "output_type": "stream",
     "text": [
      "pr1 8064\n",
      "pr2 9804\n",
      "main process id29532\n",
      "done\n",
      "__main__\n"
     ]
    }
   ],
   "source": [
    "#multiprocessing\n",
    "import multiprocessing\n",
    "import os\n",
    "\n",
    "def p1():\n",
    "    print('p1 id',os.getpid())\n",
    "\n",
    "def p2():\n",
    "    print('p2 id',os.getpid())\n",
    "\n",
    "if __name__ == \"__main__\":\n",
    "\n",
    "    pr1 = multiprocessing.Process(target=p1)\n",
    "    pr2 = multiprocessing.Process(target=p2)\n",
    "\n",
    "    pr1.start()\n",
    "    pr2.start()\n",
    "\n",
    "    print('pr1',pr1.pid)\n",
    "    print('pr2',pr2.pid)\n",
    "\n",
    "    pr1.join()\n",
    "    pr2.join()\n",
    "\n",
    "    print('main process id'+ str(os.getpid()))\n",
    "    print('done')"
   ]
  },
  {
   "cell_type": "code",
   "execution_count": 47,
   "id": "6356b722",
   "metadata": {},
   "outputs": [
    {
     "name": "stdout",
     "output_type": "stream",
     "text": [
      "25\n"
     ]
    }
   ],
   "source": [
    "#global keyword\n",
    "\n",
    "num = 5\n",
    "def test():\n",
    "    global num\n",
    "    num = num * 5\n",
    "    print(num)\n",
    "test()"
   ]
  },
  {
   "cell_type": "code",
   "execution_count": 54,
   "id": "cb21e2fd",
   "metadata": {
    "scrolled": true
   },
   "outputs": [
    {
     "name": "stdout",
     "output_type": "stream",
     "text": [
      "0\n",
      "1\n",
      "2\n",
      "3\n",
      "4\n",
      "5\n",
      "6\n",
      "7\n",
      "8\n",
      "9\n",
      "done printing\n"
     ]
    }
   ],
   "source": [
    "# else block in for loop\n",
    "for i in range(10):\n",
    "    print(i)\n",
    "else:\n",
    "    print('done printing')"
   ]
  },
  {
   "cell_type": "code",
   "execution_count": 50,
   "id": "0b6a1243",
   "metadata": {},
   "outputs": [
    {
     "data": {
      "text/plain": [
       "6"
      ]
     },
     "execution_count": 50,
     "metadata": {},
     "output_type": "execute_result"
    }
   ],
   "source": [
    "# special meaning of _ \n",
    "a = 2\n",
    "b = 4\n",
    "a+b"
   ]
  },
  {
   "cell_type": "code",
   "execution_count": 51,
   "id": "87780dc1",
   "metadata": {},
   "outputs": [
    {
     "name": "stdout",
     "output_type": "stream",
     "text": [
      "6\n"
     ]
    }
   ],
   "source": [
    "print(_) # previous value from command"
   ]
  },
  {
   "cell_type": "code",
   "execution_count": 53,
   "id": "9af733a7",
   "metadata": {},
   "outputs": [
    {
     "name": "stdout",
     "output_type": "stream",
     "text": [
      "2\n",
      "4\n",
      "6\n",
      "8\n"
     ]
    }
   ],
   "source": [
    "# _ in for loop\n",
    "for _ in range(2,10,2):\n",
    "    print(_)"
   ]
  },
  {
   "cell_type": "code",
   "execution_count": 61,
   "id": "d7a66325",
   "metadata": {},
   "outputs": [
    {
     "name": "stdout",
     "output_type": "stream",
     "text": [
      "try block\n",
      "except block\n",
      "finally block\n"
     ]
    }
   ],
   "source": [
    "#try,except,else,finally - finally block should be at last , else block will execute if there is no exeception\n",
    "try:\n",
    "    print('try block')\n",
    "    #printsdasd\n",
    "except:\n",
    "    print('except block')\n",
    "else:\n",
    "    print('else block')\n",
    "finally:\n",
    "    print('finally block')\n",
    "\n",
    "    "
   ]
  },
  {
   "cell_type": "code",
   "execution_count": 62,
   "id": "49ed246b",
   "metadata": {},
   "outputs": [
    {
     "name": "stdout",
     "output_type": "stream",
     "text": [
      "True\n"
     ]
    }
   ],
   "source": [
    "#palindrome check\n",
    "inp_str = 'malayalam'\n",
    "\n",
    "print(inp_str == inp_str[::-1])"
   ]
  },
  {
   "cell_type": "code",
   "execution_count": 67,
   "id": "d0eea2b0",
   "metadata": {},
   "outputs": [
    {
     "name": "stdout",
     "output_type": "stream",
     "text": [
      "31\n",
      "42\n"
     ]
    },
    {
     "data": {
      "text/plain": [
       "3"
      ]
     },
     "execution_count": 67,
     "metadata": {},
     "output_type": "execute_result"
    }
   ],
   "source": [
    "# eval if string contains int , eval function will conisder as int and evaluvate\n",
    "a = eval(input(a))\n",
    "b = eval(input(b))\n",
    "a+b"
   ]
  },
  {
   "cell_type": "code",
   "execution_count": 71,
   "id": "dc60842d",
   "metadata": {},
   "outputs": [
    {
     "data": {
      "text/plain": [
       "60"
      ]
     },
     "execution_count": 71,
     "metadata": {},
     "output_type": "execute_result"
    }
   ],
   "source": [
    "# lambda expression\n",
    "a = lambda a,b,c : a*b*c\n",
    "a(1,2,3)\n",
    "\n",
    "def test(a,b):\n",
    "    c =a*b\n",
    "    return lambda :c*10\n",
    "test(2,3)()"
   ]
  },
  {
   "cell_type": "code",
   "execution_count": 76,
   "id": "2a186c3c",
   "metadata": {},
   "outputs": [
    {
     "name": "stdout",
     "output_type": "stream",
     "text": [
      "[4, 8, 12, 16, 20, 24, 32, 36]\n",
      "{'a': 4, 'b': 8, 'c': 12}\n"
     ]
    },
    {
     "data": {
      "text/plain": [
       "(2, 4, 6, 8)"
      ]
     },
     "execution_count": 76,
     "metadata": {},
     "output_type": "execute_result"
    }
   ],
   "source": [
    "#list comprehension ,dict comprehension,tuple comprehension\n",
    "li = [2,4,6,8,10,12,16,18]\n",
    "li_comp = [i*2 for i in li if i%2 == 0]\n",
    "li_comp\n",
    "dict_ex = {'a':2 , 'b': 4 , 'c': 6}\n",
    "dict_comp = {key:(value*2) for key,value in dict_ex.items()}\n",
    "print(li_comp)\n",
    "print(dict_comp)\n",
    "tup = (1,2,3,4,5,6,7,8)\n",
    "tup_comp = tuple((i for i in tup if i %2 == 0))\n",
    "tup_comp"
   ]
  },
  {
   "cell_type": "code",
   "execution_count": 77,
   "id": "e52bfa3e",
   "metadata": {},
   "outputs": [
    {
     "data": {
      "text/plain": [
       "tuple"
      ]
     },
     "execution_count": 77,
     "metadata": {},
     "output_type": "execute_result"
    }
   ],
   "source": [
    "a = 2,4,6,8, #tuple\n",
    "type(a)"
   ]
  },
  {
   "cell_type": "code",
   "execution_count": 78,
   "id": "6fae6aaf",
   "metadata": {},
   "outputs": [
    {
     "data": {
      "text/plain": [
       "[(1, 4), (2, 5), (3, 6), (4, 7)]"
      ]
     },
     "execution_count": 78,
     "metadata": {},
     "output_type": "execute_result"
    }
   ],
   "source": [
    "#zip function\n",
    "li1 = [1,2,3,4]\n",
    "li2 = [4,5,6,7]\n",
    "list(zip(li1,li2))"
   ]
  },
  {
   "cell_type": "code",
   "execution_count": 83,
   "id": "0db32390",
   "metadata": {},
   "outputs": [
    {
     "data": {
      "text/plain": [
       "[8, 16, 24, 28, 32]"
      ]
     },
     "execution_count": 83,
     "metadata": {},
     "output_type": "execute_result"
    }
   ],
   "source": [
    "#map\n",
    "li = [2,4,6,7,8]\n",
    "a = map(lambda i : i*4 ,li)\n",
    "list(a)"
   ]
  },
  {
   "cell_type": "code",
   "execution_count": 85,
   "id": "26482a9d",
   "metadata": {},
   "outputs": [
    {
     "data": {
      "text/plain": [
       "[2, 4, 6, 8, 10, 2, 4, 6, 8]"
      ]
     },
     "execution_count": 85,
     "metadata": {},
     "output_type": "execute_result"
    }
   ],
   "source": [
    "#filter(func,iterator) the function is executed on each element of the list\n",
    "# when function is defined\n",
    "#(element for element in iterable if function(element))\n",
    "\n",
    "# when function is None\n",
    "#(element for element in iterable if element)\n",
    "\n",
    "li = [1,2,3,4,5,6,7,8,9,10,2,3,4,5,6,7,8,9]\n",
    "\n",
    "def check_for_even(num):\n",
    "    if num%2 == 0:\n",
    "        return True\n",
    "    else:\n",
    "        return False\n",
    "final_li = filter(check_for_even,li)\n",
    "list(final_li)\n",
    "     "
   ]
  },
  {
   "cell_type": "code",
   "execution_count": 2,
   "id": "317e70d5",
   "metadata": {
    "scrolled": true
   },
   "outputs": [
    {
     "name": "stdout",
     "output_type": "stream",
     "text": [
      "nt\n",
      "os.stat_result(st_mode=16895, st_ino=19984723346456669, st_dev=1954377445, st_nlink=1, st_uid=0, st_gid=0, st_size=4096, st_atime=1621749078, st_mtime=1621707974, st_ctime=1620812369)\n"
     ]
    },
    {
     "data": {
      "text/plain": [
       "1"
      ]
     },
     "execution_count": 2,
     "metadata": {},
     "output_type": "execute_result"
    }
   ],
   "source": [
    "# Os module\n",
    "import os\n",
    "\n",
    "print(os.name) # name of os\n",
    "\n",
    "#print(os.environ) # reading the environment variable,returns dict\n",
    "\n",
    "#os.mkdir('test') # create directory\n",
    "\n",
    "#os.mkdir(r'./test/test') # create directory\n",
    "\n",
    "#print(os.getcwd())# current working directory\n",
    "\n",
    "#print(os.path.exists('test')) # check for path\n",
    "\n",
    "#print(os.path.abspath('test')) # abosolute url\n",
    "\n",
    "#print(list(os.walk('test')))  \n",
    "\n",
    "#print(os.path.isfile('test')) # check whether file or not\n",
    "\n",
    "#print(os.path.isdir('test')) #  check whether directory or not\n",
    "\n",
    "#os.rmdir('test') # remove directory\n",
    "\n",
    "os.chdir(\"d:\\\\\")  # change dir\n",
    "\n",
    "print(os.stat('test')) # gives information about folder or file , returns tuple\n",
    "\n",
    "fd = os.popen('test.txt','w') # same like open , opens the file with specified mode\n",
    "\n",
    "fd.write('testing')\n",
    "\n",
    "fd.close()\n",
    "\n",
    "#traverse all the files and folders in side the specified directory\n",
    "#for (root,dirs,files) in os.walk('Test', topdown=True):\n",
    "        #print (root)\n",
    "        #print (dirs)\n",
    "        #print (files)\n",
    "        #print ('--------------------------------')\n"
   ]
  },
  {
   "cell_type": "code",
   "execution_count": 55,
   "id": "3b1897cd",
   "metadata": {},
   "outputs": [],
   "source": [
    "# class oops concept\n",
    "class car:\n",
    "    defualt_name = 'Benz' # class parameter\n",
    "    def __init__(self,carname,carcolour):\n",
    "        self.car_name = carname\n",
    "        self.car_colour = carcolour\n",
    "        \n",
    "    def __str__(self): #usage of __str__ method\n",
    "        return 'Name of the car: {} \\n Car colour is {}'.format(self.car_name,self.car_colour)\n",
    "    \n",
    "        def __repr__(self): #usage of __repr__ method\n",
    "        return 'Name of the car: {} \\n Car colour is {}'.format(self.car_name,self.car_colour)\n",
    "    \n",
    "    \n",
    "\n",
    "    def display(self):\n",
    "        print(self.car_name,self.car_colour)\n",
    "    \n",
    "    @classmethod\n",
    "    def classmethod_ex(cls):\n",
    "        cls.car_name = 'BMW'\n",
    "        print('I am class method')\n",
    "        \n",
    "    @staticmethod\n",
    "    def staticmethod():\n",
    "        print('I am static method')\n",
    "        \n",
    "    def __add__(obj1,obj2): # operator overloading\n",
    "        return 'I have 2 cars . Name of the car are {} and {}'.format(obj1.car_name,obj2.car_name)"
   ]
  },
  {
   "cell_type": "code",
   "execution_count": null,
   "id": "5295ec65",
   "metadata": {},
   "outputs": [],
   "source": [
    "class engine(car):\n",
    "    def __init__(self,engine,carname,carcolour):\n",
    "        self.engine = engine\n",
    "        super().__init__(carname,carcolour) # super keyword usage\n",
    "    def display(self): #method overriding\n",
    "        print(self.car_name,self.car_colour,self.engine)"
   ]
  },
  {
   "cell_type": "code",
   "execution_count": 58,
   "id": "bb4d4ef1",
   "metadata": {},
   "outputs": [
    {
     "name": "stdout",
     "output_type": "stream",
     "text": [
      "Audi Red\n",
      "Red Audi Engine Audi\n",
      "Audi Red\n",
      "Bmw Red\n",
      "Red Audi Engine Audi\n"
     ]
    }
   ],
   "source": [
    "car_obj1 = car('Audi','Red')\n",
    "car_obj2 = car('Bmw','Red')\n",
    "eng_obj1 = engine('Audi','Red','Audi Engine') \n",
    "car_obj1.display()\n",
    "eng_obj1.display() #method overriding\n",
    "car_obj1 + car_obj2 #operator overloading\n",
    "car_obj1.staticmethod() #staticmethod\n",
    "car.classmethod_ex() #classmethod\n",
    "li_obj = [car_obj1,car_obj2,eng_obj1]\n",
    "\n",
    "for i in li_obj:\n",
    "    i.display() #polymorphism"
   ]
  },
  {
   "cell_type": "code",
   "execution_count": 68,
   "id": "0f06eff2",
   "metadata": {},
   "outputs": [
    {
     "name": "stdout",
     "output_type": "stream",
     "text": [
      "child class\n"
     ]
    }
   ],
   "source": [
    "#Abstract Class - It is a class which contains one or mobe abstract method . Abstract method contains only function defination . Implementation has to be done in child class.\n",
    "\n",
    "#Can't instantiate abstract class test with abstract methods display\n",
    "\n",
    "from abc import ABC,abstractmethod\n",
    "\n",
    "class test(ABC):\n",
    "    @abstractmethod\n",
    "    def display(self):\n",
    "        pass\n",
    "class test1(test):\n",
    "    def display(self):\n",
    "        print('child class')\n",
    "           \n",
    "\n",
    "obj = test1()\n",
    "\n",
    "obj.display()"
   ]
  },
  {
   "cell_type": "code",
   "execution_count": 66,
   "id": "ec6f3b26",
   "metadata": {},
   "outputs": [
    {
     "data": {
      "text/plain": [
       "'Instance is called via special method'"
      ]
     },
     "execution_count": 66,
     "metadata": {},
     "output_type": "execute_result"
    }
   ],
   "source": [
    "# special method __call__\n",
    "\n",
    "class test:\n",
    "    def __call__(self):\n",
    "        return 'Instance is called via special method'\n",
    "    \n",
    "t = test()\n",
    "t()"
   ]
  },
  {
   "cell_type": "code",
   "execution_count": 77,
   "id": "b472bee5",
   "metadata": {},
   "outputs": [
    {
     "name": "stdout",
     "output_type": "stream",
     "text": [
      "10\n",
      "20\n"
     ]
    }
   ],
   "source": [
    "# protected and private varaible . '_variableName'-protected member , '__variableName' - private member\n",
    "\n",
    "class test:\n",
    "    _a = 10\n",
    "    __b = 20\n",
    "    def display(self):\n",
    "        print(self._a)\n",
    "        print(self.__b)\n",
    "        \n",
    "class test1(test):\n",
    "    def display(self):\n",
    "        print(self._a)\n",
    "        print(self.__b)\n",
    "    \n",
    "t = test()\n",
    "t1 = test1()\n",
    "t.display()\n",
    "#t1.display()\n",
    "#print(t1.__b)\n"
   ]
  },
  {
   "cell_type": "code",
   "execution_count": 124,
   "id": "4d75158c",
   "metadata": {},
   "outputs": [
    {
     "data": {
      "text/plain": [
       "['sd', 'fs', 'fs', 'df', 'sd', '@#', '$']"
      ]
     },
     "execution_count": 124,
     "metadata": {},
     "output_type": "execute_result"
    }
   ],
   "source": [
    "# re - findall , search , match ,sub,split,compile\n",
    "# matchobject - group(),span(),start(),end(),string\n",
    "#https://www.programiz.com/python-programming/regex\n",
    "\n",
    "\n",
    "import re\n",
    "\n",
    "#print(re.findall('[hello]{1,2}o','helloworld helloon sdasdas hellobye lo'))\n",
    "#print(re.match('[hello]{1,2}o','hoelloworld helloon sdasdas hellobye lo'))\n",
    "#match_obj = re.search('[hello]{1,2}o','helloworld helloon sdasdas hellobye lo')\n",
    "#print(match_obj.string)\n",
    "#print(match_obj.group())\n",
    "#print(match_obj.span())\n",
    "#print(match_obj.start())\n",
    "#print(match_obj.end())\n",
    "#res = re.sub('[hello]{1,2}o','pk','helloworld helloon sdasdas hellobye lo')\n",
    "#print(res)\n",
    "#res = re.split('\\s','helloworld helloon sdasdas hellobye lo')\n",
    "#res\n",
    "\n",
    "#------------------------------------------------------------------------\n",
    "#(){}.[]+|\\?^$*\n",
    "#\\s - Spaces\n",
    "#\\d - Digit\n",
    "#\\D - Non digit\n",
    "#\\S - Non Space\n",
    "#\\A - Beginning of the string\n",
    "#\\b - Beginning or end of a word \n",
    "#\\B - Not at the beginning or end of a word \n",
    "#\\w - alpha numeric character with _\n",
    "#\\W - Non alpha numeric(speical character)\n",
    "#\\Z - word at the end ex python\\Z matches specified character at the end\n",
    "re.findall('(9){1,2}','9999')\n",
    "re.findall('[he]{1,2}','eehesasadheheczxcxzhe')\n",
    "re.findall(r'\\n','sfsdfsd\\nfdsfdsf\\n')\n",
    "re.findall('^[a-zA-Z0-9_\\-]+@[a-z_\\-]{3,10}\\.[a-z]{1,3}$','pavan-krishna1995@_gmail.in')\n",
    "re.findall('\\d{1,2}','9999')\n",
    "re.findall('\\D{1,2}','99993sdfsfsdfsd@#$')\n",
    "\n",
    "\n"
   ]
  },
  {
   "cell_type": "code",
   "execution_count": 129,
   "id": "4505b090",
   "metadata": {},
   "outputs": [
    {
     "name": "stdout",
     "output_type": "stream",
     "text": [
      "{'Date': 'Sun, 23 May 2021 15:20:23 GMT', 'Expires': '-1', 'Cache-Control': 'private, max-age=0', 'Content-Type': 'text/html; charset=ISO-8859-1', 'P3P': 'CP=\"This is not a P3P policy! See g.co/p3phelp for more info.\"', 'Content-Encoding': 'gzip', 'Server': 'gws', 'X-XSS-Protection': '0', 'X-Frame-Options': 'SAMEORIGIN', 'Set-Cookie': '1P_JAR=2021-05-23-15; expires=Tue, 22-Jun-2021 15:20:23 GMT; path=/; domain=.google.com; Secure, NID=216=WwuzcdRhBDLbMqIAwaJFq8ZAzT2RASTqm5jlvQZZKatJJPBnQIV9fRdpkiKOSNiezQQjiRAkoDolqxYYR3OpWge_0a-no4Pq0fbZ90WLRokXugbZI-Q9_augvRFqpBfbgQTIcK_6vdd-8dS2VTL6Ws9FzHiwD-qapWYr2HE6eXc; expires=Mon, 22-Nov-2021 15:20:23 GMT; path=/; domain=.google.com; HttpOnly', 'Alt-Svc': 'h3-29=\":443\"; ma=2592000,h3-T051=\":443\"; ma=2592000,h3-Q050=\":443\"; ma=2592000,h3-Q046=\":443\"; ma=2592000,h3-Q043=\":443\"; ma=2592000,quic=\":443\"; ma=2592000; v=\"46,43\"', 'Transfer-Encoding': 'chunked'}\n"
     ]
    }
   ],
   "source": [
    "#making get and post call\n",
    "\n",
    "import requests\n",
    "from requests.auth import HTTPBasicAuth\n",
    "import json\n",
    "\n",
    "data = {\n",
    "    'a':123\n",
    "}\n",
    "data_json = json.dumps(data)\n",
    "headers ={\n",
    "    'Content-Type':'application/json'\n",
    "}\n",
    "#res = requests.post('https://google.com',headers=headers,data=data,auth=HTTPBasicAuth('user','pwd'))\n",
    "res = requests.get('https://google.com') #withoutauth\n",
    "#res = requests.get('https://google.com',auth=HTTPBasicAuth('user','pwd'))#with auth\n",
    "#print(res.cookies)\n",
    "#print(res.text)\n",
    "print(res.headers)\n"
   ]
  },
  {
   "cell_type": "code",
   "execution_count": null,
   "id": "11973b96",
   "metadata": {},
   "outputs": [],
   "source": [
    "########SQL ALCHEMY############"
   ]
  },
  {
   "cell_type": "code",
   "execution_count": 1,
   "id": "0bd4d75f",
   "metadata": {},
   "outputs": [],
   "source": [
    "import sqlalchemy"
   ]
  },
  {
   "cell_type": "code",
   "execution_count": 12,
   "id": "15f2176b",
   "metadata": {},
   "outputs": [
    {
     "data": {
      "text/plain": [
       "'1.4.16'"
      ]
     },
     "execution_count": 12,
     "metadata": {},
     "output_type": "execute_result"
    }
   ],
   "source": [
    "sqlalchemy.__version__ # check for drivers installed or not"
   ]
  },
  {
   "cell_type": "code",
   "execution_count": 1,
   "id": "a3c5dc2f",
   "metadata": {},
   "outputs": [],
   "source": [
    "from sqlalchemy import create_engine, MetaData, Table, Column, Integer, String\n",
    "engine = create_engine('sqlite:///college.db',echo=True) # creating engine , echo = true for logging , returns engine object\n",
    "#dir(engine)\n",
    "#engine.driver"
   ]
  },
  {
   "cell_type": "code",
   "execution_count": 2,
   "id": "17ebd21f",
   "metadata": {},
   "outputs": [
    {
     "name": "stdout",
     "output_type": "stream",
     "text": [
      "2021-06-02 00:00:50,543 INFO sqlalchemy.engine.Engine BEGIN (implicit)\n",
      "2021-06-02 00:00:50,548 INFO sqlalchemy.engine.Engine PRAGMA main.table_info(\"studs\")\n",
      "2021-06-02 00:00:50,549 INFO sqlalchemy.engine.Engine [raw sql] ()\n",
      "2021-06-02 00:00:50,549 INFO sqlalchemy.engine.Engine PRAGMA temp.table_info(\"studs\")\n",
      "2021-06-02 00:00:50,550 INFO sqlalchemy.engine.Engine [raw sql] ()\n",
      "2021-06-02 00:00:50,551 INFO sqlalchemy.engine.Engine \n",
      "CREATE TABLE studs (\n",
      "\tid INTEGER NOT NULL, \n",
      "\tname VARCHAR, \n",
      "\tlastname VARCHAR, \n",
      "\tPRIMARY KEY (id)\n",
      ")\n",
      "\n",
      "\n",
      "2021-06-02 00:00:50,551 INFO sqlalchemy.engine.Engine [no key 0.00039s] ()\n",
      "2021-06-02 00:00:50,577 INFO sqlalchemy.engine.Engine COMMIT\n"
     ]
    }
   ],
   "source": [
    "\n",
    "meta = MetaData() # needed for creating tables in SQl . It holds a collection of Table objects as well as an optional binding to an Engine or Connection.\n",
    "studs = Table(\n",
    "   'studs',\n",
    "    meta,\n",
    "    Column('id',Integer,primary_key=True),\n",
    "    Column('name',String),\n",
    "    Column('lastname',String),\n",
    "    ) #table creation\n",
    "meta.create_all(engine) #creates all the tables in meta object in particular DB"
   ]
  },
  {
   "cell_type": "code",
   "execution_count": 3,
   "id": "946bddd7",
   "metadata": {},
   "outputs": [
    {
     "name": "stdout",
     "output_type": "stream",
     "text": [
      "2021-06-02 00:00:57,542 INFO sqlalchemy.engine.Engine INSERT INTO studs (name, lastname) VALUES (?, ?)\n",
      "2021-06-02 00:00:57,544 INFO sqlalchemy.engine.Engine [generated in 0.00173s] ('Ravi', 'Kapoor')\n",
      "2021-06-02 00:00:57,547 INFO sqlalchemy.engine.Engine COMMIT\n",
      "2021-06-02 00:00:57,568 INFO sqlalchemy.engine.Engine INSERT INTO studs (name, lastname) VALUES (?, ?)\n",
      "2021-06-02 00:00:57,569 INFO sqlalchemy.engine.Engine [cached since 0.02686s ago] ('Pavan', 'Krishna')\n",
      "2021-06-02 00:00:57,571 INFO sqlalchemy.engine.Engine COMMIT\n"
     ]
    },
    {
     "data": {
      "text/plain": [
       "<sqlalchemy.engine.cursor.LegacyCursorResult at 0x687de08>"
      ]
     },
     "execution_count": 3,
     "metadata": {},
     "output_type": "execute_result"
    }
   ],
   "source": [
    "\n",
    "ins = studs.insert().values(name = 'Ravi', lastname = 'Kapoor')\n",
    "ins1 = studs.insert().values(name = 'Pavan', lastname = 'Krishna')#insert operation\n",
    "conn = engine.connect() # Before performing operation first need to connect to DB\n",
    "conn.execute(ins)\n",
    "conn.execute(ins1) # execute insert command"
   ]
  },
  {
   "cell_type": "code",
   "execution_count": 5,
   "id": "20b92210",
   "metadata": {},
   "outputs": [
    {
     "name": "stdout",
     "output_type": "stream",
     "text": [
      "2021-06-02 00:01:23,628 INFO sqlalchemy.engine.Engine SELECT studs.id, studs.name, studs.lastname \n",
      "FROM studs\n",
      "2021-06-02 00:01:23,629 INFO sqlalchemy.engine.Engine [cached since 20.59s ago] ()\n",
      "(1, 'Ravi', 'Kapoor')\n",
      "(2, 'Pavan', 'Krishna')\n"
     ]
    }
   ],
   "source": [
    "sel = studs.select()# select operation\n",
    "res = conn.execute(sel) # returns cursor object\n",
    "studs_res = res.fetchone()\n",
    "studs_res = res.fetchall() # fetching the data\n",
    "\n",
    "for res in studs_res:\n",
    "    print(res)"
   ]
  },
  {
   "cell_type": "code",
   "execution_count": 10,
   "id": "86920c3b",
   "metadata": {},
   "outputs": [
    {
     "name": "stdout",
     "output_type": "stream",
     "text": [
      "2021-06-02 00:11:51,037 INFO sqlalchemy.engine.Engine SELECT studs.id, studs.name, studs.lastname \n",
      "FROM studs \n",
      "WHERE studs.lastname = ?\n",
      "2021-06-02 00:11:51,038 INFO sqlalchemy.engine.Engine [generated in 0.00123s] ('Krishna',)\n",
      "(2, 'Pavan', 'Krishna')\n"
     ]
    }
   ],
   "source": [
    "sel = studs.select().where(studs.c.lastname=='Krishna')# select operation with where caluse\n",
    "res = conn.execute(sel) # returns cursor object\n",
    "studs_res = res.fetchall() # fetching the data\n",
    "\n",
    "for res in studs_res:\n",
    "    print(res)"
   ]
  },
  {
   "cell_type": "code",
   "execution_count": 13,
   "id": "b6a39558",
   "metadata": {},
   "outputs": [
    {
     "name": "stdout",
     "output_type": "stream",
     "text": [
      "2021-06-02 00:16:56,208 INFO sqlalchemy.engine.Engine SELECT * FROM studs\n",
      "2021-06-02 00:16:56,209 INFO sqlalchemy.engine.Engine [cached since 17.62s ago] ()\n",
      "(1, 'Ravi', 'Kapoor')\n",
      "(2, 'Pavan', 'Krishna')\n"
     ]
    }
   ],
   "source": [
    "from sqlalchemy import text #another way of using select statement\n",
    "t = text(\"SELECT * FROM studs\")\n",
    "result = conn.execute(t)\n",
    "for res in result:\n",
    "    print(res)"
   ]
  },
  {
   "cell_type": "code",
   "execution_count": 49,
   "id": "19d1ea3a",
   "metadata": {},
   "outputs": [],
   "source": [
    "#Data class - \n",
    "#Data classes are available for Python 3.7 or above. You can use data classes as a data container but not only. \n",
    "#Data classes also write boiler-plate code for you and simplify the process of creating classes\n",
    "from dataclasses import dataclass,field,asdict,astuple\n",
    "\n",
    "@dataclass(frozen=False,repr=True,order=True,unsafe_hash=True)\n",
    "class person:\n",
    "    greatervalue:int = field(init=False) #provding restrictions for a particular attribute\n",
    "    name:str\n",
    "    age:int\n",
    "    job:str\n",
    "    exp:int\n",
    "    def __post_init__(self):#will be executed exactly after constructer\n",
    "        self.greatervalue = self.age * self.exp"
   ]
  },
  {
   "cell_type": "code",
   "execution_count": 53,
   "id": "d16b8ed8",
   "metadata": {},
   "outputs": [
    {
     "name": "stdout",
     "output_type": "stream",
     "text": [
      "False\n",
      "True\n",
      "{'greatervalue': 100, 'name': 'pavan', 'age': 20, 'job': 'Developer', 'exp': 5}\n",
      "(100, 'pavan', 20, 'Developer', 5)\n",
      "person(greatervalue=100, name='pavan', age=20, job='Developer', exp=5)\n"
     ]
    }
   ],
   "source": [
    "p = person('pavan',20,'Developer',5)\n",
    "p1 = person('pavan',20,'Developer',4)\n",
    "print(p1==p)\n",
    "#print(p)\n",
    "#hash(p)\n",
    "#p.age=20 # error when frozen = true\n",
    "p2 = person('pavan',20,'Developer',50)\n",
    "p3 = person('pavan',30,'Developer',15)\n",
    "print(p2>p)\n",
    "p2.age=40\n",
    "hash(p2)\n",
    "print(asdict(p)) #get dict for respective object\n",
    "print(astuple(p)) #get value as tuple for the object\n",
    "print(p)"
   ]
  },
  {
   "cell_type": "code",
   "execution_count": 54,
   "id": "bce3d93f",
   "metadata": {},
   "outputs": [
    {
     "data": {
      "text/plain": [
       "1"
      ]
     },
     "execution_count": 54,
     "metadata": {},
     "output_type": "execute_result"
    }
   ],
   "source": [
    "#tuple unpacking\n",
    "a = 1,2,3\n",
    "(a1,a2,a3) = 1,2,3\n",
    "a1"
   ]
  },
  {
   "cell_type": "code",
   "execution_count": 57,
   "id": "b29d913c",
   "metadata": {},
   "outputs": [
    {
     "data": {
      "text/plain": [
       "1"
      ]
     },
     "execution_count": 57,
     "metadata": {},
     "output_type": "execute_result"
    }
   ],
   "source": [
    "#list unpacking\n",
    "a=[1,2,3]\n",
    "a1,a2,a3 = a\n",
    "a1"
   ]
  },
  {
   "cell_type": "code",
   "execution_count": 61,
   "id": "f8698080",
   "metadata": {},
   "outputs": [
    {
     "name": "stdout",
     "output_type": "stream",
     "text": [
      "my name is pavan\n",
      "my name is pavan "
     ]
    }
   ],
   "source": [
    "#sep,end,flush\n",
    "\n",
    "print('my','name','is','pavan',sep=' ')\n",
    "print('my',end=\" \",flush=True)\n",
    "print('name',end=\" \",flush=True)\n",
    "print('is',end=\" \",flush=True)\n",
    "print('pavan',end=\" \",flush=True)"
   ]
  },
  {
   "cell_type": "code",
   "execution_count": 65,
   "id": "f584508b",
   "metadata": {},
   "outputs": [
    {
     "name": "stdout",
     "output_type": "stream",
     "text": [
      "None\n"
     ]
    }
   ],
   "source": [
    "# In dict to avoid key error use get method , if key not present it will return null ,also can specify default value\n",
    "d = {'a' : 2 , 'b' : 3 }\n",
    "d.get('c')\n",
    "print(d.get('c'))"
   ]
  },
  {
   "cell_type": "code",
   "execution_count": 66,
   "id": "ca172ffe",
   "metadata": {},
   "outputs": [
    {
     "data": {
      "text/plain": [
       "['c:\\\\users\\\\pavan\\\\appdata\\\\local\\\\programs\\\\python\\\\python38-32',\n",
       " 'c:\\\\users\\\\pavan\\\\appdata\\\\local\\\\programs\\\\python\\\\python38-32\\\\lib\\\\site-packages']"
      ]
     },
     "execution_count": 66,
     "metadata": {},
     "output_type": "execute_result"
    }
   ],
   "source": [
    "#location where all modules are installed\n",
    "import site\n",
    "site.getsitepackages()"
   ]
  },
  {
   "cell_type": "code",
   "execution_count": 1,
   "id": "e84e1482",
   "metadata": {},
   "outputs": [
    {
     "data": {
      "text/plain": [
       "Counter({1: 2,\n",
       "         2: 2,\n",
       "         3: 3,\n",
       "         5: 1,\n",
       "         6: 2,\n",
       "         7: 2,\n",
       "         8: 2,\n",
       "         90: 1,\n",
       "         45: 1,\n",
       "         9: 2,\n",
       "         0: 2,\n",
       "         12: 1,\n",
       "         456: 1,\n",
       "         78: 1})"
      ]
     },
     "execution_count": 1,
     "metadata": {},
     "output_type": "execute_result"
    }
   ],
   "source": [
    "#collection objects\n",
    "\n",
    "from collections import Counter\n",
    "\n",
    "count_dict = Counter([1,2,3,5,6,7,8,90,1,2,3,45,6,7,8,9,0,12,3,456,78,9,0])\n",
    "count_dict # key value pairs with key= each value from iterable and value = count of each value in iterable"
   ]
  },
  {
   "cell_type": "code",
   "execution_count": 12,
   "id": "8bae5ba3",
   "metadata": {},
   "outputs": [
    {
     "data": {
      "text/plain": [
       "OrderedDict([('name', 'Pavan'), ('value', 'sdfsdfsd'), ('addr', 'test1')])"
      ]
     },
     "execution_count": 12,
     "metadata": {},
     "output_type": "execute_result"
    }
   ],
   "source": [
    "from collections import OrderedDict\n",
    "\n",
    "od = OrderedDict() # it remembers the order in which the keys were inserted\n",
    "\n",
    "od['name'] = 'Pavan'\n",
    "od['value'] = 'test'\n",
    "od['addr'] = 'test1'\n",
    "od['value'] = \"sdfsdfsd\"\n",
    "od"
   ]
  },
  {
   "cell_type": "code",
   "execution_count": 21,
   "id": "6a059af2",
   "metadata": {},
   "outputs": [
    {
     "data": {
      "text/plain": [
       "defaultdict(int, {4: 1, 34: 0})"
      ]
     },
     "execution_count": 21,
     "metadata": {},
     "output_type": "execute_result"
    }
   ],
   "source": [
    "from collections import defaultdict\n",
    "\n",
    "df = defaultdict(int) # if key is not present instead of throwing key error \n",
    "\n",
    "df[4] =1\n",
    "df[34]\n",
    "df"
   ]
  },
  {
   "cell_type": "code",
   "execution_count": 33,
   "id": "c2759ba0",
   "metadata": {},
   "outputs": [
    {
     "data": {
      "text/plain": [
       "{'c': 3, 'd': 4, 'a': 1, 'b': 2, 'aa': 2}"
      ]
     },
     "execution_count": 33,
     "metadata": {},
     "output_type": "execute_result"
    }
   ],
   "source": [
    "from collections import ChainMap\n",
    "\n",
    "d = {'a':1,'b':2}\n",
    "c = {'c':3,'d':4}\n",
    "\n",
    "ch = ChainMap(d,c) #used to combine multiple dict into one dict\n",
    "ch1 = ch.new_child({'aa':2})\n",
    "dict(ch1)"
   ]
  },
  {
   "cell_type": "code",
   "execution_count": 41,
   "id": "1d02a8ee",
   "metadata": {},
   "outputs": [
    {
     "data": {
      "text/plain": [
       "Student(name='pavan', age=20, city='Kasragod')"
      ]
     },
     "execution_count": 41,
     "metadata": {},
     "output_type": "execute_result"
    }
   ],
   "source": [
    "from collections import namedtuple\n",
    "\n",
    "stud = namedtuple('Student',['name','age','city'])\n",
    "\n",
    "s1 = stud('pk',20,'Bangalore')\n",
    "\n",
    "li = ['pavan',20,'Kasragod']\n",
    "\n",
    "s2 = stud._make(li)\n",
    "s3 = stud._asdict({'name':'pk','age':20,'city':'Bangalore'}) \n",
    "s1.name\n",
    "s1.age\n",
    "s1.city\n",
    "s1[1]\n",
    "s2"
   ]
  },
  {
   "cell_type": "code",
   "execution_count": 43,
   "id": "3d29a2be",
   "metadata": {},
   "outputs": [
    {
     "name": "stdout",
     "output_type": "stream",
     "text": [
      "deque([20, 1, 2, 3, 4, 5, 10])\n"
     ]
    },
    {
     "data": {
      "text/plain": [
       "deque([2, 3, 4, 5])"
      ]
     },
     "execution_count": 43,
     "metadata": {},
     "output_type": "execute_result"
    }
   ],
   "source": [
    "# deque is the optimized list for quicker append and pop operations from both sides of the container. \n",
    "#It provides O(1) time complexity for append and pop operations as compared to list with O(n) time complexity.\n",
    "from collections import deque\n",
    "\n",
    "d = deque([1,2,3,4,5]) # we can append and pop from both sides\n",
    "\n",
    "d.append(10)\n",
    "d.appendleft(20)\n",
    "print(d)\n",
    "d.pop()\n",
    "d.popleft()\n",
    "d.popleft()\n",
    "d"
   ]
  },
  {
   "cell_type": "code",
   "execution_count": 49,
   "id": "bb4550db",
   "metadata": {},
   "outputs": [
    {
     "data": {
      "text/plain": [
       "'aaaaa'"
      ]
     },
     "execution_count": 49,
     "metadata": {},
     "output_type": "execute_result"
    }
   ],
   "source": [
    "#customising the dict,list,string methods according needs\n",
    "from collections import UserDict,UserList,UserString\n",
    "\n",
    "class customdict(UserDict):\n",
    "    def get(self,s=None,t=None):\n",
    "        if s and t:\n",
    "            return s*t\n",
    "        else:\n",
    "            return none\n",
    "d = customdict({'a':3})\n",
    "d.get('a',5)"
   ]
  },
  {
   "cell_type": "code",
   "execution_count": 22,
   "id": "30bcbb11",
   "metadata": {},
   "outputs": [
    {
     "name": "stdout",
     "output_type": "stream",
     "text": [
      "hi function1\n",
      "hi from function 2\n",
      "hello function1\n"
     ]
    },
    {
     "data": {
      "text/plain": [
       "5"
      ]
     },
     "execution_count": 22,
     "metadata": {},
     "output_type": "execute_result"
    }
   ],
   "source": [
    "#asynchronous programming \n",
    "\n",
    "import asyncio\n",
    "\n",
    "async def func1():\n",
    "    print(\"hi function1\")\n",
    "    await asyncio.sleep(2)\n",
    "    print(\"hello function1\")\n",
    "    \n",
    "async def func2():\n",
    "    print(\"hi from function 2\")\n",
    "    \n",
    "    \n",
    "async def main():\n",
    "    task1 = asyncio.create_task(func1())\n",
    "    task2 = asyncio.create_task(func2())\n",
    "    await asyncio.wait([task1,task2])\n",
    "    return 5\n",
    "\n",
    "op = await main()\n",
    "op"
   ]
  },
  {
   "cell_type": "code",
   "execution_count": 2,
   "id": "6f6b6fd0",
   "metadata": {},
   "outputs": [
    {
     "name": "stdout",
     "output_type": "stream",
     "text": [
      "Pickling completed!\n",
      "[11, 'Python', b'Love Python']\n"
     ]
    }
   ],
   "source": [
    "# Pickling in Python\n",
    "\n",
    "import pickle\n",
    "\n",
    "# Python object\n",
    "my_list = [11, 'Python', b'Love Python']\n",
    "\n",
    "# Pickling\n",
    "with open(\"data.pickle\",\"wb\") as file_handle:\n",
    "    pickle.dump(my_list, file_handle, pickle.HIGHEST_PROTOCOL)\n",
    "\n",
    "print(\"Pickling completed!\")\n",
    "\n",
    "with open(\"data.pickle\",\"rb\") as file_handle:\n",
    "    retrieved_data = pickle.load(file_handle)\n",
    "    print(retrieved_data)"
   ]
  },
  {
   "cell_type": "code",
   "execution_count": 1,
   "id": "97fbfcf9",
   "metadata": {},
   "outputs": [
    {
     "name": "stdout",
     "output_type": "stream",
     "text": [
      "0\n",
      "1\n",
      "2\n",
      "3\n",
      "6\n"
     ]
    }
   ],
   "source": [
    "# yield from\n",
    "\n",
    "def test():\n",
    "    yield 1\n",
    "    yield 2 \n",
    "    yield 3\n",
    "    \n",
    "def test1():\n",
    "    yield 0\n",
    "    yield from test()\n",
    "    yield 6\n",
    "\n",
    "for i in test1():\n",
    "    print(i)"
   ]
  },
  {
   "cell_type": "code",
   "execution_count": 7,
   "id": "af84fb8d",
   "metadata": {},
   "outputs": [
    {
     "data": {
      "text/plain": [
       "'even'"
      ]
     },
     "execution_count": 7,
     "metadata": {},
     "output_type": "execute_result"
    }
   ],
   "source": [
    "#ternaary operation\n",
    "'even' if 2%2==0 else 'odd'"
   ]
  },
  {
   "cell_type": "code",
   "execution_count": 8,
   "id": "0e2741e7",
   "metadata": {},
   "outputs": [
    {
     "data": {
      "text/plain": [
       "2"
      ]
     },
     "execution_count": 8,
     "metadata": {},
     "output_type": "execute_result"
    }
   ],
   "source": [
    "sum([True,True,False])"
   ]
  },
  {
   "cell_type": "code",
   "execution_count": 16,
   "id": "b5cc7838",
   "metadata": {},
   "outputs": [
    {
     "data": {
      "text/plain": [
       "['.gitignore',\n",
       " 'college.db',\n",
       " 'demon.py',\n",
       " 'Interview Problems.ipynb',\n",
       " 'Python-Sqlalchemy.ipynb',\n",
       " 'python_practice_for_fun.ipynb',\n",
       " 'Untitled.ipynb',\n",
       " 'app.py',\n",
       " 'Untitled-1.json',\n",
       " 'user.sqlite3',\n",
       " 'userdb.sqlite3',\n",
       " 'new.html',\n",
       " 'show_all.html',\n",
       " 'user_get.html',\n",
       " 'Python Questions.txt',\n",
       " 'app.py',\n",
       " 'Dockerfile',\n",
       " 'README.md',\n",
       " 'requirements.txt',\n",
       " 'test.py',\n",
       " 'user.sqlite3',\n",
       " 'userdb.sqlite3',\n",
       " '__init__.py',\n",
       " 'COMMIT_EDITMSG',\n",
       " 'config',\n",
       " 'description',\n",
       " 'FETCH_HEAD',\n",
       " 'HEAD',\n",
       " 'index',\n",
       " 'ORIG_HEAD',\n",
       " 'packed-refs',\n",
       " 'applypatch-msg.sample',\n",
       " 'commit-msg.sample',\n",
       " 'fsmonitor-watchman.sample',\n",
       " 'post-update.sample',\n",
       " 'pre-applypatch.sample',\n",
       " 'pre-commit.sample',\n",
       " 'pre-merge-commit.sample',\n",
       " 'pre-push.sample',\n",
       " 'pre-rebase.sample',\n",
       " 'pre-receive.sample',\n",
       " 'prepare-commit-msg.sample',\n",
       " 'push-to-checkout.sample',\n",
       " 'update.sample',\n",
       " 'exclude',\n",
       " 'HEAD',\n",
       " 'main',\n",
       " 'HEAD',\n",
       " 'main',\n",
       " '1058cee9a644567cb730518659fc359446c34a',\n",
       " '9e9bf9d39b2a95d2126cc0574b2c86ed0fc63a',\n",
       " 'b41f4270acb6215a28c4f9ce4ce13711e8340e',\n",
       " 'c3435dfb99935441a7527ecbf4279a0c2336b7',\n",
       " '8ea7ae53495c19871bc79bf9a379ca66f7116a',\n",
       " '4891ea6bb0b7fa818f9f3fc300e882b9533a5d',\n",
       " '5d670c1fada3530f3ec6f45f9f35710554fb2a',\n",
       " '15e5c49bf48aa9e46f208d7f91d0c379f3769a',\n",
       " 'dd2a80e78b51a906a45afab50b5b215fc3b24b',\n",
       " 'a8cb0e87285d1f7c9d5ece4f61b35b529c74f4',\n",
       " '2bb836e906e6e97326c28edfc8c7947e95afa1',\n",
       " '8e4e8037884eab83b458199e0231c6621e0022',\n",
       " '009d2395b253d2ba5212b4fef82ea2daf1cfbf',\n",
       " '6d83fc8f88e1bc1c84b9216a87068896fac711',\n",
       " 'f4227b893146f2dd08b9ee0f74dcde71a791fe',\n",
       " '4d879be67cb01aa878cd820056577a2afa8fc2',\n",
       " '17d7ff59a3a2f94244669c56f732f667979b5a',\n",
       " '6716cacb3393d4074179bd95bcac61445b8367',\n",
       " '9de29bb2d1d6434b8b29ae775ad8c2e48c5391',\n",
       " '9786ab6e270bac0368b9e65bfcc81c51ad7834',\n",
       " 'pack-776e88ed526482b18a52c77db7a0faaa479018c8.idx',\n",
       " 'pack-776e88ed526482b18a52c77db7a0faaa479018c8.pack',\n",
       " 'main',\n",
       " 'HEAD',\n",
       " 'main',\n",
       " 'new.html',\n",
       " 'show_all.html',\n",
       " 'user_get.html',\n",
       " 'app.cpython-38.pyc',\n",
       " 'buffer.js',\n",
       " 'clearInterval.js',\n",
       " 'customevent.js',\n",
       " 'express.js',\n",
       " 'file_stat.js',\n",
       " 'http_get.js',\n",
       " 'os.js',\n",
       " 'package-lock.json',\n",
       " 'package.json',\n",
       " 'path.js',\n",
       " 'promise.js',\n",
       " 'read_write.js',\n",
       " 'test.txt',\n",
       " 'timeout.js',\n",
       " 'config',\n",
       " 'description',\n",
       " 'HEAD',\n",
       " 'index',\n",
       " 'applypatch-msg.sample',\n",
       " 'commit-msg.sample',\n",
       " 'fsmonitor-watchman.sample',\n",
       " 'post-update.sample',\n",
       " 'pre-applypatch.sample',\n",
       " 'pre-commit.sample',\n",
       " 'pre-merge-commit.sample',\n",
       " 'pre-push.sample',\n",
       " 'pre-rebase.sample',\n",
       " 'pre-receive.sample',\n",
       " 'prepare-commit-msg.sample',\n",
       " 'push-to-checkout.sample',\n",
       " 'update.sample',\n",
       " 'exclude',\n",
       " '541133aaedeb922fef0fb6e8135f36ec131470',\n",
       " '3920b856be077d8b0db0bca7030b3702734a87',\n",
       " 'dd97c32b2939344149019ebfc6f396700ed869',\n",
       " '18c3a234e17db820c2b32aa20498c49c521d00',\n",
       " 'a67ff76567092718e2d3a1a9f7c16025e429e3',\n",
       " '47eb346b24f470e041bdf67e15f5861e6c8d14',\n",
       " '8b6b4efa3f45896ae691f2558a2a1aca05bebd',\n",
       " 'ce38b276eee23753837bea9df92a96e5d02c1a',\n",
       " '166077be4d1f620d89b9eb33c76d89e75857da',\n",
       " 'f7295ee780fbfb881b953e92f79e49fe00f08c',\n",
       " '3a00908a6299a8ef72f477983359f5675f82ef',\n",
       " '9117b322f5857b8bb6bccf7a659686aca067c0',\n",
       " 'a4add4d0a266d742bd8a79af20605bc1757bb4',\n",
       " 'c2169e7b3ab576199dfe890b2f04cb645c5ac7',\n",
       " 'eb2fb2873a22f750f6c74f2ef9acdc404b6e12',\n",
       " 'f041781dc008048b9d2c794c81522163f19b43',\n",
       " '068ceecbd48fc4e8279e6451793fec2bf12178',\n",
       " '56985dc47c794a06ab8882a3a885d3c4c94bde',\n",
       " 'b71171255f78b087185dba6e09f7bb6a74dd98',\n",
       " '6a97dcf096449e7100cb63bb05f232a7f790a5',\n",
       " '7ccbf9e5b18d2ffade79c6c72d754f040bd036',\n",
       " 'e5720dbee18484942ab0f3a81782c8275abc48',\n",
       " '2d00561fe3ef91c71b6365f650a2174f35b46f',\n",
       " '3a82d15bd72b3cdf9ba4108272985f7e0bfdb3',\n",
       " '50872385c7f96b4f54d50ebc873b1031e2528c',\n",
       " 'ca4adc0e6cec4531af41a7b0aee613fce42783',\n",
       " '7c5a0d491b284eab066ee42ef8a1e136160101',\n",
       " '191f08ffd4176d0ef575a3a52b1e509e48c038',\n",
       " '34ade75d1fc4faf25a6ac5daed813e12eaed28',\n",
       " 'b0822909320ff4ffafb1526212866f159470c5',\n",
       " '21c8b7652b1eec8ed4fe50877aae880c758ee3',\n",
       " '55055e8a7956b0de5f2afa84bbc512ac6b97c1',\n",
       " 'c3d97a12b484c2a1c9735e24c952c3079876d0',\n",
       " 'f56c041d2904c2ab4b18f56e6ba1320de66f66',\n",
       " '4a4f25b37f2e65e3e78f6360796084901c34d6',\n",
       " '8df0d5160eae9ebbcc2e0d683a433716d56946',\n",
       " '9e8c32f00418b36ad7caf8621e5146f65dd4ea',\n",
       " 'f4e600c5eacae6724e306e56f0a6137f6133b2',\n",
       " '543911939cafa7f2b0c7a1c4d53fe8e86ab912',\n",
       " 'bd93b5e6dfd2af35147a656b913b952cfc7043',\n",
       " '02ef27cf45ae379ee4705af9046e7b16e47841',\n",
       " '219cdde29d5624858b592f89f4badf17fb0f43',\n",
       " 'e6dc26281f357d514cd29b3eefd88b91ff8be5',\n",
       " '1c680d151e5a64ab39cb88afc4600f554f00d5',\n",
       " '9e88e86d0f1d3bdda31b796d6059d4e623dd83',\n",
       " 'ce2862cf2d0aa0d354be824772b40bf17209df',\n",
       " '74d5b97da530e7c00d9c6345882beed7f79e0f',\n",
       " '7c6e005543c41bcad77af6e29bfdb2fe2d21f2',\n",
       " '91297312b2e5de02316fdc08f44c1d190a56a0',\n",
       " 'e3e160112aa9b896df4b30a0184d76a69dfaef',\n",
       " '22a007ff7ac97ce51167903d116eec42bffd9a',\n",
       " '231b2978d2e27b78b273cedf27f42bb916e221',\n",
       " 'a7068581791335487166ddc5001a2ca3a3b060',\n",
       " 'b1ffeb2f97648e0faa7e022c98ed9e6a8e9a0d',\n",
       " 'e1370980bae05eb2d90f63864151dab17eab10',\n",
       " '0dc1a247943ef3837b65754455dfb179260070',\n",
       " '2b293dee9f8712b82a7e453c1f80e6e65348e7',\n",
       " '438dabbbceef6954a1a7a68038f8c440a90c79',\n",
       " 'aa099d8ee5a287946a5a23e8e08bfa529e401f',\n",
       " '59e841b02edfdc128176bfbdc0b938209a99ea',\n",
       " '99a5573aeb7ab133dcf9b74074099c69d7a192',\n",
       " '4bfd82b2e075c7a264f01c10324d91d636403f',\n",
       " '653d3db7e584321691af8f1bc30d49fe105d3e',\n",
       " 'a31618205d7dbeed5b966fe9d2c682bd9367f5',\n",
       " 'cbd29fea2a44617583d10c470ed4c51d3e8f5d',\n",
       " '71dc14d9951e4837a491bb008e2071b6c4118f',\n",
       " '45912fbe35013ef1d12f3f8b40cf7f71b9973a',\n",
       " '585c91f07351e9566d50faec67a0272367ba81',\n",
       " 'e79d27d2f4bdb933d1de68e3ec63d1d65dfe57',\n",
       " '70de9717e715b4fc05c7f8bdc4e8d63a33b859',\n",
       " '92a4dc39e7c0b2ee6516099cd1ddc4405ac5e9',\n",
       " '7dfbcb855fb08867df62d3ff76d99b3d54748f',\n",
       " 'b1a2de37216b60b749c23b6f894e51d701ecf0',\n",
       " '9995436311ca2c69c0d05c1b7ad389aa63e9b9',\n",
       " 'b5d6cbc71e904d27dfcdea3212082f0bf665ba',\n",
       " 'e916227ae6ba2f8e634549477f5603ac877390',\n",
       " 'fdbb82ee6b9c1bfee4d3c70f74a9319c48d4b3',\n",
       " 'c7e1aa6cbd4effd94ee28bd7b0655756b80cea',\n",
       " '0a8b21b4b46a1cd6958c045c798b58a99b2438',\n",
       " '472bee131e469f46759888d7d46acbe2b98bc4',\n",
       " '6b7b6946e47bc46f8138791049b4e6a7cef889',\n",
       " 'eb3f72b03810efecd6469142d7a36a64848f03',\n",
       " '2c8f87605bbd13a5908a054bb80a9d62c33e35',\n",
       " '8925d136ae6efd96b42301d9e0962ec45eeb5b',\n",
       " '254811839b5ca05571e092c3319ccb0d0cca57',\n",
       " '94763a76eef0599dba6d0a7044b89c5a9d2033',\n",
       " '3d3c2f7b14c6a570e58184f68ef0894a5f812d',\n",
       " '15de0e1e55f5056d8ed96da0d75c8849b92e43',\n",
       " '53844186447e50779e1a5d63835e7fb7b134ce',\n",
       " 'd67413c7ba5a8e3eb00c989b3ac1ed43570c2b',\n",
       " '87148ad3f0bb28e31de82bd5488aa75bd2dd57',\n",
       " '313b2b3ee8a02ec17c62184bd6a31ebd5a9703',\n",
       " 'c696a30dfa15b2e293df0174a5eb933da641f9',\n",
       " '65c694fec6f4eb174612ee434c3ab7da8e40fa',\n",
       " '958a20d5bdbae6a4724c6a8cc99f292b00b265',\n",
       " 'a88b72a3a674534cb9f707fb53399558d77c6d',\n",
       " '2c0557c498a2f781173c0cbc6c850d925945ca',\n",
       " '09552958edca1b2eb6b30742759ddf1bb5f3c8',\n",
       " '3e716b85dc54a70d063109d4e9afa39022989d',\n",
       " '87da8f5f9911a43063544e71f4651354989e6b',\n",
       " '86996a3c6e13633a678339ff6075c60567c233',\n",
       " '6771f08bcb1c31a5f6cf0125ad8c422a2b2fcc',\n",
       " '86825a63e317bb72ecb01da512df4fa1f0affa',\n",
       " '28e48bcd5db783074ca4d842ba24931645e1f6',\n",
       " '75bfb0c9f6f67e151c22dab71a733b7a6c2d8d',\n",
       " 'ddb9a1d68fd76a82904ef694de6b2770c04575',\n",
       " '2145606770c26db21b523d48ed1c2ed89a8b8a',\n",
       " '709050d650e71c0f51f7c77bd7032695a98ef7',\n",
       " 'a69e83dad61f336221bf2888d29d3705777935',\n",
       " '61914341f9165a4b54543d49e93af6b0d559cf',\n",
       " '9b0dee6484d17e626ff2f011d18a320a422824',\n",
       " '47a84e88b560c618e8739bdb21c1af115a3b30',\n",
       " '987a698827157cc8f8a954a604ba1a4cd8f984',\n",
       " 'b52adeeffb4b8e0fe708148839080e2f50951f',\n",
       " 'c8e86d4f7fac6a5849ec236359e2300b4e3654',\n",
       " 'f469a05d1a293ac67077f149f17b24ff49d2b1',\n",
       " 'a61ca116009efc18ecbd1531538f31234ad103',\n",
       " 'e9e6f10036e619c2407f08ead54802bbfbcbd1',\n",
       " '0d1dad0ef117b52778cbf060b9bde54d6860a4',\n",
       " '1287cd3b7024435d85a872bb1ba0b234db8e7f',\n",
       " '39f15388121d361f74aa20bd4afde8428d82d4',\n",
       " '505c46242822e18ce365d1b69e6bd0a7fb6e9d',\n",
       " '6fbe550a8dee9f0bde702fda6a040dfed3aba8',\n",
       " '7ecb8de21d5d0d2db42ec03b99a5efd610acf7',\n",
       " '174b6b6b28411c03f230e779c6f1edf93f9423',\n",
       " '041c2e4531aa7fc2010af4b879fa036d6b627d',\n",
       " '91919ca2c6314bdd7c246e4d00ae1cec42c98d',\n",
       " '765aeee2f11ec423c0b719cd424bed876d6402',\n",
       " '7c74600fa51eb13414d63ecf75daa8b9104264',\n",
       " '1031f690b5ca9f58c2cebc8c4f4a198e4c68f5',\n",
       " '73507988e409ab134d2d557fa03cf886127b8f',\n",
       " '89934b565f06c8fb852dd52642851943413fa8',\n",
       " '3b132eb2ba40bd26ffc8360e814d5beb4bc50f',\n",
       " 'c9c701edb350e26173db96b663a4c75ccfe158',\n",
       " '4da8bf938e639ece3ba2bd4105c215c2b1ff51',\n",
       " '31fd23eab9dd3be559cd4bd81253df87a5297c',\n",
       " '112f061fbc3b90eeb33c0b05db6d81bb96579d',\n",
       " '3a43cf8cf6d20324a49b75aff87d1bf902d108',\n",
       " '5e741279d4b800b0c408c5efbac8de6ece450b',\n",
       " 'ad7a099cdd669cc3cf1f164a4dd1a753ae970e',\n",
       " '36f217221ef78d288ac1d1dc43abd8e8586fc1',\n",
       " '6bc8fbd9b461313751afed8809ed4b7d0eba8e',\n",
       " '9d873faf3adb133f7166f714f2e030969b56cb',\n",
       " '60eecc84e219e52554407ad38d04abd1cf2111',\n",
       " 'e7484b41680d42a21c7880c83d04e96c93fb85',\n",
       " 'ea6c04aafd41d0ea3bcd78f58312ecf0eda436',\n",
       " 'afa2f18532ecd749469c7d9bdd15940a852f5f',\n",
       " 'c2003168f588b4d470470278a2319c5950edc2',\n",
       " 'f737f0060219397897036856ed65f3c61625c9',\n",
       " 'a3d08c7350b7a6fffebe51513abb2c22717ea8',\n",
       " 'c189ea2687ba8c50eb9d64d4e92a307bc42d0b',\n",
       " 'e799cb27a66b115e8f5515ec34d5553f338077',\n",
       " 'e95a96338a608c218a7ef5805629878aaa951f',\n",
       " '74bc3ce680d5d9e7ef686a59a9f9e6e6b99f78',\n",
       " '3d9eaa793317827ce724c4a0756110e9356fc8',\n",
       " '84f8ad29d1d4b3c6b076787ff33f145da93553',\n",
       " '8c933d28255e8c716899789e8c0f846e5dc125',\n",
       " '7a50bde7d852359b1ebd9fa8ea8b8582bc64ac',\n",
       " 'a2f5400f808bfea11ce6f1e24c2b61e0426854',\n",
       " '2a32bfe5d685306f18b7a81a15af9fbbd00a0f',\n",
       " '309dd75f1b62cfe90bfa622919fdae8b80bc0b',\n",
       " 'd86bab032fabc624b2e312ec3a87666a12b07c',\n",
       " '28d42e77b9ee2e5d6a470c530fdc925eba94f4',\n",
       " '4eaabba7badf45835ce65685fd584fbd09d72d',\n",
       " 'b61253a38926757b7de1d4df4880fc2105c2c9',\n",
       " 'd7f56930c0073d7318aa04d5e9ca53d1e9d7df',\n",
       " 'e6d3800af9a56c0e14de24d4ccb6ca7c74ceed',\n",
       " '522b16b3a3bf5e93aa5b8bf485f866ff71c5c2',\n",
       " '5e3fc94c3ab80e123c3056b6c5dbe056d21658',\n",
       " 'd1ec6e2a57a90493527881b969952b4d4ec105',\n",
       " '047df7326b73ee6d50001d3eac6b287ba0ccc9',\n",
       " 'e45cc20b33f20dcdc580b9709f1a4a20bb87a1',\n",
       " '6090c3b09f2e45d8c0a1dc77ff5f4a81e78a3c',\n",
       " 'e03f2085aa72584bbd24a028ca35ecd9ab4915',\n",
       " '06c76aaa9650293f85a7c05a59f4cd5e95aefd',\n",
       " 'a2d26eea4fece63d667b530d58f5243891b144',\n",
       " '62a6ddb85140b8f83d88d20b41ead04e7dca52',\n",
       " '9082c9ad13f8392146b0148e6df317d5ce7f45',\n",
       " 'c13ecaaa784175655070d96132bb0b6bf49cf3',\n",
       " 'c672061457214ae90c0ea2664bd66796fc6556',\n",
       " '0afba05be3524a512a51351e2093a4ebda491a',\n",
       " 'a973d800ef108fda6ee25ad76ec626594b656d',\n",
       " 'eaad1d71108b511fa34a5d118571611f2b6c52',\n",
       " '06924934501fd4035efe78678281020328acc5',\n",
       " '03e4fb56a7bc05ea2a1e63034e4bdc856a3117',\n",
       " '297501f9b9bb09acdddb134fa5c5af0d013315',\n",
       " '186dc644a3667aaab933bd6a9c187f87afd055',\n",
       " '3a096fba9ffb5986d6eddec1db181ce2a8a1e7',\n",
       " '3fca49df7cd98cabb2d9ab0b0ace1617491eab',\n",
       " '55049ca55c22068d9c8c7db3b40d291d7a3500',\n",
       " '6a2798132472790f8c11fd000b75603c250b6c',\n",
       " 'd9ef0616699a2caabf3b3a4be34ece4f3de13a',\n",
       " 'f6d083db5f4d381a91b89f6ff437e10d1a0fb8',\n",
       " '906702044fe2ff41a4a50695666a48df89aa29',\n",
       " '0731a472e14e89b9ec48bebeb48dd3a355b985',\n",
       " '33b3de58cb36722c200e395cc6d291187f13d8',\n",
       " '513cc3d28ce3516c93b4d425f83df247486ae5',\n",
       " '7c0b7bc90cd4d27ea5d55b817ff8763468a8a4',\n",
       " '92ceaea7ed72ea902699767316a6853a9a25d3',\n",
       " '8794e2a46588e4fb0a4ed9ece07ad6163b304f',\n",
       " '8e6cd52911025dae5791e9093aeffd9b75eab6',\n",
       " 'ce428cbbf2f3a690ab266af59c2b14a20ca78c',\n",
       " '2b419012e83d3aeafd4748d21eb0f58a8f3688',\n",
       " '52207585a1c1e62a4f2287daf416ab42b9d8ce',\n",
       " '9166947aff3be10f7ffec3771c92581ce211da',\n",
       " 'd2777c92a7991807c516027d5f73d0b47e781b',\n",
       " '6587846f67047b7f9ecddbb176abd25dc3741d',\n",
       " 'c36fe6dbecbfd41530c5a490cc738ec2968653',\n",
       " 'e818604a85f81b678cda3be59f6a80c132954d',\n",
       " 'fd5d7aff2821ca0f99714e5d0b4dfe5bfb7c0e',\n",
       " '204c6b673cd084fb4caa1c95d8c5f111d001af',\n",
       " 'af4df54b4ce9aad915485c4660a0abab727a07',\n",
       " '057905329b6bf83a09f0027178434837dafe2e',\n",
       " '32cd77b8a96940b87d747dbb30ee9c2d065a31',\n",
       " '441fbb5709262c2bfc9b5ff0166ad4f024a1b8',\n",
       " '9ed67c7aa7ad2188ff315227873d03d0ac1cb2',\n",
       " 'a9974cccd81f9296b7d3c77f2b0d2765dfe181',\n",
       " '7fb77c75e710a7f4d0a56efa47e63c56a6a180',\n",
       " '90cfd3ca95988db675eac7b8fb1e8cbbc8be44',\n",
       " 'c6934757761e98580abf0c26c351b6fdfd6ad5',\n",
       " 'e0f8d747dc2a960e1ae6640c8bf081631ac0ec',\n",
       " 'f5394a4b3966eca00c9a01a2ef0b2f2f27f5c6',\n",
       " '12229bc59b5f365549fb3c799b32a4d4acdabc',\n",
       " '61532814643cc4c8c5f428930d2404f577d9bd',\n",
       " 'c79fce904308bb070aacf8bd04b0007f7eb132',\n",
       " '0ad76c7eb990c75e4601becab263df961318fb',\n",
       " '67789965bcfe492c146550d8a16b246534cfd6',\n",
       " '37ae2c2e5a35db74b4607b4c74e0f4fe39a3e4',\n",
       " 'bfa9f7b987ad6effc35544dbc488d9c67e0c5e',\n",
       " '176ea56e62fcd2894b296349cc267c6c024180',\n",
       " '6fc7863e07180d6ea24b5868e86a7437ebe0e8',\n",
       " '79376a5b152e7826b18b8af961677b3f26b58e',\n",
       " '4f6a226cb0d80b6410ffbe0d386667b5e3d5b1',\n",
       " 'e21f7ae6f8de94d8c8b00fbf8c3017247077ff',\n",
       " '409541d855de232cc24d29524282441d11cbc7',\n",
       " '82b6390ac20cb60faa757576d9d5d3023e6e50',\n",
       " '5cb7030150011233dec9a7bbcd3f2c8f34a1dc',\n",
       " '2c3d38f707ccab3ad7df01dae0b08f3cfff663',\n",
       " 'e5e16a66055a1401acf400ed105c5f86bba148',\n",
       " 'f77d241e41400b6836ef6ecb211bd26b79055f',\n",
       " 'fa5b637ec2d2a492d6b5c4bf9ba2e76ff2f352',\n",
       " '0c35e5820183d10bb2fb86895e2c359f08c00c',\n",
       " 'c3a1fffa7fe990582eb24e8f02d24d3bdc97ed',\n",
       " '258c45f07fff3eb58c6f684aa69840e6fc653e',\n",
       " '452a6e9ee2ca18ec76107d4f7c78a5ef7991db',\n",
       " '5b3336b25e790857ad269ae7794953f42f5682',\n",
       " '327f0d19c9a9674f433bf93e1a454a7edd4f6f',\n",
       " '639688c94dac836c0719519d42e6ed38bdf0fe',\n",
       " '3fbe8aec3f4e2d4add592bb1083b00d7366f66',\n",
       " 'ff0e9924e5e1e24df2a1518d941de9c2a6d61c',\n",
       " 'bd98f9d386260ca739c293c035b83252619f6a',\n",
       " 'c8ec261b620498e78450ad2eeb362a250e5659',\n",
       " '4823607b6071c67dd7b553767bfee98a49de1c',\n",
       " 'e26410f0d0bba2e48a07f094407d602eb5dd89',\n",
       " '47a5f286c39cebd3f200ee527004716d490ce3',\n",
       " 'bbb921e588eeec6833557c3addd924bb47fc9b',\n",
       " '9283a2784dbbfd1f6b6c8270e2498f8cf82817',\n",
       " 'e11574403abbf8c96765d9fe3baac8ebe17571',\n",
       " '5a9148acee5109e7ca74e8e54b555992bfc516',\n",
       " '977b297d754b7926ed31eb4434b536c0dc1a8d',\n",
       " 'd3fbfbb93aa6c651c2feefd6abdee31b22028b',\n",
       " '0da2ace62b63c10077b350c0fd37a0e5edf387',\n",
       " '3c44aa8cf51df254685c3760e9503bb3c3c660',\n",
       " '893ddfabd57cf067cf89c3b5f0f6cbff0b86f8',\n",
       " 'c54a1d3fd6701c7e950f3bef1e7c3d20b32e5c',\n",
       " 'f6f4700e0cd86cd08de61e7b4f572bdbbb2087',\n",
       " '5e8a29deab018dfba6d4a59ad763bae13e59ca',\n",
       " 'ae8ee9b8a30ef2a73ff5a7a80adc3b1a845cae',\n",
       " '09b05064a377ed49b5aea673d0849970f050e9',\n",
       " '400ef99de4eb0e2f1ed6c8726ffd5755d943cd',\n",
       " 'd3117b0715231878c8512b68671417dae2692a',\n",
       " '927e44e31d486f807634887662efa39256bf84',\n",
       " '0456708dd2b32f1f1fa73b669cd142f8cdc3ff',\n",
       " 'a6297a84b6d9b6d3b7bc572552898d67e8543b',\n",
       " 'ac5ffaac97da29fa5c5d8aedf5b47763fc7c58',\n",
       " 'd0138278a940d6e7b2d43903e04eee233b957e',\n",
       " 'eb4ddb2921824491502d0f68a0a3a44cf28aa1',\n",
       " '5109c905a45bcb5db701cf37cf4e19385c3167',\n",
       " 'c56658557b8162aa9f5ba8610ed03a5e558d9d',\n",
       " '2db658dade43bcb309aae95ee564e8b9ad23b4',\n",
       " '547f11cdd19e4dfcf8f5e18b53233a91d03cd6',\n",
       " 'ca8f16d0c105424acd16282e629346698e140b',\n",
       " '4f4bdc5b3e11cb2912ab09b80bd617d8bf0b03',\n",
       " '4a7cc42ac48524d2de2fa43979367e09fbe385',\n",
       " '87acbe1a4cc96aa700360e47fcf43021e5097f',\n",
       " '631c23a801b0275c1f12a9d1a8fe00d8f51f0c',\n",
       " 'd3984c447992f39583ddf4d8ecf01ffbb5b6db',\n",
       " 'dc5c0f15fe00172c496cae3bc48f238a3a8469',\n",
       " 'dce6cf9a0edc74d1d1624b04cb7b2182b856a6',\n",
       " '5ef8f78ff14113fe26b3a04bf82c3d07f88a73',\n",
       " '78db626b722e9bc8416d49283713449cf22acc',\n",
       " 'c9463a238b7ec090ff9090234e3f34322a36df',\n",
       " 'f34d5991077fe9fadc7d9187a7225db7e58fca',\n",
       " '184dd5d947f060f970872247c73de52ac93082',\n",
       " '767293ac740d34654a0c793670f4ce66e7a984',\n",
       " 'a541147e648f46a8c07cd36f02ba43f04ae94a',\n",
       " 'bf7b150b8c780a844f42a197f27188ce429594',\n",
       " '69c91565481abea73f0904a8c43b7ef53d36f5',\n",
       " '6f6cd01cde4f6b1d7fce135f9e0dbf402e94a5',\n",
       " '81ac7f6d90235d62a8bdbce292b8b6fff7ff82',\n",
       " 'a657426574286b169534cacdc987768d6b44cc',\n",
       " '765b7f1b907dd71f4ab8b04d653b4314cec44c',\n",
       " 'c78abd491e093599b2615533687a6b3c360526',\n",
       " '4ac2446e679b2530645ed0e4021ac9bdc1c8c2',\n",
       " '9e226f4e872bee53a930739e5381d013c47568',\n",
       " 'ecf072db3f9809c46c83f5641b5df99c686bbf',\n",
       " '0260958f4c0ce6a713682312005e064f9bf1c0',\n",
       " 'e78a75e6b52b7434e7e8aa0d64d8abd593763b',\n",
       " '47e826e67075a49071a07f830fadc62d28d86a',\n",
       " '48419d6a9516f2ec7172aee7be7c8e33212593',\n",
       " '5caa3ff57b531400c73d857736b61d4109b5fc',\n",
       " '8a250fd9ba2b4c312b929a863a1bbf46ce0e51',\n",
       " '733462a2028259cb0971e2258393720a3b9089',\n",
       " 'f8797d5ac7ab6fbb788332b72e4f5b6bff5d2b',\n",
       " '5e068b57d9becdf006ad8e449fbbeb3578bee9',\n",
       " '76ee54e7c6805c2bf7e7efabe69ecdc462ff16',\n",
       " '78ac27a8b9fbe233c857f7ad4151ce3aee9670',\n",
       " '81c3708582a563f0f463c1e01715257d5148bd',\n",
       " 'd62f68652426474222d9dc3581a9b52113aff7',\n",
       " 'f08cd54f4515723f419918106738f0052f1224',\n",
       " '41fdc549b6553e811d35e44730a51bec68be99',\n",
       " 'affac59ff7489e7ebc8e9b781bddc0821546fe',\n",
       " 'b251c2b9a81318267600f68130faa3a290e5fd',\n",
       " 'd2478beffb7e4e612f99e8bff383255c21f253',\n",
       " 'e62e8e7f20b6aa70e4d138b1503837ae4e5f95',\n",
       " '000b34684a1d0b03d4c4cb4fac3e1094a81eec',\n",
       " '29187c8c188c03c6fba38b4553e9a952bd9c82',\n",
       " '617be0120fdb5f51179eb00f706a4d842e1be5',\n",
       " 'd014803474a4b76b981c475a32ebcaa81a36e5',\n",
       " 'd7a14f5b8c260bdde1e7d077e9b599ab87f31d',\n",
       " '101caeab912b013843560996183a0bc9e1654b',\n",
       " '6a5bb9cf0cb1dd3f5a94d5dde1797ef8188be8',\n",
       " '4ac069dd27b945a93dfa4a0e355b2c73ffa39d',\n",
       " '54f5a7d23975af101646b65e74abf8490f50a5',\n",
       " '88a16db70387967e0f913c2ee7c0bf9f7ffb09',\n",
       " '19b0c878dc6136eb2096cffa140bf6bf2b8e9c',\n",
       " 'b88b931b2528cfbcf5ad8a76b971f92296906c',\n",
       " '9936ebab0399cf83ef6d87b02d896da97760cd',\n",
       " 'f46f7e145990dad5954d78c5da9a2c2bdcbe36',\n",
       " '569487a094b9ffb6e42ed157c32f8a5440a07a',\n",
       " '9ce27a4d7a57f3863a747a227cf59594642402',\n",
       " 'ab3865851faa352af94dc60234bbddc4703ab7',\n",
       " '18d8376af9faa47af875d83c8cdd51a11f9099',\n",
       " '93c0ebd7c15b5749e913412ab3b729d114b81e',\n",
       " '95c8fd666d9ffc533167fba7c8295ca04d8e6b',\n",
       " 'acd5b15f87a1eea1ebcd7dc7600c81fe26bc7c',\n",
       " '58d3c8f58a60bf27ef377ad77639bf10ce7854',\n",
       " 'efbde70b8e95fb7f67da9c8cfed11ce8ce4133',\n",
       " '1628b57f64f23ebe7722a41cb99eb4356ed8ed',\n",
       " 'bc87178dd38fca1829b9e2109c6f71e9721bdf',\n",
       " 'df62347a6fff095c753754b0a3dd30b6591b33',\n",
       " '18c0b8def9378510b9c2abda9952721bafba8e',\n",
       " '97df08a49fbb55b761af923cce3a9873993839',\n",
       " '2bf243dc82e1f278485bb1f5836d6073b8a3dd',\n",
       " '31ce53e52aecdebbf6a8ca6455db5865800b6b',\n",
       " 'aff8f09407be80bc5d68ec41dfa2c435d20707',\n",
       " 'bbebd4c8f3a6f2cc12c4f862d90b8f2e4eaa28',\n",
       " '2be433b7cac9b53c767b47429cc19e50c71de8',\n",
       " 'e95d27f7c168bfcb0db9a71f071c0d277e3893',\n",
       " '22d1597600c04a9a62ffa597463413baf741fb',\n",
       " 'a3013d6710ee273f49ac606a65d5211d480c88',\n",
       " '205dd5f2763245e8593156bd3916f64f2c0d64',\n",
       " '459975291f24b0410b2950f2df8724c402d979',\n",
       " 'c94054ea8c155403d08852ad5b9b57808ed4a5',\n",
       " 'd042747bdb971d9760e9575241ddaa1b776cd8',\n",
       " 'a7f659f37f4f2c51a2c5a79b0abe0d30f63e83',\n",
       " 'd688e54691ef97fad329d5c9affecb199bde2c',\n",
       " 'e2622357dac76944436d1c9feb5d7b7111c0a2',\n",
       " '2cf4d58c9f2d6d2d2e656f9cbb0f703cb5fa29',\n",
       " 'aca522db362d0a94497905461e76ae2d6aa844',\n",
       " 'f7f92d738670815b2259805073ccd845f7ff09',\n",
       " '0400317c18fb2fd374e01d52c8f815976db6a5',\n",
       " 'bde898e75f934600896bfeb94f8b96a8139382',\n",
       " 'd766478e426071519db8d0fb38c18bb454a513',\n",
       " '36ad2c045bba26e9d1f93202a44833656adfad',\n",
       " '50b82f5bf90c8a2ff4bfd685793defd22a119f',\n",
       " 'b8dba2a28e188d2e6091860ef5a89724082dca',\n",
       " '9de29bb2d1d6434b8b29ae775ad8c2e48c5391',\n",
       " '8c2f65cfddc9b5410c198778e84914bbb156e6',\n",
       " 'a81afd0406f030ba21169f0c7a1dba70b3a93b',\n",
       " 'b2f63fb16f8ecdeb16c8eced302612794ccf65',\n",
       " 'fed809a5ab515658d6e71f7ba5f631be769be4',\n",
       " '6b9e2e9ac251526c95df2dd995cf5f1e861854',\n",
       " 'af62ca7449d5f3a3391d3c252c9b3def4b09c5',\n",
       " 'daa189517bbcfb2a6784a48ac8d05d2edafe7c',\n",
       " '62051513e5bef5d63d5c684c627a13ac6cebb5',\n",
       " 'e722327959f3bd9721488a035947387f1c1db1',\n",
       " '76489a31d91ec6d0f0562e887f9daeeb28902a',\n",
       " 'bef13d43af84760137a643f6d94893b1e93bfc',\n",
       " 'c2d4c9825da84588c342360e969f3b46a172b4',\n",
       " 'ec3887089548bf0faca6cd07f70b5aafa01073',\n",
       " '016b56c6990b9c406e3230c61233de446da34a',\n",
       " '08ecd0a8ca1ec609529d3a0b76106c48e418a0',\n",
       " '20044b6e28151062b031f602113807341e1ed4',\n",
       " '250e584c94b80208b61cf7cae29db8e486a5c7',\n",
       " '275350531d30ca6dd665cbb5fe78fc5e702948',\n",
       " '52313f8d0a145a3d1bacb68dbf06c0bf8e67c0',\n",
       " '63b261d13e28de39021064714c09f4f4a2ee32',\n",
       " '8e3c1eabaadf913d43aee5f17f05871c9535da',\n",
       " '8f0e4852a87f8093300cbd1d6e4d55cd23fd6e',\n",
       " '4f7340b84833e5eef335dc21d60d096f016dc6',\n",
       " '56f987515964fc69cf4e353f7ebd19c7204ee1',\n",
       " 'd00aacd912b93fc803286847537a3e6f573576',\n",
       " 'f8d09283e509592b07506ffabf55cc0bb118f6',\n",
       " '7725b0fed3b74b2ed13d99c0fe8ee65ab29f3c',\n",
       " 'd1b67475405284e3dac312f92ade101571329f',\n",
       " '7be6b317c19952bb506a9e15e797615eea4533',\n",
       " 'b37b52dec6faa7f48b9d1be5da2ad9b883be2f',\n",
       " 'cbcf7f9be9d45391c5e4e14d02541f59087351',\n",
       " '2343a213de767a9a8e6d27ecd09ce72d3f43f1',\n",
       " '36e336dcbd3c0530844554a8175af0b2e69d66',\n",
       " 'b24128e2797681c95fe8017b54d23dffd77dd5',\n",
       " '1785ff54d608a86509e3755e1983f3e24b2b32',\n",
       " '30982776077685cfc20c5998005524eb4fe685',\n",
       " 'cde441c03c7c28bab4755b1cbb856fab3b7241',\n",
       " '4906c6c7896396a877e1f369c78f804e3afa10',\n",
       " 'a21121b03d9fc631f6b23c388353148e90546c',\n",
       " 'b81a39ac985322057f18f455f9f1160e7ac17f',\n",
       " '4368ab813edc102f932285038bf6451bd15a79',\n",
       " 'mime',\n",
       " 'mime.cmd',\n",
       " 'mime.ps1',\n",
       " 'HISTORY.md',\n",
       " 'index.js',\n",
       " 'LICENSE',\n",
       " 'package.json',\n",
       " 'README.md',\n",
       " 'array-flatten.js',\n",
       " 'LICENSE',\n",
       " 'package.json',\n",
       " 'README.md',\n",
       " 'HISTORY.md',\n",
       " 'index.js',\n",
       " 'LICENSE',\n",
       " 'package.json',\n",
       " 'README.md',\n",
       " 'read.js',\n",
       " 'json.js',\n",
       " 'raw.js',\n",
       " 'text.js',\n",
       " 'urlencoded.js',\n",
       " 'History.md',\n",
       " 'index.js',\n",
       " 'LICENSE',\n",
       " 'package.json',\n",
       " 'Readme.md',\n",
       " 'HISTORY.md',\n",
       " 'index.js',\n",
       " 'LICENSE',\n",
       " 'package.json',\n",
       " 'README.md',\n",
       " 'HISTORY.md',\n",
       " 'index.js',\n",
       " 'LICENSE',\n",
       " 'package.json',\n",
       " 'README.md',\n",
       " 'HISTORY.md',\n",
       " 'index.js',\n",
       " 'LICENSE',\n",
       " 'package.json',\n",
       " 'README.md',\n",
       " '.npmignore',\n",
       " 'History.md',\n",
       " 'index.js',\n",
       " 'package.json',\n",
       " 'Readme.md',\n",
       " '.coveralls.yml',\n",
       " '.eslintrc',\n",
       " '.npmignore',\n",
       " '.travis.yml',\n",
       " 'CHANGELOG.md',\n",
       " 'component.json',\n",
       " 'karma.conf.js',\n",
       " 'LICENSE',\n",
       " 'Makefile',\n",
       " 'node.js',\n",
       " 'package.json',\n",
       " 'README.md',\n",
       " 'browser.js',\n",
       " 'debug.js',\n",
       " 'index.js',\n",
       " 'inspector-log.js',\n",
       " 'node.js',\n",
       " 'History.md',\n",
       " 'index.js',\n",
       " 'LICENSE',\n",
       " 'package.json',\n",
       " 'Readme.md',\n",
       " 'index.js',\n",
       " 'callsite-tostring.js',\n",
       " 'event-listener-count.js',\n",
       " 'index.js',\n",
       " 'index.js',\n",
       " 'LICENSE',\n",
       " 'package.json',\n",
       " 'README.md',\n",
       " 'index.js',\n",
       " 'LICENSE',\n",
       " 'package.json',\n",
       " 'README.md',\n",
       " 'HISTORY.md',\n",
       " 'index.js',\n",
       " 'LICENSE',\n",
       " 'package.json',\n",
       " 'README.md',\n",
       " 'index.js',\n",
       " 'LICENSE',\n",
       " 'package.json',\n",
       " 'Readme.md',\n",
       " 'HISTORY.md',\n",
       " 'index.js',\n",
       " 'LICENSE',\n",
       " 'package.json',\n",
       " 'README.md',\n",
       " '.emit.js.un~',\n",
       " '.event.js.un~',\n",
       " '.History.md.un~',\n",
       " '.index.js.un~',\n",
       " '.package.json.un~',\n",
       " '.pipe.js.un~',\n",
       " '.Readme.md.un~',\n",
       " '.send.js.un~',\n",
       " '.travis.yml',\n",
       " 'event.js',\n",
       " 'History.md',\n",
       " 'License.md',\n",
       " 'package-lock.json',\n",
       " 'package.json',\n",
       " 'pipe.js',\n",
       " 'Readme.md',\n",
       " 'send.js',\n",
       " '.buffer.js.un~',\n",
       " '.cache.js.un~',\n",
       " '.event.js.un~',\n",
       " '.hub.js.un~',\n",
       " '.index.js.un~',\n",
       " '.pipe.js.un~',\n",
       " 'buffer.js',\n",
       " 'cache.js',\n",
       " 'event.js',\n",
       " 'hub.js',\n",
       " 'index.js',\n",
       " 'pipe.js',\n",
       " 'History.md',\n",
       " 'index.js',\n",
       " 'LICENSE',\n",
       " 'package.json',\n",
       " 'Readme.md',\n",
       " 'application.js',\n",
       " 'express.js',\n",
       " 'request.js',\n",
       " 'response.js',\n",
       " 'utils.js',\n",
       " 'view.js',\n",
       " 'init.js',\n",
       " 'query.js',\n",
       " 'index.js',\n",
       " 'layer.js',\n",
       " 'route.js',\n",
       " 'HISTORY.md',\n",
       " 'index.js',\n",
       " 'LICENSE',\n",
       " 'package.json',\n",
       " 'README.md',\n",
       " 'HISTORY.md',\n",
       " 'index.js',\n",
       " 'LICENSE',\n",
       " 'package.json',\n",
       " 'README.md',\n",
       " 'HISTORY.md',\n",
       " 'index.js',\n",
       " 'LICENSE',\n",
       " 'package.json',\n",
       " 'README.md',\n",
       " 'HISTORY.md',\n",
       " 'index.js',\n",
       " 'LICENSE',\n",
       " 'package.json',\n",
       " 'README.md',\n",
       " 'Changelog.md',\n",
       " 'LICENSE',\n",
       " 'package.json',\n",
       " 'README.md',\n",
       " 'dbcs-codec.js',\n",
       " 'dbcs-data.js',\n",
       " 'index.js',\n",
       " 'internal.js',\n",
       " 'sbcs-codec.js',\n",
       " 'sbcs-data-generated.js',\n",
       " 'sbcs-data.js',\n",
       " 'utf16.js',\n",
       " 'utf7.js',\n",
       " 'big5-added.json',\n",
       " 'cp936.json',\n",
       " 'cp949.json',\n",
       " 'cp950.json',\n",
       " 'eucjp.json',\n",
       " 'gb18030-ranges.json',\n",
       " 'gbk-added.json',\n",
       " 'shiftjis.json',\n",
       " 'bom-handling.js',\n",
       " 'extend-node.js',\n",
       " 'index.d.ts',\n",
       " 'index.js',\n",
       " 'streams.js',\n",
       " 'inherits.js',\n",
       " 'inherits_browser.js',\n",
       " 'LICENSE',\n",
       " 'package.json',\n",
       " 'README.md',\n",
       " 'ipaddr.min.js',\n",
       " 'LICENSE',\n",
       " 'package.json',\n",
       " 'README.md',\n",
       " 'ipaddr.js',\n",
       " 'ipaddr.js.d.ts',\n",
       " 'HISTORY.md',\n",
       " 'index.js',\n",
       " 'LICENSE',\n",
       " 'package.json',\n",
       " 'README.md',\n",
       " 'HISTORY.md',\n",
       " 'index.js',\n",
       " 'LICENSE',\n",
       " 'package.json',\n",
       " 'README.md',\n",
       " '.core.js.un~',\n",
       " '.History.md.un~',\n",
       " '.package.json.un~',\n",
       " '.Readme.md.un~',\n",
       " '.travis.yml',\n",
       " 'core.js',\n",
       " 'History.md',\n",
       " 'License.md',\n",
       " 'package.json',\n",
       " 'Readme.md',\n",
       " '.browser.js.un~',\n",
       " '.common.js.un~',\n",
       " '.test-all.js.un~',\n",
       " 'browser.js',\n",
       " 'common.js',\n",
       " 'HISTORY.md',\n",
       " 'index.js',\n",
       " 'LICENSE',\n",
       " 'package.json',\n",
       " 'README.md',\n",
       " '.npmignore',\n",
       " 'CHANGELOG.md',\n",
       " 'cli.js',\n",
       " 'LICENSE',\n",
       " 'mime.js',\n",
       " 'package.json',\n",
       " 'README.md',\n",
       " 'types.json',\n",
       " 'build.js',\n",
       " 'test.js',\n",
       " 'db.json',\n",
       " 'HISTORY.md',\n",
       " 'index.js',\n",
       " 'LICENSE',\n",
       " 'package.json',\n",
       " 'README.md',\n",
       " 'HISTORY.md',\n",
       " 'index.js',\n",
       " 'LICENSE',\n",
       " 'package.json',\n",
       " 'README.md',\n",
       " 'index.js',\n",
       " 'license.md',\n",
       " 'package.json',\n",
       " 'readme.md',\n",
       " 'HISTORY.md',\n",
       " 'index.js',\n",
       " 'LICENSE',\n",
       " 'package.json',\n",
       " 'README.md',\n",
       " 'charset.js',\n",
       " 'encoding.js',\n",
       " 'language.js',\n",
       " 'mediaType.js',\n",
       " 'HISTORY.md',\n",
       " 'index.js',\n",
       " 'LICENSE',\n",
       " 'package.json',\n",
       " 'README.md',\n",
       " 'HISTORY.md',\n",
       " 'index.js',\n",
       " 'LICENSE',\n",
       " 'package.json',\n",
       " 'README.md',\n",
       " 'History.md',\n",
       " 'index.js',\n",
       " 'LICENSE',\n",
       " 'package.json',\n",
       " 'Readme.md',\n",
       " 'HISTORY.md',\n",
       " 'index.js',\n",
       " 'LICENSE',\n",
       " 'package.json',\n",
       " 'README.md',\n",
       " '.editorconfig',\n",
       " '.eslintignore',\n",
       " '.eslintrc',\n",
       " 'CHANGELOG.md',\n",
       " 'LICENSE',\n",
       " 'package.json',\n",
       " 'README.md',\n",
       " 'qs.js',\n",
       " 'formats.js',\n",
       " 'index.js',\n",
       " 'parse.js',\n",
       " 'stringify.js',\n",
       " 'utils.js',\n",
       " '.eslintrc',\n",
       " 'index.js',\n",
       " 'parse.js',\n",
       " 'stringify.js',\n",
       " 'utils.js',\n",
       " 'HISTORY.md',\n",
       " 'index.js',\n",
       " 'LICENSE',\n",
       " 'package.json',\n",
       " 'README.md',\n",
       " 'HISTORY.md',\n",
       " 'index.d.ts',\n",
       " 'index.js',\n",
       " 'LICENSE',\n",
       " 'package.json',\n",
       " 'README.md',\n",
       " '.History.md.un~',\n",
       " '.index.js.un~',\n",
       " '.package.json.un~',\n",
       " '.Readme.md.un~',\n",
       " '.reduce.js.un~',\n",
       " '.reducible.js.un~',\n",
       " '.travis.yml',\n",
       " 'end.js',\n",
       " 'History.md',\n",
       " 'index.js',\n",
       " 'is-error.js',\n",
       " 'is-reduced.js',\n",
       " 'License.md',\n",
       " 'package.json',\n",
       " 'Readme.md',\n",
       " 'reduce.js',\n",
       " 'reduced.js',\n",
       " 'reducible.js',\n",
       " '.core.js.un~',\n",
       " '.History.md.un~',\n",
       " '.package.json.un~',\n",
       " '.Readme.md.un~',\n",
       " '.travis.yml',\n",
       " 'core.js',\n",
       " 'History.md',\n",
       " 'License.md',\n",
       " 'package.json',\n",
       " 'Readme.md',\n",
       " '.browser.js.un~',\n",
       " '.common.js.un~',\n",
       " '.index.js.un~',\n",
       " '.phantom-index.js.un~',\n",
       " '.tap-index.js.un~',\n",
       " '.test-all.js.un~',\n",
       " 'browser.js',\n",
       " 'common-index.js',\n",
       " 'common.js',\n",
       " 'index.js',\n",
       " 'phantom-index.js',\n",
       " 'tap-index.js',\n",
       " 'testling-index.js',\n",
       " '.contract.js.un~',\n",
       " '.error.js.un~',\n",
       " '.index.js.un~',\n",
       " '.reduce.js.un~',\n",
       " '.reducible.js.un~',\n",
       " '.util.js.un~',\n",
       " 'index.js',\n",
       " 'reduce.js',\n",
       " 'reducible.js',\n",
       " 'index.d.ts',\n",
       " 'index.js',\n",
       " 'LICENSE',\n",
       " 'package.json',\n",
       " 'README.md',\n",
       " 'dangerous.js',\n",
       " 'LICENSE',\n",
       " 'package.json',\n",
       " 'Porting-Buffer.md',\n",
       " 'Readme.md',\n",
       " 'safer.js',\n",
       " 'tests.js',\n",
       " 'HISTORY.md',\n",
       " 'index.js',\n",
       " 'LICENSE',\n",
       " 'package.json',\n",
       " 'README.md',\n",
       " 'index.js',\n",
       " 'license.md',\n",
       " 'package.json',\n",
       " 'readme.md',\n",
       " 'HISTORY.md',\n",
       " 'index.js',\n",
       " 'LICENSE',\n",
       " 'package.json',\n",
       " 'README.md',\n",
       " 'index.d.ts',\n",
       " 'index.js',\n",
       " 'LICENSE',\n",
       " 'package.json',\n",
       " 'README.md',\n",
       " 'index.js',\n",
       " 'codes.json',\n",
       " 'HISTORY.md',\n",
       " 'index.js',\n",
       " 'LICENSE',\n",
       " 'package.json',\n",
       " 'README.md',\n",
       " 'index.js',\n",
       " 'LICENSE',\n",
       " 'package.json',\n",
       " 'README.md',\n",
       " 'HISTORY.md',\n",
       " 'index.js',\n",
       " 'LICENSE',\n",
       " 'package.json',\n",
       " 'README.md',\n",
       " 'HISTORY.md',\n",
       " 'index.js',\n",
       " 'LICENSE',\n",
       " 'package.json',\n",
       " 'README.md',\n",
       " '.npmignore',\n",
       " 'index.js',\n",
       " 'LICENSE',\n",
       " 'package.json',\n",
       " 'README.md',\n",
       " 'HISTORY.md',\n",
       " 'index.js',\n",
       " 'LICENSE',\n",
       " 'package.json',\n",
       " 'README.md',\n",
       " '.gitignore',\n",
       " 'buffer.js',\n",
       " 'clearInterval.js',\n",
       " 'customevent.js',\n",
       " 'express.js',\n",
       " 'file_stat.js',\n",
       " 'http_get.js',\n",
       " 'os.js',\n",
       " 'package-lock.json',\n",
       " 'package.json',\n",
       " 'path.js',\n",
       " 'promise.js',\n",
       " 'read_write.js',\n",
       " 'test.txt',\n",
       " 'timeout.js',\n",
       " 'COMMIT_EDITMSG',\n",
       " 'config',\n",
       " 'description',\n",
       " 'FETCH_HEAD',\n",
       " 'HEAD',\n",
       " 'index',\n",
       " 'ORIG_HEAD',\n",
       " 'applypatch-msg.sample',\n",
       " 'commit-msg.sample',\n",
       " 'fsmonitor-watchman.sample',\n",
       " 'post-update.sample',\n",
       " 'pre-applypatch.sample',\n",
       " 'pre-commit.sample',\n",
       " 'pre-merge-commit.sample',\n",
       " 'pre-push.sample',\n",
       " 'pre-rebase.sample',\n",
       " 'pre-receive.sample',\n",
       " 'prepare-commit-msg.sample',\n",
       " 'push-to-checkout.sample',\n",
       " 'update.sample',\n",
       " 'exclude',\n",
       " 'HEAD',\n",
       " 'main',\n",
       " 'main',\n",
       " '4036e64d1d5180c0a3153de3df54ba8af51ed2',\n",
       " '541133aaedeb922fef0fb6e8135f36ec131470',\n",
       " '3920b856be077d8b0db0bca7030b3702734a87',\n",
       " 'dd97c32b2939344149019ebfc6f396700ed869',\n",
       " '5e4737d0f9ced1096c8fdbab10ea8c76f84414',\n",
       " '6662b7fbafb539b40457b412618fde64489246',\n",
       " '6c2dac4765c72142d625cb33f009381174ebc0',\n",
       " '18c3a234e17db820c2b32aa20498c49c521d00',\n",
       " 'a67ff76567092718e2d3a1a9f7c16025e429e3',\n",
       " '47eb346b24f470e041bdf67e15f5861e6c8d14',\n",
       " ...]"
      ]
     },
     "execution_count": 16,
     "metadata": {},
     "output_type": "execute_result"
    }
   ],
   "source": [
    "#list down all the files from  a particular directory\n",
    "import os\n",
    "\n",
    "files_li = []\n",
    "for root,dirs,files in os.walk(r'D:\\Programs'):\n",
    "    files_li.extend(files)\n",
    "files_li"
   ]
  },
  {
   "cell_type": "code",
   "execution_count": null,
   "id": "195152f2",
   "metadata": {},
   "outputs": [],
   "source": []
  },
  {
   "cell_type": "code",
   "execution_count": null,
   "id": "fd04bdcd",
   "metadata": {},
   "outputs": [],
   "source": []
  },
  {
   "cell_type": "code",
   "execution_count": null,
   "id": "f01f0c1d",
   "metadata": {},
   "outputs": [],
   "source": []
  },
  {
   "cell_type": "code",
   "execution_count": null,
   "id": "6771893b",
   "metadata": {},
   "outputs": [],
   "source": []
  },
  {
   "cell_type": "code",
   "execution_count": null,
   "id": "68a69960",
   "metadata": {},
   "outputs": [],
   "source": []
  },
  {
   "cell_type": "code",
   "execution_count": null,
   "id": "e4a3065c",
   "metadata": {},
   "outputs": [],
   "source": []
  },
  {
   "cell_type": "code",
   "execution_count": null,
   "id": "5a2109d2",
   "metadata": {},
   "outputs": [],
   "source": []
  },
  {
   "cell_type": "code",
   "execution_count": null,
   "id": "af2599eb",
   "metadata": {},
   "outputs": [],
   "source": []
  },
  {
   "cell_type": "code",
   "execution_count": null,
   "id": "dcff49ec",
   "metadata": {},
   "outputs": [],
   "source": []
  },
  {
   "cell_type": "code",
   "execution_count": null,
   "id": "5aacf2b9",
   "metadata": {},
   "outputs": [],
   "source": []
  },
  {
   "cell_type": "code",
   "execution_count": null,
   "id": "ff5bf00d",
   "metadata": {},
   "outputs": [],
   "source": []
  },
  {
   "cell_type": "code",
   "execution_count": null,
   "id": "3d57640c",
   "metadata": {},
   "outputs": [],
   "source": []
  },
  {
   "cell_type": "code",
   "execution_count": null,
   "id": "e1cd3696",
   "metadata": {},
   "outputs": [],
   "source": []
  },
  {
   "cell_type": "code",
   "execution_count": null,
   "id": "dd00f30e",
   "metadata": {},
   "outputs": [],
   "source": []
  },
  {
   "cell_type": "code",
   "execution_count": null,
   "id": "798a4434",
   "metadata": {},
   "outputs": [],
   "source": []
  },
  {
   "cell_type": "code",
   "execution_count": null,
   "id": "61c66cee",
   "metadata": {},
   "outputs": [],
   "source": []
  },
  {
   "cell_type": "code",
   "execution_count": null,
   "id": "c4a611df",
   "metadata": {},
   "outputs": [],
   "source": []
  },
  {
   "cell_type": "code",
   "execution_count": null,
   "id": "b4a3aac3",
   "metadata": {},
   "outputs": [],
   "source": []
  },
  {
   "cell_type": "code",
   "execution_count": null,
   "id": "2be494cd",
   "metadata": {},
   "outputs": [],
   "source": []
  },
  {
   "cell_type": "code",
   "execution_count": null,
   "id": "989381bd",
   "metadata": {},
   "outputs": [],
   "source": []
  },
  {
   "cell_type": "code",
   "execution_count": null,
   "id": "1c2e2389",
   "metadata": {},
   "outputs": [],
   "source": []
  },
  {
   "cell_type": "code",
   "execution_count": null,
   "id": "5146f404",
   "metadata": {},
   "outputs": [],
   "source": []
  },
  {
   "cell_type": "code",
   "execution_count": null,
   "id": "afd3457e",
   "metadata": {},
   "outputs": [],
   "source": []
  },
  {
   "cell_type": "code",
   "execution_count": null,
   "id": "24a7e573",
   "metadata": {},
   "outputs": [],
   "source": []
  },
  {
   "cell_type": "code",
   "execution_count": null,
   "id": "cd993f56",
   "metadata": {},
   "outputs": [],
   "source": []
  },
  {
   "cell_type": "code",
   "execution_count": null,
   "id": "d6b71d43",
   "metadata": {},
   "outputs": [],
   "source": []
  },
  {
   "cell_type": "code",
   "execution_count": null,
   "id": "6e94a779",
   "metadata": {},
   "outputs": [],
   "source": []
  },
  {
   "cell_type": "code",
   "execution_count": null,
   "id": "e1eb94ea",
   "metadata": {},
   "outputs": [],
   "source": []
  },
  {
   "cell_type": "code",
   "execution_count": null,
   "id": "3b97045e",
   "metadata": {},
   "outputs": [],
   "source": []
  },
  {
   "cell_type": "code",
   "execution_count": null,
   "id": "add452db",
   "metadata": {},
   "outputs": [],
   "source": []
  },
  {
   "cell_type": "code",
   "execution_count": null,
   "id": "f5f7afdc",
   "metadata": {},
   "outputs": [],
   "source": []
  },
  {
   "cell_type": "code",
   "execution_count": null,
   "id": "16173f41",
   "metadata": {},
   "outputs": [],
   "source": []
  },
  {
   "cell_type": "code",
   "execution_count": null,
   "id": "7fe4a4aa",
   "metadata": {},
   "outputs": [],
   "source": []
  },
  {
   "cell_type": "code",
   "execution_count": null,
   "id": "908e360e",
   "metadata": {},
   "outputs": [],
   "source": []
  },
  {
   "cell_type": "code",
   "execution_count": null,
   "id": "6ffd165e",
   "metadata": {},
   "outputs": [],
   "source": []
  },
  {
   "cell_type": "code",
   "execution_count": null,
   "id": "6cd471da",
   "metadata": {},
   "outputs": [],
   "source": []
  },
  {
   "cell_type": "code",
   "execution_count": null,
   "id": "7a525bfa",
   "metadata": {},
   "outputs": [],
   "source": []
  },
  {
   "cell_type": "code",
   "execution_count": null,
   "id": "f472125e",
   "metadata": {},
   "outputs": [],
   "source": []
  },
  {
   "cell_type": "code",
   "execution_count": null,
   "id": "e525ab10",
   "metadata": {},
   "outputs": [],
   "source": []
  },
  {
   "cell_type": "code",
   "execution_count": null,
   "id": "3e266fca",
   "metadata": {},
   "outputs": [],
   "source": []
  },
  {
   "cell_type": "code",
   "execution_count": null,
   "id": "bd463df7",
   "metadata": {},
   "outputs": [],
   "source": []
  },
  {
   "cell_type": "code",
   "execution_count": null,
   "id": "cbda6db8",
   "metadata": {},
   "outputs": [],
   "source": []
  },
  {
   "cell_type": "code",
   "execution_count": null,
   "id": "f11ed936",
   "metadata": {},
   "outputs": [],
   "source": []
  },
  {
   "cell_type": "code",
   "execution_count": null,
   "id": "48a11718",
   "metadata": {},
   "outputs": [],
   "source": []
  },
  {
   "cell_type": "code",
   "execution_count": null,
   "id": "28286920",
   "metadata": {},
   "outputs": [],
   "source": []
  },
  {
   "cell_type": "code",
   "execution_count": null,
   "id": "d27d2ff8",
   "metadata": {},
   "outputs": [],
   "source": []
  },
  {
   "cell_type": "code",
   "execution_count": null,
   "id": "d7f2b98a",
   "metadata": {},
   "outputs": [],
   "source": []
  },
  {
   "cell_type": "code",
   "execution_count": null,
   "id": "c9cdca4a",
   "metadata": {},
   "outputs": [],
   "source": []
  },
  {
   "cell_type": "code",
   "execution_count": null,
   "id": "5c86e6c5",
   "metadata": {},
   "outputs": [],
   "source": []
  },
  {
   "cell_type": "code",
   "execution_count": null,
   "id": "b8993da3",
   "metadata": {},
   "outputs": [],
   "source": []
  },
  {
   "cell_type": "code",
   "execution_count": null,
   "id": "d6da93e2",
   "metadata": {},
   "outputs": [],
   "source": []
  },
  {
   "cell_type": "code",
   "execution_count": null,
   "id": "fd2c96ee",
   "metadata": {},
   "outputs": [],
   "source": []
  },
  {
   "cell_type": "code",
   "execution_count": null,
   "id": "323f5c90",
   "metadata": {},
   "outputs": [],
   "source": []
  },
  {
   "cell_type": "code",
   "execution_count": null,
   "id": "b857425a",
   "metadata": {},
   "outputs": [],
   "source": []
  },
  {
   "cell_type": "code",
   "execution_count": null,
   "id": "563a6f24",
   "metadata": {},
   "outputs": [],
   "source": []
  },
  {
   "cell_type": "code",
   "execution_count": null,
   "id": "cd49c81b",
   "metadata": {},
   "outputs": [],
   "source": []
  },
  {
   "cell_type": "code",
   "execution_count": null,
   "id": "327a4678",
   "metadata": {},
   "outputs": [],
   "source": []
  },
  {
   "cell_type": "code",
   "execution_count": null,
   "id": "3848828b",
   "metadata": {},
   "outputs": [],
   "source": []
  },
  {
   "cell_type": "code",
   "execution_count": null,
   "id": "c0681c9f",
   "metadata": {},
   "outputs": [],
   "source": []
  },
  {
   "cell_type": "code",
   "execution_count": null,
   "id": "2d9d4da3",
   "metadata": {},
   "outputs": [],
   "source": []
  },
  {
   "cell_type": "code",
   "execution_count": null,
   "id": "251e6654",
   "metadata": {},
   "outputs": [],
   "source": []
  },
  {
   "cell_type": "code",
   "execution_count": null,
   "id": "dae9e2b8",
   "metadata": {},
   "outputs": [],
   "source": []
  },
  {
   "cell_type": "code",
   "execution_count": null,
   "id": "ef6358d5",
   "metadata": {},
   "outputs": [],
   "source": []
  },
  {
   "cell_type": "code",
   "execution_count": null,
   "id": "78fab853",
   "metadata": {},
   "outputs": [],
   "source": []
  },
  {
   "cell_type": "code",
   "execution_count": null,
   "id": "d4c78961",
   "metadata": {},
   "outputs": [],
   "source": []
  },
  {
   "cell_type": "code",
   "execution_count": null,
   "id": "9d42c870",
   "metadata": {},
   "outputs": [],
   "source": []
  },
  {
   "cell_type": "code",
   "execution_count": null,
   "id": "31259406",
   "metadata": {},
   "outputs": [],
   "source": []
  },
  {
   "cell_type": "code",
   "execution_count": null,
   "id": "ebaf2adc",
   "metadata": {},
   "outputs": [],
   "source": []
  },
  {
   "cell_type": "code",
   "execution_count": null,
   "id": "692fb3dd",
   "metadata": {},
   "outputs": [],
   "source": []
  },
  {
   "cell_type": "code",
   "execution_count": null,
   "id": "4b104a0a",
   "metadata": {},
   "outputs": [],
   "source": []
  },
  {
   "cell_type": "code",
   "execution_count": null,
   "id": "ee80e770",
   "metadata": {},
   "outputs": [],
   "source": []
  },
  {
   "cell_type": "code",
   "execution_count": null,
   "id": "69e643f4",
   "metadata": {},
   "outputs": [],
   "source": []
  },
  {
   "cell_type": "code",
   "execution_count": null,
   "id": "156feea4",
   "metadata": {},
   "outputs": [],
   "source": []
  },
  {
   "cell_type": "code",
   "execution_count": null,
   "id": "d29e4899",
   "metadata": {},
   "outputs": [],
   "source": []
  },
  {
   "cell_type": "code",
   "execution_count": null,
   "id": "1e5f0334",
   "metadata": {},
   "outputs": [],
   "source": []
  },
  {
   "cell_type": "code",
   "execution_count": null,
   "id": "153a28c8",
   "metadata": {},
   "outputs": [],
   "source": []
  },
  {
   "cell_type": "code",
   "execution_count": null,
   "id": "59557e5d",
   "metadata": {},
   "outputs": [],
   "source": []
  },
  {
   "cell_type": "code",
   "execution_count": null,
   "id": "786816cf",
   "metadata": {},
   "outputs": [],
   "source": []
  },
  {
   "cell_type": "code",
   "execution_count": null,
   "id": "917806a6",
   "metadata": {},
   "outputs": [],
   "source": []
  },
  {
   "cell_type": "code",
   "execution_count": null,
   "id": "e7117c15",
   "metadata": {},
   "outputs": [],
   "source": []
  },
  {
   "cell_type": "code",
   "execution_count": null,
   "id": "547cea3b",
   "metadata": {},
   "outputs": [],
   "source": []
  },
  {
   "cell_type": "code",
   "execution_count": null,
   "id": "704840c2",
   "metadata": {},
   "outputs": [],
   "source": []
  },
  {
   "cell_type": "code",
   "execution_count": null,
   "id": "18d28f8f",
   "metadata": {},
   "outputs": [],
   "source": []
  },
  {
   "cell_type": "code",
   "execution_count": null,
   "id": "9d4a0e47",
   "metadata": {},
   "outputs": [],
   "source": []
  },
  {
   "cell_type": "code",
   "execution_count": null,
   "id": "c044be6b",
   "metadata": {},
   "outputs": [],
   "source": []
  },
  {
   "cell_type": "code",
   "execution_count": null,
   "id": "e0d873bb",
   "metadata": {},
   "outputs": [],
   "source": []
  },
  {
   "cell_type": "code",
   "execution_count": null,
   "id": "858b46a6",
   "metadata": {},
   "outputs": [],
   "source": []
  },
  {
   "cell_type": "code",
   "execution_count": null,
   "id": "c3e4ac29",
   "metadata": {},
   "outputs": [],
   "source": []
  },
  {
   "cell_type": "code",
   "execution_count": null,
   "id": "171fb795",
   "metadata": {},
   "outputs": [],
   "source": []
  },
  {
   "cell_type": "code",
   "execution_count": null,
   "id": "950cddcd",
   "metadata": {},
   "outputs": [],
   "source": []
  },
  {
   "cell_type": "code",
   "execution_count": null,
   "id": "3fa11d3c",
   "metadata": {},
   "outputs": [],
   "source": []
  },
  {
   "cell_type": "code",
   "execution_count": null,
   "id": "94d2b481",
   "metadata": {},
   "outputs": [],
   "source": []
  },
  {
   "cell_type": "code",
   "execution_count": 56,
   "id": "e101d741",
   "metadata": {},
   "outputs": [],
   "source": []
  },
  {
   "cell_type": "code",
   "execution_count": null,
   "id": "b104ce71",
   "metadata": {},
   "outputs": [],
   "source": []
  },
  {
   "cell_type": "code",
   "execution_count": null,
   "id": "1b081369",
   "metadata": {},
   "outputs": [],
   "source": []
  },
  {
   "cell_type": "code",
   "execution_count": null,
   "id": "478b64fc",
   "metadata": {},
   "outputs": [],
   "source": []
  },
  {
   "cell_type": "code",
   "execution_count": null,
   "id": "b2cda5de",
   "metadata": {},
   "outputs": [],
   "source": []
  },
  {
   "cell_type": "code",
   "execution_count": null,
   "id": "bc6f181b",
   "metadata": {},
   "outputs": [],
   "source": []
  },
  {
   "cell_type": "code",
   "execution_count": null,
   "id": "efc3494c",
   "metadata": {},
   "outputs": [],
   "source": []
  },
  {
   "cell_type": "code",
   "execution_count": null,
   "id": "d33fbade",
   "metadata": {},
   "outputs": [],
   "source": []
  },
  {
   "cell_type": "code",
   "execution_count": null,
   "id": "124c2d9f",
   "metadata": {},
   "outputs": [],
   "source": []
  },
  {
   "cell_type": "code",
   "execution_count": null,
   "id": "f44c3bd5",
   "metadata": {},
   "outputs": [],
   "source": []
  },
  {
   "cell_type": "code",
   "execution_count": null,
   "id": "558939c1",
   "metadata": {},
   "outputs": [],
   "source": []
  },
  {
   "cell_type": "code",
   "execution_count": null,
   "id": "65394ac1",
   "metadata": {},
   "outputs": [],
   "source": []
  },
  {
   "cell_type": "code",
   "execution_count": null,
   "id": "28188902",
   "metadata": {},
   "outputs": [],
   "source": []
  },
  {
   "cell_type": "code",
   "execution_count": null,
   "id": "e53ef207",
   "metadata": {},
   "outputs": [],
   "source": []
  },
  {
   "cell_type": "code",
   "execution_count": null,
   "id": "9bef859c",
   "metadata": {},
   "outputs": [],
   "source": []
  },
  {
   "cell_type": "code",
   "execution_count": null,
   "id": "e7b279ad",
   "metadata": {},
   "outputs": [],
   "source": []
  },
  {
   "cell_type": "code",
   "execution_count": null,
   "id": "aa0a529e",
   "metadata": {},
   "outputs": [],
   "source": []
  },
  {
   "cell_type": "code",
   "execution_count": null,
   "id": "c2c9383e",
   "metadata": {},
   "outputs": [],
   "source": []
  },
  {
   "cell_type": "code",
   "execution_count": null,
   "id": "3afbaee7",
   "metadata": {},
   "outputs": [],
   "source": []
  },
  {
   "cell_type": "code",
   "execution_count": null,
   "id": "e8b661dc",
   "metadata": {},
   "outputs": [],
   "source": []
  },
  {
   "cell_type": "code",
   "execution_count": null,
   "id": "e8c22bf7",
   "metadata": {},
   "outputs": [],
   "source": []
  },
  {
   "cell_type": "code",
   "execution_count": null,
   "id": "7c281f33",
   "metadata": {},
   "outputs": [],
   "source": []
  },
  {
   "cell_type": "code",
   "execution_count": null,
   "id": "c4812ec4",
   "metadata": {},
   "outputs": [],
   "source": []
  },
  {
   "cell_type": "code",
   "execution_count": null,
   "id": "bcb60aa2",
   "metadata": {},
   "outputs": [],
   "source": []
  },
  {
   "cell_type": "code",
   "execution_count": null,
   "id": "8e8cb004",
   "metadata": {},
   "outputs": [],
   "source": []
  },
  {
   "cell_type": "code",
   "execution_count": null,
   "id": "c67a5a13",
   "metadata": {},
   "outputs": [],
   "source": []
  },
  {
   "cell_type": "code",
   "execution_count": null,
   "id": "bc968096",
   "metadata": {},
   "outputs": [],
   "source": []
  },
  {
   "cell_type": "code",
   "execution_count": null,
   "id": "74f6a1a6",
   "metadata": {},
   "outputs": [],
   "source": []
  },
  {
   "cell_type": "code",
   "execution_count": null,
   "id": "f2f686b6",
   "metadata": {},
   "outputs": [],
   "source": []
  },
  {
   "cell_type": "code",
   "execution_count": null,
   "id": "cffbc69b",
   "metadata": {},
   "outputs": [],
   "source": []
  },
  {
   "cell_type": "code",
   "execution_count": null,
   "id": "643c86b8",
   "metadata": {},
   "outputs": [],
   "source": []
  },
  {
   "cell_type": "code",
   "execution_count": null,
   "id": "ca6c327e",
   "metadata": {},
   "outputs": [],
   "source": []
  },
  {
   "cell_type": "code",
   "execution_count": null,
   "id": "27875f24",
   "metadata": {},
   "outputs": [],
   "source": []
  },
  {
   "cell_type": "code",
   "execution_count": null,
   "id": "48928e6e",
   "metadata": {},
   "outputs": [],
   "source": []
  },
  {
   "cell_type": "code",
   "execution_count": null,
   "id": "4dd4ec85",
   "metadata": {},
   "outputs": [],
   "source": []
  },
  {
   "cell_type": "code",
   "execution_count": null,
   "id": "869aa805",
   "metadata": {},
   "outputs": [],
   "source": []
  },
  {
   "cell_type": "code",
   "execution_count": null,
   "id": "8e47d8db",
   "metadata": {},
   "outputs": [],
   "source": []
  },
  {
   "cell_type": "code",
   "execution_count": null,
   "id": "08804707",
   "metadata": {},
   "outputs": [],
   "source": []
  },
  {
   "cell_type": "code",
   "execution_count": null,
   "id": "f994a07d",
   "metadata": {},
   "outputs": [],
   "source": []
  },
  {
   "cell_type": "code",
   "execution_count": null,
   "id": "2f0a889a",
   "metadata": {},
   "outputs": [],
   "source": []
  },
  {
   "cell_type": "code",
   "execution_count": null,
   "id": "0550d5d1",
   "metadata": {},
   "outputs": [],
   "source": []
  },
  {
   "cell_type": "code",
   "execution_count": null,
   "id": "e77cb4d1",
   "metadata": {},
   "outputs": [],
   "source": []
  },
  {
   "cell_type": "code",
   "execution_count": null,
   "id": "82150e5b",
   "metadata": {},
   "outputs": [],
   "source": []
  },
  {
   "cell_type": "code",
   "execution_count": null,
   "id": "b2099be8",
   "metadata": {},
   "outputs": [],
   "source": []
  },
  {
   "cell_type": "code",
   "execution_count": null,
   "id": "547695c9",
   "metadata": {},
   "outputs": [],
   "source": []
  },
  {
   "cell_type": "code",
   "execution_count": null,
   "id": "df89d52c",
   "metadata": {},
   "outputs": [],
   "source": []
  },
  {
   "cell_type": "code",
   "execution_count": null,
   "id": "2ad5a9d6",
   "metadata": {},
   "outputs": [],
   "source": []
  },
  {
   "cell_type": "code",
   "execution_count": null,
   "id": "3aee617f",
   "metadata": {},
   "outputs": [],
   "source": []
  },
  {
   "cell_type": "code",
   "execution_count": null,
   "id": "fb9a2872",
   "metadata": {},
   "outputs": [],
   "source": []
  },
  {
   "cell_type": "code",
   "execution_count": null,
   "id": "eb9c134c",
   "metadata": {},
   "outputs": [],
   "source": []
  },
  {
   "cell_type": "code",
   "execution_count": null,
   "id": "2a382bd6",
   "metadata": {},
   "outputs": [],
   "source": []
  },
  {
   "cell_type": "code",
   "execution_count": null,
   "id": "1d1c8110",
   "metadata": {},
   "outputs": [],
   "source": []
  },
  {
   "cell_type": "code",
   "execution_count": null,
   "id": "cb21330c",
   "metadata": {},
   "outputs": [],
   "source": []
  },
  {
   "cell_type": "code",
   "execution_count": null,
   "id": "144f24af",
   "metadata": {},
   "outputs": [],
   "source": []
  },
  {
   "cell_type": "code",
   "execution_count": null,
   "id": "626da8ca",
   "metadata": {},
   "outputs": [],
   "source": []
  },
  {
   "cell_type": "code",
   "execution_count": null,
   "id": "b3bcb337",
   "metadata": {},
   "outputs": [],
   "source": []
  },
  {
   "cell_type": "code",
   "execution_count": null,
   "id": "cafcf6bb",
   "metadata": {},
   "outputs": [],
   "source": []
  },
  {
   "cell_type": "code",
   "execution_count": null,
   "id": "4374c4be",
   "metadata": {},
   "outputs": [],
   "source": []
  },
  {
   "cell_type": "code",
   "execution_count": null,
   "id": "d518d840",
   "metadata": {},
   "outputs": [],
   "source": []
  },
  {
   "cell_type": "code",
   "execution_count": null,
   "id": "492173e2",
   "metadata": {},
   "outputs": [],
   "source": []
  },
  {
   "cell_type": "code",
   "execution_count": null,
   "id": "69ca94fa",
   "metadata": {},
   "outputs": [],
   "source": []
  },
  {
   "cell_type": "code",
   "execution_count": null,
   "id": "d42d0026",
   "metadata": {},
   "outputs": [],
   "source": []
  },
  {
   "cell_type": "code",
   "execution_count": null,
   "id": "03fb8beb",
   "metadata": {},
   "outputs": [],
   "source": []
  },
  {
   "cell_type": "code",
   "execution_count": null,
   "id": "144f434f",
   "metadata": {},
   "outputs": [],
   "source": []
  },
  {
   "cell_type": "code",
   "execution_count": null,
   "id": "7f9518be",
   "metadata": {},
   "outputs": [],
   "source": []
  },
  {
   "cell_type": "code",
   "execution_count": null,
   "id": "7bc68b43",
   "metadata": {},
   "outputs": [],
   "source": []
  },
  {
   "cell_type": "code",
   "execution_count": null,
   "id": "a99c4652",
   "metadata": {},
   "outputs": [],
   "source": []
  },
  {
   "cell_type": "code",
   "execution_count": null,
   "id": "587a2270",
   "metadata": {},
   "outputs": [],
   "source": []
  },
  {
   "cell_type": "code",
   "execution_count": null,
   "id": "34795f72",
   "metadata": {},
   "outputs": [],
   "source": []
  },
  {
   "cell_type": "code",
   "execution_count": null,
   "id": "10f57d11",
   "metadata": {},
   "outputs": [],
   "source": []
  },
  {
   "cell_type": "code",
   "execution_count": null,
   "id": "72111b80",
   "metadata": {},
   "outputs": [],
   "source": []
  },
  {
   "cell_type": "code",
   "execution_count": null,
   "id": "9966c8d4",
   "metadata": {},
   "outputs": [],
   "source": []
  },
  {
   "cell_type": "code",
   "execution_count": null,
   "id": "9209b694",
   "metadata": {},
   "outputs": [],
   "source": []
  },
  {
   "cell_type": "code",
   "execution_count": null,
   "id": "874330e7",
   "metadata": {},
   "outputs": [],
   "source": []
  },
  {
   "cell_type": "code",
   "execution_count": null,
   "id": "1459fe36",
   "metadata": {},
   "outputs": [],
   "source": []
  },
  {
   "cell_type": "code",
   "execution_count": null,
   "id": "d3091823",
   "metadata": {},
   "outputs": [],
   "source": []
  },
  {
   "cell_type": "code",
   "execution_count": null,
   "id": "febafa1a",
   "metadata": {},
   "outputs": [],
   "source": []
  },
  {
   "cell_type": "code",
   "execution_count": null,
   "id": "f2087aa4",
   "metadata": {},
   "outputs": [],
   "source": []
  },
  {
   "cell_type": "code",
   "execution_count": null,
   "id": "b264edba",
   "metadata": {},
   "outputs": [],
   "source": []
  },
  {
   "cell_type": "code",
   "execution_count": null,
   "id": "d66c78f3",
   "metadata": {},
   "outputs": [],
   "source": []
  },
  {
   "cell_type": "code",
   "execution_count": null,
   "id": "3b51265e",
   "metadata": {},
   "outputs": [],
   "source": []
  },
  {
   "cell_type": "code",
   "execution_count": null,
   "id": "cca2cb0f",
   "metadata": {},
   "outputs": [],
   "source": []
  },
  {
   "cell_type": "code",
   "execution_count": null,
   "id": "6153db63",
   "metadata": {},
   "outputs": [],
   "source": []
  },
  {
   "cell_type": "code",
   "execution_count": null,
   "id": "1e261f8c",
   "metadata": {},
   "outputs": [],
   "source": []
  },
  {
   "cell_type": "code",
   "execution_count": null,
   "id": "af828ece",
   "metadata": {},
   "outputs": [],
   "source": []
  },
  {
   "cell_type": "code",
   "execution_count": null,
   "id": "def31a13",
   "metadata": {},
   "outputs": [],
   "source": []
  },
  {
   "cell_type": "code",
   "execution_count": null,
   "id": "d2e398b0",
   "metadata": {},
   "outputs": [],
   "source": []
  },
  {
   "cell_type": "code",
   "execution_count": null,
   "id": "6c1c39d8",
   "metadata": {},
   "outputs": [],
   "source": []
  },
  {
   "cell_type": "code",
   "execution_count": null,
   "id": "683faf3a",
   "metadata": {},
   "outputs": [],
   "source": []
  },
  {
   "cell_type": "code",
   "execution_count": null,
   "id": "4de6f673",
   "metadata": {},
   "outputs": [],
   "source": []
  },
  {
   "cell_type": "code",
   "execution_count": null,
   "id": "fbeb7b99",
   "metadata": {},
   "outputs": [],
   "source": []
  },
  {
   "cell_type": "code",
   "execution_count": null,
   "id": "e08d3c4c",
   "metadata": {},
   "outputs": [],
   "source": []
  },
  {
   "cell_type": "code",
   "execution_count": null,
   "id": "c89b58b3",
   "metadata": {},
   "outputs": [],
   "source": []
  },
  {
   "cell_type": "code",
   "execution_count": null,
   "id": "e68f6716",
   "metadata": {},
   "outputs": [],
   "source": []
  },
  {
   "cell_type": "code",
   "execution_count": null,
   "id": "db77f45c",
   "metadata": {},
   "outputs": [],
   "source": []
  },
  {
   "cell_type": "code",
   "execution_count": null,
   "id": "955d52db",
   "metadata": {},
   "outputs": [],
   "source": []
  },
  {
   "cell_type": "code",
   "execution_count": null,
   "id": "103f5901",
   "metadata": {},
   "outputs": [],
   "source": []
  },
  {
   "cell_type": "code",
   "execution_count": null,
   "id": "a7b3c24a",
   "metadata": {},
   "outputs": [],
   "source": []
  },
  {
   "cell_type": "code",
   "execution_count": null,
   "id": "da17597c",
   "metadata": {},
   "outputs": [],
   "source": []
  },
  {
   "cell_type": "code",
   "execution_count": null,
   "id": "e6df37c5",
   "metadata": {},
   "outputs": [],
   "source": []
  },
  {
   "cell_type": "code",
   "execution_count": null,
   "id": "dcfc3b6b",
   "metadata": {},
   "outputs": [],
   "source": []
  },
  {
   "cell_type": "code",
   "execution_count": null,
   "id": "018f574f",
   "metadata": {},
   "outputs": [],
   "source": []
  },
  {
   "cell_type": "code",
   "execution_count": null,
   "id": "c89cedb0",
   "metadata": {},
   "outputs": [],
   "source": []
  },
  {
   "cell_type": "code",
   "execution_count": null,
   "id": "03a91eec",
   "metadata": {},
   "outputs": [],
   "source": []
  },
  {
   "cell_type": "code",
   "execution_count": null,
   "id": "529845d0",
   "metadata": {},
   "outputs": [],
   "source": []
  },
  {
   "cell_type": "code",
   "execution_count": null,
   "id": "aad3295d",
   "metadata": {},
   "outputs": [],
   "source": []
  },
  {
   "cell_type": "code",
   "execution_count": null,
   "id": "c759daca",
   "metadata": {},
   "outputs": [],
   "source": []
  },
  {
   "cell_type": "code",
   "execution_count": null,
   "id": "66a0cb8f",
   "metadata": {},
   "outputs": [],
   "source": []
  },
  {
   "cell_type": "code",
   "execution_count": null,
   "id": "5a400e44",
   "metadata": {},
   "outputs": [],
   "source": []
  },
  {
   "cell_type": "code",
   "execution_count": null,
   "id": "03aa1f68",
   "metadata": {},
   "outputs": [],
   "source": []
  },
  {
   "cell_type": "code",
   "execution_count": null,
   "id": "45241141",
   "metadata": {},
   "outputs": [],
   "source": []
  },
  {
   "cell_type": "code",
   "execution_count": null,
   "id": "49305980",
   "metadata": {},
   "outputs": [],
   "source": []
  },
  {
   "cell_type": "code",
   "execution_count": null,
   "id": "bc72315d",
   "metadata": {},
   "outputs": [],
   "source": []
  },
  {
   "cell_type": "code",
   "execution_count": null,
   "id": "7119ef0e",
   "metadata": {},
   "outputs": [],
   "source": []
  },
  {
   "cell_type": "code",
   "execution_count": null,
   "id": "af1adc12",
   "metadata": {},
   "outputs": [],
   "source": []
  },
  {
   "cell_type": "code",
   "execution_count": null,
   "id": "1e5d58f6",
   "metadata": {},
   "outputs": [],
   "source": []
  },
  {
   "cell_type": "code",
   "execution_count": null,
   "id": "f323ca44",
   "metadata": {},
   "outputs": [],
   "source": []
  },
  {
   "cell_type": "code",
   "execution_count": null,
   "id": "b450c384",
   "metadata": {},
   "outputs": [],
   "source": []
  },
  {
   "cell_type": "code",
   "execution_count": null,
   "id": "27c77109",
   "metadata": {},
   "outputs": [],
   "source": []
  },
  {
   "cell_type": "code",
   "execution_count": null,
   "id": "0371c54d",
   "metadata": {},
   "outputs": [],
   "source": []
  },
  {
   "cell_type": "code",
   "execution_count": null,
   "id": "62310992",
   "metadata": {},
   "outputs": [],
   "source": []
  },
  {
   "cell_type": "code",
   "execution_count": null,
   "id": "5fd60da9",
   "metadata": {},
   "outputs": [],
   "source": []
  },
  {
   "cell_type": "code",
   "execution_count": null,
   "id": "a1767ac6",
   "metadata": {},
   "outputs": [],
   "source": []
  },
  {
   "cell_type": "code",
   "execution_count": null,
   "id": "fb48e792",
   "metadata": {},
   "outputs": [],
   "source": []
  }
 ],
 "metadata": {
  "kernelspec": {
   "display_name": "Python 3",
   "language": "python",
   "name": "python3"
  },
  "language_info": {
   "codemirror_mode": {
    "name": "ipython",
    "version": 3
   },
   "file_extension": ".py",
   "mimetype": "text/x-python",
   "name": "python",
   "nbconvert_exporter": "python",
   "pygments_lexer": "ipython3",
   "version": "3.8.1"
  }
 },
 "nbformat": 4,
 "nbformat_minor": 5
}
