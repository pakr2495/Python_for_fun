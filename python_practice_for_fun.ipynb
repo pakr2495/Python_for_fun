{
 "cells": [
  {
   "cell_type": "code",
   "execution_count": 44,
   "id": "af937f34",
   "metadata": {},
   "outputs": [
    {
     "data": {
      "text/plain": [
       "4.0"
      ]
     },
     "execution_count": 44,
     "metadata": {},
     "output_type": "execute_result"
    }
   ],
   "source": [
    "16**0.5 #square root with out using math module"
   ]
  },
  {
   "cell_type": "code",
   "execution_count": 11,
   "id": "c6783487",
   "metadata": {},
   "outputs": [
    {
     "name": "stdout",
     "output_type": "stream",
     "text": [
      "[]\n",
      "[1]\n"
     ]
    },
    {
     "data": {
      "text/plain": [
       "[1, 2]"
      ]
     },
     "execution_count": 11,
     "metadata": {},
     "output_type": "execute_result"
    }
   ],
   "source": [
    "#mutable list behaviour for default value in function parameter\n",
    "def test(num,li=[]):\n",
    "    print(li)\n",
    "    li.append(num)\n",
    "    return li\n",
    "\n",
    "test(1)\n",
    "test(2)"
   ]
  },
  {
   "cell_type": "code",
   "execution_count": 6,
   "id": "be086a30",
   "metadata": {},
   "outputs": [
    {
     "name": "stdout",
     "output_type": "stream",
     "text": [
      "before operation\n",
      "5\n",
      "after operation\n"
     ]
    }
   ],
   "source": [
    "#Decorator\n",
    "def dec(f):\n",
    "    def innerfunc(a,b):\n",
    "        print(\"before operation\")\n",
    "        ans=f(a,b)\n",
    "        print (\"after operation\")\n",
    "        return ans\n",
    "    return innerfunc\n",
    "\n",
    "@dec\n",
    "def add(a,b):\n",
    "    print(a+b)\n",
    "\n",
    "add(2,3)"
   ]
  },
  {
   "cell_type": "code",
   "execution_count": 14,
   "id": "3358726a",
   "metadata": {},
   "outputs": [
    {
     "name": "stdout",
     "output_type": "stream",
     "text": [
      "0 111\n",
      "1 121\n",
      "2 131\n",
      "3 141\n",
      "4 151\n",
      "5 161\n",
      "6 171\n",
      "7 181\n",
      "8 191\n",
      "9 101\n"
     ]
    }
   ],
   "source": [
    "#enumerate example\n",
    "\n",
    "li = [111,121,131,141,151,161,171,181,191,101]\n",
    "for index,values in enumerate(li):\n",
    "    print(index,values)"
   ]
  },
  {
   "cell_type": "code",
   "execution_count": 17,
   "id": "44fbd252",
   "metadata": {},
   "outputs": [
    {
     "name": "stdout",
     "output_type": "stream",
     "text": [
      "frozenset({161, 131, 101, 'c', 171, 'b', 141, 111, 181, 'a', 151, 121, 191})\n",
      "frozenset()\n",
      "True\n"
     ]
    }
   ],
   "source": [
    "#frozen set - immutable set\n",
    "li = [111,121,131,141,151,161,171,181,191,101]\n",
    "dic = {'a': 1 , 'b': 2 , 'c': 3}\n",
    "li_forzen = frozenset(li)\n",
    "dic_forzen = frozenset(dic)\n",
    "print(li_forzen.union(dic_forzen))\n",
    "print(li_forzen.intersection(dic_forzen))\n",
    "print(li_forzen.isdisjoint(dic_forzen))"
   ]
  },
  {
   "cell_type": "code",
   "execution_count": 22,
   "id": "fcf3768c",
   "metadata": {
    "scrolled": true
   },
   "outputs": [
    {
     "name": "stdout",
     "output_type": "stream",
     "text": [
      "121\n",
      "131\n",
      "141\n",
      "151\n",
      "161\n",
      "171\n",
      "181\n",
      "191\n",
      "101\n",
      "[121, 131, 141, 151, 161, 171, 181, 191, 101]\n"
     ]
    }
   ],
   "source": [
    "#iter object ,yield, generator object\n",
    "li = [111,121,131,141,151,161,171,181,191,101]\n",
    "\n",
    "li_iter = iter(li)\n",
    "next(li_iter)\n",
    "for i in li_iter :\n",
    "    print(i)\n",
    "\n",
    "def genfunc():\n",
    "    for i in li :\n",
    "        yield i\n",
    "gen_object = genfunc()\n",
    "next(gen_object)\n",
    "print(list(gen_object))"
   ]
  },
  {
   "cell_type": "code",
   "execution_count": 3,
   "id": "ae53deb1",
   "metadata": {},
   "outputs": [
    {
     "name": "stdout",
     "output_type": "stream",
     "text": [
      "5\n",
      "5\n",
      "5\n",
      "5\n",
      "5\n",
      "5\n",
      "5\n",
      "5\n",
      "5\n",
      "5\n",
      "6\n",
      "6\n",
      "6\n",
      "6\n",
      "6\n",
      "6\n",
      "6\n",
      "6\n",
      "6\n",
      "6\n",
      "Background Processmain therad completed\n",
      "Background Process\n",
      "Background Process\n",
      "Background Process\n",
      "Background Process\n",
      "Background Process\n",
      "Background Process\n",
      "Background Process\n",
      "Background Process\n",
      "Background Process\n",
      "\n"
     ]
    }
   ],
   "source": [
    "#threading - daemon thread and non daemon thread\n",
    "#daemon thread - background process , will terminate when main thread is terminated\n",
    "from threading import Thread\n",
    "import threading\n",
    "th = threading.Lock() \n",
    "\n",
    "\n",
    "def add (num1,num2):\n",
    "    th.acquire() #locking the resource\n",
    "    for _ in range(10):\n",
    "        print(num1+num2)\n",
    "    th.release()\n",
    "\n",
    "def mul(num2,num3):\n",
    "    th.acquire()\n",
    "    for _ in range(10):\n",
    "        print(num2*num3)\n",
    "    th.release()\n",
    "\n",
    "def ex_demon():\n",
    "    th.acquire()\n",
    "    for i in range(10):\n",
    "        print(\"Background Process\")\n",
    "    th.release()\n",
    "\n",
    "t1 = Thread(target=add, args=(2,3))\n",
    "t2 = Thread(target=mul, args=(2,3))\n",
    "t3 = Thread(target=ex_demon)\n",
    "t1.setName = 'first thread'\n",
    "t3.setDaemon(True)\n",
    "t1.start()\n",
    "t2.start()\n",
    "t3.start()\n",
    "\n",
    "t1.join()\n",
    "t2.join()\n",
    "#th.acquire()\n",
    "print('main therad completed')\n",
    "#th.release()"
   ]
  },
  {
   "cell_type": "code",
   "execution_count": 10,
   "id": "5d95c390",
   "metadata": {},
   "outputs": [
    {
     "name": "stdout",
     "output_type": "stream",
     "text": [
      "pr1 8064\n",
      "pr2 9804\n",
      "main process id29532\n",
      "done\n",
      "__main__\n"
     ]
    }
   ],
   "source": [
    "#multiprocessing\n",
    "import multiprocessing\n",
    "import os\n",
    "\n",
    "def p1():\n",
    "    print('p1 id',os.getpid())\n",
    "\n",
    "def p2():\n",
    "    print('p2 id',os.getpid())\n",
    "\n",
    "if __name__ == \"__main__\":\n",
    "\n",
    "    pr1 = multiprocessing.Process(target=p1)\n",
    "    pr2 = multiprocessing.Process(target=p2)\n",
    "\n",
    "    pr1.start()\n",
    "    pr2.start()\n",
    "\n",
    "    print('pr1',pr1.pid)\n",
    "    print('pr2',pr2.pid)\n",
    "\n",
    "    pr1.join()\n",
    "    pr2.join()\n",
    "\n",
    "    print('main process id'+ str(os.getpid()))\n",
    "    print('done')"
   ]
  },
  {
   "cell_type": "code",
   "execution_count": 47,
   "id": "6356b722",
   "metadata": {},
   "outputs": [
    {
     "name": "stdout",
     "output_type": "stream",
     "text": [
      "25\n"
     ]
    }
   ],
   "source": [
    "#global keyword\n",
    "\n",
    "num = 5\n",
    "def test():\n",
    "    global num\n",
    "    num = num * 5\n",
    "    print(num)\n",
    "test()"
   ]
  },
  {
   "cell_type": "code",
   "execution_count": 54,
   "id": "cb21e2fd",
   "metadata": {
    "scrolled": true
   },
   "outputs": [
    {
     "name": "stdout",
     "output_type": "stream",
     "text": [
      "0\n",
      "1\n",
      "2\n",
      "3\n",
      "4\n",
      "5\n",
      "6\n",
      "7\n",
      "8\n",
      "9\n",
      "done printing\n"
     ]
    }
   ],
   "source": [
    "# else block in for loop\n",
    "for i in range(10):\n",
    "    print(i)\n",
    "else:\n",
    "    print('done printing')"
   ]
  },
  {
   "cell_type": "code",
   "execution_count": 50,
   "id": "0b6a1243",
   "metadata": {},
   "outputs": [
    {
     "data": {
      "text/plain": [
       "6"
      ]
     },
     "execution_count": 50,
     "metadata": {},
     "output_type": "execute_result"
    }
   ],
   "source": [
    "# special meaning of _ \n",
    "a = 2\n",
    "b = 4\n",
    "a+b"
   ]
  },
  {
   "cell_type": "code",
   "execution_count": 51,
   "id": "87780dc1",
   "metadata": {},
   "outputs": [
    {
     "name": "stdout",
     "output_type": "stream",
     "text": [
      "6\n"
     ]
    }
   ],
   "source": [
    "print(_) # previous value from command"
   ]
  },
  {
   "cell_type": "code",
   "execution_count": 53,
   "id": "9af733a7",
   "metadata": {},
   "outputs": [
    {
     "name": "stdout",
     "output_type": "stream",
     "text": [
      "2\n",
      "4\n",
      "6\n",
      "8\n"
     ]
    }
   ],
   "source": [
    "# _ in for loop\n",
    "for _ in range(2,10,2):\n",
    "    print(_)"
   ]
  },
  {
   "cell_type": "code",
   "execution_count": 61,
   "id": "d7a66325",
   "metadata": {},
   "outputs": [
    {
     "name": "stdout",
     "output_type": "stream",
     "text": [
      "try block\n",
      "except block\n",
      "finally block\n"
     ]
    }
   ],
   "source": [
    "#try,except,else,finally - finally block should be at last , else block will execute if there is no exeception\n",
    "try:\n",
    "    print('try block')\n",
    "    #printsdasd\n",
    "except:\n",
    "    print('except block')\n",
    "else:\n",
    "    print('else block')\n",
    "finally:\n",
    "    print('finally block')\n",
    "\n",
    "    "
   ]
  },
  {
   "cell_type": "code",
   "execution_count": 62,
   "id": "49ed246b",
   "metadata": {},
   "outputs": [
    {
     "name": "stdout",
     "output_type": "stream",
     "text": [
      "True\n"
     ]
    }
   ],
   "source": [
    "#palindrome check\n",
    "inp_str = 'malayalam'\n",
    "\n",
    "print(inp_str == inp_str[::-1])"
   ]
  },
  {
   "cell_type": "code",
   "execution_count": 67,
   "id": "d0eea2b0",
   "metadata": {},
   "outputs": [
    {
     "name": "stdout",
     "output_type": "stream",
     "text": [
      "31\n",
      "42\n"
     ]
    },
    {
     "data": {
      "text/plain": [
       "3"
      ]
     },
     "execution_count": 67,
     "metadata": {},
     "output_type": "execute_result"
    }
   ],
   "source": [
    "# eval if string contains int , eval function will conisder as int and evaluvate\n",
    "a = eval(input(a))\n",
    "b = eval(input(b))\n",
    "a+b"
   ]
  },
  {
   "cell_type": "code",
   "execution_count": 71,
   "id": "dc60842d",
   "metadata": {},
   "outputs": [
    {
     "data": {
      "text/plain": [
       "60"
      ]
     },
     "execution_count": 71,
     "metadata": {},
     "output_type": "execute_result"
    }
   ],
   "source": [
    "# lambda expression\n",
    "a = lambda a,b,c : a*b*c\n",
    "a(1,2,3)\n",
    "\n",
    "def test(a,b):\n",
    "    c =a*b\n",
    "    return lambda :c*10\n",
    "test(2,3)()"
   ]
  },
  {
   "cell_type": "code",
   "execution_count": 76,
   "id": "2a186c3c",
   "metadata": {},
   "outputs": [
    {
     "name": "stdout",
     "output_type": "stream",
     "text": [
      "[4, 8, 12, 16, 20, 24, 32, 36]\n",
      "{'a': 4, 'b': 8, 'c': 12}\n"
     ]
    },
    {
     "data": {
      "text/plain": [
       "(2, 4, 6, 8)"
      ]
     },
     "execution_count": 76,
     "metadata": {},
     "output_type": "execute_result"
    }
   ],
   "source": [
    "#list comprehension ,dict comprehension,tuple comprehension\n",
    "li = [2,4,6,8,10,12,16,18]\n",
    "li_comp = [i*2 for i in li if i%2 == 0]\n",
    "li_comp\n",
    "dict_ex = {'a':2 , 'b': 4 , 'c': 6}\n",
    "dict_comp = {key:(value*2) for key,value in dict_ex.items()}\n",
    "print(li_comp)\n",
    "print(dict_comp)\n",
    "tup = (1,2,3,4,5,6,7,8)\n",
    "tup_comp = tuple((i for i in tup if i %2 == 0))\n",
    "tup_comp"
   ]
  },
  {
   "cell_type": "code",
   "execution_count": 77,
   "id": "e52bfa3e",
   "metadata": {},
   "outputs": [
    {
     "data": {
      "text/plain": [
       "tuple"
      ]
     },
     "execution_count": 77,
     "metadata": {},
     "output_type": "execute_result"
    }
   ],
   "source": [
    "a = 2,4,6,8, #tuple\n",
    "type(a)"
   ]
  },
  {
   "cell_type": "code",
   "execution_count": 78,
   "id": "6fae6aaf",
   "metadata": {},
   "outputs": [
    {
     "data": {
      "text/plain": [
       "[(1, 4), (2, 5), (3, 6), (4, 7)]"
      ]
     },
     "execution_count": 78,
     "metadata": {},
     "output_type": "execute_result"
    }
   ],
   "source": [
    "#zip function\n",
    "li1 = [1,2,3,4]\n",
    "li2 = [4,5,6,7]\n",
    "list(zip(li1,li2))"
   ]
  },
  {
   "cell_type": "code",
   "execution_count": 83,
   "id": "0db32390",
   "metadata": {},
   "outputs": [
    {
     "data": {
      "text/plain": [
       "[8, 16, 24, 28, 32]"
      ]
     },
     "execution_count": 83,
     "metadata": {},
     "output_type": "execute_result"
    }
   ],
   "source": [
    "#map\n",
    "li = [2,4,6,7,8]\n",
    "a = map(lambda i : i*4 ,li)\n",
    "list(a)"
   ]
  },
  {
   "cell_type": "code",
   "execution_count": 85,
   "id": "26482a9d",
   "metadata": {},
   "outputs": [
    {
     "data": {
      "text/plain": [
       "[2, 4, 6, 8, 10, 2, 4, 6, 8]"
      ]
     },
     "execution_count": 85,
     "metadata": {},
     "output_type": "execute_result"
    }
   ],
   "source": [
    "#filter(func,iterator) the function is executed on each element of the list\n",
    "# when function is defined\n",
    "#(element for element in iterable if function(element))\n",
    "\n",
    "# when function is None\n",
    "#(element for element in iterable if element)\n",
    "\n",
    "li = [1,2,3,4,5,6,7,8,9,10,2,3,4,5,6,7,8,9]\n",
    "\n",
    "def check_for_even(num):\n",
    "    if num%2 == 0:\n",
    "        return True\n",
    "    else:\n",
    "        return False\n",
    "final_li = filter(check_for_even,li)\n",
    "list(final_li)\n",
    "     "
   ]
  },
  {
   "cell_type": "code",
   "execution_count": 2,
   "id": "317e70d5",
   "metadata": {
    "scrolled": true
   },
   "outputs": [
    {
     "name": "stdout",
     "output_type": "stream",
     "text": [
      "nt\n",
      "os.stat_result(st_mode=16895, st_ino=19984723346456669, st_dev=1954377445, st_nlink=1, st_uid=0, st_gid=0, st_size=4096, st_atime=1621749078, st_mtime=1621707974, st_ctime=1620812369)\n"
     ]
    },
    {
     "data": {
      "text/plain": [
       "1"
      ]
     },
     "execution_count": 2,
     "metadata": {},
     "output_type": "execute_result"
    }
   ],
   "source": [
    "# Os module\n",
    "import os\n",
    "\n",
    "print(os.name) # name of os\n",
    "\n",
    "#print(os.environ) # reading the environment variable,returns dict\n",
    "\n",
    "#os.mkdir('test') # create directory\n",
    "\n",
    "#os.mkdir(r'./test/test') # create directory\n",
    "\n",
    "#print(os.getcwd())# current working directory\n",
    "\n",
    "#print(os.path.exists('test')) # check for path\n",
    "\n",
    "#print(os.path.abspath('test')) # abosolute url\n",
    "\n",
    "#print(list(os.walk('test')))  \n",
    "\n",
    "#print(os.path.isfile('test')) # check whether file or not\n",
    "\n",
    "#print(os.path.isdir('test')) #  check whether directory or not\n",
    "\n",
    "#os.rmdir('test') # remove directory\n",
    "\n",
    "os.chdir(\"d:\\\\\")  # change dir\n",
    "\n",
    "print(os.stat('test')) # gives information about folder or file , returns tuple\n",
    "\n",
    "fd = os.popen('test.txt','w') # same like open , opens the file with specified mode\n",
    "\n",
    "fd.write('testing')\n",
    "\n",
    "fd.close()\n",
    "\n",
    "#traverse all the files and folders in side the specified directory\n",
    "#for (root,dirs,files) in os.walk('Test', topdown=True):\n",
    "        #print (root)\n",
    "        #print (dirs)\n",
    "        #print (files)\n",
    "        #print ('--------------------------------')\n"
   ]
  },
  {
   "cell_type": "code",
   "execution_count": 55,
   "id": "3b1897cd",
   "metadata": {},
   "outputs": [],
   "source": [
    "# class oops concept\n",
    "class car:\n",
    "    defualt_name = 'Benz' # class parameter\n",
    "    def __init__(self,carname,carcolour):\n",
    "        self.car_name = carname\n",
    "        self.car_colour = carcolour\n",
    "        \n",
    "    def __str__(self): #usage of __str__ method\n",
    "        return 'Name of the car: {} \\n Car colour is {}'.format(self.car_name,self.car_colour)\n",
    "    \n",
    "        def __repr__(self): #usage of __repr__ method\n",
    "        return 'Name of the car: {} \\n Car colour is {}'.format(self.car_name,self.car_colour)\n",
    "    \n",
    "    \n",
    "\n",
    "    def display(self):\n",
    "        print(self.car_name,self.car_colour)\n",
    "    \n",
    "    @classmethod\n",
    "    def classmethod_ex(cls):\n",
    "        cls.car_name = 'BMW'\n",
    "        print('I am class method')\n",
    "        \n",
    "    @staticmethod\n",
    "    def staticmethod():\n",
    "        print('I am static method')\n",
    "        \n",
    "    def __add__(obj1,obj2): # operator overloading\n",
    "        return 'I have 2 cars . Name of the car are {} and {}'.format(obj1.car_name,obj2.car_name)"
   ]
  },
  {
   "cell_type": "code",
   "execution_count": null,
   "id": "5295ec65",
   "metadata": {},
   "outputs": [],
   "source": [
    "class engine(car):\n",
    "    def __init__(self,engine,carname,carcolour):\n",
    "        self.engine = engine\n",
    "        super().__init__(carname,carcolour) # super keyword usage\n",
    "    def display(self): #method overriding\n",
    "        print(self.car_name,self.car_colour,self.engine)"
   ]
  },
  {
   "cell_type": "code",
   "execution_count": 58,
   "id": "bb4d4ef1",
   "metadata": {},
   "outputs": [
    {
     "name": "stdout",
     "output_type": "stream",
     "text": [
      "Audi Red\n",
      "Red Audi Engine Audi\n",
      "Audi Red\n",
      "Bmw Red\n",
      "Red Audi Engine Audi\n"
     ]
    }
   ],
   "source": [
    "car_obj1 = car('Audi','Red')\n",
    "car_obj2 = car('Bmw','Red')\n",
    "eng_obj1 = engine('Audi','Red','Audi Engine') \n",
    "car_obj1.display()\n",
    "eng_obj1.display() #method overriding\n",
    "car_obj1 + car_obj2 #operator overloading\n",
    "car_obj1.staticmethod() #staticmethod\n",
    "car.classmethod_ex() #classmethod\n",
    "li_obj = [car_obj1,car_obj2,eng_obj1]\n",
    "\n",
    "for i in li_obj:\n",
    "    i.display() #polymorphism"
   ]
  },
  {
   "cell_type": "code",
   "execution_count": 68,
   "id": "0f06eff2",
   "metadata": {},
   "outputs": [
    {
     "name": "stdout",
     "output_type": "stream",
     "text": [
      "child class\n"
     ]
    }
   ],
   "source": [
    "#Abstract Class - It is a class which contains one or mobe abstract method . Abstract method contains only function defination . Implementation has to be done in child class.\n",
    "\n",
    "#Can't instantiate abstract class test with abstract methods display\n",
    "\n",
    "from abc import ABC,abstractmethod\n",
    "\n",
    "class test(ABC):\n",
    "    @abstractmethod\n",
    "    def display(self):\n",
    "        pass\n",
    "class test1(test):\n",
    "    def display(self):\n",
    "        print('child class')\n",
    "           \n",
    "\n",
    "obj = test1()\n",
    "\n",
    "obj.display()"
   ]
  },
  {
   "cell_type": "code",
   "execution_count": 66,
   "id": "ec6f3b26",
   "metadata": {},
   "outputs": [
    {
     "data": {
      "text/plain": [
       "'Instance is called via special method'"
      ]
     },
     "execution_count": 66,
     "metadata": {},
     "output_type": "execute_result"
    }
   ],
   "source": [
    "# special method __call__\n",
    "\n",
    "class test:\n",
    "    def __call__(self):\n",
    "        return 'Instance is called via special method'\n",
    "    \n",
    "t = test()\n",
    "t()"
   ]
  },
  {
   "cell_type": "code",
   "execution_count": 77,
   "id": "b472bee5",
   "metadata": {},
   "outputs": [
    {
     "name": "stdout",
     "output_type": "stream",
     "text": [
      "10\n",
      "20\n"
     ]
    }
   ],
   "source": [
    "# protected and private varaible . '_variableName'-protected member , '__variableName' - private member\n",
    "\n",
    "class test:\n",
    "    _a = 10\n",
    "    __b = 20\n",
    "    def display(self):\n",
    "        print(self._a)\n",
    "        print(self.__b)\n",
    "        \n",
    "class test1(test):\n",
    "    def display(self):\n",
    "        print(self._a)\n",
    "        print(self.__b)\n",
    "    \n",
    "t = test()\n",
    "t1 = test1()\n",
    "t.display()\n",
    "#t1.display()\n",
    "#print(t1.__b)\n"
   ]
  },
  {
   "cell_type": "code",
   "execution_count": 124,
   "id": "4d75158c",
   "metadata": {},
   "outputs": [
    {
     "data": {
      "text/plain": [
       "['sd', 'fs', 'fs', 'df', 'sd', '@#', '$']"
      ]
     },
     "execution_count": 124,
     "metadata": {},
     "output_type": "execute_result"
    }
   ],
   "source": [
    "# re - findall , search , match ,sub,split,compile\n",
    "# matchobject - group(),span(),start(),end(),string\n",
    "#https://www.programiz.com/python-programming/regex\n",
    "\n",
    "\n",
    "import re\n",
    "\n",
    "#print(re.findall('[hello]{1,2}o','helloworld helloon sdasdas hellobye lo'))\n",
    "#print(re.match('[hello]{1,2}o','hoelloworld helloon sdasdas hellobye lo'))\n",
    "#match_obj = re.search('[hello]{1,2}o','helloworld helloon sdasdas hellobye lo')\n",
    "#print(match_obj.string)\n",
    "#print(match_obj.group())\n",
    "#print(match_obj.span())\n",
    "#print(match_obj.start())\n",
    "#print(match_obj.end())\n",
    "#res = re.sub('[hello]{1,2}o','pk','helloworld helloon sdasdas hellobye lo')\n",
    "#print(res)\n",
    "#res = re.split('\\s','helloworld helloon sdasdas hellobye lo')\n",
    "#res\n",
    "\n",
    "#------------------------------------------------------------------------\n",
    "#(){}.[]+|\\?^$*\n",
    "#\\s - Spaces\n",
    "#\\d - Digit\n",
    "#\\D - Non digit\n",
    "#\\S - Non Space\n",
    "#\\A - Beginning of the string\n",
    "#\\b - Beginning or end of a word \n",
    "#\\B - Not at the beginning or end of a word \n",
    "#\\w - alpha numeric character with _\n",
    "#\\W - Non alpha numeric(speical character)\n",
    "#\\Z - word at the end ex python\\Z matches specified character at the end\n",
    "re.findall('(9){1,2}','9999')\n",
    "re.findall('[he]{1,2}','eehesasadheheczxcxzhe')\n",
    "re.findall(r'\\n','sfsdfsd\\nfdsfdsf\\n')\n",
    "re.findall('^[a-zA-Z0-9_\\-]+@[a-z_\\-]{3,10}\\.[a-z]{1,3}$','pavan-krishna1995@_gmail.in')\n",
    "re.findall('\\d{1,2}','9999')\n",
    "re.findall('\\D{1,2}','99993sdfsfsdfsd@#$')\n",
    "\n",
    "\n"
   ]
  },
  {
   "cell_type": "code",
   "execution_count": 129,
   "id": "4505b090",
   "metadata": {},
   "outputs": [
    {
     "name": "stdout",
     "output_type": "stream",
     "text": [
      "{'Date': 'Sun, 23 May 2021 15:20:23 GMT', 'Expires': '-1', 'Cache-Control': 'private, max-age=0', 'Content-Type': 'text/html; charset=ISO-8859-1', 'P3P': 'CP=\"This is not a P3P policy! See g.co/p3phelp for more info.\"', 'Content-Encoding': 'gzip', 'Server': 'gws', 'X-XSS-Protection': '0', 'X-Frame-Options': 'SAMEORIGIN', 'Set-Cookie': '1P_JAR=2021-05-23-15; expires=Tue, 22-Jun-2021 15:20:23 GMT; path=/; domain=.google.com; Secure, NID=216=WwuzcdRhBDLbMqIAwaJFq8ZAzT2RASTqm5jlvQZZKatJJPBnQIV9fRdpkiKOSNiezQQjiRAkoDolqxYYR3OpWge_0a-no4Pq0fbZ90WLRokXugbZI-Q9_augvRFqpBfbgQTIcK_6vdd-8dS2VTL6Ws9FzHiwD-qapWYr2HE6eXc; expires=Mon, 22-Nov-2021 15:20:23 GMT; path=/; domain=.google.com; HttpOnly', 'Alt-Svc': 'h3-29=\":443\"; ma=2592000,h3-T051=\":443\"; ma=2592000,h3-Q050=\":443\"; ma=2592000,h3-Q046=\":443\"; ma=2592000,h3-Q043=\":443\"; ma=2592000,quic=\":443\"; ma=2592000; v=\"46,43\"', 'Transfer-Encoding': 'chunked'}\n"
     ]
    }
   ],
   "source": [
    "#making get and post call\n",
    "\n",
    "import requests\n",
    "from requests.auth import HTTPBasicAuth\n",
    "import json\n",
    "\n",
    "data = {\n",
    "    'a':123\n",
    "}\n",
    "data_json = json.dumps(data)\n",
    "headers ={\n",
    "    'Content-Type':'application/json'\n",
    "}\n",
    "#res = requests.post('https://google.com',headers=headers,data=data,auth=HTTPBasicAuth('user','pwd'))\n",
    "res = requests.get('https://google.com') #withoutauth\n",
    "#res = requests.get('https://google.com',auth=HTTPBasicAuth('user','pwd'))#with auth\n",
    "#print(res.cookies)\n",
    "#print(res.text)\n",
    "print(res.headers)\n"
   ]
  },
  {
   "cell_type": "code",
   "execution_count": null,
   "id": "11973b96",
   "metadata": {},
   "outputs": [],
   "source": [
    "########SQL ALCHEMY############"
   ]
  },
  {
   "cell_type": "code",
   "execution_count": 1,
   "id": "0bd4d75f",
   "metadata": {},
   "outputs": [],
   "source": [
    "import sqlalchemy"
   ]
  },
  {
   "cell_type": "code",
   "execution_count": 12,
   "id": "15f2176b",
   "metadata": {},
   "outputs": [
    {
     "data": {
      "text/plain": [
       "'1.4.16'"
      ]
     },
     "execution_count": 12,
     "metadata": {},
     "output_type": "execute_result"
    }
   ],
   "source": [
    "sqlalchemy.__version__ # check for drivers installed or not"
   ]
  },
  {
   "cell_type": "code",
   "execution_count": 1,
   "id": "a3c5dc2f",
   "metadata": {},
   "outputs": [],
   "source": [
    "from sqlalchemy import create_engine, MetaData, Table, Column, Integer, String\n",
    "engine = create_engine('sqlite:///college.db',echo=True) # creating engine , echo = true for logging , returns engine object\n",
    "#dir(engine)\n",
    "#engine.driver"
   ]
  },
  {
   "cell_type": "code",
   "execution_count": 2,
   "id": "17ebd21f",
   "metadata": {},
   "outputs": [
    {
     "name": "stdout",
     "output_type": "stream",
     "text": [
      "2021-06-02 00:00:50,543 INFO sqlalchemy.engine.Engine BEGIN (implicit)\n",
      "2021-06-02 00:00:50,548 INFO sqlalchemy.engine.Engine PRAGMA main.table_info(\"studs\")\n",
      "2021-06-02 00:00:50,549 INFO sqlalchemy.engine.Engine [raw sql] ()\n",
      "2021-06-02 00:00:50,549 INFO sqlalchemy.engine.Engine PRAGMA temp.table_info(\"studs\")\n",
      "2021-06-02 00:00:50,550 INFO sqlalchemy.engine.Engine [raw sql] ()\n",
      "2021-06-02 00:00:50,551 INFO sqlalchemy.engine.Engine \n",
      "CREATE TABLE studs (\n",
      "\tid INTEGER NOT NULL, \n",
      "\tname VARCHAR, \n",
      "\tlastname VARCHAR, \n",
      "\tPRIMARY KEY (id)\n",
      ")\n",
      "\n",
      "\n",
      "2021-06-02 00:00:50,551 INFO sqlalchemy.engine.Engine [no key 0.00039s] ()\n",
      "2021-06-02 00:00:50,577 INFO sqlalchemy.engine.Engine COMMIT\n"
     ]
    }
   ],
   "source": [
    "\n",
    "meta = MetaData() # needed for creating tables in SQl . It holds a collection of Table objects as well as an optional binding to an Engine or Connection.\n",
    "studs = Table(\n",
    "   'studs',\n",
    "    meta,\n",
    "    Column('id',Integer,primary_key=True),\n",
    "    Column('name',String),\n",
    "    Column('lastname',String),\n",
    "    ) #table creation\n",
    "meta.create_all(engine) #creates all the tables in meta object in particular DB"
   ]
  },
  {
   "cell_type": "code",
   "execution_count": 3,
   "id": "946bddd7",
   "metadata": {},
   "outputs": [
    {
     "name": "stdout",
     "output_type": "stream",
     "text": [
      "2021-06-02 00:00:57,542 INFO sqlalchemy.engine.Engine INSERT INTO studs (name, lastname) VALUES (?, ?)\n",
      "2021-06-02 00:00:57,544 INFO sqlalchemy.engine.Engine [generated in 0.00173s] ('Ravi', 'Kapoor')\n",
      "2021-06-02 00:00:57,547 INFO sqlalchemy.engine.Engine COMMIT\n",
      "2021-06-02 00:00:57,568 INFO sqlalchemy.engine.Engine INSERT INTO studs (name, lastname) VALUES (?, ?)\n",
      "2021-06-02 00:00:57,569 INFO sqlalchemy.engine.Engine [cached since 0.02686s ago] ('Pavan', 'Krishna')\n",
      "2021-06-02 00:00:57,571 INFO sqlalchemy.engine.Engine COMMIT\n"
     ]
    },
    {
     "data": {
      "text/plain": [
       "<sqlalchemy.engine.cursor.LegacyCursorResult at 0x687de08>"
      ]
     },
     "execution_count": 3,
     "metadata": {},
     "output_type": "execute_result"
    }
   ],
   "source": [
    "\n",
    "ins = studs.insert().values(name = 'Ravi', lastname = 'Kapoor')\n",
    "ins1 = studs.insert().values(name = 'Pavan', lastname = 'Krishna')#insert operation\n",
    "conn = engine.connect() # Before performing operation first need to connect to DB\n",
    "conn.execute(ins)\n",
    "conn.execute(ins1) # execute insert command"
   ]
  },
  {
   "cell_type": "code",
   "execution_count": 5,
   "id": "20b92210",
   "metadata": {},
   "outputs": [
    {
     "name": "stdout",
     "output_type": "stream",
     "text": [
      "2021-06-02 00:01:23,628 INFO sqlalchemy.engine.Engine SELECT studs.id, studs.name, studs.lastname \n",
      "FROM studs\n",
      "2021-06-02 00:01:23,629 INFO sqlalchemy.engine.Engine [cached since 20.59s ago] ()\n",
      "(1, 'Ravi', 'Kapoor')\n",
      "(2, 'Pavan', 'Krishna')\n"
     ]
    }
   ],
   "source": [
    "sel = studs.select()# select operation\n",
    "res = conn.execute(sel) # returns cursor object\n",
    "studs_res = res.fetchone()\n",
    "studs_res = res.fetchall() # fetching the data\n",
    "\n",
    "for res in studs_res:\n",
    "    print(res)"
   ]
  },
  {
   "cell_type": "code",
   "execution_count": 10,
   "id": "86920c3b",
   "metadata": {},
   "outputs": [
    {
     "name": "stdout",
     "output_type": "stream",
     "text": [
      "2021-06-02 00:11:51,037 INFO sqlalchemy.engine.Engine SELECT studs.id, studs.name, studs.lastname \n",
      "FROM studs \n",
      "WHERE studs.lastname = ?\n",
      "2021-06-02 00:11:51,038 INFO sqlalchemy.engine.Engine [generated in 0.00123s] ('Krishna',)\n",
      "(2, 'Pavan', 'Krishna')\n"
     ]
    }
   ],
   "source": [
    "sel = studs.select().where(studs.c.lastname=='Krishna')# select operation with where caluse\n",
    "res = conn.execute(sel) # returns cursor object\n",
    "studs_res = res.fetchall() # fetching the data\n",
    "\n",
    "for res in studs_res:\n",
    "    print(res)"
   ]
  },
  {
   "cell_type": "code",
   "execution_count": 13,
   "id": "b6a39558",
   "metadata": {},
   "outputs": [
    {
     "name": "stdout",
     "output_type": "stream",
     "text": [
      "2021-06-02 00:16:56,208 INFO sqlalchemy.engine.Engine SELECT * FROM studs\n",
      "2021-06-02 00:16:56,209 INFO sqlalchemy.engine.Engine [cached since 17.62s ago] ()\n",
      "(1, 'Ravi', 'Kapoor')\n",
      "(2, 'Pavan', 'Krishna')\n"
     ]
    }
   ],
   "source": [
    "from sqlalchemy import text #another way of using select statement\n",
    "t = text(\"SELECT * FROM studs\")\n",
    "result = conn.execute(t)\n",
    "for res in result:\n",
    "    print(res)"
   ]
  },
  {
   "cell_type": "code",
   "execution_count": 49,
   "id": "19d1ea3a",
   "metadata": {},
   "outputs": [],
   "source": [
    "#Data class - \n",
    "#Data classes are available for Python 3.7 or above. You can use data classes as a data container but not only. \n",
    "#Data classes also write boiler-plate code for you and simplify the process of creating classes\n",
    "from dataclasses import dataclass,field,asdict,astuple\n",
    "\n",
    "@dataclass(frozen=False,repr=True,order=True,unsafe_hash=True)\n",
    "class person:\n",
    "    greatervalue:int = field(init=False) #provding restrictions for a particular attribute\n",
    "    name:str\n",
    "    age:int\n",
    "    job:str\n",
    "    exp:int\n",
    "    def __post_init__(self):#will be executed exactly after constructer\n",
    "        self.greatervalue = self.age * self.exp"
   ]
  },
  {
   "cell_type": "code",
   "execution_count": 53,
   "id": "d16b8ed8",
   "metadata": {},
   "outputs": [
    {
     "name": "stdout",
     "output_type": "stream",
     "text": [
      "False\n",
      "True\n",
      "{'greatervalue': 100, 'name': 'pavan', 'age': 20, 'job': 'Developer', 'exp': 5}\n",
      "(100, 'pavan', 20, 'Developer', 5)\n",
      "person(greatervalue=100, name='pavan', age=20, job='Developer', exp=5)\n"
     ]
    }
   ],
   "source": [
    "p = person('pavan',20,'Developer',5)\n",
    "p1 = person('pavan',20,'Developer',4)\n",
    "print(p1==p)\n",
    "#print(p)\n",
    "#hash(p)\n",
    "#p.age=20 # error when frozen = true\n",
    "p2 = person('pavan',20,'Developer',50)\n",
    "p3 = person('pavan',30,'Developer',15)\n",
    "print(p2>p)\n",
    "p2.age=40\n",
    "hash(p2)\n",
    "print(asdict(p)) #get dict for respective object\n",
    "print(astuple(p)) #get value as tuple for the object\n",
    "print(p)"
   ]
  },
  {
   "cell_type": "code",
   "execution_count": 54,
   "id": "bce3d93f",
   "metadata": {},
   "outputs": [
    {
     "data": {
      "text/plain": [
       "1"
      ]
     },
     "execution_count": 54,
     "metadata": {},
     "output_type": "execute_result"
    }
   ],
   "source": [
    "#tuple unpacking\n",
    "a = 1,2,3\n",
    "(a1,a2,a3) = 1,2,3\n",
    "a1"
   ]
  },
  {
   "cell_type": "code",
   "execution_count": 57,
   "id": "b29d913c",
   "metadata": {},
   "outputs": [
    {
     "data": {
      "text/plain": [
       "1"
      ]
     },
     "execution_count": 57,
     "metadata": {},
     "output_type": "execute_result"
    }
   ],
   "source": [
    "#list unpacking\n",
    "a=[1,2,3]\n",
    "a1,a2,a3 = a\n",
    "a1"
   ]
  },
  {
   "cell_type": "code",
   "execution_count": 61,
   "id": "f8698080",
   "metadata": {},
   "outputs": [
    {
     "name": "stdout",
     "output_type": "stream",
     "text": [
      "my name is pavan\n",
      "my name is pavan "
     ]
    }
   ],
   "source": [
    "#sep,end,flush\n",
    "\n",
    "print('my','name','is','pavan',sep=' ')\n",
    "print('my',end=\" \",flush=True)\n",
    "print('name',end=\" \",flush=True)\n",
    "print('is',end=\" \",flush=True)\n",
    "print('pavan',end=\" \",flush=True)"
   ]
  },
  {
   "cell_type": "code",
   "execution_count": 65,
   "id": "f584508b",
   "metadata": {},
   "outputs": [
    {
     "name": "stdout",
     "output_type": "stream",
     "text": [
      "None\n"
     ]
    }
   ],
   "source": [
    "# In dict to avoid key error use get method , if key not present it will return null ,also can specify default value\n",
    "d = {'a' : 2 , 'b' : 3 }\n",
    "d.get('c')\n",
    "print(d.get('c'))"
   ]
  },
  {
   "cell_type": "code",
   "execution_count": 66,
   "id": "ca172ffe",
   "metadata": {},
   "outputs": [
    {
     "data": {
      "text/plain": [
       "['c:\\\\users\\\\pavan\\\\appdata\\\\local\\\\programs\\\\python\\\\python38-32',\n",
       " 'c:\\\\users\\\\pavan\\\\appdata\\\\local\\\\programs\\\\python\\\\python38-32\\\\lib\\\\site-packages']"
      ]
     },
     "execution_count": 66,
     "metadata": {},
     "output_type": "execute_result"
    }
   ],
   "source": [
    "#location where all modules are installed\n",
    "import site\n",
    "site.getsitepackages()"
   ]
  },
  {
   "cell_type": "code",
   "execution_count": 1,
   "id": "e84e1482",
   "metadata": {},
   "outputs": [
    {
     "data": {
      "text/plain": [
       "Counter({1: 2,\n",
       "         2: 2,\n",
       "         3: 3,\n",
       "         5: 1,\n",
       "         6: 2,\n",
       "         7: 2,\n",
       "         8: 2,\n",
       "         90: 1,\n",
       "         45: 1,\n",
       "         9: 2,\n",
       "         0: 2,\n",
       "         12: 1,\n",
       "         456: 1,\n",
       "         78: 1})"
      ]
     },
     "execution_count": 1,
     "metadata": {},
     "output_type": "execute_result"
    }
   ],
   "source": [
    "#collection objects\n",
    "\n",
    "from collections import Counter\n",
    "\n",
    "count_dict = Counter([1,2,3,5,6,7,8,90,1,2,3,45,6,7,8,9,0,12,3,456,78,9,0])\n",
    "count_dict # key value pairs with key= each value from iterable and value = count of each value in iterable"
   ]
  },
  {
   "cell_type": "code",
   "execution_count": 12,
   "id": "8bae5ba3",
   "metadata": {},
   "outputs": [
    {
     "data": {
      "text/plain": [
       "OrderedDict([('name', 'Pavan'), ('value', 'sdfsdfsd'), ('addr', 'test1')])"
      ]
     },
     "execution_count": 12,
     "metadata": {},
     "output_type": "execute_result"
    }
   ],
   "source": [
    "from collections import OrderedDict\n",
    "\n",
    "od = OrderedDict() # it remembers the order in which the keys were inserted\n",
    "\n",
    "od['name'] = 'Pavan'\n",
    "od['value'] = 'test'\n",
    "od['addr'] = 'test1'\n",
    "od['value'] = \"sdfsdfsd\"\n",
    "od"
   ]
  },
  {
   "cell_type": "code",
   "execution_count": 21,
   "id": "6a059af2",
   "metadata": {},
   "outputs": [
    {
     "data": {
      "text/plain": [
       "defaultdict(int, {4: 1, 34: 0})"
      ]
     },
     "execution_count": 21,
     "metadata": {},
     "output_type": "execute_result"
    }
   ],
   "source": [
    "from collections import defaultdict\n",
    "\n",
    "df = defaultdict(int) # if key is not present instead of throwing key error \n",
    "\n",
    "df[4] =1\n",
    "df[34]\n",
    "df"
   ]
  },
  {
   "cell_type": "code",
   "execution_count": 33,
   "id": "c2759ba0",
   "metadata": {},
   "outputs": [
    {
     "data": {
      "text/plain": [
       "{'c': 3, 'd': 4, 'a': 1, 'b': 2, 'aa': 2}"
      ]
     },
     "execution_count": 33,
     "metadata": {},
     "output_type": "execute_result"
    }
   ],
   "source": [
    "from collections import ChainMap\n",
    "\n",
    "d = {'a':1,'b':2}\n",
    "c = {'c':3,'d':4}\n",
    "\n",
    "ch = ChainMap(d,c) #used to combine multiple dict into one dict\n",
    "ch1 = ch.new_child({'aa':2})\n",
    "dict(ch1)"
   ]
  },
  {
   "cell_type": "code",
   "execution_count": 41,
   "id": "1d02a8ee",
   "metadata": {},
   "outputs": [
    {
     "data": {
      "text/plain": [
       "Student(name='pavan', age=20, city='Kasragod')"
      ]
     },
     "execution_count": 41,
     "metadata": {},
     "output_type": "execute_result"
    }
   ],
   "source": [
    "from collections import namedtuple\n",
    "\n",
    "stud = namedtuple('Student',['name','age','city'])\n",
    "\n",
    "s1 = stud('pk',20,'Bangalore')\n",
    "\n",
    "li = ['pavan',20,'Kasragod']\n",
    "\n",
    "s2 = stud._make(li)\n",
    "s3 = stud._asdict({'name':'pk','age':20,'city':'Bangalore'}) \n",
    "s1.name\n",
    "s1.age\n",
    "s1.city\n",
    "s1[1]\n",
    "s2"
   ]
  },
  {
   "cell_type": "code",
   "execution_count": 43,
   "id": "3d29a2be",
   "metadata": {},
   "outputs": [
    {
     "name": "stdout",
     "output_type": "stream",
     "text": [
      "deque([20, 1, 2, 3, 4, 5, 10])\n"
     ]
    },
    {
     "data": {
      "text/plain": [
       "deque([2, 3, 4, 5])"
      ]
     },
     "execution_count": 43,
     "metadata": {},
     "output_type": "execute_result"
    }
   ],
   "source": [
    "# deque is the optimized list for quicker append and pop operations from both sides of the container. \n",
    "#It provides O(1) time complexity for append and pop operations as compared to list with O(n) time complexity.\n",
    "from collections import deque\n",
    "\n",
    "d = deque([1,2,3,4,5]) # we can append and pop from both sides\n",
    "\n",
    "d.append(10)\n",
    "d.appendleft(20)\n",
    "print(d)\n",
    "d.pop()\n",
    "d.popleft()\n",
    "d.popleft()\n",
    "d"
   ]
  },
  {
   "cell_type": "code",
   "execution_count": 49,
   "id": "bb4550db",
   "metadata": {},
   "outputs": [
    {
     "data": {
      "text/plain": [
       "'aaaaa'"
      ]
     },
     "execution_count": 49,
     "metadata": {},
     "output_type": "execute_result"
    }
   ],
   "source": [
    "#customising the dict,list,string methods according needs\n",
    "from collections import UserDict,UserList,UserString\n",
    "\n",
    "class customdict(UserDict):\n",
    "    def get(self,s=None,t=None):\n",
    "        if s and t:\n",
    "            return s*t\n",
    "        else:\n",
    "            return none\n",
    "d = customdict({'a':3})\n",
    "d.get('a',5)"
   ]
  },
  {
   "cell_type": "code",
   "execution_count": 22,
   "id": "30bcbb11",
   "metadata": {},
   "outputs": [
    {
     "name": "stdout",
     "output_type": "stream",
     "text": [
      "hi function1\n",
      "hi from function 2\n",
      "hello function1\n"
     ]
    },
    {
     "data": {
      "text/plain": [
       "5"
      ]
     },
     "execution_count": 22,
     "metadata": {},
     "output_type": "execute_result"
    }
   ],
   "source": [
    "#asynchronous programming \n",
    "\n",
    "import asyncio\n",
    "\n",
    "async def func1():\n",
    "    print(\"hi function1\")\n",
    "    await asyncio.sleep(2)\n",
    "    print(\"hello function1\")\n",
    "    \n",
    "async def func2():\n",
    "    print(\"hi from function 2\")\n",
    "    \n",
    "    \n",
    "async def main():\n",
    "    task1 = asyncio.create_task(func1())\n",
    "    task2 = asyncio.create_task(func2())\n",
    "    await asyncio.wait([task1,task2])\n",
    "    return 5\n",
    "\n",
    "op = await main()\n",
    "op"
   ]
  },
  {
   "cell_type": "code",
   "execution_count": 2,
   "id": "6f6b6fd0",
   "metadata": {},
   "outputs": [
    {
     "name": "stdout",
     "output_type": "stream",
     "text": [
      "Pickling completed!\n",
      "[11, 'Python', b'Love Python']\n"
     ]
    }
   ],
   "source": [
    "# Pickling in Python\n",
    "\n",
    "import pickle\n",
    "\n",
    "# Python object\n",
    "my_list = [11, 'Python', b'Love Python']\n",
    "\n",
    "# Pickling\n",
    "with open(\"data.pickle\",\"wb\") as file_handle:\n",
    "    pickle.dump(my_list, file_handle, pickle.HIGHEST_PROTOCOL)\n",
    "\n",
    "print(\"Pickling completed!\")\n",
    "\n",
    "with open(\"data.pickle\",\"rb\") as file_handle:\n",
    "    retrieved_data = pickle.load(file_handle)\n",
    "    print(retrieved_data)"
   ]
  },
  {
   "cell_type": "code",
   "execution_count": 1,
   "id": "97fbfcf9",
   "metadata": {},
   "outputs": [
    {
     "name": "stdout",
     "output_type": "stream",
     "text": [
      "0\n",
      "1\n",
      "2\n",
      "3\n",
      "6\n"
     ]
    }
   ],
   "source": [
    "# yield from\n",
    "\n",
    "def test():\n",
    "    yield 1\n",
    "    yield 2 \n",
    "    yield 3\n",
    "    \n",
    "def test1():\n",
    "    yield 0\n",
    "    yield from test()\n",
    "    yield 6\n",
    "\n",
    "for i in test1():\n",
    "    print(i)"
   ]
  },
  {
   "cell_type": "code",
   "execution_count": 7,
   "id": "af84fb8d",
   "metadata": {},
   "outputs": [
    {
     "data": {
      "text/plain": [
       "'even'"
      ]
     },
     "execution_count": 7,
     "metadata": {},
     "output_type": "execute_result"
    }
   ],
   "source": [
    "#ternaary operation\n",
    "'even' if 2%2==0 else 'odd'"
   ]
  },
  {
   "cell_type": "code",
   "execution_count": 8,
   "id": "0e2741e7",
   "metadata": {},
   "outputs": [
    {
     "data": {
      "text/plain": [
       "2"
      ]
     },
     "execution_count": 8,
     "metadata": {},
     "output_type": "execute_result"
    }
   ],
   "source": [
    "sum([True,True,False])"
   ]
  },
  {
   "cell_type": "code",
   "execution_count": 2,
   "id": "b5cc7838",
   "metadata": {},
   "outputs": [
    {
     "data": {
      "text/plain": [
       "['ThingsToWork.txt',\n",
       " '.browserslistrc',\n",
       " '.editorconfig',\n",
       " '.gitignore',\n",
       " 'angular.json',\n",
       " 'karma.conf.js',\n",
       " 'package-lock.json',\n",
       " 'package.json',\n",
       " 'README.md',\n",
       " 'tsconfig.app.json',\n",
       " 'tsconfig.json',\n",
       " 'tsconfig.spec.json',\n",
       " '__ngcc_entry_points__.json',\n",
       " 'acorn',\n",
       " 'acorn.cmd',\n",
       " 'acorn.ps1',\n",
       " 'ansi-html',\n",
       " 'ansi-html.cmd',\n",
       " 'ansi-html.ps1',\n",
       " 'atob',\n",
       " 'atob.cmd',\n",
       " 'atob.ps1',\n",
       " 'autoprefixer',\n",
       " 'autoprefixer.cmd',\n",
       " 'autoprefixer.ps1',\n",
       " 'browserslist',\n",
       " 'browserslist.cmd',\n",
       " 'browserslist.ps1',\n",
       " 'build-optimizer',\n",
       " 'build-optimizer.cmd',\n",
       " 'build-optimizer.ps1',\n",
       " 'css-blank-pseudo',\n",
       " 'css-blank-pseudo.cmd',\n",
       " 'css-blank-pseudo.ps1',\n",
       " 'css-has-pseudo',\n",
       " 'css-has-pseudo.cmd',\n",
       " 'css-has-pseudo.ps1',\n",
       " 'css-prefers-color-scheme',\n",
       " 'css-prefers-color-scheme.cmd',\n",
       " 'css-prefers-color-scheme.ps1',\n",
       " 'cssesc',\n",
       " 'cssesc.cmd',\n",
       " 'cssesc.ps1',\n",
       " 'errno',\n",
       " 'errno.cmd',\n",
       " 'errno.ps1',\n",
       " 'image-size',\n",
       " 'image-size.cmd',\n",
       " 'image-size.ps1',\n",
       " 'import-local-fixture',\n",
       " 'import-local-fixture.cmd',\n",
       " 'import-local-fixture.ps1',\n",
       " 'installed-package-contents',\n",
       " 'installed-package-contents.cmd',\n",
       " 'installed-package-contents.ps1',\n",
       " 'is-docker',\n",
       " 'is-docker.cmd',\n",
       " 'is-docker.ps1',\n",
       " 'ivy-ngcc',\n",
       " 'ivy-ngcc.cmd',\n",
       " 'ivy-ngcc.ps1',\n",
       " 'jsesc',\n",
       " 'jsesc.cmd',\n",
       " 'jsesc.ps1',\n",
       " 'json5',\n",
       " 'json5.cmd',\n",
       " 'json5.ps1',\n",
       " 'karma',\n",
       " 'karma.cmd',\n",
       " 'karma.ps1',\n",
       " 'lessc',\n",
       " 'lessc.cmd',\n",
       " 'lessc.ps1',\n",
       " 'mime',\n",
       " 'mime.cmd',\n",
       " 'mime.ps1',\n",
       " 'mkdirp',\n",
       " 'mkdirp.cmd',\n",
       " 'mkdirp.ps1',\n",
       " 'multicast-dns',\n",
       " 'multicast-dns.cmd',\n",
       " 'multicast-dns.ps1',\n",
       " 'nanoid',\n",
       " 'nanoid.cmd',\n",
       " 'nanoid.ps1',\n",
       " 'needle',\n",
       " 'needle.cmd',\n",
       " 'needle.ps1',\n",
       " 'ng',\n",
       " 'ng-xi18n',\n",
       " 'ng-xi18n.cmd',\n",
       " 'ng-xi18n.ps1',\n",
       " 'ng.cmd',\n",
       " 'ng.ps1',\n",
       " 'ngc',\n",
       " 'ngc.cmd',\n",
       " 'ngc.ps1',\n",
       " 'ngcc',\n",
       " 'ngcc.cmd',\n",
       " 'ngcc.ps1',\n",
       " 'node-gyp',\n",
       " 'node-gyp.cmd',\n",
       " 'node-gyp.ps1',\n",
       " 'nopt',\n",
       " 'nopt.cmd',\n",
       " 'nopt.ps1',\n",
       " 'npm-packlist',\n",
       " 'npm-packlist.cmd',\n",
       " 'npm-packlist.ps1',\n",
       " 'pacote',\n",
       " 'pacote.cmd',\n",
       " 'pacote.ps1',\n",
       " 'parser',\n",
       " 'parser.cmd',\n",
       " 'parser.ps1',\n",
       " 'regjsparser',\n",
       " 'regjsparser.cmd',\n",
       " 'regjsparser.ps1',\n",
       " 'rimraf',\n",
       " 'rimraf.cmd',\n",
       " 'rimraf.ps1',\n",
       " 'sass',\n",
       " 'sass.cmd',\n",
       " 'sass.ps1',\n",
       " 'semver',\n",
       " 'semver.cmd',\n",
       " 'semver.ps1',\n",
       " 'sshpk-conv',\n",
       " 'sshpk-conv.cmd',\n",
       " 'sshpk-conv.ps1',\n",
       " 'sshpk-sign',\n",
       " 'sshpk-sign.cmd',\n",
       " 'sshpk-sign.ps1',\n",
       " 'sshpk-verify',\n",
       " 'sshpk-verify.cmd',\n",
       " 'sshpk-verify.ps1',\n",
       " 'stylus',\n",
       " 'stylus.cmd',\n",
       " 'stylus.ps1',\n",
       " 'svgo',\n",
       " 'svgo.cmd',\n",
       " 'svgo.ps1',\n",
       " 'terser',\n",
       " 'terser.cmd',\n",
       " 'terser.ps1',\n",
       " 'tree-kill',\n",
       " 'tree-kill.cmd',\n",
       " 'tree-kill.ps1',\n",
       " 'tsc',\n",
       " 'tsc.cmd',\n",
       " 'tsc.ps1',\n",
       " 'tsserver',\n",
       " 'tsserver.cmd',\n",
       " 'tsserver.ps1',\n",
       " 'uuid',\n",
       " 'uuid.cmd',\n",
       " 'uuid.ps1',\n",
       " 'webpack',\n",
       " 'webpack-dev-server',\n",
       " 'webpack-dev-server.cmd',\n",
       " 'webpack-dev-server.ps1',\n",
       " 'webpack.cmd',\n",
       " 'webpack.ps1',\n",
       " 'which',\n",
       " 'which.cmd',\n",
       " 'which.ps1',\n",
       " '0a96309e77837a08cca616860eda7ae8.json',\n",
       " '61238eb6130251bb5deae783abb102a1.json',\n",
       " 'b3717b003174308eec17fc75f5f3e741.json',\n",
       " 'dd7bd3f400325d9716c8672f4581d95b.json',\n",
       " '75d6b0504ea5bdf2106d8d8b1af8dd2586002e7170d32645c153e3f78d0b4908.lock',\n",
       " 'f278bfd010c4dba21ddb17ec531d04679e25961470339e0ca14fde94e2dfcf68.lock',\n",
       " 'animations.d.ts',\n",
       " 'animations.metadata.json',\n",
       " 'browser.d.ts',\n",
       " 'browser.metadata.json',\n",
       " 'package.json',\n",
       " 'README.md',\n",
       " 'browser.d.ts',\n",
       " 'browser.metadata.json',\n",
       " 'package.json',\n",
       " 'testing.d.ts',\n",
       " 'testing.metadata.json',\n",
       " 'package.json',\n",
       " 'testing.d.ts',\n",
       " 'testing.metadata.json',\n",
       " 'animations-browser-testing.umd.js',\n",
       " 'animations-browser-testing.umd.js.map',\n",
       " 'animations-browser.umd.js',\n",
       " 'animations-browser.umd.js.map',\n",
       " 'animations.umd.js',\n",
       " 'animations.umd.js.map',\n",
       " 'animations.externs.js',\n",
       " 'animations.js',\n",
       " 'index.js',\n",
       " 'public_api.js',\n",
       " 'browser.externs.js',\n",
       " 'browser.js',\n",
       " 'index.js',\n",
       " 'public_api.js',\n",
       " 'browser.js',\n",
       " 'private_export.js',\n",
       " 'util.js',\n",
       " 'animation.js',\n",
       " 'animation_ast.js',\n",
       " 'animation_ast_builder.js',\n",
       " 'animation_dsl_visitor.js',\n",
       " 'animation_timeline_builder.js',\n",
       " 'animation_timeline_instruction.js',\n",
       " 'animation_transition_expr.js',\n",
       " 'animation_transition_factory.js',\n",
       " 'animation_transition_instruction.js',\n",
       " 'animation_trigger.js',\n",
       " 'element_instruction_map.js',\n",
       " 'animation_style_normalizer.js',\n",
       " 'web_animations_style_normalizer.js',\n",
       " 'animation_driver.js',\n",
       " 'animation_engine_instruction.js',\n",
       " 'animation_engine_next.js',\n",
       " 'shared.js',\n",
       " 'special_cased_styles.js',\n",
       " 'timeline_animation_engine.js',\n",
       " 'transition_animation_engine.js',\n",
       " 'css_keyframes_driver.js',\n",
       " 'css_keyframes_player.js',\n",
       " 'direct_style_player.js',\n",
       " 'element_animation_style_handler.js',\n",
       " 'dom_animation.js',\n",
       " 'web_animations_driver.js',\n",
       " 'web_animations_player.js',\n",
       " 'index.js',\n",
       " 'public_api.js',\n",
       " 'testing.externs.js',\n",
       " 'testing.js',\n",
       " 'mock_animation_driver.js',\n",
       " 'testing.js',\n",
       " 'animations.js',\n",
       " 'animation_builder.js',\n",
       " 'animation_event.js',\n",
       " 'animation_metadata.js',\n",
       " 'private_export.js',\n",
       " 'util.js',\n",
       " 'version.js',\n",
       " 'animation_group_player.js',\n",
       " 'animation_player.js',\n",
       " 'animations.js',\n",
       " 'animations.js.map',\n",
       " 'browser.js',\n",
       " 'browser.js.map',\n",
       " 'testing.js',\n",
       " 'testing.js.map',\n",
       " 'commands.json',\n",
       " 'LICENSE',\n",
       " 'package.json',\n",
       " 'README.md',\n",
       " 'ng',\n",
       " 'analytics-prompt.js',\n",
       " 'script.js',\n",
       " 'add-impl.d.ts',\n",
       " 'add-impl.js',\n",
       " 'add.d.ts',\n",
       " 'add.js',\n",
       " 'add.json',\n",
       " 'add.md',\n",
       " 'analytics-impl.d.ts',\n",
       " 'analytics-impl.js',\n",
       " 'analytics-long.md',\n",
       " 'analytics.d.ts',\n",
       " 'analytics.js',\n",
       " 'analytics.json',\n",
       " 'build-impl.d.ts',\n",
       " 'build-impl.js',\n",
       " 'build-long.md',\n",
       " 'build.d.ts',\n",
       " 'build.js',\n",
       " 'build.json',\n",
       " 'config-impl.d.ts',\n",
       " 'config-impl.js',\n",
       " 'config-long.md',\n",
       " 'config.d.ts',\n",
       " 'config.js',\n",
       " 'config.json',\n",
       " 'definitions.json',\n",
       " 'deploy-impl.d.ts',\n",
       " 'deploy-impl.js',\n",
       " 'deploy-long.md',\n",
       " 'deploy.d.ts',\n",
       " 'deploy.js',\n",
       " 'deploy.json',\n",
       " 'doc-impl.d.ts',\n",
       " 'doc-impl.js',\n",
       " 'doc.d.ts',\n",
       " 'doc.js',\n",
       " 'doc.json',\n",
       " 'e2e-impl.d.ts',\n",
       " 'e2e-impl.js',\n",
       " 'e2e-long.md',\n",
       " 'e2e.d.ts',\n",
       " 'e2e.js',\n",
       " 'e2e.json',\n",
       " 'easter-egg-impl.d.ts',\n",
       " 'easter-egg-impl.js',\n",
       " 'easter-egg.d.ts',\n",
       " 'easter-egg.js',\n",
       " 'easter-egg.json',\n",
       " 'extract-i18n-impl.d.ts',\n",
       " 'extract-i18n-impl.js',\n",
       " 'extract-i18n.d.ts',\n",
       " 'extract-i18n.js',\n",
       " 'extract-i18n.json',\n",
       " 'generate-impl.d.ts',\n",
       " 'generate-impl.js',\n",
       " 'generate.d.ts',\n",
       " 'generate.js',\n",
       " 'generate.json',\n",
       " 'help-impl.d.ts',\n",
       " 'help-impl.js',\n",
       " 'help-long.md',\n",
       " 'help.d.ts',\n",
       " 'help.js',\n",
       " 'help.json',\n",
       " 'lint-impl.d.ts',\n",
       " 'lint-impl.js',\n",
       " 'lint-long.md',\n",
       " 'lint.d.ts',\n",
       " 'lint.js',\n",
       " 'lint.json',\n",
       " 'new-impl.d.ts',\n",
       " 'new-impl.js',\n",
       " 'new.d.ts',\n",
       " 'new.js',\n",
       " 'new.json',\n",
       " 'new.md',\n",
       " 'run-impl.d.ts',\n",
       " 'run-impl.js',\n",
       " 'run-long.md',\n",
       " 'run.d.ts',\n",
       " 'run.js',\n",
       " 'run.json',\n",
       " 'serve-impl.d.ts',\n",
       " 'serve-impl.js',\n",
       " 'serve.d.ts',\n",
       " 'serve.js',\n",
       " 'serve.json',\n",
       " 'test-impl.d.ts',\n",
       " 'test-impl.js',\n",
       " 'test-long.md',\n",
       " 'test.d.ts',\n",
       " 'test.js',\n",
       " 'test.json',\n",
       " 'update-impl.d.ts',\n",
       " 'update-impl.js',\n",
       " 'update-long.md',\n",
       " 'update.d.ts',\n",
       " 'update.js',\n",
       " 'update.json',\n",
       " 'version-impl.d.ts',\n",
       " 'version-impl.js',\n",
       " 'version.d.ts',\n",
       " 'version.js',\n",
       " 'version.json',\n",
       " 'init.d.ts',\n",
       " 'init.js',\n",
       " 'index.d.ts',\n",
       " 'index.js',\n",
       " 'schema.json',\n",
       " 'workspace-schema.d.ts',\n",
       " 'workspace-schema.js',\n",
       " 'analytics-collector.d.ts',\n",
       " 'analytics-collector.js',\n",
       " 'analytics.d.ts',\n",
       " 'analytics.js',\n",
       " 'architect-command.d.ts',\n",
       " 'architect-command.js',\n",
       " 'command-runner.d.ts',\n",
       " 'command-runner.js',\n",
       " 'command.d.ts',\n",
       " 'command.js',\n",
       " 'error.d.ts',\n",
       " 'error.js',\n",
       " 'interface.d.ts',\n",
       " 'interface.js',\n",
       " 'parser.d.ts',\n",
       " 'parser.js',\n",
       " 'schematic-command.d.ts',\n",
       " 'schematic-command.js',\n",
       " 'schematic-engine-host.d.ts',\n",
       " 'schematic-engine-host.js',\n",
       " 'version.d.ts',\n",
       " 'version.js',\n",
       " 'uuid',\n",
       " 'uuid.cmd',\n",
       " 'uuid.ps1',\n",
       " 'LICENSE',\n",
       " 'package.json',\n",
       " 'README.md',\n",
       " 'browser.js',\n",
       " 'common.js',\n",
       " 'index.js',\n",
       " 'node.js',\n",
       " 'CHANGELOG.md',\n",
       " 'CONTRIBUTING.md',\n",
       " 'LICENSE.md',\n",
       " 'package.json',\n",
       " 'README.md',\n",
       " 'wrapper.mjs',\n",
       " 'index.js',\n",
       " 'md5-browser.js',\n",
       " 'md5.js',\n",
       " 'nil.js',\n",
       " 'parse.js',\n",
       " 'regex.js',\n",
       " 'rng-browser.js',\n",
       " 'rng.js',\n",
       " 'sha1-browser.js',\n",
       " 'sha1.js',\n",
       " 'stringify.js',\n",
       " 'uuid-bin.js',\n",
       " 'v1.js',\n",
       " 'v3.js',\n",
       " 'v35.js',\n",
       " 'v4.js',\n",
       " 'v5.js',\n",
       " 'validate.js',\n",
       " 'version.js',\n",
       " 'uuid',\n",
       " 'index.js',\n",
       " 'md5.js',\n",
       " 'nil.js',\n",
       " 'parse.js',\n",
       " 'regex.js',\n",
       " 'rng.js',\n",
       " 'sha1.js',\n",
       " 'stringify.js',\n",
       " 'v1.js',\n",
       " 'v3.js',\n",
       " 'v35.js',\n",
       " 'v4.js',\n",
       " 'v5.js',\n",
       " 'validate.js',\n",
       " 'version.js',\n",
       " 'index.js',\n",
       " 'md5.js',\n",
       " 'nil.js',\n",
       " 'parse.js',\n",
       " 'regex.js',\n",
       " 'rng.js',\n",
       " 'sha1.js',\n",
       " 'stringify.js',\n",
       " 'v1.js',\n",
       " 'v3.js',\n",
       " 'v35.js',\n",
       " 'v4.js',\n",
       " 'v5.js',\n",
       " 'validate.js',\n",
       " 'version.js',\n",
       " 'uuid.min.js',\n",
       " 'uuidNIL.min.js',\n",
       " 'uuidParse.min.js',\n",
       " 'uuidStringify.min.js',\n",
       " 'uuidv1.min.js',\n",
       " 'uuidv3.min.js',\n",
       " 'uuidv4.min.js',\n",
       " 'uuidv5.min.js',\n",
       " 'uuidValidate.min.js',\n",
       " 'uuidVersion.min.js',\n",
       " 'collection.json',\n",
       " 'index.d.ts',\n",
       " 'index.js',\n",
       " 'schema.d.ts',\n",
       " 'schema.js',\n",
       " 'schema.json',\n",
       " 'color.d.ts',\n",
       " 'color.js',\n",
       " 'config.d.ts',\n",
       " 'config.js',\n",
       " 'find-up.d.ts',\n",
       " 'find-up.js',\n",
       " 'INITIAL_COMMIT_MESSAGE.txt',\n",
       " 'install-package.d.ts',\n",
       " 'install-package.js',\n",
       " 'json-file.d.ts',\n",
       " 'json-file.js',\n",
       " 'json-schema.d.ts',\n",
       " 'json-schema.js',\n",
       " 'log-file.d.ts',\n",
       " 'log-file.js',\n",
       " 'package-json.d.ts',\n",
       " 'package-json.js',\n",
       " 'package-manager.d.ts',\n",
       " 'package-manager.js',\n",
       " 'package-metadata.d.ts',\n",
       " 'package-metadata.js',\n",
       " 'package-tree.d.ts',\n",
       " 'package-tree.js',\n",
       " 'project.d.ts',\n",
       " 'project.js',\n",
       " 'prompt.d.ts',\n",
       " 'prompt.js',\n",
       " 'spinner.d.ts',\n",
       " 'spinner.js',\n",
       " 'tty.d.ts',\n",
       " 'tty.js',\n",
       " 'common.d.ts',\n",
       " 'common.d.ts.map',\n",
       " 'common.d.ts.__ivy_ngcc_bak',\n",
       " 'common.metadata.json',\n",
       " 'http.d.ts',\n",
       " 'http.metadata.json',\n",
       " 'package.json',\n",
       " 'README.md',\n",
       " 'testing.d.ts',\n",
       " 'testing.metadata.json',\n",
       " 'upgrade.d.ts',\n",
       " 'upgrade.metadata.json',\n",
       " 'common-http-testing.umd.js',\n",
       " 'common-http-testing.umd.js.map',\n",
       " 'common-http.umd.js',\n",
       " 'common-http.umd.js.map',\n",
       " 'common-testing.umd.js',\n",
       " 'common-testing.umd.js.map',\n",
       " 'common-upgrade.umd.js',\n",
       " 'common-upgrade.umd.js.map',\n",
       " 'common.umd.js',\n",
       " 'common.umd.js.map',\n",
       " 'common.externs.js',\n",
       " 'common.js',\n",
       " 'index.js',\n",
       " 'public_api.js',\n",
       " 'http.externs.js',\n",
       " 'http.js',\n",
       " 'index.js',\n",
       " 'public_api.js',\n",
       " 'backend.js',\n",
       " 'client.js',\n",
       " 'context.js',\n",
       " 'headers.js',\n",
       " 'interceptor.js',\n",
       " 'jsonp.js',\n",
       " 'module.js',\n",
       " 'params.js',\n",
       " 'request.js',\n",
       " 'response.js',\n",
       " 'xhr.js',\n",
       " 'xsrf.js',\n",
       " 'index.js',\n",
       " 'public_api.js',\n",
       " 'testing.externs.js',\n",
       " 'testing.js',\n",
       " 'api.js',\n",
       " 'backend.js',\n",
       " 'module.js',\n",
       " 'request.js',\n",
       " 'common.js',\n",
       " 'common_module.js',\n",
       " 'cookie.js',\n",
       " 'dom_adapter.js',\n",
       " 'dom_tokens.js',\n",
       " 'platform_id.js',\n",
       " 'private_export.js',\n",
       " 'version.js',\n",
       " 'viewport_scroller.js',\n",
       " 'xhr.js',\n",
       " 'index.js',\n",
       " 'ng_class.js',\n",
       " 'ng_component_outlet.js',\n",
       " 'ng_for_of.js',\n",
       " 'ng_if.js',\n",
       " 'ng_plural.js',\n",
       " 'ng_style.js',\n",
       " 'ng_switch.js',\n",
       " 'ng_template_outlet.js',\n",
       " 'currencies.js',\n",
       " 'format_date.js',\n",
       " 'format_number.js',\n",
       " 'locale_data.js',\n",
       " 'locale_data_api.js',\n",
       " 'localization.js',\n",
       " 'hash_location_strategy.js',\n",
       " 'index.js',\n",
       " 'location.js',\n",
       " 'location_strategy.js',\n",
       " 'platform_location.js',\n",
       " 'util.js',\n",
       " 'async_pipe.js',\n",
       " 'case_conversion_pipes.js',\n",
       " 'date_pipe.js',\n",
       " 'i18n_plural_pipe.js',\n",
       " 'i18n_select_pipe.js',\n",
       " 'index.js',\n",
       " 'invalid_pipe_argument_error.js',\n",
       " 'json_pipe.js',\n",
       " 'keyvalue_pipe.js',\n",
       " 'number_pipe.js',\n",
       " 'slice_pipe.js',\n",
       " 'index.js',\n",
       " 'public_api.js',\n",
       " 'testing.externs.js',\n",
       " 'testing.js',\n",
       " 'location_mock.js',\n",
       " 'mock_location_strategy.js',\n",
       " 'mock_platform_location.js',\n",
       " 'testing.js',\n",
       " 'index.js',\n",
       " 'public_api.js',\n",
       " 'upgrade.externs.js',\n",
       " 'upgrade.js',\n",
       " 'index.js',\n",
       " 'location_shim.js',\n",
       " 'location_upgrade_module.js',\n",
       " 'params.js',\n",
       " 'utils.js',\n",
       " 'common.js',\n",
       " 'common.js.map',\n",
       " 'http.js',\n",
       " 'http.js.map',\n",
       " 'testing.js',\n",
       " 'testing.js.map',\n",
       " 'upgrade.js',\n",
       " 'upgrade.js.map',\n",
       " 'testing.js',\n",
       " 'testing.js.map',\n",
       " 'http.d.ts',\n",
       " 'http.metadata.json',\n",
       " 'package.json',\n",
       " 'testing.d.ts',\n",
       " 'testing.metadata.json',\n",
       " 'package.json',\n",
       " 'testing.d.ts',\n",
       " 'testing.metadata.json',\n",
       " 'af-NA.d.ts',\n",
       " 'af-NA.js',\n",
       " 'af.d.ts',\n",
       " 'af.js',\n",
       " 'agq.d.ts',\n",
       " 'agq.js',\n",
       " 'ak.d.ts',\n",
       " 'ak.js',\n",
       " 'am.d.ts',\n",
       " 'am.js',\n",
       " 'ar-AE.d.ts',\n",
       " 'ar-AE.js',\n",
       " 'ar-BH.d.ts',\n",
       " 'ar-BH.js',\n",
       " 'ar-DJ.d.ts',\n",
       " 'ar-DJ.js',\n",
       " 'ar-DZ.d.ts',\n",
       " 'ar-DZ.js',\n",
       " 'ar-EG.d.ts',\n",
       " 'ar-EG.js',\n",
       " 'ar-EH.d.ts',\n",
       " 'ar-EH.js',\n",
       " 'ar-ER.d.ts',\n",
       " 'ar-ER.js',\n",
       " 'ar-IL.d.ts',\n",
       " 'ar-IL.js',\n",
       " 'ar-IQ.d.ts',\n",
       " 'ar-IQ.js',\n",
       " 'ar-JO.d.ts',\n",
       " 'ar-JO.js',\n",
       " 'ar-KM.d.ts',\n",
       " 'ar-KM.js',\n",
       " 'ar-KW.d.ts',\n",
       " 'ar-KW.js',\n",
       " 'ar-LB.d.ts',\n",
       " 'ar-LB.js',\n",
       " 'ar-LY.d.ts',\n",
       " 'ar-LY.js',\n",
       " 'ar-MA.d.ts',\n",
       " 'ar-MA.js',\n",
       " 'ar-MR.d.ts',\n",
       " 'ar-MR.js',\n",
       " 'ar-OM.d.ts',\n",
       " 'ar-OM.js',\n",
       " 'ar-PS.d.ts',\n",
       " 'ar-PS.js',\n",
       " 'ar-QA.d.ts',\n",
       " 'ar-QA.js',\n",
       " 'ar-SA.d.ts',\n",
       " 'ar-SA.js',\n",
       " 'ar-SD.d.ts',\n",
       " 'ar-SD.js',\n",
       " 'ar-SO.d.ts',\n",
       " 'ar-SO.js',\n",
       " 'ar-SS.d.ts',\n",
       " 'ar-SS.js',\n",
       " 'ar-SY.d.ts',\n",
       " 'ar-SY.js',\n",
       " 'ar-TD.d.ts',\n",
       " 'ar-TD.js',\n",
       " 'ar-TN.d.ts',\n",
       " 'ar-TN.js',\n",
       " 'ar-YE.d.ts',\n",
       " 'ar-YE.js',\n",
       " 'ar.d.ts',\n",
       " 'ar.js',\n",
       " 'as.d.ts',\n",
       " 'as.js',\n",
       " 'asa.d.ts',\n",
       " 'asa.js',\n",
       " 'ast.d.ts',\n",
       " 'ast.js',\n",
       " 'az-Cyrl.d.ts',\n",
       " 'az-Cyrl.js',\n",
       " 'az-Latn.d.ts',\n",
       " 'az-Latn.js',\n",
       " 'az.d.ts',\n",
       " 'az.js',\n",
       " 'bas.d.ts',\n",
       " 'bas.js',\n",
       " 'be.d.ts',\n",
       " 'be.js',\n",
       " 'bem.d.ts',\n",
       " 'bem.js',\n",
       " 'bez.d.ts',\n",
       " 'bez.js',\n",
       " 'bg.d.ts',\n",
       " 'bg.js',\n",
       " 'bm.d.ts',\n",
       " 'bm.js',\n",
       " 'bn-IN.d.ts',\n",
       " 'bn-IN.js',\n",
       " 'bn.d.ts',\n",
       " 'bn.js',\n",
       " 'bo-IN.d.ts',\n",
       " 'bo-IN.js',\n",
       " 'bo.d.ts',\n",
       " 'bo.js',\n",
       " 'br.d.ts',\n",
       " 'br.js',\n",
       " 'brx.d.ts',\n",
       " 'brx.js',\n",
       " 'bs-Cyrl.d.ts',\n",
       " 'bs-Cyrl.js',\n",
       " 'bs-Latn.d.ts',\n",
       " 'bs-Latn.js',\n",
       " 'bs.d.ts',\n",
       " 'bs.js',\n",
       " 'ca-AD.d.ts',\n",
       " 'ca-AD.js',\n",
       " 'ca-ES-VALENCIA.d.ts',\n",
       " 'ca-ES-VALENCIA.js',\n",
       " 'ca-FR.d.ts',\n",
       " 'ca-FR.js',\n",
       " 'ca-IT.d.ts',\n",
       " 'ca-IT.js',\n",
       " 'ca.d.ts',\n",
       " 'ca.js',\n",
       " 'ccp-IN.d.ts',\n",
       " 'ccp-IN.js',\n",
       " 'ccp.d.ts',\n",
       " 'ccp.js',\n",
       " 'ce.d.ts',\n",
       " 'ce.js',\n",
       " 'ceb.d.ts',\n",
       " 'ceb.js',\n",
       " 'cgg.d.ts',\n",
       " 'cgg.js',\n",
       " 'chr.d.ts',\n",
       " 'chr.js',\n",
       " 'ckb-IR.d.ts',\n",
       " 'ckb-IR.js',\n",
       " 'ckb.d.ts',\n",
       " 'ckb.js',\n",
       " 'cs.d.ts',\n",
       " 'cs.js',\n",
       " 'cu.d.ts',\n",
       " 'cu.js',\n",
       " 'cy.d.ts',\n",
       " 'cy.js',\n",
       " 'da-GL.d.ts',\n",
       " 'da-GL.js',\n",
       " 'da.d.ts',\n",
       " 'da.js',\n",
       " 'dav.d.ts',\n",
       " 'dav.js',\n",
       " 'de-AT.d.ts',\n",
       " 'de-AT.js',\n",
       " 'de-BE.d.ts',\n",
       " 'de-BE.js',\n",
       " 'de-CH.d.ts',\n",
       " 'de-CH.js',\n",
       " 'de-IT.d.ts',\n",
       " 'de-IT.js',\n",
       " 'de-LI.d.ts',\n",
       " 'de-LI.js',\n",
       " 'de-LU.d.ts',\n",
       " 'de-LU.js',\n",
       " 'de.d.ts',\n",
       " 'de.js',\n",
       " 'dje.d.ts',\n",
       " 'dje.js',\n",
       " 'dsb.d.ts',\n",
       " 'dsb.js',\n",
       " 'dua.d.ts',\n",
       " 'dua.js',\n",
       " 'dyo.d.ts',\n",
       " 'dyo.js',\n",
       " 'dz.d.ts',\n",
       " 'dz.js',\n",
       " 'ebu.d.ts',\n",
       " 'ebu.js',\n",
       " 'ee-TG.d.ts',\n",
       " 'ee-TG.js',\n",
       " 'ee.d.ts',\n",
       " 'ee.js',\n",
       " 'el-CY.d.ts',\n",
       " 'el-CY.js',\n",
       " 'el.d.ts',\n",
       " 'el.js',\n",
       " 'en-001.d.ts',\n",
       " 'en-001.js',\n",
       " 'en-150.d.ts',\n",
       " 'en-150.js',\n",
       " 'en-AE.d.ts',\n",
       " 'en-AE.js',\n",
       " 'en-AG.d.ts',\n",
       " 'en-AG.js',\n",
       " 'en-AI.d.ts',\n",
       " 'en-AI.js',\n",
       " 'en-AS.d.ts',\n",
       " 'en-AS.js',\n",
       " 'en-AT.d.ts',\n",
       " 'en-AT.js',\n",
       " 'en-AU.d.ts',\n",
       " 'en-AU.js',\n",
       " 'en-BB.d.ts',\n",
       " 'en-BB.js',\n",
       " 'en-BE.d.ts',\n",
       " 'en-BE.js',\n",
       " 'en-BI.d.ts',\n",
       " 'en-BI.js',\n",
       " 'en-BM.d.ts',\n",
       " 'en-BM.js',\n",
       " 'en-BS.d.ts',\n",
       " 'en-BS.js',\n",
       " 'en-BW.d.ts',\n",
       " 'en-BW.js',\n",
       " 'en-BZ.d.ts',\n",
       " 'en-BZ.js',\n",
       " 'en-CA.d.ts',\n",
       " 'en-CA.js',\n",
       " 'en-CC.d.ts',\n",
       " 'en-CC.js',\n",
       " 'en-CH.d.ts',\n",
       " 'en-CH.js',\n",
       " 'en-CK.d.ts',\n",
       " 'en-CK.js',\n",
       " 'en-CM.d.ts',\n",
       " 'en-CM.js',\n",
       " 'en-CX.d.ts',\n",
       " 'en-CX.js',\n",
       " 'en-CY.d.ts',\n",
       " 'en-CY.js',\n",
       " 'en-DE.d.ts',\n",
       " 'en-DE.js',\n",
       " 'en-DG.d.ts',\n",
       " 'en-DG.js',\n",
       " 'en-DK.d.ts',\n",
       " 'en-DK.js',\n",
       " 'en-DM.d.ts',\n",
       " 'en-DM.js',\n",
       " 'en-ER.d.ts',\n",
       " 'en-ER.js',\n",
       " 'en-FI.d.ts',\n",
       " 'en-FI.js',\n",
       " 'en-FJ.d.ts',\n",
       " 'en-FJ.js',\n",
       " 'en-FK.d.ts',\n",
       " 'en-FK.js',\n",
       " 'en-FM.d.ts',\n",
       " 'en-FM.js',\n",
       " 'en-GB.d.ts',\n",
       " 'en-GB.js',\n",
       " 'en-GD.d.ts',\n",
       " 'en-GD.js',\n",
       " 'en-GG.d.ts',\n",
       " 'en-GG.js',\n",
       " 'en-GH.d.ts',\n",
       " 'en-GH.js',\n",
       " 'en-GI.d.ts',\n",
       " 'en-GI.js',\n",
       " 'en-GM.d.ts',\n",
       " 'en-GM.js',\n",
       " 'en-GU.d.ts',\n",
       " 'en-GU.js',\n",
       " 'en-GY.d.ts',\n",
       " 'en-GY.js',\n",
       " 'en-HK.d.ts',\n",
       " 'en-HK.js',\n",
       " 'en-IE.d.ts',\n",
       " 'en-IE.js',\n",
       " 'en-IL.d.ts',\n",
       " 'en-IL.js',\n",
       " 'en-IM.d.ts',\n",
       " 'en-IM.js',\n",
       " 'en-IN.d.ts',\n",
       " 'en-IN.js',\n",
       " 'en-IO.d.ts',\n",
       " 'en-IO.js',\n",
       " 'en-JE.d.ts',\n",
       " 'en-JE.js',\n",
       " 'en-JM.d.ts',\n",
       " 'en-JM.js',\n",
       " 'en-KE.d.ts',\n",
       " 'en-KE.js',\n",
       " 'en-KI.d.ts',\n",
       " 'en-KI.js',\n",
       " 'en-KN.d.ts',\n",
       " 'en-KN.js',\n",
       " 'en-KY.d.ts',\n",
       " 'en-KY.js',\n",
       " 'en-LC.d.ts',\n",
       " 'en-LC.js',\n",
       " 'en-LR.d.ts',\n",
       " 'en-LR.js',\n",
       " 'en-LS.d.ts',\n",
       " 'en-LS.js',\n",
       " 'en-MG.d.ts',\n",
       " 'en-MG.js',\n",
       " 'en-MH.d.ts',\n",
       " 'en-MH.js',\n",
       " 'en-MO.d.ts',\n",
       " 'en-MO.js',\n",
       " 'en-MP.d.ts',\n",
       " 'en-MP.js',\n",
       " 'en-MS.d.ts',\n",
       " 'en-MS.js',\n",
       " 'en-MT.d.ts',\n",
       " 'en-MT.js',\n",
       " 'en-MU.d.ts',\n",
       " 'en-MU.js',\n",
       " 'en-MW.d.ts',\n",
       " 'en-MW.js',\n",
       " 'en-MY.d.ts',\n",
       " 'en-MY.js',\n",
       " 'en-NA.d.ts',\n",
       " 'en-NA.js',\n",
       " 'en-NF.d.ts',\n",
       " 'en-NF.js',\n",
       " 'en-NG.d.ts',\n",
       " 'en-NG.js',\n",
       " 'en-NL.d.ts',\n",
       " 'en-NL.js',\n",
       " 'en-NR.d.ts',\n",
       " 'en-NR.js',\n",
       " 'en-NU.d.ts',\n",
       " 'en-NU.js',\n",
       " 'en-NZ.d.ts',\n",
       " 'en-NZ.js',\n",
       " 'en-PG.d.ts',\n",
       " 'en-PG.js',\n",
       " 'en-PH.d.ts',\n",
       " 'en-PH.js',\n",
       " 'en-PK.d.ts',\n",
       " 'en-PK.js',\n",
       " 'en-PN.d.ts',\n",
       " 'en-PN.js',\n",
       " 'en-PR.d.ts',\n",
       " 'en-PR.js',\n",
       " 'en-PW.d.ts',\n",
       " 'en-PW.js',\n",
       " 'en-RW.d.ts',\n",
       " 'en-RW.js',\n",
       " 'en-SB.d.ts',\n",
       " 'en-SB.js',\n",
       " 'en-SC.d.ts',\n",
       " 'en-SC.js',\n",
       " 'en-SD.d.ts',\n",
       " 'en-SD.js',\n",
       " 'en-SE.d.ts',\n",
       " 'en-SE.js',\n",
       " 'en-SG.d.ts',\n",
       " 'en-SG.js',\n",
       " 'en-SH.d.ts',\n",
       " 'en-SH.js',\n",
       " 'en-SI.d.ts',\n",
       " 'en-SI.js',\n",
       " 'en-SL.d.ts',\n",
       " 'en-SL.js',\n",
       " 'en-SS.d.ts',\n",
       " 'en-SS.js',\n",
       " 'en-SX.d.ts',\n",
       " 'en-SX.js',\n",
       " 'en-SZ.d.ts',\n",
       " 'en-SZ.js',\n",
       " 'en-TC.d.ts',\n",
       " 'en-TC.js',\n",
       " 'en-TK.d.ts',\n",
       " 'en-TK.js',\n",
       " 'en-TO.d.ts',\n",
       " 'en-TO.js',\n",
       " 'en-TT.d.ts',\n",
       " 'en-TT.js',\n",
       " 'en-TV.d.ts',\n",
       " 'en-TV.js',\n",
       " 'en-TZ.d.ts',\n",
       " 'en-TZ.js',\n",
       " 'en-UG.d.ts',\n",
       " 'en-UG.js',\n",
       " ...]"
      ]
     },
     "execution_count": 2,
     "metadata": {},
     "output_type": "execute_result"
    }
   ],
   "source": [
    "#list down all the files from  a particular directory\n",
    "import os\n",
    "\n",
    "files_li = []\n",
    "for root,dirs,files in os.walk(r'D:\\Programs'):\n",
    "    files_li.extend(files)\n",
    "files_li"
   ]
  },
  {
   "cell_type": "code",
   "execution_count": 2,
   "id": "195152f2",
   "metadata": {},
   "outputs": [
    {
     "name": "stdout",
     "output_type": "stream",
     "text": [
      "class attribute\n",
      "custom method\n"
     ]
    }
   ],
   "source": [
    "#money patching\n",
    "\n",
    "class A:\n",
    "    def __init__(self):\n",
    "        pass\n",
    "    def get_data(self):\n",
    "        print('class attribute')\n",
    "    def use_method(self):\n",
    "        self.get_data()\n",
    "a=A()\n",
    "a.use_method()\n",
    "def customfunc():\n",
    "    print('custom method')\n",
    "a.get_data = customfunc #monkey patching\n",
    "a.use_method()"
   ]
  },
  {
   "cell_type": "code",
   "execution_count": 4,
   "id": "fd04bdcd",
   "metadata": {},
   "outputs": [
    {
     "name": "stdout",
     "output_type": "stream",
     "text": [
      "A\n",
      "2 3\n"
     ]
    }
   ],
   "source": [
    "class A:\n",
    "    def __init__(self,a,b):\n",
    "        print(a,b)\n",
    "class B(A):\n",
    "    def __init__(self,a,b):\n",
    "        print(\"A\")\n",
    "        super().__init__(a,b)\n",
    "b=B(2,3)\n",
    "        "
   ]
  },
  {
   "cell_type": "code",
   "execution_count": 8,
   "id": "f01f0c1d",
   "metadata": {},
   "outputs": [
    {
     "name": "stdout",
     "output_type": "stream",
     "text": [
      "first\n",
      "that's it\n"
     ]
    }
   ],
   "source": [
    "class First(object):\n",
    "    def __init__(self):\n",
    "        print(\"first\")\n",
    "class f1(First):\n",
    "    def __init__(self):\n",
    "        print(\"first\")\n",
    "class Second(f1):\n",
    "    pass\n",
    "\n",
    "class Third(Second, First):\n",
    "    def __init__(self):\n",
    "        super().__init__()\n",
    "        print(\"that's it\")\n",
    "a= Third()       "
   ]
  },
  {
   "cell_type": "code",
   "execution_count": null,
   "id": "6771893b",
   "metadata": {},
   "outputs": [],
   "source": []
  },
  {
   "cell_type": "code",
   "execution_count": 1,
   "id": "68a69960",
   "metadata": {},
   "outputs": [
    {
     "name": "stdout",
     "output_type": "stream",
     "text": [
      "D\n",
      "C\n",
      "B\n",
      "2 3\n"
     ]
    }
   ],
   "source": [
    "class A():\n",
    "    def __init__(self,a,b):\n",
    "        print(a,b)\n",
    "class B(A):\n",
    "    def __init__(self,a,b):\n",
    "        print('B')\n",
    "        super().__init__(a,b)\n",
    "class C(A):\n",
    "    def __init__(self,a,b):\n",
    "        print('C')\n",
    "        super().__init__(a,b)\n",
    "class D(C,B):\n",
    "    def __init__(self,a,b):\n",
    "        print('D')\n",
    "        super().__init__(a,b)\n",
    "        \n",
    "d1 = D(2,3)\n",
    "\n",
    "        "
   ]
  },
  {
   "cell_type": "code",
   "execution_count": 6,
   "id": "e4a3065c",
   "metadata": {},
   "outputs": [
    {
     "data": {
      "text/plain": [
       "[('c', 1), ('a', 2), ('d', 3)]"
      ]
     },
     "execution_count": 6,
     "metadata": {},
     "output_type": "execute_result"
    }
   ],
   "source": [
    "#sorting a dict\n",
    "import operator\n",
    "a={'a':2,'d':3,'c':1}\n",
    "sorted(a.items(),key=lambda elem: elem[1])\n"
   ]
  },
  {
   "cell_type": "code",
   "execution_count": null,
   "id": "5a2109d2",
   "metadata": {},
   "outputs": [],
   "source": []
  },
  {
   "cell_type": "code",
   "execution_count": null,
   "id": "af2599eb",
   "metadata": {},
   "outputs": [],
   "source": [
    "   "
   ]
  },
  {
   "cell_type": "code",
   "execution_count": 19,
   "id": "dcff49ec",
   "metadata": {},
   "outputs": [
    {
     "data": {
      "text/plain": [
       "int"
      ]
     },
     "execution_count": 19,
     "metadata": {},
     "output_type": "execute_result"
    }
   ],
   "source": []
  },
  {
   "cell_type": "code",
   "execution_count": null,
   "id": "5aacf2b9",
   "metadata": {},
   "outputs": [],
   "source": []
  },
  {
   "cell_type": "code",
   "execution_count": null,
   "id": "ff5bf00d",
   "metadata": {},
   "outputs": [],
   "source": []
  },
  {
   "cell_type": "code",
   "execution_count": null,
   "id": "3d57640c",
   "metadata": {},
   "outputs": [],
   "source": []
  },
  {
   "cell_type": "code",
   "execution_count": null,
   "id": "e1cd3696",
   "metadata": {},
   "outputs": [],
   "source": []
  },
  {
   "cell_type": "code",
   "execution_count": null,
   "id": "dd00f30e",
   "metadata": {},
   "outputs": [],
   "source": []
  },
  {
   "cell_type": "code",
   "execution_count": null,
   "id": "798a4434",
   "metadata": {},
   "outputs": [],
   "source": []
  },
  {
   "cell_type": "code",
   "execution_count": null,
   "id": "61c66cee",
   "metadata": {},
   "outputs": [],
   "source": []
  },
  {
   "cell_type": "code",
   "execution_count": null,
   "id": "c4a611df",
   "metadata": {},
   "outputs": [],
   "source": []
  },
  {
   "cell_type": "code",
   "execution_count": null,
   "id": "b4a3aac3",
   "metadata": {},
   "outputs": [],
   "source": []
  },
  {
   "cell_type": "code",
   "execution_count": null,
   "id": "2be494cd",
   "metadata": {},
   "outputs": [],
   "source": []
  },
  {
   "cell_type": "code",
   "execution_count": null,
   "id": "989381bd",
   "metadata": {},
   "outputs": [],
   "source": []
  },
  {
   "cell_type": "code",
   "execution_count": null,
   "id": "1c2e2389",
   "metadata": {},
   "outputs": [],
   "source": []
  },
  {
   "cell_type": "code",
   "execution_count": null,
   "id": "5146f404",
   "metadata": {},
   "outputs": [],
   "source": []
  },
  {
   "cell_type": "code",
   "execution_count": null,
   "id": "afd3457e",
   "metadata": {},
   "outputs": [],
   "source": []
  },
  {
   "cell_type": "code",
   "execution_count": null,
   "id": "24a7e573",
   "metadata": {},
   "outputs": [],
   "source": []
  },
  {
   "cell_type": "code",
   "execution_count": null,
   "id": "cd993f56",
   "metadata": {},
   "outputs": [],
   "source": []
  },
  {
   "cell_type": "code",
   "execution_count": null,
   "id": "d6b71d43",
   "metadata": {},
   "outputs": [],
   "source": []
  },
  {
   "cell_type": "code",
   "execution_count": null,
   "id": "6e94a779",
   "metadata": {},
   "outputs": [],
   "source": []
  },
  {
   "cell_type": "code",
   "execution_count": null,
   "id": "e1eb94ea",
   "metadata": {},
   "outputs": [],
   "source": []
  },
  {
   "cell_type": "code",
   "execution_count": null,
   "id": "3b97045e",
   "metadata": {},
   "outputs": [],
   "source": []
  },
  {
   "cell_type": "code",
   "execution_count": null,
   "id": "add452db",
   "metadata": {},
   "outputs": [],
   "source": []
  },
  {
   "cell_type": "code",
   "execution_count": null,
   "id": "f5f7afdc",
   "metadata": {},
   "outputs": [],
   "source": []
  },
  {
   "cell_type": "code",
   "execution_count": null,
   "id": "16173f41",
   "metadata": {},
   "outputs": [],
   "source": []
  },
  {
   "cell_type": "code",
   "execution_count": null,
   "id": "7fe4a4aa",
   "metadata": {},
   "outputs": [],
   "source": []
  },
  {
   "cell_type": "code",
   "execution_count": null,
   "id": "908e360e",
   "metadata": {},
   "outputs": [],
   "source": []
  },
  {
   "cell_type": "code",
   "execution_count": null,
   "id": "6ffd165e",
   "metadata": {},
   "outputs": [],
   "source": []
  },
  {
   "cell_type": "code",
   "execution_count": null,
   "id": "6cd471da",
   "metadata": {},
   "outputs": [],
   "source": []
  },
  {
   "cell_type": "code",
   "execution_count": null,
   "id": "7a525bfa",
   "metadata": {},
   "outputs": [],
   "source": []
  },
  {
   "cell_type": "code",
   "execution_count": null,
   "id": "f472125e",
   "metadata": {},
   "outputs": [],
   "source": []
  },
  {
   "cell_type": "code",
   "execution_count": null,
   "id": "e525ab10",
   "metadata": {},
   "outputs": [],
   "source": []
  },
  {
   "cell_type": "code",
   "execution_count": null,
   "id": "3e266fca",
   "metadata": {},
   "outputs": [],
   "source": []
  },
  {
   "cell_type": "code",
   "execution_count": null,
   "id": "bd463df7",
   "metadata": {},
   "outputs": [],
   "source": []
  },
  {
   "cell_type": "code",
   "execution_count": null,
   "id": "cbda6db8",
   "metadata": {},
   "outputs": [],
   "source": []
  },
  {
   "cell_type": "code",
   "execution_count": null,
   "id": "f11ed936",
   "metadata": {},
   "outputs": [],
   "source": []
  },
  {
   "cell_type": "code",
   "execution_count": null,
   "id": "48a11718",
   "metadata": {},
   "outputs": [],
   "source": []
  },
  {
   "cell_type": "code",
   "execution_count": null,
   "id": "28286920",
   "metadata": {},
   "outputs": [],
   "source": []
  },
  {
   "cell_type": "code",
   "execution_count": null,
   "id": "d27d2ff8",
   "metadata": {},
   "outputs": [],
   "source": []
  },
  {
   "cell_type": "code",
   "execution_count": null,
   "id": "d7f2b98a",
   "metadata": {},
   "outputs": [],
   "source": []
  },
  {
   "cell_type": "code",
   "execution_count": null,
   "id": "c9cdca4a",
   "metadata": {},
   "outputs": [],
   "source": []
  },
  {
   "cell_type": "code",
   "execution_count": null,
   "id": "5c86e6c5",
   "metadata": {},
   "outputs": [],
   "source": []
  },
  {
   "cell_type": "code",
   "execution_count": null,
   "id": "b8993da3",
   "metadata": {},
   "outputs": [],
   "source": []
  },
  {
   "cell_type": "code",
   "execution_count": null,
   "id": "d6da93e2",
   "metadata": {},
   "outputs": [],
   "source": []
  },
  {
   "cell_type": "code",
   "execution_count": null,
   "id": "fd2c96ee",
   "metadata": {},
   "outputs": [],
   "source": []
  },
  {
   "cell_type": "code",
   "execution_count": null,
   "id": "323f5c90",
   "metadata": {},
   "outputs": [],
   "source": []
  },
  {
   "cell_type": "code",
   "execution_count": null,
   "id": "b857425a",
   "metadata": {},
   "outputs": [],
   "source": []
  },
  {
   "cell_type": "code",
   "execution_count": null,
   "id": "563a6f24",
   "metadata": {},
   "outputs": [],
   "source": []
  },
  {
   "cell_type": "code",
   "execution_count": null,
   "id": "cd49c81b",
   "metadata": {},
   "outputs": [],
   "source": []
  },
  {
   "cell_type": "code",
   "execution_count": null,
   "id": "327a4678",
   "metadata": {},
   "outputs": [],
   "source": []
  },
  {
   "cell_type": "code",
   "execution_count": null,
   "id": "3848828b",
   "metadata": {},
   "outputs": [],
   "source": []
  },
  {
   "cell_type": "code",
   "execution_count": null,
   "id": "c0681c9f",
   "metadata": {},
   "outputs": [],
   "source": []
  },
  {
   "cell_type": "code",
   "execution_count": null,
   "id": "2d9d4da3",
   "metadata": {},
   "outputs": [],
   "source": []
  },
  {
   "cell_type": "code",
   "execution_count": null,
   "id": "251e6654",
   "metadata": {},
   "outputs": [],
   "source": []
  },
  {
   "cell_type": "code",
   "execution_count": null,
   "id": "dae9e2b8",
   "metadata": {},
   "outputs": [],
   "source": []
  },
  {
   "cell_type": "code",
   "execution_count": null,
   "id": "ef6358d5",
   "metadata": {},
   "outputs": [],
   "source": []
  },
  {
   "cell_type": "code",
   "execution_count": null,
   "id": "78fab853",
   "metadata": {},
   "outputs": [],
   "source": []
  },
  {
   "cell_type": "code",
   "execution_count": null,
   "id": "d4c78961",
   "metadata": {},
   "outputs": [],
   "source": []
  },
  {
   "cell_type": "code",
   "execution_count": null,
   "id": "9d42c870",
   "metadata": {},
   "outputs": [],
   "source": []
  },
  {
   "cell_type": "code",
   "execution_count": null,
   "id": "31259406",
   "metadata": {},
   "outputs": [],
   "source": []
  },
  {
   "cell_type": "code",
   "execution_count": null,
   "id": "ebaf2adc",
   "metadata": {},
   "outputs": [],
   "source": []
  },
  {
   "cell_type": "code",
   "execution_count": null,
   "id": "692fb3dd",
   "metadata": {},
   "outputs": [],
   "source": []
  },
  {
   "cell_type": "code",
   "execution_count": null,
   "id": "4b104a0a",
   "metadata": {},
   "outputs": [],
   "source": []
  },
  {
   "cell_type": "code",
   "execution_count": null,
   "id": "ee80e770",
   "metadata": {},
   "outputs": [],
   "source": []
  },
  {
   "cell_type": "code",
   "execution_count": null,
   "id": "69e643f4",
   "metadata": {},
   "outputs": [],
   "source": []
  },
  {
   "cell_type": "code",
   "execution_count": null,
   "id": "156feea4",
   "metadata": {},
   "outputs": [],
   "source": []
  },
  {
   "cell_type": "code",
   "execution_count": null,
   "id": "d29e4899",
   "metadata": {},
   "outputs": [],
   "source": []
  },
  {
   "cell_type": "code",
   "execution_count": null,
   "id": "1e5f0334",
   "metadata": {},
   "outputs": [],
   "source": []
  },
  {
   "cell_type": "code",
   "execution_count": null,
   "id": "153a28c8",
   "metadata": {},
   "outputs": [],
   "source": []
  },
  {
   "cell_type": "code",
   "execution_count": null,
   "id": "59557e5d",
   "metadata": {},
   "outputs": [],
   "source": []
  },
  {
   "cell_type": "code",
   "execution_count": null,
   "id": "786816cf",
   "metadata": {},
   "outputs": [],
   "source": []
  },
  {
   "cell_type": "code",
   "execution_count": null,
   "id": "917806a6",
   "metadata": {},
   "outputs": [],
   "source": []
  },
  {
   "cell_type": "code",
   "execution_count": null,
   "id": "e7117c15",
   "metadata": {},
   "outputs": [],
   "source": []
  },
  {
   "cell_type": "code",
   "execution_count": null,
   "id": "547cea3b",
   "metadata": {},
   "outputs": [],
   "source": []
  },
  {
   "cell_type": "code",
   "execution_count": null,
   "id": "704840c2",
   "metadata": {},
   "outputs": [],
   "source": []
  },
  {
   "cell_type": "code",
   "execution_count": null,
   "id": "18d28f8f",
   "metadata": {},
   "outputs": [],
   "source": []
  },
  {
   "cell_type": "code",
   "execution_count": null,
   "id": "9d4a0e47",
   "metadata": {},
   "outputs": [],
   "source": []
  },
  {
   "cell_type": "code",
   "execution_count": null,
   "id": "c044be6b",
   "metadata": {},
   "outputs": [],
   "source": []
  },
  {
   "cell_type": "code",
   "execution_count": null,
   "id": "e0d873bb",
   "metadata": {},
   "outputs": [],
   "source": []
  },
  {
   "cell_type": "code",
   "execution_count": null,
   "id": "858b46a6",
   "metadata": {},
   "outputs": [],
   "source": []
  },
  {
   "cell_type": "code",
   "execution_count": null,
   "id": "c3e4ac29",
   "metadata": {},
   "outputs": [],
   "source": []
  },
  {
   "cell_type": "code",
   "execution_count": null,
   "id": "171fb795",
   "metadata": {},
   "outputs": [],
   "source": []
  },
  {
   "cell_type": "code",
   "execution_count": null,
   "id": "950cddcd",
   "metadata": {},
   "outputs": [],
   "source": []
  },
  {
   "cell_type": "code",
   "execution_count": null,
   "id": "3fa11d3c",
   "metadata": {},
   "outputs": [],
   "source": []
  },
  {
   "cell_type": "code",
   "execution_count": null,
   "id": "94d2b481",
   "metadata": {},
   "outputs": [],
   "source": []
  },
  {
   "cell_type": "code",
   "execution_count": 56,
   "id": "e101d741",
   "metadata": {},
   "outputs": [],
   "source": []
  },
  {
   "cell_type": "code",
   "execution_count": null,
   "id": "b104ce71",
   "metadata": {},
   "outputs": [],
   "source": []
  },
  {
   "cell_type": "code",
   "execution_count": null,
   "id": "1b081369",
   "metadata": {},
   "outputs": [],
   "source": []
  },
  {
   "cell_type": "code",
   "execution_count": null,
   "id": "478b64fc",
   "metadata": {},
   "outputs": [],
   "source": []
  },
  {
   "cell_type": "code",
   "execution_count": null,
   "id": "b2cda5de",
   "metadata": {},
   "outputs": [],
   "source": []
  },
  {
   "cell_type": "code",
   "execution_count": null,
   "id": "bc6f181b",
   "metadata": {},
   "outputs": [],
   "source": []
  },
  {
   "cell_type": "code",
   "execution_count": null,
   "id": "efc3494c",
   "metadata": {},
   "outputs": [],
   "source": []
  },
  {
   "cell_type": "code",
   "execution_count": null,
   "id": "d33fbade",
   "metadata": {},
   "outputs": [],
   "source": []
  },
  {
   "cell_type": "code",
   "execution_count": null,
   "id": "124c2d9f",
   "metadata": {},
   "outputs": [],
   "source": []
  },
  {
   "cell_type": "code",
   "execution_count": null,
   "id": "f44c3bd5",
   "metadata": {},
   "outputs": [],
   "source": []
  },
  {
   "cell_type": "code",
   "execution_count": null,
   "id": "558939c1",
   "metadata": {},
   "outputs": [],
   "source": []
  },
  {
   "cell_type": "code",
   "execution_count": null,
   "id": "65394ac1",
   "metadata": {},
   "outputs": [],
   "source": []
  },
  {
   "cell_type": "code",
   "execution_count": null,
   "id": "28188902",
   "metadata": {},
   "outputs": [],
   "source": []
  },
  {
   "cell_type": "code",
   "execution_count": null,
   "id": "e53ef207",
   "metadata": {},
   "outputs": [],
   "source": []
  },
  {
   "cell_type": "code",
   "execution_count": null,
   "id": "9bef859c",
   "metadata": {},
   "outputs": [],
   "source": []
  },
  {
   "cell_type": "code",
   "execution_count": null,
   "id": "e7b279ad",
   "metadata": {},
   "outputs": [],
   "source": []
  },
  {
   "cell_type": "code",
   "execution_count": null,
   "id": "aa0a529e",
   "metadata": {},
   "outputs": [],
   "source": []
  },
  {
   "cell_type": "code",
   "execution_count": null,
   "id": "c2c9383e",
   "metadata": {},
   "outputs": [],
   "source": []
  },
  {
   "cell_type": "code",
   "execution_count": null,
   "id": "3afbaee7",
   "metadata": {},
   "outputs": [],
   "source": []
  },
  {
   "cell_type": "code",
   "execution_count": null,
   "id": "e8b661dc",
   "metadata": {},
   "outputs": [],
   "source": []
  },
  {
   "cell_type": "code",
   "execution_count": null,
   "id": "e8c22bf7",
   "metadata": {},
   "outputs": [],
   "source": []
  },
  {
   "cell_type": "code",
   "execution_count": null,
   "id": "7c281f33",
   "metadata": {},
   "outputs": [],
   "source": []
  },
  {
   "cell_type": "code",
   "execution_count": null,
   "id": "c4812ec4",
   "metadata": {},
   "outputs": [],
   "source": []
  },
  {
   "cell_type": "code",
   "execution_count": null,
   "id": "bcb60aa2",
   "metadata": {},
   "outputs": [],
   "source": []
  },
  {
   "cell_type": "code",
   "execution_count": null,
   "id": "8e8cb004",
   "metadata": {},
   "outputs": [],
   "source": []
  },
  {
   "cell_type": "code",
   "execution_count": null,
   "id": "c67a5a13",
   "metadata": {},
   "outputs": [],
   "source": []
  },
  {
   "cell_type": "code",
   "execution_count": null,
   "id": "bc968096",
   "metadata": {},
   "outputs": [],
   "source": []
  },
  {
   "cell_type": "code",
   "execution_count": null,
   "id": "74f6a1a6",
   "metadata": {},
   "outputs": [],
   "source": []
  },
  {
   "cell_type": "code",
   "execution_count": null,
   "id": "f2f686b6",
   "metadata": {},
   "outputs": [],
   "source": []
  },
  {
   "cell_type": "code",
   "execution_count": null,
   "id": "cffbc69b",
   "metadata": {},
   "outputs": [],
   "source": []
  },
  {
   "cell_type": "code",
   "execution_count": null,
   "id": "643c86b8",
   "metadata": {},
   "outputs": [],
   "source": []
  },
  {
   "cell_type": "code",
   "execution_count": null,
   "id": "ca6c327e",
   "metadata": {},
   "outputs": [],
   "source": []
  },
  {
   "cell_type": "code",
   "execution_count": null,
   "id": "27875f24",
   "metadata": {},
   "outputs": [],
   "source": []
  },
  {
   "cell_type": "code",
   "execution_count": null,
   "id": "48928e6e",
   "metadata": {},
   "outputs": [],
   "source": []
  },
  {
   "cell_type": "code",
   "execution_count": null,
   "id": "4dd4ec85",
   "metadata": {},
   "outputs": [],
   "source": []
  },
  {
   "cell_type": "code",
   "execution_count": null,
   "id": "869aa805",
   "metadata": {},
   "outputs": [],
   "source": []
  },
  {
   "cell_type": "code",
   "execution_count": null,
   "id": "8e47d8db",
   "metadata": {},
   "outputs": [],
   "source": []
  },
  {
   "cell_type": "code",
   "execution_count": null,
   "id": "08804707",
   "metadata": {},
   "outputs": [],
   "source": []
  },
  {
   "cell_type": "code",
   "execution_count": null,
   "id": "f994a07d",
   "metadata": {},
   "outputs": [],
   "source": []
  },
  {
   "cell_type": "code",
   "execution_count": null,
   "id": "2f0a889a",
   "metadata": {},
   "outputs": [],
   "source": []
  },
  {
   "cell_type": "code",
   "execution_count": null,
   "id": "0550d5d1",
   "metadata": {},
   "outputs": [],
   "source": []
  },
  {
   "cell_type": "code",
   "execution_count": null,
   "id": "e77cb4d1",
   "metadata": {},
   "outputs": [],
   "source": []
  },
  {
   "cell_type": "code",
   "execution_count": null,
   "id": "82150e5b",
   "metadata": {},
   "outputs": [],
   "source": []
  },
  {
   "cell_type": "code",
   "execution_count": null,
   "id": "b2099be8",
   "metadata": {},
   "outputs": [],
   "source": []
  },
  {
   "cell_type": "code",
   "execution_count": null,
   "id": "547695c9",
   "metadata": {},
   "outputs": [],
   "source": []
  },
  {
   "cell_type": "code",
   "execution_count": null,
   "id": "df89d52c",
   "metadata": {},
   "outputs": [],
   "source": []
  },
  {
   "cell_type": "code",
   "execution_count": null,
   "id": "2ad5a9d6",
   "metadata": {},
   "outputs": [],
   "source": []
  },
  {
   "cell_type": "code",
   "execution_count": null,
   "id": "3aee617f",
   "metadata": {},
   "outputs": [],
   "source": []
  },
  {
   "cell_type": "code",
   "execution_count": null,
   "id": "fb9a2872",
   "metadata": {},
   "outputs": [],
   "source": []
  },
  {
   "cell_type": "code",
   "execution_count": null,
   "id": "eb9c134c",
   "metadata": {},
   "outputs": [],
   "source": []
  },
  {
   "cell_type": "code",
   "execution_count": null,
   "id": "2a382bd6",
   "metadata": {},
   "outputs": [],
   "source": []
  },
  {
   "cell_type": "code",
   "execution_count": null,
   "id": "1d1c8110",
   "metadata": {},
   "outputs": [],
   "source": []
  },
  {
   "cell_type": "code",
   "execution_count": null,
   "id": "cb21330c",
   "metadata": {},
   "outputs": [],
   "source": []
  },
  {
   "cell_type": "code",
   "execution_count": null,
   "id": "144f24af",
   "metadata": {},
   "outputs": [],
   "source": []
  },
  {
   "cell_type": "code",
   "execution_count": null,
   "id": "626da8ca",
   "metadata": {},
   "outputs": [],
   "source": []
  },
  {
   "cell_type": "code",
   "execution_count": null,
   "id": "b3bcb337",
   "metadata": {},
   "outputs": [],
   "source": []
  },
  {
   "cell_type": "code",
   "execution_count": null,
   "id": "cafcf6bb",
   "metadata": {},
   "outputs": [],
   "source": []
  },
  {
   "cell_type": "code",
   "execution_count": null,
   "id": "4374c4be",
   "metadata": {},
   "outputs": [],
   "source": []
  },
  {
   "cell_type": "code",
   "execution_count": null,
   "id": "d518d840",
   "metadata": {},
   "outputs": [],
   "source": []
  },
  {
   "cell_type": "code",
   "execution_count": null,
   "id": "492173e2",
   "metadata": {},
   "outputs": [],
   "source": []
  },
  {
   "cell_type": "code",
   "execution_count": null,
   "id": "69ca94fa",
   "metadata": {},
   "outputs": [],
   "source": []
  },
  {
   "cell_type": "code",
   "execution_count": null,
   "id": "d42d0026",
   "metadata": {},
   "outputs": [],
   "source": []
  },
  {
   "cell_type": "code",
   "execution_count": null,
   "id": "03fb8beb",
   "metadata": {},
   "outputs": [],
   "source": []
  },
  {
   "cell_type": "code",
   "execution_count": null,
   "id": "144f434f",
   "metadata": {},
   "outputs": [],
   "source": []
  },
  {
   "cell_type": "code",
   "execution_count": null,
   "id": "7f9518be",
   "metadata": {},
   "outputs": [],
   "source": []
  },
  {
   "cell_type": "code",
   "execution_count": null,
   "id": "7bc68b43",
   "metadata": {},
   "outputs": [],
   "source": []
  },
  {
   "cell_type": "code",
   "execution_count": null,
   "id": "a99c4652",
   "metadata": {},
   "outputs": [],
   "source": []
  },
  {
   "cell_type": "code",
   "execution_count": null,
   "id": "587a2270",
   "metadata": {},
   "outputs": [],
   "source": []
  },
  {
   "cell_type": "code",
   "execution_count": null,
   "id": "34795f72",
   "metadata": {},
   "outputs": [],
   "source": []
  },
  {
   "cell_type": "code",
   "execution_count": null,
   "id": "10f57d11",
   "metadata": {},
   "outputs": [],
   "source": []
  },
  {
   "cell_type": "code",
   "execution_count": null,
   "id": "72111b80",
   "metadata": {},
   "outputs": [],
   "source": []
  },
  {
   "cell_type": "code",
   "execution_count": null,
   "id": "9966c8d4",
   "metadata": {},
   "outputs": [],
   "source": []
  },
  {
   "cell_type": "code",
   "execution_count": null,
   "id": "9209b694",
   "metadata": {},
   "outputs": [],
   "source": []
  },
  {
   "cell_type": "code",
   "execution_count": null,
   "id": "874330e7",
   "metadata": {},
   "outputs": [],
   "source": []
  },
  {
   "cell_type": "code",
   "execution_count": null,
   "id": "1459fe36",
   "metadata": {},
   "outputs": [],
   "source": []
  },
  {
   "cell_type": "code",
   "execution_count": null,
   "id": "d3091823",
   "metadata": {},
   "outputs": [],
   "source": []
  },
  {
   "cell_type": "code",
   "execution_count": null,
   "id": "febafa1a",
   "metadata": {},
   "outputs": [],
   "source": []
  },
  {
   "cell_type": "code",
   "execution_count": null,
   "id": "f2087aa4",
   "metadata": {},
   "outputs": [],
   "source": []
  },
  {
   "cell_type": "code",
   "execution_count": null,
   "id": "b264edba",
   "metadata": {},
   "outputs": [],
   "source": []
  },
  {
   "cell_type": "code",
   "execution_count": null,
   "id": "d66c78f3",
   "metadata": {},
   "outputs": [],
   "source": []
  },
  {
   "cell_type": "code",
   "execution_count": null,
   "id": "3b51265e",
   "metadata": {},
   "outputs": [],
   "source": []
  },
  {
   "cell_type": "code",
   "execution_count": null,
   "id": "cca2cb0f",
   "metadata": {},
   "outputs": [],
   "source": []
  },
  {
   "cell_type": "code",
   "execution_count": null,
   "id": "6153db63",
   "metadata": {},
   "outputs": [],
   "source": []
  },
  {
   "cell_type": "code",
   "execution_count": null,
   "id": "1e261f8c",
   "metadata": {},
   "outputs": [],
   "source": []
  },
  {
   "cell_type": "code",
   "execution_count": null,
   "id": "af828ece",
   "metadata": {},
   "outputs": [],
   "source": []
  },
  {
   "cell_type": "code",
   "execution_count": null,
   "id": "def31a13",
   "metadata": {},
   "outputs": [],
   "source": []
  },
  {
   "cell_type": "code",
   "execution_count": null,
   "id": "d2e398b0",
   "metadata": {},
   "outputs": [],
   "source": []
  },
  {
   "cell_type": "code",
   "execution_count": null,
   "id": "6c1c39d8",
   "metadata": {},
   "outputs": [],
   "source": []
  },
  {
   "cell_type": "code",
   "execution_count": null,
   "id": "683faf3a",
   "metadata": {},
   "outputs": [],
   "source": []
  },
  {
   "cell_type": "code",
   "execution_count": null,
   "id": "4de6f673",
   "metadata": {},
   "outputs": [],
   "source": []
  },
  {
   "cell_type": "code",
   "execution_count": null,
   "id": "fbeb7b99",
   "metadata": {},
   "outputs": [],
   "source": []
  },
  {
   "cell_type": "code",
   "execution_count": null,
   "id": "e08d3c4c",
   "metadata": {},
   "outputs": [],
   "source": []
  },
  {
   "cell_type": "code",
   "execution_count": null,
   "id": "c89b58b3",
   "metadata": {},
   "outputs": [],
   "source": []
  },
  {
   "cell_type": "code",
   "execution_count": null,
   "id": "e68f6716",
   "metadata": {},
   "outputs": [],
   "source": []
  },
  {
   "cell_type": "code",
   "execution_count": null,
   "id": "db77f45c",
   "metadata": {},
   "outputs": [],
   "source": []
  },
  {
   "cell_type": "code",
   "execution_count": null,
   "id": "955d52db",
   "metadata": {},
   "outputs": [],
   "source": []
  },
  {
   "cell_type": "code",
   "execution_count": null,
   "id": "103f5901",
   "metadata": {},
   "outputs": [],
   "source": []
  },
  {
   "cell_type": "code",
   "execution_count": null,
   "id": "a7b3c24a",
   "metadata": {},
   "outputs": [],
   "source": []
  },
  {
   "cell_type": "code",
   "execution_count": null,
   "id": "da17597c",
   "metadata": {},
   "outputs": [],
   "source": []
  },
  {
   "cell_type": "code",
   "execution_count": null,
   "id": "e6df37c5",
   "metadata": {},
   "outputs": [],
   "source": []
  },
  {
   "cell_type": "code",
   "execution_count": null,
   "id": "dcfc3b6b",
   "metadata": {},
   "outputs": [],
   "source": []
  },
  {
   "cell_type": "code",
   "execution_count": null,
   "id": "018f574f",
   "metadata": {},
   "outputs": [],
   "source": []
  },
  {
   "cell_type": "code",
   "execution_count": null,
   "id": "c89cedb0",
   "metadata": {},
   "outputs": [],
   "source": []
  },
  {
   "cell_type": "code",
   "execution_count": null,
   "id": "03a91eec",
   "metadata": {},
   "outputs": [],
   "source": []
  },
  {
   "cell_type": "code",
   "execution_count": null,
   "id": "529845d0",
   "metadata": {},
   "outputs": [],
   "source": []
  },
  {
   "cell_type": "code",
   "execution_count": null,
   "id": "aad3295d",
   "metadata": {},
   "outputs": [],
   "source": []
  },
  {
   "cell_type": "code",
   "execution_count": null,
   "id": "c759daca",
   "metadata": {},
   "outputs": [],
   "source": []
  },
  {
   "cell_type": "code",
   "execution_count": null,
   "id": "66a0cb8f",
   "metadata": {},
   "outputs": [],
   "source": []
  },
  {
   "cell_type": "code",
   "execution_count": null,
   "id": "5a400e44",
   "metadata": {},
   "outputs": [],
   "source": []
  },
  {
   "cell_type": "code",
   "execution_count": null,
   "id": "03aa1f68",
   "metadata": {},
   "outputs": [],
   "source": []
  },
  {
   "cell_type": "code",
   "execution_count": null,
   "id": "45241141",
   "metadata": {},
   "outputs": [],
   "source": []
  },
  {
   "cell_type": "code",
   "execution_count": null,
   "id": "49305980",
   "metadata": {},
   "outputs": [],
   "source": []
  },
  {
   "cell_type": "code",
   "execution_count": null,
   "id": "bc72315d",
   "metadata": {},
   "outputs": [],
   "source": []
  },
  {
   "cell_type": "code",
   "execution_count": null,
   "id": "7119ef0e",
   "metadata": {},
   "outputs": [],
   "source": []
  },
  {
   "cell_type": "code",
   "execution_count": null,
   "id": "af1adc12",
   "metadata": {},
   "outputs": [],
   "source": []
  },
  {
   "cell_type": "code",
   "execution_count": null,
   "id": "1e5d58f6",
   "metadata": {},
   "outputs": [],
   "source": []
  },
  {
   "cell_type": "code",
   "execution_count": null,
   "id": "f323ca44",
   "metadata": {},
   "outputs": [],
   "source": []
  },
  {
   "cell_type": "code",
   "execution_count": null,
   "id": "b450c384",
   "metadata": {},
   "outputs": [],
   "source": []
  },
  {
   "cell_type": "code",
   "execution_count": null,
   "id": "27c77109",
   "metadata": {},
   "outputs": [],
   "source": []
  },
  {
   "cell_type": "code",
   "execution_count": null,
   "id": "0371c54d",
   "metadata": {},
   "outputs": [],
   "source": []
  },
  {
   "cell_type": "code",
   "execution_count": null,
   "id": "62310992",
   "metadata": {},
   "outputs": [],
   "source": []
  },
  {
   "cell_type": "code",
   "execution_count": null,
   "id": "5fd60da9",
   "metadata": {},
   "outputs": [],
   "source": []
  },
  {
   "cell_type": "code",
   "execution_count": null,
   "id": "a1767ac6",
   "metadata": {},
   "outputs": [],
   "source": []
  },
  {
   "cell_type": "code",
   "execution_count": null,
   "id": "fb48e792",
   "metadata": {},
   "outputs": [],
   "source": []
  }
 ],
 "metadata": {
  "kernelspec": {
   "display_name": "Python 3",
   "language": "python",
   "name": "python3"
  },
  "language_info": {
   "codemirror_mode": {
    "name": "ipython",
    "version": 3
   },
   "file_extension": ".py",
   "mimetype": "text/x-python",
   "name": "python",
   "nbconvert_exporter": "python",
   "pygments_lexer": "ipython3",
   "version": "3.8.1"
  }
 },
 "nbformat": 4,
 "nbformat_minor": 5
}
