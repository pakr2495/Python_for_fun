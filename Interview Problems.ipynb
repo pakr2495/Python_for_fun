{
 "cells": [
  {
   "cell_type": "code",
   "execution_count": null,
   "id": "c4339b0f",
   "metadata": {},
   "outputs": [],
   "source": [
    "#balanced string or not\n",
    "inp_string = 'wqeeqweqwe(fsdfsdfsdfsd[34234234234234{]fsdfds)[{}]'\n",
    "\n",
    "\n",
    "\"\"\"\n",
    "'([{}])[]{}'\n",
    "'([{}])',\n",
    "([{}])[]{}\n",
    "\n",
    "\n",
    "\"\"\"\n",
    "\n",
    "open_list = ['{','(','[']\n",
    "close_list = ['}',')',']']\n",
    "#op = [([[]\n",
    "op=[]\n",
    "for i in inp_string:\n",
    "    if i in open_list:\n",
    "        op.append(i)\n",
    "    elif i in close_list:\n",
    "        index = close_list.index(i)\n",
    "        if(len(op)>0 and open_list[index]==op[len(op)-1]):\n",
    "            op.pop()\n",
    "\n",
    "if len(op) == 0:\n",
    "    print('balanced')\n",
    "else:\n",
    "    print('non balanced')\n",
    "        \n",
    "    "
   ]
  },
  {
   "cell_type": "code",
   "execution_count": 1,
   "id": "7cc29be0",
   "metadata": {},
   "outputs": [
    {
     "data": {
      "text/plain": [
       "[23]"
      ]
     },
     "execution_count": 1,
     "metadata": {},
     "output_type": "execute_result"
    }
   ],
   "source": [
    "#unique prime number from a list\n",
    "\n",
    "li = [2,3,4,5,23,21,3,7,7,24,30,35,2,5]\n",
    "temp = []\n",
    "op=[]\n",
    "for i in li:\n",
    "    if i ==2 or i ==1:\n",
    "        temp.append(i)\n",
    "    else:\n",
    "        for j in range(2,i):\n",
    "            if i%j ==0:\n",
    "                break\n",
    "        else:\n",
    "            temp.append(i)\n",
    "for i in temp:\n",
    "    if temp.count(i)==1:\n",
    "        op.append(i)\n",
    "op\n",
    "\n",
    "\n"
   ]
  },
  {
   "cell_type": "code",
   "execution_count": null,
   "id": "1d485416",
   "metadata": {},
   "outputs": [],
   "source": [
    "#get each number from digit\n",
    "import math\n",
    "num = 222222222\n",
    "op=[]\n",
    "if num <10:\n",
    "    op.append(num)\n",
    "elif num == 10:\n",
    "    op.extend([1,0])\n",
    "else:\n",
    "    count=0\n",
    "    while(num>10):\n",
    "        print()\n",
    "        rem = num%10\n",
    "        num = math.trunc(num/10)\n",
    "        op.append(rem)\n",
    "    op.append(num)\n",
    "\n",
    "op"
   ]
  },
  {
   "cell_type": "code",
   "execution_count": null,
   "id": "64ebc2fc",
   "metadata": {},
   "outputs": [],
   "source": [
    "import requests\n",
    "year = 2015\n",
    "matches = 13\n",
    "page=1\n",
    "res_first = requests.get(\"https://jsonmock.hackerrank.com/api/football_matches?competition=UEFA%20Champions%20League&year={0}&page=1\".format(year))\n",
    "total_page = res_first.json()['total_pages']\n",
    "teams =[]\n",
    "for i in range(1,total_page+1):\n",
    "    url='https://jsonmock.hackerrank.com/api/football_matches?competition=UEFA%20Champions%20League&year='+str(year)+'&page='+str(i)\n",
    "    op=requests.get(url)\n",
    "    data = op.json()['data']\n",
    "    for i in data:\n",
    "        if i['year'] == year:\n",
    "            teams.append(i['team1'])\n",
    "            teams.append(i['team2'])\n",
    "            \n",
    "            \n",
    "                        \n",
    "temp_team = []\n",
    "final_op = []\n",
    "for i in teams:\n",
    "    if i not in temp_team:\n",
    "        if teams.count(i)>=matches:\n",
    "            final_op.append(i)\n",
    "        else:\n",
    "            pass\n",
    "        temp_team.append(i)\n",
    "    else:\n",
    "        pass\n",
    "            \n",
    "        \n",
    "    \n",
    "final_op                        "
   ]
  },
  {
   "cell_type": "code",
   "execution_count": null,
   "id": "1b6ab392",
   "metadata": {},
   "outputs": [],
   "source": [
    "# sort without using sort function\n",
    "\n",
    "li = [1,3,4,0,2,0]\n",
    "\n",
    "op = []\n",
    "while(li):\n",
    "    minimum = min(li)\n",
    "    count = li.count(minimum)\n",
    "    while(count):\n",
    "        op.append(minimum)\n",
    "        li.remove(minimum)\n",
    "        count = count -1\n",
    "op"
   ]
  },
  {
   "cell_type": "code",
   "execution_count": 3,
   "id": "66e63294",
   "metadata": {},
   "outputs": [
    {
     "data": {
      "text/plain": [
       "'adefbclmjk'"
      ]
     },
     "execution_count": 3,
     "metadata": {},
     "output_type": "execute_result"
    }
   ],
   "source": [
    "# find largest substring in string\n",
    "s='abcadefbclmjk'\n",
    "i=0\n",
    "li = 0\n",
    "op_string = \"\"\n",
    "sub_string = \"\"\n",
    "while(i<len(s)):\n",
    "    j=i\n",
    "    while(j<len(s)):\n",
    "        if s[j] not in sub_string:\n",
    "            sub_string = sub_string + s[j]\n",
    "            j=j+1\n",
    "        else:\n",
    "            if len(sub_string)> li:\n",
    "                li = len(sub_string)\n",
    "                op_string = sub_string\n",
    "            sub_string = \"\"\n",
    "            break;\n",
    "    i = i+1\n",
    "            \n",
    "op_string"
   ]
  },
  {
   "cell_type": "code",
   "execution_count": 4,
   "id": "1834d1ea",
   "metadata": {},
   "outputs": [
    {
     "data": {
      "text/plain": [
       "['c', 'd', 'f', 'x', 'e', 'z']"
      ]
     },
     "execution_count": 4,
     "metadata": {},
     "output_type": "execute_result"
    }
   ],
   "source": [
    "from collections import Counter,defaultdict\n",
    "str1 = \"abcdfxa\"\n",
    "str2 = \"abcecaz\"\n",
    "counts_str1 = Counter(str1)\n",
    "counts_str2 = Counter(str2)\n",
    "op = []\n",
    "def checkcount(temp_dict):\n",
    "    global op\n",
    "    for i  in list(temp_dict.keys()):\n",
    "        count1 = counts_str1.get(i,-1)\n",
    "        count2 = counts_str2.get(i,-1)\n",
    "        if count1 == count2:\n",
    "            pass\n",
    "        elif count1 == -1:\n",
    "            op.extend(list(i*count2))\n",
    "        elif count2 == -1:\n",
    "            op.extend(list(i*count1))\n",
    "        else:\n",
    "            diff = abs(count1-count2)\n",
    "            if op.count(i)!=diff:\n",
    "                op.extend(list(i*diff))\n",
    "                \n",
    "if(len(str1)==len(str2)):\n",
    "    checkcount(counts_str1)\n",
    "    checkcount(counts_str2)\n",
    "op    "
   ]
  },
  {
   "cell_type": "code",
   "execution_count": null,
   "id": "91a3fb61",
   "metadata": {},
   "outputs": [],
   "source": [
    "\n"
   ]
  },
  {
   "cell_type": "code",
   "execution_count": null,
   "id": "30393d78",
   "metadata": {},
   "outputs": [],
   "source": [
    "#xor gate to find missing pair\n",
    "a=[2,2,4,3,4,5,3,5,3,3,1,1,6,2,6,2,8,8]\n",
    "a_sorted=sorted(a)\n",
    "res=0\n",
    "for i in range(0,len(a)):\n",
    "    res = res^a[i]\n",
    "    print(res)  \n",
    "res"
   ]
  },
  {
   "cell_type": "code",
   "execution_count": null,
   "id": "b331f714",
   "metadata": {},
   "outputs": [],
   "source": [
    "#reverse array using recurrsion\n",
    "arr=[1,2,3,4,5,6]\n",
    "count=0\n",
    "def reverse(arr):\n",
    "    if len(arr)==0:\n",
    "        return []\n",
    "    elif len(arr)==1:\n",
    "        return arr\n",
    "    else:\n",
    "\n",
    "        b = [arr.pop()] + reverse(arr)\n",
    "        global count \n",
    "        count = count + 1\n",
    "        print(count)\n",
    "        return b\n",
    "reverse(arr)"
   ]
  },
  {
   "cell_type": "code",
   "execution_count": null,
   "id": "d7366d07",
   "metadata": {},
   "outputs": [],
   "source": [
    "#group postive and negative number together\n",
    "arr = [-1,-2,-3,5,4,6,-2,5,-6]\n",
    "pos = []\n",
    "neg = []\n",
    "for i in arr:\n",
    "    if i >=0:\n",
    "        pos.append(i)\n",
    "    else:\n",
    "        neg.append(i)\n",
    "pos + neg"
   ]
  },
  {
   "cell_type": "code",
   "execution_count": null,
   "id": "960c463e",
   "metadata": {},
   "outputs": [],
   "source": [
    "arr=[1,2,3,4]\n",
    "print(arr.pop())"
   ]
  },
  {
   "cell_type": "code",
   "execution_count": null,
   "id": "312c3323",
   "metadata": {},
   "outputs": [],
   "source": [
    "a = ([1,2,3],)\n",
    "a[0][0]=2\n",
    "a"
   ]
  },
  {
   "cell_type": "code",
   "execution_count": null,
   "id": "4fcbcf91",
   "metadata": {},
   "outputs": [],
   "source": [
    "#MRO\n",
    "class abc:\n",
    "    def __init__(self, a, b):\n",
    "        print(a, b)\n",
    "class efg(abc):\n",
    "    def __init__(self, a,b):\n",
    "        print(a, b, '2nd')\n",
    "        super().__init__(a, b)\n",
    "class hij(abc):\n",
    "    def __init__(self, a,b):\n",
    "        print(a, b, '3rd')\n",
    "        super().__init__(a, b)\n",
    "class klm(efg, hij):\n",
    "    def __init__(self, a,b):\n",
    "        print(a, b, '4th')\n",
    "        super().__init__(a, b)\n",
    "    \n",
    "kl =klm(2,3)"
   ]
  },
  {
   "cell_type": "code",
   "execution_count": null,
   "id": "bfae9f13",
   "metadata": {},
   "outputs": [],
   "source": [
    "#add using recuersive\n",
    "li = [1,2,3,4,5,6]\n",
    "\n",
    "def sumation(li):\n",
    "    if len(li)==1:\n",
    "        return li[0]\n",
    "    else:\n",
    "        print(li)\n",
    "        return li[0] + sumation(li[1:])\n",
    "sumation(li)"
   ]
  },
  {
   "cell_type": "code",
   "execution_count": null,
   "id": "98dba0a0",
   "metadata": {},
   "outputs": [],
   "source": [
    "a=[1,2,3,[4,5]]\n",
    "\n",
    "def add (a):\n",
    "    sum_res =0\n",
    "    for i in a:\n",
    "        if type(i) == list:\n",
    "            sum_res = sum_res + add(i)\n",
    "        else:\n",
    "            sum_res = sum_res + i\n",
    "    return sum_res\n",
    "add(a)   "
   ]
  },
  {
   "cell_type": "code",
   "execution_count": null,
   "id": "b443c104",
   "metadata": {},
   "outputs": [],
   "source": [
    "#factorial\n",
    "n= 0\n",
    "def factorial(n):\n",
    "    if n == 1 or n == 0:\n",
    "        return 1\n",
    "    else:\n",
    "        return n*factorial(n-1)\n",
    "factorial(n) "
   ]
  },
  {
   "cell_type": "code",
   "execution_count": null,
   "id": "93bf303b",
   "metadata": {},
   "outputs": [],
   "source": [
    "n=3455678909976896895787545645769070907979077099090790907079790790790790709709709709\n",
    "def sumdigits(n):\n",
    "    li = list(str(n))\n",
    "    if len(li) == 1:\n",
    "        return int(li[0])\n",
    "    else:\n",
    "        return int(li[0]) + sumdigits(int(''.join(li[1:])))\n",
    "sumdigits(n)"
   ]
  },
  {
   "cell_type": "code",
   "execution_count": null,
   "id": "120e42a8",
   "metadata": {},
   "outputs": [],
   "source": [
    "n= 11\n",
    "\n",
    "def sumfun(n):\n",
    "    if n <= 0:\n",
    "        return  n\n",
    "    else:\n",
    "        return n + sumfun(n-2)\n",
    "sumfun(6)"
   ]
  },
  {
   "cell_type": "code",
   "execution_count": null,
   "id": "71a06d61",
   "metadata": {},
   "outputs": [],
   "source": [
    "n=5\n",
    "def harmonicsum(n):\n",
    "    if n <=1:\n",
    "        return 1.00\n",
    "    else:\n",
    "        print(n)\n",
    "        return 1/(n) + harmonicsum(n-1)\n",
    "harmonicsum(n)"
   ]
  },
  {
   "cell_type": "code",
   "execution_count": null,
   "id": "f073241f",
   "metadata": {},
   "outputs": [],
   "source": [
    "def pow_func(a,b):\n",
    "    if b==1:\n",
    "        return a\n",
    "    elif b <=0:\n",
    "        return 1\n",
    "    else:\n",
    "        return a * pow_func(a,(b-1))\n",
    "pow_func(2,3)"
   ]
  },
  {
   "cell_type": "code",
   "execution_count": null,
   "id": "d454d185",
   "metadata": {},
   "outputs": [],
   "source": [
    "#Gcd\n",
    "def gcd(a,b):\n",
    "    max_op = max(a,b)\n",
    "    min_op = min(a,b)\n",
    "    if min_op == 0:\n",
    "        return max_op\n",
    "    elif min_op == 1:\n",
    "        return 1\n",
    "    else:\n",
    "        return gcd(min_op,max_op%min_op)\n",
    "        \n",
    "gcd(10,5)"
   ]
  },
  {
   "cell_type": "code",
   "execution_count": null,
   "id": "034b0e93",
   "metadata": {},
   "outputs": [],
   "source": [
    "a = [1,2,3,4]\n",
    "\n",
    "def reverse(a):\n",
    "    if len(a)==1:\n",
    "        return a\n",
    "    else:\n",
    "        return [a[-1]] + reverse(a[:-1])\n",
    "    \n",
    "reverse(a)==a"
   ]
  },
  {
   "cell_type": "code",
   "execution_count": null,
   "id": "100c35fa",
   "metadata": {},
   "outputs": [],
   "source": [
    "\n",
    "def reverse(a):\n",
    "    if len(a)==1:\n",
    "        return a\n",
    "    else:\n",
    "        return [a.pop()] + reverse(a)\n",
    "    \n",
    "print(reverse(a))"
   ]
  },
  {
   "cell_type": "code",
   "execution_count": null,
   "id": "ad4406b1",
   "metadata": {},
   "outputs": [],
   "source": [
    "a = [2,3,1,4]\n",
    "\n",
    "def sort()"
   ]
  },
  {
   "cell_type": "code",
   "execution_count": null,
   "id": "5c62c9b8",
   "metadata": {},
   "outputs": [],
   "source": [
    "#bubblesort\n",
    "#1,2,3,6,8,4,7\n",
    "#1,2,3,6,4,7,8 - first iteration\n",
    "#1,2,3,4,6,7,8 - second iteration\n",
    "li = [7,6,5,4,3,2,1]\n",
    "count=0\n",
    "for i in range(len(li)-1,0,-1): #(n-1)\n",
    "    for j in range(0,i):#(n-1)\n",
    "        if li[j]>li[j+1]:\n",
    "            li[j],li[j+1] = li[j+1],li[j]\n",
    "li\n",
    "count"
   ]
  },
  {
   "cell_type": "code",
   "execution_count": null,
   "id": "1e6f2b97",
   "metadata": {},
   "outputs": [],
   "source": [
    "#selection sort\n",
    "\n",
    "li =[5,3,6,8,7,2]\n",
    "for i in range(0,len(li)-1):\n",
    "    min_pos= i\n",
    "    for j in range(i,len(li)):\n",
    "        if li[j]<li[min_pos]:\n",
    "            min_pos=j\n",
    "    li[i],li[min_pos]=li[min_pos],li[i]\n",
    "\n",
    "\n",
    "li       "
   ]
  },
  {
   "cell_type": "code",
   "execution_count": null,
   "id": "91cbb894",
   "metadata": {},
   "outputs": [],
   "source": [
    "#quick sort\n",
    "\n",
    "arr =[5,8,1,7,6,2,4,3]\n",
    "\n",
    "def getmiddle(low,high):\n",
    "    global arr\n",
    "    pivot = arr[low]\n",
    "    i=low\n",
    "    j=high\n",
    "    while(i<j):\n",
    "        while(arr[i]<=pivot):\n",
    "            i=i+1\n",
    "        while(arr[j]>pivot):\n",
    "            j=j-1\n",
    "        if(i<j):\n",
    "            arr[i],arr[j] = arr[j],arr[i]\n",
    "    arr[low],arr[j] = arr[j],arr[low]\n",
    "    return j\n",
    "\n",
    "def quicksort(low,high):\n",
    "    if(low<high):\n",
    "        res = getmiddle(low,high)\n",
    "        quicksort(low,res)\n",
    "        quicksort(res+1,high)\n",
    "quicksort(0,len(arr)-1)\n",
    "arr"
   ]
  },
  {
   "cell_type": "code",
   "execution_count": 8,
   "id": "564cacb1",
   "metadata": {},
   "outputs": [],
   "source": [
    "#li = [[1,2],[5,6],[2,3],[3,4],[1,2]]\n",
    "#op =[[1,6],[2,3],[1,2]]\n",
    "li=[[1,2],[3,4],[5,6]]"
   ]
  },
  {
   "cell_type": "code",
   "execution_count": 9,
   "id": "b1aba6e7",
   "metadata": {},
   "outputs": [
    {
     "name": "stdout",
     "output_type": "stream",
     "text": [
      "2\n",
      "3\n"
     ]
    },
    {
     "data": {
      "text/plain": [
       "[]"
      ]
     },
     "execution_count": 9,
     "metadata": {},
     "output_type": "execute_result"
    }
   ],
   "source": [
    "\n",
    "import itertools\n",
    "\n",
    "li=[[1,2],[3,4],[5,6]]\n",
    "\n",
    "def cutom(a,b):\n",
    "    if a[1]<=b[0]:\n",
    "        return [a[0],b[1]]\n",
    "    else:\n",
    "        return [a,b]\n",
    "    \n",
    "\n",
    "            \n",
    "\n",
    "\n",
    "op    \n",
    "    "
   ]
  },
  {
   "cell_type": "code",
   "execution_count": 22,
   "id": "f29c11e5",
   "metadata": {},
   "outputs": [],
   "source": [
    "#sorting with o(n) complexity\n",
    "li=[1,1,1,1,1,0,0,0,0,0,0,0,0,0,0,0,0,0,0,0,1,1,1,1,1,1,1,1]\n",
    "for i in range(0,len(li)-1): #n\n",
    "    if li[i]==1:#n/2\n",
    "        for j in range(i+1,len(li)):\n",
    "\n",
    "            if li[j]==0:\n",
    "                li[i],li[j]=li[j],li[i]\n",
    "                break                 #n/2\n"
   ]
  },
  {
   "cell_type": "code",
   "execution_count": 49,
   "id": "0d8574bc",
   "metadata": {},
   "outputs": [
    {
     "data": {
      "text/plain": [
       "'navaP si eman yM iH'"
      ]
     },
     "execution_count": 49,
     "metadata": {},
     "output_type": "execute_result"
    }
   ],
   "source": [
    "# Reverse string\n",
    "\n",
    "string =\"Hi My name is Pavan\"\n",
    "revstring = string[::-1]\n",
    "a=\"\".join(revstring)\n",
    "a"
   ]
  },
  {
   "cell_type": "code",
   "execution_count": 51,
   "id": "35d312a7",
   "metadata": {},
   "outputs": [
    {
     "data": {
      "text/plain": [
       "'navaP si eman yM iH'"
      ]
     },
     "execution_count": 51,
     "metadata": {},
     "output_type": "execute_result"
    }
   ],
   "source": [
    "op =[]\n",
    "for i in range(len(string)-1,-1,-1):\n",
    "    op.append(string[i])\n",
    "\"\".join(op)"
   ]
  },
  {
   "cell_type": "code",
   "execution_count": 40,
   "id": "9d2a3bce",
   "metadata": {},
   "outputs": [
    {
     "data": {
      "text/plain": [
       "'navaP si eman yM iH'"
      ]
     },
     "execution_count": 40,
     "metadata": {},
     "output_type": "execute_result"
    }
   ],
   "source": [
    "\"\".join(list(reversed(string)))"
   ]
  },
  {
   "cell_type": "code",
   "execution_count": 82,
   "id": "7699b62b",
   "metadata": {},
   "outputs": [],
   "source": [
    "#Merge sorted array\n",
    "\n",
    "li1= [0,3,4,20,31]\n",
    "li2=[4,6,30]\n",
    "li3=li1+li2\n",
    "li4=li3.copy()\n",
    "#Bubble sort\n",
    "for i in range(len(li3)-1,0,-1):\n",
    "    for j in range(0,i):\n",
    "        if(li3[j]>=li3[i]):\n",
    "            li3[j],li3[i]=li3[i],li3[j]\n",
    "#selection sort\n",
    "for i in range(0,len(li4)-1):\n",
    "    min_index = i\n",
    "    for j in range(i,len(li4)):\n",
    "        if li4[j]<li4[min_index]:\n",
    "            min_index =j\n",
    "    li4[i],li4[min_index]=li4[min_index],li4[i]\n"
   ]
  },
  {
   "cell_type": "code",
   "execution_count": 5,
   "id": "c1e78f5b",
   "metadata": {},
   "outputs": [
    {
     "name": "stdout",
     "output_type": "stream",
     "text": [
      "[1, 2, 3, 4, 5, 3, 5, 3, 3]\n"
     ]
    },
    {
     "data": {
      "text/plain": [
       "[1, 2, 3, 4, 5, 3]"
      ]
     },
     "execution_count": 5,
     "metadata": {},
     "output_type": "execute_result"
    }
   ],
   "source": [
    "#remove consuective duplicate elements\n",
    "def removeDuplicates(S):\n",
    "         \n",
    "    n = len(S)\n",
    "    if (n < 2) :\n",
    "        return\n",
    "    j = 0\n",
    "    for i in range(n):\n",
    "         \n",
    "        # If current character S[i]\n",
    "        # is different from S[j]\n",
    "        if (S[j] != S[i]):\n",
    "            j += 1\n",
    "            S[j] = S[i]\n",
    "     \n",
    "    # Putting string termination\n",
    "    # character.\n",
    "    j += 1\n",
    "    print(S)\n",
    "    S = S[:j]\n",
    "    return S\n",
    "a=[1,2,2,3,4,5,5,3,3]\n",
    "removeDuplicates(a)"
   ]
  },
  {
   "cell_type": "code",
   "execution_count": 10,
   "id": "bbe30ba2",
   "metadata": {},
   "outputs": [
    {
     "data": {
      "text/plain": [
       "dict_items([('a', 2), ('d', 3), ('c', 1)])"
      ]
     },
     "execution_count": 10,
     "metadata": {},
     "output_type": "execute_result"
    }
   ],
   "source": [
    "#sorting dictionary\n",
    "a={'a':2,'d':3,'c':1}\n",
    "dict(sorted(a.items(),key=lambda elem: elem[1]))"
   ]
  },
  {
   "cell_type": "code",
   "execution_count": null,
   "id": "63a45d1c",
   "metadata": {},
   "outputs": [],
   "source": [
    "# count words from pragraph\n",
    "from collections import Counter\n",
    "customstr = \"Python python , I am learning in  Python\"\n",
    "\n",
    "li_str = customstr.split(\" \")\n",
    "count = Counter(li_str)\n",
    "print(dict(count))"
   ]
  },
  {
   "cell_type": "code",
   "execution_count": null,
   "id": "adae5591",
   "metadata": {},
   "outputs": [],
   "source": [
    "#class example \n",
    "class Person:\n",
    "    def __init__(self,name,age):\n",
    "        self.name = name\n",
    "        self.age = age\n",
    "        \n",
    "    def display(self):\n",
    "        return \"Hi {0}, my age is {1}\".format(self.name,self.age)\n",
    "p1 = Person(\"Pavan\",25)\n",
    "p1.display()\n"
   ]
  },
  {
   "cell_type": "code",
   "execution_count": 12,
   "id": "403369ba",
   "metadata": {},
   "outputs": [
    {
     "data": {
      "text/plain": [
       "{'a': 3}"
      ]
     },
     "execution_count": 12,
     "metadata": {},
     "output_type": "execute_result"
    }
   ],
   "source": [
    "a={\"a\":2}\n",
    "b=a\n",
    "b\n",
    "a['a'] =3\n",
    "b\n",
    "null"
   ]
  },
  {
   "cell_type": "code",
   "execution_count": 2,
   "id": "a29ef63d",
   "metadata": {},
   "outputs": [
    {
     "ename": "SyntaxError",
     "evalue": "unexpected EOF while parsing (<ipython-input-2-d280ceecb643>, line 1)",
     "output_type": "error",
     "traceback": [
      "\u001b[1;36m  File \u001b[1;32m\"<ipython-input-2-d280ceecb643>\"\u001b[1;36m, line \u001b[1;32m1\u001b[0m\n\u001b[1;33m    def cal(n):\u001b[0m\n\u001b[1;37m               ^\u001b[0m\n\u001b[1;31mSyntaxError\u001b[0m\u001b[1;31m:\u001b[0m unexpected EOF while parsing\n"
     ]
    }
   ],
   "source": [
    "def cal(n):"
   ]
  },
  {
   "cell_type": "code",
   "execution_count": null,
   "id": "8b33e383",
   "metadata": {},
   "outputs": [],
   "source": []
  },
  {
   "cell_type": "code",
   "execution_count": null,
   "id": "cff7a8e0",
   "metadata": {},
   "outputs": [],
   "source": []
  },
  {
   "cell_type": "code",
   "execution_count": null,
   "id": "bff9ac52",
   "metadata": {},
   "outputs": [],
   "source": []
  },
  {
   "cell_type": "code",
   "execution_count": null,
   "id": "ecacadfe",
   "metadata": {},
   "outputs": [],
   "source": []
  },
  {
   "cell_type": "code",
   "execution_count": null,
   "id": "133600f0",
   "metadata": {},
   "outputs": [],
   "source": []
  },
  {
   "cell_type": "code",
   "execution_count": null,
   "id": "a6fe3e22",
   "metadata": {},
   "outputs": [],
   "source": []
  },
  {
   "cell_type": "code",
   "execution_count": null,
   "id": "cf28a3b7",
   "metadata": {},
   "outputs": [],
   "source": []
  },
  {
   "cell_type": "code",
   "execution_count": null,
   "id": "e565cede",
   "metadata": {},
   "outputs": [],
   "source": []
  },
  {
   "cell_type": "code",
   "execution_count": null,
   "id": "06bd2d3c",
   "metadata": {},
   "outputs": [],
   "source": []
  },
  {
   "cell_type": "code",
   "execution_count": null,
   "id": "b6459e76",
   "metadata": {},
   "outputs": [],
   "source": []
  },
  {
   "cell_type": "code",
   "execution_count": null,
   "id": "8f948203",
   "metadata": {},
   "outputs": [],
   "source": []
  },
  {
   "cell_type": "code",
   "execution_count": null,
   "id": "499fc738",
   "metadata": {},
   "outputs": [],
   "source": []
  },
  {
   "cell_type": "code",
   "execution_count": null,
   "id": "23359928",
   "metadata": {},
   "outputs": [],
   "source": []
  },
  {
   "cell_type": "code",
   "execution_count": null,
   "id": "4e449798",
   "metadata": {},
   "outputs": [],
   "source": []
  },
  {
   "cell_type": "code",
   "execution_count": null,
   "id": "93ea9fa4",
   "metadata": {},
   "outputs": [],
   "source": []
  },
  {
   "cell_type": "code",
   "execution_count": null,
   "id": "cd63f54f",
   "metadata": {},
   "outputs": [],
   "source": []
  },
  {
   "cell_type": "code",
   "execution_count": null,
   "id": "d062e673",
   "metadata": {},
   "outputs": [],
   "source": []
  },
  {
   "cell_type": "code",
   "execution_count": null,
   "id": "a665b8c5",
   "metadata": {},
   "outputs": [],
   "source": []
  },
  {
   "cell_type": "code",
   "execution_count": null,
   "id": "bd0792b3",
   "metadata": {},
   "outputs": [],
   "source": []
  }
 ],
 "metadata": {
  "kernelspec": {
   "display_name": "Python 3",
   "language": "python",
   "name": "python3"
  },
  "language_info": {
   "codemirror_mode": {
    "name": "ipython",
    "version": 3
   },
   "file_extension": ".py",
   "mimetype": "text/x-python",
   "name": "python",
   "nbconvert_exporter": "python",
   "pygments_lexer": "ipython3",
   "version": "3.8.1"
  }
 },
 "nbformat": 4,
 "nbformat_minor": 5
}
