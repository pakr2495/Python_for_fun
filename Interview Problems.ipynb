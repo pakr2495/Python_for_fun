{
 "cells": [
  {
   "cell_type": "code",
   "execution_count": 13,
   "id": "c4339b0f",
   "metadata": {},
   "outputs": [
    {
     "name": "stdout",
     "output_type": "stream",
     "text": [
      "balanced\n"
     ]
    }
   ],
   "source": [
    "#balanced string or not\n",
    "inp_string = 'wqeeqweqwe(fsdfsdfsdfsd[34234234234234]fsdfds)[{}]'\n",
    "\n",
    "\n",
    "\"\"\"\n",
    "'([{}])[]{}'\n",
    "'([{}])',\n",
    "([{}])[]{}\n",
    "\n",
    "\n",
    "\"\"\"\n",
    "\n",
    "open_list = ['{','(','[']\n",
    "close_list = ['}',')',']']\n",
    "#op = [([[{]\n",
    "op=[]\n",
    "for i in inp_string:\n",
    "    if i in open_list:\n",
    "        op.append(i)\n",
    "    elif i in close_list:\n",
    "        index = close_list.index(i)\n",
    "        if(len(op)>0 and open_list[index]==op[len(op)-1]):\n",
    "            op.pop()\n",
    "\n",
    "if len(op) == 0:\n",
    "    print('balanced')\n",
    "else:\n",
    "    print('non balanced')\n",
    "        \n",
    "    "
   ]
  },
  {
   "cell_type": "code",
   "execution_count": 6,
   "id": "7cc29be0",
   "metadata": {},
   "outputs": [
    {
     "data": {
      "text/plain": [
       "[23]"
      ]
     },
     "execution_count": 6,
     "metadata": {},
     "output_type": "execute_result"
    }
   ],
   "source": [
    "#unique prime number from a list\n",
    "li = [2,3,4,5,23,21,3,7,7,24,30,35,2,5]\n",
    "temp = []\n",
    "op=[]\n",
    "for i in li:\n",
    "    if i ==2 or i ==1:\n",
    "        temp.append(i)\n",
    "    else:\n",
    "        for j in range(2,i):\n",
    "            if i%j ==0:\n",
    "                break\n",
    "        else:\n",
    "            temp.append(i)\n",
    "for i in temp:\n",
    "    if temp.count(i)==1:\n",
    "        op.append(i)\n",
    "op"
   ]
  },
  {
   "cell_type": "code",
   "execution_count": 1,
   "id": "1d485416",
   "metadata": {},
   "outputs": [
    {
     "data": {
      "text/plain": [
       "[2, 2, 2, 2, 2, 2, 2, 2, 2]"
      ]
     },
     "execution_count": 1,
     "metadata": {},
     "output_type": "execute_result"
    }
   ],
   "source": [
    "#get each number from digit\n",
    "import math\n",
    "num = 222222222\n",
    "op=[]\n",
    "if num <10:\n",
    "    op.append(num)\n",
    "elif num == 10:\n",
    "    op.extend([1,0])\n",
    "else:\n",
    "    while(num>10):\n",
    "        rem = num%10\n",
    "        num = math.trunc(num/10)\n",
    "        op.append(rem)\n",
    "    op.append(num)\n",
    "\n",
    "op"
   ]
  },
  {
   "cell_type": "code",
   "execution_count": 12,
   "id": "64ebc2fc",
   "metadata": {},
   "outputs": [
    {
     "data": {
      "text/plain": [
       "['Atletico Madrid', 'Real Madrid']"
      ]
     },
     "execution_count": 12,
     "metadata": {},
     "output_type": "execute_result"
    }
   ],
   "source": [
    "import requests\n",
    "year = 2015\n",
    "matches = 13\n",
    "page=1\n",
    "res_first = requests.get(\"https://jsonmock.hackerrank.com/api/football_matches?competition=UEFA%20Champions%20League&year={0}&page=1\".format(year))\n",
    "total_page = res_first.json()['total_pages']\n",
    "teams =[]\n",
    "for i in range(1,total_page+1):\n",
    "    url='https://jsonmock.hackerrank.com/api/football_matches?competition=UEFA%20Champions%20League&year='+str(year)+'&page='+str(i)\n",
    "    op=requests.get(url)\n",
    "    data = op.json()['data']\n",
    "    for i in data:\n",
    "        if i['year'] == year:\n",
    "            teams.append(i['team1'])\n",
    "            teams.append(i['team2'])\n",
    "            \n",
    "            \n",
    "                        \n",
    "temp_team = []\n",
    "final_op = []\n",
    "for i in teams:\n",
    "    if i not in temp_team:\n",
    "        if teams.count(i)>=matches:\n",
    "            final_op.append(i)\n",
    "        else:\n",
    "            pass\n",
    "        temp_team.append(i)\n",
    "    else:\n",
    "        pass\n",
    "            \n",
    "        \n",
    "    \n",
    "final_op                        "
   ]
  },
  {
   "cell_type": "code",
   "execution_count": 2,
   "id": "1b6ab392",
   "metadata": {},
   "outputs": [
    {
     "data": {
      "text/plain": [
       "[0, 0, 1, 2, 3, 4]"
      ]
     },
     "execution_count": 2,
     "metadata": {},
     "output_type": "execute_result"
    }
   ],
   "source": [
    "# sort without using sort function\n",
    "\n",
    "li = [1,3,4,0,2,0]\n",
    "\n",
    "op = []\n",
    "while(li):\n",
    "    minimum = min(li)\n",
    "    count = li.count(minimum)\n",
    "    while(count):\n",
    "        op.append(minimum)\n",
    "        li.remove(minimum)\n",
    "        count = count -1\n",
    "op"
   ]
  },
  {
   "cell_type": "code",
   "execution_count": 48,
   "id": "66e63294",
   "metadata": {},
   "outputs": [
    {
     "data": {
      "text/plain": [
       "'adefbclmjk'"
      ]
     },
     "execution_count": 48,
     "metadata": {},
     "output_type": "execute_result"
    }
   ],
   "source": [
    "# find largest substring in string\n",
    "s='abcadefbclmjk'\n",
    "i=0\n",
    "li = 0\n",
    "op_string = \"\"\n",
    "sub_string = \"\"\n",
    "while(i<len(s)):\n",
    "    j=i\n",
    "    while(j<len(s)):\n",
    "        if s[j] not in sub_string:\n",
    "            sub_string = sub_string + s[j]\n",
    "            j=j+1\n",
    "        else:\n",
    "            if len(sub_string)> li:\n",
    "                li = len(sub_string)\n",
    "                op_string = sub_string\n",
    "            sub_string = \"\"\n",
    "            break;\n",
    "    i = i+1\n",
    "            \n",
    "op_string"
   ]
  },
  {
   "cell_type": "code",
   "execution_count": 81,
   "id": "1834d1ea",
   "metadata": {},
   "outputs": [
    {
     "name": "stdout",
     "output_type": "stream",
     "text": [
      "c\n",
      "0\n",
      "1\n",
      "c\n",
      "1\n",
      "1\n"
     ]
    },
    {
     "data": {
      "text/plain": [
       "['c', 'd', 'f', 'x', 'e', 'z']"
      ]
     },
     "execution_count": 81,
     "metadata": {},
     "output_type": "execute_result"
    }
   ],
   "source": [
    "from collections import Counter,defaultdict\n",
    "str1 = \"abcdfxa\"\n",
    "str2 = \"abcecaz\"\n",
    "counts_str1 = Counter(str1)\n",
    "counts_str2 = Counter(str2)\n",
    "op = []\n",
    "def checkcount(temp_dict):\n",
    "    global op\n",
    "    for i  in list(temp_dict.keys()):\n",
    "        count1 = counts_str1.get(i,-1)\n",
    "        count2 = counts_str2.get(i,-1)\n",
    "        if count1 == count2:\n",
    "            pass\n",
    "        elif count1 == -1:\n",
    "            op.extend(list(i*count2))\n",
    "        elif count2 == -1:\n",
    "            op.extend(list(i*count1))\n",
    "        else:\n",
    "            diff = abs(count1-count2)\n",
    "            if op.count(i)!=diff:\n",
    "                op.extend(list(i*diff))\n",
    "                \n",
    "if(len(str1)==len(str2)):\n",
    "    checkcount(counts_str1)\n",
    "    checkcount(counts_str2)\n",
    "op    "
   ]
  },
  {
   "cell_type": "code",
   "execution_count": 20,
   "id": "91a3fb61",
   "metadata": {},
   "outputs": [],
   "source": [
    "\n"
   ]
  },
  {
   "cell_type": "code",
   "execution_count": 21,
   "id": "30393d78",
   "metadata": {},
   "outputs": [
    {
     "name": "stdout",
     "output_type": "stream",
     "text": [
      "2\n",
      "0\n",
      "4\n",
      "7\n",
      "3\n",
      "6\n",
      "5\n",
      "0\n",
      "3\n",
      "0\n",
      "1\n",
      "0\n",
      "6\n",
      "4\n",
      "2\n",
      "0\n",
      "8\n",
      "0\n"
     ]
    },
    {
     "data": {
      "text/plain": [
       "0"
      ]
     },
     "execution_count": 21,
     "metadata": {},
     "output_type": "execute_result"
    }
   ],
   "source": [
    "#xor gate to find missing pair\n",
    "a=[2,2,4,3,4,5,3,5,3,3,1,1,6,2,6,2,8,8]\n",
    "a_sorted=sorted(a)\n",
    "res=0\n",
    "for i in range(0,len(a)):\n",
    "    res = res^a[i]\n",
    "    print(res)  \n",
    "res"
   ]
  },
  {
   "cell_type": "code",
   "execution_count": 21,
   "id": "b331f714",
   "metadata": {},
   "outputs": [
    {
     "name": "stdout",
     "output_type": "stream",
     "text": [
      "[1, 2, 3, 4, 5, 6]\n",
      "[1, 2, 3, 4, 5]\n",
      "[1, 2, 3, 4]\n",
      "[1, 2, 3]\n",
      "[1, 2]\n",
      "[1]\n"
     ]
    },
    {
     "data": {
      "text/plain": [
       "[6, 5, 4, 3, 2, 1]"
      ]
     },
     "execution_count": 21,
     "metadata": {},
     "output_type": "execute_result"
    }
   ],
   "source": [
    "#reverse array using recurrsion\n",
    "arr=[1,2,3,4,5,6]\n",
    "def reverse(arr):\n",
    "    if len(arr)==0:\n",
    "        return []\n",
    "    elif len(arr)==1:\n",
    "        return arr\n",
    "    else:\n",
    "        b = [arr.pop()] + reverse(arr)\n",
    "        return b\n",
    "reverse(arr)"
   ]
  },
  {
   "cell_type": "code",
   "execution_count": 22,
   "id": "d7366d07",
   "metadata": {},
   "outputs": [
    {
     "data": {
      "text/plain": [
       "[5, 4, 6, 5, -1, -2, -3, -2, -6]"
      ]
     },
     "execution_count": 22,
     "metadata": {},
     "output_type": "execute_result"
    }
   ],
   "source": [
    "#group postive and negative number together\n",
    "arr = [-1,-2,-3,5,4,6,-2,5,-6]\n",
    "pos = []\n",
    "neg = []\n",
    "for i in arr:\n",
    "    if i >=0:\n",
    "        pos.append(i)\n",
    "    else:\n",
    "        neg.append(i)\n",
    "pos + neg"
   ]
  },
  {
   "cell_type": "code",
   "execution_count": 3,
   "id": "960c463e",
   "metadata": {},
   "outputs": [
    {
     "name": "stdout",
     "output_type": "stream",
     "text": [
      "4\n"
     ]
    }
   ],
   "source": [
    "arr=[1,2,3,4]\n",
    "print(arr.pop())"
   ]
  },
  {
   "cell_type": "code",
   "execution_count": 27,
   "id": "312c3323",
   "metadata": {},
   "outputs": [
    {
     "data": {
      "text/plain": [
       "([2, 2, 3],)"
      ]
     },
     "execution_count": 27,
     "metadata": {},
     "output_type": "execute_result"
    }
   ],
   "source": [
    "a = ([1,2,3],)\n",
    "a[0][0]=2\n",
    "a"
   ]
  },
  {
   "cell_type": "code",
   "execution_count": null,
   "id": "4fcbcf91",
   "metadata": {},
   "outputs": [],
   "source": []
  },
  {
   "cell_type": "code",
   "execution_count": null,
   "id": "bfae9f13",
   "metadata": {},
   "outputs": [],
   "source": []
  },
  {
   "cell_type": "code",
   "execution_count": null,
   "id": "98dba0a0",
   "metadata": {},
   "outputs": [],
   "source": []
  },
  {
   "cell_type": "code",
   "execution_count": 23,
   "id": "b443c104",
   "metadata": {},
   "outputs": [
    {
     "data": {
      "text/plain": [
       "0"
      ]
     },
     "execution_count": 23,
     "metadata": {},
     "output_type": "execute_result"
    }
   ],
   "source": [
    "4%2"
   ]
  },
  {
   "cell_type": "code",
   "execution_count": null,
   "id": "93bf303b",
   "metadata": {},
   "outputs": [],
   "source": []
  },
  {
   "cell_type": "code",
   "execution_count": null,
   "id": "120e42a8",
   "metadata": {},
   "outputs": [],
   "source": []
  },
  {
   "cell_type": "code",
   "execution_count": null,
   "id": "71a06d61",
   "metadata": {},
   "outputs": [],
   "source": []
  },
  {
   "cell_type": "code",
   "execution_count": null,
   "id": "f073241f",
   "metadata": {},
   "outputs": [],
   "source": []
  },
  {
   "cell_type": "code",
   "execution_count": null,
   "id": "d454d185",
   "metadata": {},
   "outputs": [],
   "source": []
  },
  {
   "cell_type": "code",
   "execution_count": 59,
   "id": "034b0e93",
   "metadata": {},
   "outputs": [
    {
     "data": {
      "text/plain": [
       "['a', 'a']"
      ]
     },
     "execution_count": 59,
     "metadata": {},
     "output_type": "execute_result"
    }
   ],
   "source": []
  },
  {
   "cell_type": "code",
   "execution_count": 1,
   "id": "100c35fa",
   "metadata": {},
   "outputs": [
    {
     "data": {
      "text/plain": [
       "['a']"
      ]
     },
     "execution_count": 1,
     "metadata": {},
     "output_type": "execute_result"
    }
   ],
   "source": [
    "a=['a']\n",
    "a[0:1]"
   ]
  },
  {
   "cell_type": "code",
   "execution_count": null,
   "id": "ad4406b1",
   "metadata": {},
   "outputs": [],
   "source": []
  },
  {
   "cell_type": "code",
   "execution_count": null,
   "id": "5c62c9b8",
   "metadata": {},
   "outputs": [],
   "source": []
  },
  {
   "cell_type": "code",
   "execution_count": null,
   "id": "1e6f2b97",
   "metadata": {},
   "outputs": [],
   "source": []
  },
  {
   "cell_type": "code",
   "execution_count": null,
   "id": "91cbb894",
   "metadata": {},
   "outputs": [],
   "source": []
  },
  {
   "cell_type": "code",
   "execution_count": null,
   "id": "564cacb1",
   "metadata": {},
   "outputs": [],
   "source": []
  },
  {
   "cell_type": "code",
   "execution_count": null,
   "id": "b1aba6e7",
   "metadata": {},
   "outputs": [],
   "source": []
  },
  {
   "cell_type": "code",
   "execution_count": null,
   "id": "f29c11e5",
   "metadata": {},
   "outputs": [],
   "source": []
  },
  {
   "cell_type": "code",
   "execution_count": null,
   "id": "0d8574bc",
   "metadata": {},
   "outputs": [],
   "source": []
  },
  {
   "cell_type": "code",
   "execution_count": null,
   "id": "35d312a7",
   "metadata": {},
   "outputs": [],
   "source": []
  },
  {
   "cell_type": "code",
   "execution_count": null,
   "id": "9d2a3bce",
   "metadata": {},
   "outputs": [],
   "source": []
  },
  {
   "cell_type": "code",
   "execution_count": null,
   "id": "7699b62b",
   "metadata": {},
   "outputs": [],
   "source": []
  },
  {
   "cell_type": "code",
   "execution_count": null,
   "id": "c1e78f5b",
   "metadata": {},
   "outputs": [],
   "source": []
  },
  {
   "cell_type": "code",
   "execution_count": null,
   "id": "bbe30ba2",
   "metadata": {},
   "outputs": [],
   "source": []
  },
  {
   "cell_type": "code",
   "execution_count": null,
   "id": "63a45d1c",
   "metadata": {},
   "outputs": [],
   "source": []
  },
  {
   "cell_type": "code",
   "execution_count": null,
   "id": "adae5591",
   "metadata": {},
   "outputs": [],
   "source": []
  },
  {
   "cell_type": "code",
   "execution_count": null,
   "id": "403369ba",
   "metadata": {},
   "outputs": [],
   "source": []
  },
  {
   "cell_type": "code",
   "execution_count": null,
   "id": "a29ef63d",
   "metadata": {},
   "outputs": [],
   "source": []
  },
  {
   "cell_type": "code",
   "execution_count": null,
   "id": "8b33e383",
   "metadata": {},
   "outputs": [],
   "source": []
  },
  {
   "cell_type": "code",
   "execution_count": null,
   "id": "cff7a8e0",
   "metadata": {},
   "outputs": [],
   "source": []
  },
  {
   "cell_type": "code",
   "execution_count": 1,
   "id": "bff9ac52",
   "metadata": {},
   "outputs": [
    {
     "data": {
      "text/plain": [
       "30.0"
      ]
     },
     "execution_count": 1,
     "metadata": {},
     "output_type": "execute_result"
    }
   ],
   "source": [
    "300/10"
   ]
  },
  {
   "cell_type": "code",
   "execution_count": null,
   "id": "ecacadfe",
   "metadata": {},
   "outputs": [],
   "source": []
  },
  {
   "cell_type": "code",
   "execution_count": null,
   "id": "133600f0",
   "metadata": {},
   "outputs": [],
   "source": []
  },
  {
   "cell_type": "code",
   "execution_count": null,
   "id": "a6fe3e22",
   "metadata": {},
   "outputs": [],
   "source": []
  },
  {
   "cell_type": "code",
   "execution_count": null,
   "id": "cf28a3b7",
   "metadata": {},
   "outputs": [],
   "source": []
  },
  {
   "cell_type": "code",
   "execution_count": null,
   "id": "e565cede",
   "metadata": {},
   "outputs": [],
   "source": []
  },
  {
   "cell_type": "code",
   "execution_count": null,
   "id": "06bd2d3c",
   "metadata": {},
   "outputs": [],
   "source": []
  },
  {
   "cell_type": "code",
   "execution_count": null,
   "id": "b6459e76",
   "metadata": {},
   "outputs": [],
   "source": []
  },
  {
   "cell_type": "code",
   "execution_count": null,
   "id": "8f948203",
   "metadata": {},
   "outputs": [],
   "source": []
  },
  {
   "cell_type": "code",
   "execution_count": null,
   "id": "499fc738",
   "metadata": {},
   "outputs": [],
   "source": []
  },
  {
   "cell_type": "code",
   "execution_count": null,
   "id": "23359928",
   "metadata": {},
   "outputs": [],
   "source": []
  },
  {
   "cell_type": "code",
   "execution_count": null,
   "id": "4e449798",
   "metadata": {},
   "outputs": [],
   "source": []
  },
  {
   "cell_type": "code",
   "execution_count": null,
   "id": "93ea9fa4",
   "metadata": {},
   "outputs": [],
   "source": []
  },
  {
   "cell_type": "code",
   "execution_count": null,
   "id": "cd63f54f",
   "metadata": {},
   "outputs": [],
   "source": []
  },
  {
   "cell_type": "code",
   "execution_count": null,
   "id": "d062e673",
   "metadata": {},
   "outputs": [],
   "source": []
  },
  {
   "cell_type": "code",
   "execution_count": null,
   "id": "a665b8c5",
   "metadata": {},
   "outputs": [],
   "source": []
  },
  {
   "cell_type": "code",
   "execution_count": null,
   "id": "bd0792b3",
   "metadata": {},
   "outputs": [],
   "source": []
  }
 ],
 "metadata": {
  "kernelspec": {
   "display_name": "Python 3",
   "language": "python",
   "name": "python3"
  },
  "language_info": {
   "codemirror_mode": {
    "name": "ipython",
    "version": 3
   },
   "file_extension": ".py",
   "mimetype": "text/x-python",
   "name": "python",
   "nbconvert_exporter": "python",
   "pygments_lexer": "ipython3",
   "version": "3.8.1"
  }
 },
 "nbformat": 4,
 "nbformat_minor": 5
}
